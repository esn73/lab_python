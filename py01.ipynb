{
  "nbformat": 4,
  "nbformat_minor": 0,
  "metadata": {
    "colab": {
      "name": "py01.ipynb",
      "provenance": [],
      "toc_visible": true,
      "collapsed_sections": [],
      "authorship_tag": "ABX9TyPT7aW3rDWoqUN+kWXaDHMZ",
      "include_colab_link": true
    },
    "kernelspec": {
      "name": "python3",
      "display_name": "Python 3"
    },
    "language_info": {
      "name": "python"
    }
  },
  "cells": [
    {
      "cell_type": "markdown",
      "metadata": {
        "id": "view-in-github",
        "colab_type": "text"
      },
      "source": [
        "<a href=\"https://colab.research.google.com/github/esn73/lab_python/blob/master/py01.ipynb\" target=\"_parent\"><img src=\"https://colab.research.google.com/assets/colab-badge.svg\" alt=\"Open In Colab\"/></a>"
      ]
    },
    {
      "cell_type": "markdown",
      "source": [
        "# Python 버전 확인"
      ],
      "metadata": {
        "id": "4pJxyRb7Xiqx"
      }
    },
    {
      "cell_type": "code",
      "source": [
        "#  Colab 가상 머신에 설치된 Python 버전 확인\n",
        "!python --version"
      ],
      "metadata": {
        "colab": {
          "base_uri": "https://localhost:8080/"
        },
        "id": "apoPkv2CUSc6",
        "outputId": "d745af6e-7afe-4ee9-9e11-abba735d442b"
      },
      "execution_count": null,
      "outputs": [
        {
          "output_type": "stream",
          "name": "stdout",
          "text": [
            "Python 3.7.12\n"
          ]
        }
      ]
    },
    {
      "cell_type": "markdown",
      "source": [
        "# print 함수"
      ],
      "metadata": {
        "id": "oj2EzJxBYaxI"
      }
    },
    {
      "cell_type": "code",
      "execution_count": null,
      "metadata": {
        "colab": {
          "base_uri": "https://localhost:8080/"
        },
        "id": "l26RCfgnSSbh",
        "outputId": "2c3827a6-2aca-4257-eaf4-3cef927a943d"
      },
      "outputs": [
        {
          "output_type": "stream",
          "name": "stdout",
          "text": [
            "안녕, 파이썬!\n"
          ]
        }
      ],
      "source": [
        "print('안녕, 파이썬!')"
      ]
    },
    {
      "cell_type": "code",
      "source": [
        "print('Hello, Python')"
      ],
      "metadata": {
        "colab": {
          "base_uri": "https://localhost:8080/"
        },
        "id": "j4x9YxaUeGyF",
        "outputId": "6982ee4b-d34f-4db7-c87a-7381bd618f47"
      },
      "execution_count": null,
      "outputs": [
        {
          "output_type": "stream",
          "name": "stdout",
          "text": [
            "Hello, Python\n"
          ]
        }
      ]
    },
    {
      "cell_type": "markdown",
      "source": [
        "## 여러가지 print 방법"
      ],
      "metadata": {
        "id": "roX7mfbGeaoU"
      }
    },
    {
      "cell_type": "code",
      "source": [
        "print('안녕', 'Hello', 'Bon Jour')"
      ],
      "metadata": {
        "colab": {
          "base_uri": "https://localhost:8080/"
        },
        "id": "Z6wL_ba6e1ET",
        "outputId": "9b1bea1f-18f1-4ac4-b5ef-021b4aab45f7"
      },
      "execution_count": null,
      "outputs": [
        {
          "output_type": "stream",
          "name": "stdout",
          "text": [
            "안녕 Hello Bon Jour\n"
          ]
        }
      ]
    },
    {
      "cell_type": "markdown",
      "source": [
        "`print()` 함수에 여러개의 argument를 전달하면, 각 argument들을 공백으로 연결해서 한줄에 출력."
      ],
      "metadata": {
        "id": "20bducHUezoJ"
      }
    },
    {
      "cell_type": "code",
      "source": [
        "print(1, 2, 3)"
      ],
      "metadata": {
        "colab": {
          "base_uri": "https://localhost:8080/"
        },
        "id": "KKtqEkIhfpLQ",
        "outputId": "69b0bea0-2924-4e6e-98c4-39a0ab729760"
      },
      "execution_count": null,
      "outputs": [
        {
          "output_type": "stream",
          "name": "stdout",
          "text": [
            "1 2 3\n"
          ]
        }
      ]
    },
    {
      "cell_type": "code",
      "source": [
        "print(1, '+', 2, '=', 3)"
      ],
      "metadata": {
        "colab": {
          "base_uri": "https://localhost:8080/"
        },
        "id": "VVlGr05kf0bL",
        "outputId": "fe038732-353c-4d54-8597-3663f9473ffd"
      },
      "execution_count": null,
      "outputs": [
        {
          "output_type": "stream",
          "name": "stdout",
          "text": [
            "1 + 2 = 3\n"
          ]
        }
      ]
    },
    {
      "cell_type": "code",
      "source": [
        "print(1, '+' , 2 , '=', (1 + 2))"
      ],
      "metadata": {
        "colab": {
          "base_uri": "https://localhost:8080/"
        },
        "id": "T183W0wrf_Y-",
        "outputId": "3163faff-7a72-4d2e-d851-5022ce5429be"
      },
      "execution_count": null,
      "outputs": [
        {
          "output_type": "stream",
          "name": "stdout",
          "text": [
            "1 + 2 = 3\n"
          ]
        }
      ]
    },
    {
      "cell_type": "markdown",
      "source": [
        "## `format()` 메서드를 사용한 출력"
      ],
      "metadata": {
        "id": "HFMe93OEhGga"
      }
    },
    {
      "cell_type": "code",
      "source": [
        "print('{} + {} = {}' .format(1, 2, (1 + 2)))"
      ],
      "metadata": {
        "colab": {
          "base_uri": "https://localhost:8080/"
        },
        "id": "FDoicDIwgUjO",
        "outputId": "481737f4-a437-4fe0-c67e-6af8e64c4cdd"
      },
      "execution_count": null,
      "outputs": [
        {
          "output_type": "stream",
          "name": "stdout",
          "text": [
            "1 + 2 = 3\n"
          ]
        }
      ]
    },
    {
      "cell_type": "code",
      "source": [
        "print('{x} + {y} = {z}' .format(x=1, y=2, z=3))"
      ],
      "metadata": {
        "colab": {
          "base_uri": "https://localhost:8080/"
        },
        "id": "2Dzebjayh2y3",
        "outputId": "1b12afa6-0700-4322-b7e2-86b73795552b"
      },
      "execution_count": null,
      "outputs": [
        {
          "output_type": "stream",
          "name": "stdout",
          "text": [
            "1 + 2 = 3\n"
          ]
        }
      ]
    },
    {
      "cell_type": "code",
      "source": [
        ""
      ],
      "metadata": {
        "id": "nc_cIvWNiWCU"
      },
      "execution_count": null,
      "outputs": []
    },
    {
      "cell_type": "markdown",
      "source": [
        "## formatted string을 사용한 출력\n",
        "\n",
        "Python 3.6 버전 이상에서만 사용 가능."
      ],
      "metadata": {
        "id": "RPnlmEFHiv1l"
      }
    },
    {
      "cell_type": "code",
      "source": [
        "# 변수 = 값\n",
        "a = 1\n",
        "b = 2"
      ],
      "metadata": {
        "id": "zAYL_Do8jGU8"
      },
      "execution_count": null,
      "outputs": []
    },
    {
      "cell_type": "code",
      "source": [
        "print(f'{a} + {b} = {a + b}')"
      ],
      "metadata": {
        "colab": {
          "base_uri": "https://localhost:8080/"
        },
        "id": "kRg_uct2jLFs",
        "outputId": "447f3eb2-724f-4f00-bf40-9532ea86611d"
      },
      "execution_count": null,
      "outputs": [
        {
          "output_type": "stream",
          "name": "stdout",
          "text": [
            "1 + 2 = 3\n"
          ]
        }
      ]
    },
    {
      "cell_type": "markdown",
      "source": [
        "# 코드 셀 실행 방법\n",
        "\n",
        "* 실행 버튼 클릭 \n",
        "* Ctrl+Enter: 현재 포커스가 있는 셀을 실행\n",
        "* Shift+Enter: 현재 포커스가 있는 셀을 실행하고 다음 셀로 포커스를 이동, 만약 다음 셀이 없으면 새로운 셀을 생성.\n",
        "* 런타임 메뉴"
      ],
      "metadata": {
        "id": "RDVTyLM7kMP1"
      }
    },
    {
      "cell_type": "code",
      "source": [
        ""
      ],
      "metadata": {
        "id": "4gtXhTYajyRC"
      },
      "execution_count": null,
      "outputs": []
    }
  ]
}