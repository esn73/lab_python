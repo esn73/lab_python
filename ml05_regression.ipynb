{
  "nbformat": 4,
  "nbformat_minor": 0,
  "metadata": {
    "colab": {
      "name": "ml05_regression.ipynb",
      "provenance": [],
      "collapsed_sections": [],
      "authorship_tag": "ABX9TyM3baZnDs71pFH0GcSK0M4r",
      "include_colab_link": true
    },
    "kernelspec": {
      "name": "python3",
      "display_name": "Python 3"
    },
    "language_info": {
      "name": "python"
    }
  },
  "cells": [
    {
      "cell_type": "markdown",
      "metadata": {
        "id": "view-in-github",
        "colab_type": "text"
      },
      "source": [
        "<a href=\"https://colab.research.google.com/github/esn73/lab_python/blob/master/ml05_regression.ipynb\" target=\"_parent\"><img src=\"https://colab.research.google.com/assets/colab-badge.svg\" alt=\"Open In Colab\"/></a>"
      ]
    },
    {
      "cell_type": "markdown",
      "source": [
        "Machine Learning(기계 학습)\n",
        "\n",
        "* __지도 학습(supervised learning)__: 레이블이 있는 데이터를 모델을 훈련시키는 것.\n",
        "\n",
        "    * __분류(classificaition)__ : 클래스를 분류.\n",
        "    * __회귀(regression)__: 숫자 값을 예측.\n",
        "* __비지도 학습(unsupervised learning)__: 레이블이 없는 데이터로 모델을 훈련 시키는 것.\n",
        "* __강화 학습(reinforcement learning)__: 보상과 벌칙을 통해서 학습(훈련)."
      ],
      "metadata": {
        "id": "0hT_zntFW74a"
      }
    },
    {
      "cell_type": "markdown",
      "source": [
        "# 문제 정의\n",
        "\n",
        "fish 데이터 셋에서 농어(Perch)의 무게(Weight)를 예측.\n",
        "* 농어의 길이(Length)로만 무게(Weight)를 예측.\n",
        "* 농어의 여러가지 특성들(Length, Diagonal, ...)로 무게(Weight)를 예측"
      ],
      "metadata": {
        "id": "KS3pgalmW1l7"
      }
    },
    {
      "cell_type": "markdown",
      "source": [
        "# imports"
      ],
      "metadata": {
        "id": "1pXFFi2aWROM"
      }
    },
    {
      "cell_type": "code",
      "source": [
        "import numpy as np\n",
        "import pandas as pd\n",
        "import matplotlib.pyplot as plt\n",
        "import seaborn as sns\n",
        "\n",
        "from sklearn.model_selection import train_test_split\n",
        "from sklearn.neighbors import KNeighborsRegressor   # KNN 알고리즘을 사용한 예측기\n",
        "from sklearn.linear_model import LinearRegression   # 선형회귀 알고리즘을 사용한 예측기\n",
        "from sklearn.metrics import mean_squared_error, mean_absolute_error, r2_score # 회귀 문제에서의 평가 지표\n",
        "from sklearn.preprocessing import PolynomialFeatures, StandardScaler # 전처리 변환기 클래스\n",
        "from sklearn.pipeline import Pipeline # 변환기와 추정기(예측기)를 연결해주는 클래스"
      ],
      "metadata": {
        "id": "7HlLkqj3WSDK"
      },
      "execution_count": null,
      "outputs": []
    },
    {
      "cell_type": "markdown",
      "source": [
        "# 데이터 준비"
      ],
      "metadata": {
        "id": "2m5D9M5qYjJK"
      }
    },
    {
      "cell_type": "code",
      "source": [
        "fish_csv = 'https://github.com/JakeOh/202110_itw_lab_python/raw/main/fish.csv'"
      ],
      "metadata": {
        "id": "HEYqn9V9Ykju"
      },
      "execution_count": null,
      "outputs": []
    },
    {
      "cell_type": "code",
      "source": [
        "fish = pd.read_csv(fish_csv)"
      ],
      "metadata": {
        "id": "WzEtFJcwYzs8"
      },
      "execution_count": null,
      "outputs": []
    },
    {
      "cell_type": "code",
      "source": [
        "fish.head()"
      ],
      "metadata": {
        "colab": {
          "base_uri": "https://localhost:8080/",
          "height": 206
        },
        "id": "XxVREFw8Zwlh",
        "outputId": "c929c441-edca-43f0-f84e-25ab3ed35971"
      },
      "execution_count": null,
      "outputs": [
        {
          "output_type": "execute_result",
          "data": {
            "text/plain": [
              "  Species  Weight  Length  Diagonal   Height   Width\n",
              "0   Bream   242.0    25.4      30.0  11.5200  4.0200\n",
              "1   Bream   290.0    26.3      31.2  12.4800  4.3056\n",
              "2   Bream   340.0    26.5      31.1  12.3778  4.6961\n",
              "3   Bream   363.0    29.0      33.5  12.7300  4.4555\n",
              "4   Bream   430.0    29.0      34.0  12.4440  5.1340"
            ],
            "text/html": [
              "\n",
              "  <div id=\"df-08778505-4436-4a07-8ace-49af39b734ee\">\n",
              "    <div class=\"colab-df-container\">\n",
              "      <div>\n",
              "<style scoped>\n",
              "    .dataframe tbody tr th:only-of-type {\n",
              "        vertical-align: middle;\n",
              "    }\n",
              "\n",
              "    .dataframe tbody tr th {\n",
              "        vertical-align: top;\n",
              "    }\n",
              "\n",
              "    .dataframe thead th {\n",
              "        text-align: right;\n",
              "    }\n",
              "</style>\n",
              "<table border=\"1\" class=\"dataframe\">\n",
              "  <thead>\n",
              "    <tr style=\"text-align: right;\">\n",
              "      <th></th>\n",
              "      <th>Species</th>\n",
              "      <th>Weight</th>\n",
              "      <th>Length</th>\n",
              "      <th>Diagonal</th>\n",
              "      <th>Height</th>\n",
              "      <th>Width</th>\n",
              "    </tr>\n",
              "  </thead>\n",
              "  <tbody>\n",
              "    <tr>\n",
              "      <th>0</th>\n",
              "      <td>Bream</td>\n",
              "      <td>242.0</td>\n",
              "      <td>25.4</td>\n",
              "      <td>30.0</td>\n",
              "      <td>11.5200</td>\n",
              "      <td>4.0200</td>\n",
              "    </tr>\n",
              "    <tr>\n",
              "      <th>1</th>\n",
              "      <td>Bream</td>\n",
              "      <td>290.0</td>\n",
              "      <td>26.3</td>\n",
              "      <td>31.2</td>\n",
              "      <td>12.4800</td>\n",
              "      <td>4.3056</td>\n",
              "    </tr>\n",
              "    <tr>\n",
              "      <th>2</th>\n",
              "      <td>Bream</td>\n",
              "      <td>340.0</td>\n",
              "      <td>26.5</td>\n",
              "      <td>31.1</td>\n",
              "      <td>12.3778</td>\n",
              "      <td>4.6961</td>\n",
              "    </tr>\n",
              "    <tr>\n",
              "      <th>3</th>\n",
              "      <td>Bream</td>\n",
              "      <td>363.0</td>\n",
              "      <td>29.0</td>\n",
              "      <td>33.5</td>\n",
              "      <td>12.7300</td>\n",
              "      <td>4.4555</td>\n",
              "    </tr>\n",
              "    <tr>\n",
              "      <th>4</th>\n",
              "      <td>Bream</td>\n",
              "      <td>430.0</td>\n",
              "      <td>29.0</td>\n",
              "      <td>34.0</td>\n",
              "      <td>12.4440</td>\n",
              "      <td>5.1340</td>\n",
              "    </tr>\n",
              "  </tbody>\n",
              "</table>\n",
              "</div>\n",
              "      <button class=\"colab-df-convert\" onclick=\"convertToInteractive('df-08778505-4436-4a07-8ace-49af39b734ee')\"\n",
              "              title=\"Convert this dataframe to an interactive table.\"\n",
              "              style=\"display:none;\">\n",
              "        \n",
              "  <svg xmlns=\"http://www.w3.org/2000/svg\" height=\"24px\"viewBox=\"0 0 24 24\"\n",
              "       width=\"24px\">\n",
              "    <path d=\"M0 0h24v24H0V0z\" fill=\"none\"/>\n",
              "    <path d=\"M18.56 5.44l.94 2.06.94-2.06 2.06-.94-2.06-.94-.94-2.06-.94 2.06-2.06.94zm-11 1L8.5 8.5l.94-2.06 2.06-.94-2.06-.94L8.5 2.5l-.94 2.06-2.06.94zm10 10l.94 2.06.94-2.06 2.06-.94-2.06-.94-.94-2.06-.94 2.06-2.06.94z\"/><path d=\"M17.41 7.96l-1.37-1.37c-.4-.4-.92-.59-1.43-.59-.52 0-1.04.2-1.43.59L10.3 9.45l-7.72 7.72c-.78.78-.78 2.05 0 2.83L4 21.41c.39.39.9.59 1.41.59.51 0 1.02-.2 1.41-.59l7.78-7.78 2.81-2.81c.8-.78.8-2.07 0-2.86zM5.41 20L4 18.59l7.72-7.72 1.47 1.35L5.41 20z\"/>\n",
              "  </svg>\n",
              "      </button>\n",
              "      \n",
              "  <style>\n",
              "    .colab-df-container {\n",
              "      display:flex;\n",
              "      flex-wrap:wrap;\n",
              "      gap: 12px;\n",
              "    }\n",
              "\n",
              "    .colab-df-convert {\n",
              "      background-color: #E8F0FE;\n",
              "      border: none;\n",
              "      border-radius: 50%;\n",
              "      cursor: pointer;\n",
              "      display: none;\n",
              "      fill: #1967D2;\n",
              "      height: 32px;\n",
              "      padding: 0 0 0 0;\n",
              "      width: 32px;\n",
              "    }\n",
              "\n",
              "    .colab-df-convert:hover {\n",
              "      background-color: #E2EBFA;\n",
              "      box-shadow: 0px 1px 2px rgba(60, 64, 67, 0.3), 0px 1px 3px 1px rgba(60, 64, 67, 0.15);\n",
              "      fill: #174EA6;\n",
              "    }\n",
              "\n",
              "    [theme=dark] .colab-df-convert {\n",
              "      background-color: #3B4455;\n",
              "      fill: #D2E3FC;\n",
              "    }\n",
              "\n",
              "    [theme=dark] .colab-df-convert:hover {\n",
              "      background-color: #434B5C;\n",
              "      box-shadow: 0px 1px 3px 1px rgba(0, 0, 0, 0.15);\n",
              "      filter: drop-shadow(0px 1px 2px rgba(0, 0, 0, 0.3));\n",
              "      fill: #FFFFFF;\n",
              "    }\n",
              "  </style>\n",
              "\n",
              "      <script>\n",
              "        const buttonEl =\n",
              "          document.querySelector('#df-08778505-4436-4a07-8ace-49af39b734ee button.colab-df-convert');\n",
              "        buttonEl.style.display =\n",
              "          google.colab.kernel.accessAllowed ? 'block' : 'none';\n",
              "\n",
              "        async function convertToInteractive(key) {\n",
              "          const element = document.querySelector('#df-08778505-4436-4a07-8ace-49af39b734ee');\n",
              "          const dataTable =\n",
              "            await google.colab.kernel.invokeFunction('convertToInteractive',\n",
              "                                                     [key], {});\n",
              "          if (!dataTable) return;\n",
              "\n",
              "          const docLinkHtml = 'Like what you see? Visit the ' +\n",
              "            '<a target=\"_blank\" href=https://colab.research.google.com/notebooks/data_table.ipynb>data table notebook</a>'\n",
              "            + ' to learn more about interactive tables.';\n",
              "          element.innerHTML = '';\n",
              "          dataTable['output_type'] = 'display_data';\n",
              "          await google.colab.output.renderOutput(dataTable, element);\n",
              "          const docLink = document.createElement('div');\n",
              "          docLink.innerHTML = docLinkHtml;\n",
              "          element.appendChild(docLink);\n",
              "        }\n",
              "      </script>\n",
              "    </div>\n",
              "  </div>\n",
              "  "
            ]
          },
          "metadata": {},
          "execution_count": 6
        }
      ]
    },
    {
      "cell_type": "code",
      "source": [
        "# fish 데이터프레임에서 Perch(농어)만 선택\n",
        "perch = fish[fish['Species'] == 'Perch']\n",
        "perch.info()"
      ],
      "metadata": {
        "colab": {
          "base_uri": "https://localhost:8080/"
        },
        "id": "MkXu7TiZY82D",
        "outputId": "2942e53b-e34d-4a88-cd2d-cf9df150f2f0"
      },
      "execution_count": null,
      "outputs": [
        {
          "output_type": "stream",
          "name": "stdout",
          "text": [
            "<class 'pandas.core.frame.DataFrame'>\n",
            "Int64Index: 56 entries, 72 to 127\n",
            "Data columns (total 6 columns):\n",
            " #   Column    Non-Null Count  Dtype  \n",
            "---  ------    --------------  -----  \n",
            " 0   Species   56 non-null     object \n",
            " 1   Weight    56 non-null     float64\n",
            " 2   Length    56 non-null     float64\n",
            " 3   Diagonal  56 non-null     float64\n",
            " 4   Height    56 non-null     float64\n",
            " 5   Width     56 non-null     float64\n",
            "dtypes: float64(5), object(1)\n",
            "memory usage: 3.1+ KB\n"
          ]
        }
      ]
    },
    {
      "cell_type": "code",
      "source": [
        "perch.head()"
      ],
      "metadata": {
        "colab": {
          "base_uri": "https://localhost:8080/",
          "height": 206
        },
        "id": "qui8_Y3gaBZB",
        "outputId": "fb3a3013-39ff-4942-f236-ad3ce287ea25"
      },
      "execution_count": null,
      "outputs": [
        {
          "output_type": "execute_result",
          "data": {
            "text/plain": [
              "   Species  Weight  Length  Diagonal  Height   Width\n",
              "72   Perch     5.9     8.4       8.8  2.1120  1.4080\n",
              "73   Perch    32.0    13.7      14.7  3.5280  1.9992\n",
              "74   Perch    40.0    15.0      16.0  3.8240  2.4320\n",
              "75   Perch    51.5    16.2      17.2  4.5924  2.6316\n",
              "76   Perch    70.0    17.4      18.5  4.5880  2.9415"
            ],
            "text/html": [
              "\n",
              "  <div id=\"df-716e3101-43d4-4840-a291-6378e9672dfb\">\n",
              "    <div class=\"colab-df-container\">\n",
              "      <div>\n",
              "<style scoped>\n",
              "    .dataframe tbody tr th:only-of-type {\n",
              "        vertical-align: middle;\n",
              "    }\n",
              "\n",
              "    .dataframe tbody tr th {\n",
              "        vertical-align: top;\n",
              "    }\n",
              "\n",
              "    .dataframe thead th {\n",
              "        text-align: right;\n",
              "    }\n",
              "</style>\n",
              "<table border=\"1\" class=\"dataframe\">\n",
              "  <thead>\n",
              "    <tr style=\"text-align: right;\">\n",
              "      <th></th>\n",
              "      <th>Species</th>\n",
              "      <th>Weight</th>\n",
              "      <th>Length</th>\n",
              "      <th>Diagonal</th>\n",
              "      <th>Height</th>\n",
              "      <th>Width</th>\n",
              "    </tr>\n",
              "  </thead>\n",
              "  <tbody>\n",
              "    <tr>\n",
              "      <th>72</th>\n",
              "      <td>Perch</td>\n",
              "      <td>5.9</td>\n",
              "      <td>8.4</td>\n",
              "      <td>8.8</td>\n",
              "      <td>2.1120</td>\n",
              "      <td>1.4080</td>\n",
              "    </tr>\n",
              "    <tr>\n",
              "      <th>73</th>\n",
              "      <td>Perch</td>\n",
              "      <td>32.0</td>\n",
              "      <td>13.7</td>\n",
              "      <td>14.7</td>\n",
              "      <td>3.5280</td>\n",
              "      <td>1.9992</td>\n",
              "    </tr>\n",
              "    <tr>\n",
              "      <th>74</th>\n",
              "      <td>Perch</td>\n",
              "      <td>40.0</td>\n",
              "      <td>15.0</td>\n",
              "      <td>16.0</td>\n",
              "      <td>3.8240</td>\n",
              "      <td>2.4320</td>\n",
              "    </tr>\n",
              "    <tr>\n",
              "      <th>75</th>\n",
              "      <td>Perch</td>\n",
              "      <td>51.5</td>\n",
              "      <td>16.2</td>\n",
              "      <td>17.2</td>\n",
              "      <td>4.5924</td>\n",
              "      <td>2.6316</td>\n",
              "    </tr>\n",
              "    <tr>\n",
              "      <th>76</th>\n",
              "      <td>Perch</td>\n",
              "      <td>70.0</td>\n",
              "      <td>17.4</td>\n",
              "      <td>18.5</td>\n",
              "      <td>4.5880</td>\n",
              "      <td>2.9415</td>\n",
              "    </tr>\n",
              "  </tbody>\n",
              "</table>\n",
              "</div>\n",
              "      <button class=\"colab-df-convert\" onclick=\"convertToInteractive('df-716e3101-43d4-4840-a291-6378e9672dfb')\"\n",
              "              title=\"Convert this dataframe to an interactive table.\"\n",
              "              style=\"display:none;\">\n",
              "        \n",
              "  <svg xmlns=\"http://www.w3.org/2000/svg\" height=\"24px\"viewBox=\"0 0 24 24\"\n",
              "       width=\"24px\">\n",
              "    <path d=\"M0 0h24v24H0V0z\" fill=\"none\"/>\n",
              "    <path d=\"M18.56 5.44l.94 2.06.94-2.06 2.06-.94-2.06-.94-.94-2.06-.94 2.06-2.06.94zm-11 1L8.5 8.5l.94-2.06 2.06-.94-2.06-.94L8.5 2.5l-.94 2.06-2.06.94zm10 10l.94 2.06.94-2.06 2.06-.94-2.06-.94-.94-2.06-.94 2.06-2.06.94z\"/><path d=\"M17.41 7.96l-1.37-1.37c-.4-.4-.92-.59-1.43-.59-.52 0-1.04.2-1.43.59L10.3 9.45l-7.72 7.72c-.78.78-.78 2.05 0 2.83L4 21.41c.39.39.9.59 1.41.59.51 0 1.02-.2 1.41-.59l7.78-7.78 2.81-2.81c.8-.78.8-2.07 0-2.86zM5.41 20L4 18.59l7.72-7.72 1.47 1.35L5.41 20z\"/>\n",
              "  </svg>\n",
              "      </button>\n",
              "      \n",
              "  <style>\n",
              "    .colab-df-container {\n",
              "      display:flex;\n",
              "      flex-wrap:wrap;\n",
              "      gap: 12px;\n",
              "    }\n",
              "\n",
              "    .colab-df-convert {\n",
              "      background-color: #E8F0FE;\n",
              "      border: none;\n",
              "      border-radius: 50%;\n",
              "      cursor: pointer;\n",
              "      display: none;\n",
              "      fill: #1967D2;\n",
              "      height: 32px;\n",
              "      padding: 0 0 0 0;\n",
              "      width: 32px;\n",
              "    }\n",
              "\n",
              "    .colab-df-convert:hover {\n",
              "      background-color: #E2EBFA;\n",
              "      box-shadow: 0px 1px 2px rgba(60, 64, 67, 0.3), 0px 1px 3px 1px rgba(60, 64, 67, 0.15);\n",
              "      fill: #174EA6;\n",
              "    }\n",
              "\n",
              "    [theme=dark] .colab-df-convert {\n",
              "      background-color: #3B4455;\n",
              "      fill: #D2E3FC;\n",
              "    }\n",
              "\n",
              "    [theme=dark] .colab-df-convert:hover {\n",
              "      background-color: #434B5C;\n",
              "      box-shadow: 0px 1px 3px 1px rgba(0, 0, 0, 0.15);\n",
              "      filter: drop-shadow(0px 1px 2px rgba(0, 0, 0, 0.3));\n",
              "      fill: #FFFFFF;\n",
              "    }\n",
              "  </style>\n",
              "\n",
              "      <script>\n",
              "        const buttonEl =\n",
              "          document.querySelector('#df-716e3101-43d4-4840-a291-6378e9672dfb button.colab-df-convert');\n",
              "        buttonEl.style.display =\n",
              "          google.colab.kernel.accessAllowed ? 'block' : 'none';\n",
              "\n",
              "        async function convertToInteractive(key) {\n",
              "          const element = document.querySelector('#df-716e3101-43d4-4840-a291-6378e9672dfb');\n",
              "          const dataTable =\n",
              "            await google.colab.kernel.invokeFunction('convertToInteractive',\n",
              "                                                     [key], {});\n",
              "          if (!dataTable) return;\n",
              "\n",
              "          const docLinkHtml = 'Like what you see? Visit the ' +\n",
              "            '<a target=\"_blank\" href=https://colab.research.google.com/notebooks/data_table.ipynb>data table notebook</a>'\n",
              "            + ' to learn more about interactive tables.';\n",
              "          element.innerHTML = '';\n",
              "          dataTable['output_type'] = 'display_data';\n",
              "          await google.colab.output.renderOutput(dataTable, element);\n",
              "          const docLink = document.createElement('div');\n",
              "          docLink.innerHTML = docLinkHtml;\n",
              "          element.appendChild(docLink);\n",
              "        }\n",
              "      </script>\n",
              "    </div>\n",
              "  </div>\n",
              "  "
            ]
          },
          "metadata": {},
          "execution_count": 8
        }
      ]
    },
    {
      "cell_type": "markdown",
      "source": [
        "농어(perch)의 길이(Length)를 알면 무게(Weight)를 예측할 수 있을 까?\n",
        "\n",
        "* 관심 변수, 종속 변수(label, target) - Wegiht --> 1차원 배열\n",
        "* 독립 변수, 특성(features) - Length --> (컬럼이 1개인) 2차원 배열\n"
      ],
      "metadata": {
        "id": "-_T2IewIeD4i"
      }
    },
    {
      "cell_type": "code",
      "source": [
        "X = perch[['Length']].values # (컬러이 1개인) 2차원 배열로 만들기 위해서\n",
        "X[:5, :]"
      ],
      "metadata": {
        "colab": {
          "base_uri": "https://localhost:8080/"
        },
        "id": "if7dUzy9flCw",
        "outputId": "cfd61d46-3da9-431a-c3c2-55690334cfe2"
      },
      "execution_count": null,
      "outputs": [
        {
          "output_type": "execute_result",
          "data": {
            "text/plain": [
              "array([[ 8.4],\n",
              "       [13.7],\n",
              "       [15. ],\n",
              "       [16.2],\n",
              "       [17.4]])"
            ]
          },
          "metadata": {},
          "execution_count": 9
        }
      ]
    },
    {
      "cell_type": "code",
      "source": [
        "y = perch['Weight'].values # 1차원 배열\n",
        "y[:5]"
      ],
      "metadata": {
        "colab": {
          "base_uri": "https://localhost:8080/"
        },
        "id": "uVEolwHOgYCQ",
        "outputId": "ab354fca-a987-404a-dbf7-1c48b3327475"
      },
      "execution_count": null,
      "outputs": [
        {
          "output_type": "execute_result",
          "data": {
            "text/plain": [
              "array([ 5.9, 32. , 40. , 51.5, 70. ])"
            ]
          },
          "metadata": {},
          "execution_count": 10
        }
      ]
    },
    {
      "cell_type": "markdown",
      "source": [
        "# 훈련/테스트 셋 분리"
      ],
      "metadata": {
        "id": "fYXyJBzXgr2X"
      }
    },
    {
      "cell_type": "code",
      "source": [
        "X_train, X_test, y_train, y_test = train_test_split(X, y,\n",
        "                                                    test_size=0.25,\n",
        "                                                    random_state=42)"
      ],
      "metadata": {
        "id": "CxUssOo0gvU_"
      },
      "execution_count": null,
      "outputs": []
    },
    {
      "cell_type": "code",
      "source": [
        "X_train.shape, X_test.shape # 2차원 배열"
      ],
      "metadata": {
        "colab": {
          "base_uri": "https://localhost:8080/"
        },
        "id": "bbyEIBFvhhPR",
        "outputId": "853655f3-8c06-4e6b-aee7-e6f93e9ffe16"
      },
      "execution_count": null,
      "outputs": [
        {
          "output_type": "execute_result",
          "data": {
            "text/plain": [
              "((42, 1), (14, 1))"
            ]
          },
          "metadata": {},
          "execution_count": 12
        }
      ]
    },
    {
      "cell_type": "code",
      "source": [
        "y_train.shape, y_test.shape # 1차원 배열 axis 방향이 한개임"
      ],
      "metadata": {
        "colab": {
          "base_uri": "https://localhost:8080/"
        },
        "id": "TTHEhqDShs-G",
        "outputId": "ffb1cfa5-5067-4942-8117-d8e133d6e862"
      },
      "execution_count": null,
      "outputs": [
        {
          "output_type": "execute_result",
          "data": {
            "text/plain": [
              "((42,), (14,))"
            ]
          },
          "metadata": {},
          "execution_count": 13
        }
      ]
    },
    {
      "cell_type": "markdown",
      "source": [
        "훈련 셋/ 테스트 셋 시각화(Weight ~ Length 산점도)"
      ],
      "metadata": {
        "id": "jIrjJLf4iBWQ"
      }
    },
    {
      "cell_type": "code",
      "source": [
        "plt.scatter(X_train, y_train, label='train', alpha=0.5)\n",
        "plt.scatter(X_test, y_test, label='test', alpha=0.5)\n",
        "\n",
        "\n",
        "plt.grid()\n",
        "plt.xlabel('Length (cm)')\n",
        "plt.ylabel('Weight (g)')\n",
        "plt.legend()\n",
        "plt.show()"
      ],
      "metadata": {
        "colab": {
          "base_uri": "https://localhost:8080/",
          "height": 279
        },
        "id": "ijJEJXySiNZe",
        "outputId": "23f64247-dfdd-4255-c682-33b4347d70e8"
      },
      "execution_count": null,
      "outputs": [
        {
          "output_type": "display_data",
          "data": {
            "text/plain": [
              "<Figure size 432x288 with 1 Axes>"
            ],
            "image/png": "[encoded data removed]"
          },
          "metadata": {
            "needs_background": "light"
          }
        }
      ]
    },
    {
      "cell_type": "markdown",
      "source": [
        "# KNN Regressor 모델 훈련, 평가\n",
        "\n",
        "KNN Regressor: 가장 가까운 k개의 이웃들의 레이블(타겟)의 평균값으로 숫자를 예측."
      ],
      "metadata": {
        "id": "9HWhz8aMkSjf"
      }
    },
    {
      "cell_type": "code",
      "source": [
        "knn_reg = KNeighborsRegressor() # k=5 인 모델 생성"
      ],
      "metadata": {
        "id": "5Af7eBa-kmnG"
      },
      "execution_count": null,
      "outputs": []
    },
    {
      "cell_type": "code",
      "source": [
        "knn_reg.fit(X_train, y_train) # 모델 학습"
      ],
      "metadata": {
        "colab": {
          "base_uri": "https://localhost:8080/"
        },
        "id": "d3Y0dhftkpV4",
        "outputId": "b732b209-6bd9-42e4-e421-2bb285cad104"
      },
      "execution_count": null,
      "outputs": [
        {
          "output_type": "execute_result",
          "data": {
            "text/plain": [
              "KNeighborsRegressor()"
            ]
          },
          "metadata": {},
          "execution_count": 16
        }
      ]
    },
    {
      "cell_type": "code",
      "source": [
        "# 학습된 훈련 셋의 예측값\n",
        "train_pred = knn_reg.predict(X_train)\n",
        "train_pred"
      ],
      "metadata": {
        "colab": {
          "base_uri": "https://localhost:8080/"
        },
        "id": "zWyQcRm7k_Jz",
        "outputId": "1c8a3cc6-0fa2-4c97-91ba-60e277c563f1"
      },
      "execution_count": null,
      "outputs": [
        {
          "output_type": "execute_result",
          "data": {
            "text/plain": [
              "array([  88.6,  123. ,   79.6,   70.6,  723. ,  193. ,  847. ,  847. ,\n",
              "       1010. ,  123. ,   95. ,  123. ,  174. ,  248. , 1010. ,  847. ,\n",
              "        174. ,  113. ,  248. ,  847. ,  659. ,  224. ,  723. ,   60. ,\n",
              "        140. ,   60. ,  719. ,  694.2,  248. ,  167. ,  847. ,  113. ,\n",
              "        168. ,  123. , 1010. ,  136. ,   79.6,  719. ,  123. ,  193. ,\n",
              "        990. ,  659. ])"
            ]
          },
          "metadata": {},
          "execution_count": 17
        }
      ]
    },
    {
      "cell_type": "code",
      "source": [
        "# 훈련 셋의 실젯값(레이블)\n",
        "y_train"
      ],
      "metadata": {
        "colab": {
          "base_uri": "https://localhost:8080/"
        },
        "id": "15gJlxFTlXTP",
        "outputId": "d9fba9c0-a8d9-464d-9519-dbcba3330d1e"
      },
      "execution_count": null,
      "outputs": [
        {
          "output_type": "execute_result",
          "data": {
            "text/plain": [
              "array([  85.,  135.,   78.,   70.,  700.,  180.,  850.,  820., 1000.,\n",
              "        120.,   85.,  130.,  225.,  260., 1100.,  900.,  145.,  115.,\n",
              "        265., 1015.,  514.,  218.,  685.,   32.,  145.,   40.,  690.,\n",
              "        840.,  300.,  170.,  650.,  110.,  150.,  110., 1000.,  150.,\n",
              "         80.,  700.,  120.,  197., 1100.,  556.])"
            ]
          },
          "metadata": {},
          "execution_count": 18
        }
      ]
    },
    {
      "cell_type": "markdown",
      "source": [
        "* 기호 정의\n",
        "    * $y_i$: $i$번째 샘플의 실젯값(label)\n",
        "    * $\\hat{y_i}$: $i$번째 샘플의 예측값\n",
        "    * $\\bar{y}$: 타겟의 평균값\n",
        "    * $n$: 샘플 개수\n",
        "\n",
        "* MSE(Mean Squared Errors): 오차들의 제곱의 평균\n",
        "$$\n",
        "MSE = \\frac{1}{n} \\sum_{i=1}^{n} (y_i - \\hat{y_i})^2\n",
        "$$\n",
        "\n",
        "* RMSE(Root Mean Squared Errors): MSE의 제곱근\n",
        "$$\n",
        "RMSE = \\sqrt{ \\frac{1}{n} \\sum_{i=1}^{n} (y_i - \\hat{y_i})^2 }\n",
        "$$\n",
        "\n",
        "* MAE(Mean Absolute Errors): 오차들의 절대값의 평균\n",
        "$$\n",
        "MAE = \\frac{1}{n} \\sum_{i=1}^{n} \\lvert y_i - \\hat{y_i} \\rvert\n",
        "$$\n",
        "\n",
        "* $R^2$ score(결정 계수, coefficient of determinant)\n",
        "$$\n",
        "R^2 = 1 - \\dfrac{ \\sum_{i=1}^{n} (y_i - \\hat{y_i})^2 }\n",
        "                { \\sum_{i=1}^{n} (y_i - \\bar{y})^2 }\n",
        "$$\n",
        "\n",
        "    * 일반적인 평가 지표는 점수가 높을 수록 좋은 모델, 점수가 낮을 수록 나쁜 모델.\n",
        "    * 그런데, 회귀 문제에서는 오차(MSE, MAE)는 작을 수록 좋은 모델이고, 오차가 클 수록 나쁜 모델.\n",
        "    * 회귀 문제에서도 점수가 높을 수록 좋은 모델이고 점수가 낮을 수록 나쁜 모델이라고 평가할 수 있는 지표가 필요. --> $R^2$ score(결정 계수)\n",
        "    * 결정 계수는 최댓값이 1이 되도록 만든 평가 지표.\n",
        "    * 모델이 타겟을 오차없이 정확하게 예측한다면 실제값 - 예측값 = 0 이므로, 결정 계수는 최댓값이 1이 됨.\n",
        "    * 모델이 타겟을 매우 비슷하게 예측한다면(즉, 오차가 매우 작다면) 분자가 0에 가까운 값이 되므로, 결정 계수는 1보다는 작지만 1에 가까운 값이 됨.\n",
        "    * 모델이 타겟의 평균으로만 예측하는 정도라면 분자 = 분모 이므로, 결정 계수는 0이 됨.\n",
        "    * 모델이 타겟의 평균 정도도 예측하지 못하는 모델이라면(오차가 매우 크다면), 분자 > 분모 일 수 있고, 그런 경우 결정 계수는 음수가 될 수 있음.\n",
        "    * 즉, 결정 계수는 1에 가까울 수록 오차가 작은 좋은 예측 모델이고, 숫자가 작아질 수록 오차가 큰 나쁜 예측 모델임."
      ],
      "metadata": {
        "id": "_49M5ZHhm0pV"
      }
    },
    {
      "cell_type": "code",
      "source": [
        "# 훈련 셋의 MSE, RMSE\n",
        "train_mse = mean_squared_error(y_train, train_pred)\n",
        "train_rmse = np.sqrt(train_mse)\n",
        "train_rmse"
      ],
      "metadata": {
        "colab": {
          "base_uri": "https://localhost:8080/"
        },
        "id": "7upCZYpHlanV",
        "outputId": "11250123-1815-44f1-f69a-ee32eb687fa4"
      },
      "execution_count": null,
      "outputs": [
        {
          "output_type": "execute_result",
          "data": {
            "text/plain": [
              "60.96323638453089"
            ]
          },
          "metadata": {},
          "execution_count": 19
        }
      ]
    },
    {
      "cell_type": "code",
      "source": [
        "# 훈련 셋의  MAE\n",
        "mean_absolute_error(y_train, train_pred)"
      ],
      "metadata": {
        "colab": {
          "base_uri": "https://localhost:8080/"
        },
        "id": "3v8ehMPoomn4",
        "outputId": "bd449000-0c7d-4d35-8453-e233dada5e1a"
      },
      "execution_count": null,
      "outputs": [
        {
          "output_type": "execute_result",
          "data": {
            "text/plain": [
              "35.76190476190476"
            ]
          },
          "metadata": {},
          "execution_count": 20
        }
      ]
    },
    {
      "cell_type": "code",
      "source": [
        "# 테스트 셋의 예측값\n",
        "test_pred = knn_reg.predict(X_test)\n",
        "print(test_pred)\n",
        "print(y_test) # 테스트 셋 실젯값\n",
        "\n",
        "# 테스트 셋의 RMSE\n",
        "test_mse = mean_squared_error(y_test, test_pred)\n",
        "test_rmse = np.sqrt(test_mse)\n",
        "print(test_rmse)"
      ],
      "metadata": {
        "colab": {
          "base_uri": "https://localhost:8080/"
        },
        "id": "MVDc9Gg9p7fl",
        "outputId": "be9c08f1-e8d7-4ab9-d8bd-ad3cd4884ece"
      },
      "execution_count": null,
      "outputs": [
        {
          "output_type": "stream",
          "name": "stdout",
          "text": [
            "[  60.    79.6  248.   122.   136.   847.   311.4  183.4  847.   113.\n",
            " 1010.    60.   248.   248. ]\n",
            "[   5.9  100.   250.   130.   130.   820.   320.   188.   900.   125.\n",
            " 1000.    51.5  250.   300. ]\n",
            "26.865192562655704\n"
          ]
        }
      ]
    },
    {
      "cell_type": "code",
      "source": [
        "# 훈련 셋의 R^2(결정계수)\n",
        "train_r2 = r2_score(y_train, train_pred)\n",
        "print('훈련 셋 R2:', train_r2)\n",
        "\n",
        "# 테스트 셋의 R^2\n",
        "test_r2 = r2_score(y_test, test_pred)\n",
        "print('테스트 셋 R2:', test_r2)"
      ],
      "metadata": {
        "colab": {
          "base_uri": "https://localhost:8080/"
        },
        "id": "e56LORzQyrWC",
        "outputId": "28de0cf9-e5a1-4354-c0f8-265c24f62bd6"
      },
      "execution_count": null,
      "outputs": [
        {
          "output_type": "stream",
          "name": "stdout",
          "text": [
            "훈련 셋 R2: 0.9698823289099254\n",
            "테스트 셋 R2: 0.992809406101064\n"
          ]
        }
      ]
    },
    {
      "cell_type": "code",
      "source": [
        "knn_reg.score(X_test, y_test)"
      ],
      "metadata": {
        "colab": {
          "base_uri": "https://localhost:8080/"
        },
        "id": "dHT0_7TZ0pyK",
        "outputId": "fd3b5dd1-ecb4-4783-f9fd-77b24fa7edca"
      },
      "execution_count": null,
      "outputs": [
        {
          "output_type": "execute_result",
          "data": {
            "text/plain": [
              "0.992809406101064"
            ]
          },
          "metadata": {},
          "execution_count": 23
        }
      ]
    },
    {
      "cell_type": "markdown",
      "source": [
        "# 모델 튜닝\n",
        "\n",
        "k값 변화에 따른 훈련 셋과 테스트 셋에서의 $R^2$ score 변화 시각화"
      ],
      "metadata": {
        "id": "N_5ULJl7dGlB"
      }
    },
    {
      "cell_type": "code",
      "source": [
        "k_values = np.arange(1, 16)\n",
        "train_scores = [] # 훈련 셋의 R^2 score를 저장할 리스트\n",
        "test_scores = [] # 테스트 셋의 R^2 score\n",
        "\n",
        "for k in k_values:\n",
        "    knn = KNeighborsRegressor(n_neighbors=k) # KNN 예측기 모델 생성\n",
        "    knn.fit(X_train, y_train) # 모델 훈련\n",
        "    train_r2 = knn.score(X_train, y_train) # 훈련 셋에서의 R\n",
        "    train_scores.append(train_r2)\n",
        "    test_r2 = knn.score(X_test, y_test)\n",
        "    test_scores.append(test_r2)\n",
        "\n",
        "print(train_scores)\n",
        "print(test_scores)"
      ],
      "metadata": {
        "colab": {
          "base_uri": "https://localhost:8080/"
        },
        "id": "iJqyFqLjdbTW",
        "outputId": "5828c2f6-6861-420a-b299-e7328ef2c112"
      },
      "execution_count": null,
      "outputs": [
        {
          "output_type": "stream",
          "name": "stdout",
          "text": [
            "[0.9852830341215901, 0.9828437127041165, 0.9804899950518966, 0.978211389719245, 0.9698823289099254, 0.9757140960298665, 0.9761170732051527, 0.9697604397763201, 0.9693310367551284, 0.96164569026043, 0.9515761381539326, 0.9467103631225754, 0.9413423450130075, 0.9429470576557883, 0.930201118360776]\n",
            "[0.991309195814175, 0.9725010241788556, 0.9746459963987609, 0.9840231023848637, 0.992809406101064, 0.9855001139899048, 0.9781383949643516, 0.9780541148735824, 0.9692647749722698, 0.9737908255822255, 0.970279643030474, 0.967703620310643, 0.9639044643206888, 0.9615046463124021, 0.9554827691127018]\n"
          ]
        }
      ]
    },
    {
      "cell_type": "code",
      "source": [
        "plt.plot(k_values, train_scores, 'bo-', label='train $R^2$ score')\n",
        "plt.plot(k_values, test_scores, 'ro:', label='test $R^2$ scores')\n",
        "\n",
        "plt.grid()\n",
        "plt.xlabel('k (# of nearest neighbors)')\n",
        "plt.ylabel('$R^2$ score')\n",
        "plt.legend()\n",
        "plt.show()"
      ],
      "metadata": {
        "colab": {
          "base_uri": "https://localhost:8080/",
          "height": 279
        },
        "id": "llR5EnLLfDUR",
        "outputId": "888d83f2-ad12-4469-e157-f52b45a77c40"
      },
      "execution_count": null,
      "outputs": [
        {
          "output_type": "display_data",
          "data": {
            "text/plain": [
              "<Figure size 432x288 with 1 Axes>"
            ],
            "image/png": "[encoded data removed]"
          },
          "metadata": {
            "needs_background": "light"
          }
        }
      ]
    },
    {
      "cell_type": "markdown",
      "source": [
        "# KNN Regressor의 문제점"
      ],
      "metadata": {
        "id": "TeZIHRqGk2pX"
      }
    },
    {
      "cell_type": "code",
      "source": [
        "# 훈련 셋 시각화\n",
        "plt.scatter(X_train, y_train, label='train set', alpha=0.5) # x길이 y 무게\n",
        "\n",
        "# 길이는 50cm, 무게가 1500g인 가상의 농어(perch) 한 마리\n",
        "test_fish_length = [[50]] # 특성 배열: (n_sample, n_feature) shape의 2차원 배열\n",
        "test_fish_weight= [1500] # 레이블 배열: (n_sample, ) shape의 1차원 배열\n",
        "plt.scatter(test_fish_length, test_fish_weight, marker='v', color='red')\n",
        "\n",
        "plt.legend()\n",
        "plt.grid()\n",
        "plt.xlabel('Length(cm)')\n",
        "plt.ylabel('Weight(g)')\n",
        "plt.show()"
      ],
      "metadata": {
        "colab": {
          "base_uri": "https://localhost:8080/",
          "height": 279
        },
        "id": "LYLxoDM8k5Qk",
        "outputId": "9ba0448c-da8f-479d-d6fd-41ae5f435dff"
      },
      "execution_count": null,
      "outputs": [
        {
          "output_type": "display_data",
          "data": {
            "text/plain": [
              "<Figure size 432x288 with 1 Axes>"
            ],
            "image/png": "[encoded data removed]"
          },
          "metadata": {
            "needs_background": "light"
          }
        }
      ]
    },
    {
      "cell_type": "code",
      "source": [
        "# k=3인 KNN regressor 생성, 훈련, 예측\n",
        "knn = KNeighborsRegressor(n_neighbors=3) # 모델 생성\n",
        "knn.fit(X_train, y_train) # 모델 훈련\n",
        "prediction = knn.predict(test_fish_length) # 길이 50cm인 가상의 농어의 무게 예측값\n",
        "print(prediction)"
      ],
      "metadata": {
        "colab": {
          "base_uri": "https://localhost:8080/"
        },
        "id": "Ta9QxgwVn1bO",
        "outputId": "c76c845b-f666-4386-dbfd-79e34e0e6376"
      },
      "execution_count": null,
      "outputs": [
        {
          "output_type": "stream",
          "name": "stdout",
          "text": [
            "[1033.33333333]\n"
          ]
        }
      ]
    },
    {
      "cell_type": "markdown",
      "source": [
        "* 머신 러닝 알고리즘\n",
        "    * 사례 기반 학습(instance-based learning) : KNN\n",
        "        * 샘플들의 다수결 또는 평균으로 예측하는 알고리즘.\n",
        "        * 특별한 수학적인 모델링이 사용되지 않는 알고리즘.\n",
        "        * 장점: 이해하기 쉽다\n",
        "        * 단점: 이상치(outlier)에 대한 예측값은 매우 나쁘다.\n",
        "\n",
        "    * 모델 기반 학습(model-based learning): Linear Regression\n",
        "        * 훈련 셋에서 수학적인 모델을 추론(공식)해서 예측하는 알고리즘."
      ],
      "metadata": {
        "id": "0px2GpQApMN4"
      }
    },
    {
      "cell_type": "markdown",
      "source": [
        "# 선형 회귀"
      ],
      "metadata": {
        "id": "1rNuSfu_-bVi"
      }
    },
    {
      "cell_type": "code",
      "source": [
        "lin_reg = LinearRegression() # 선형 회귀 모델 생성"
      ],
      "metadata": {
        "id": "nkKdJ0Uy-dPB"
      },
      "execution_count": null,
      "outputs": []
    },
    {
      "cell_type": "code",
      "source": [
        "lin_reg.fit(X_train, y_train) # 모델 훈련"
      ],
      "metadata": {
        "colab": {
          "base_uri": "https://localhost:8080/"
        },
        "id": "TNJL_d0KAK-8",
        "outputId": "619728f9-be07-4b3f-827b-6a41011a9c92"
      },
      "execution_count": null,
      "outputs": [
        {
          "output_type": "execute_result",
          "data": {
            "text/plain": [
              "LinearRegression()"
            ]
          },
          "metadata": {},
          "execution_count": 29
        }
      ]
    },
    {
      "cell_type": "markdown",
      "source": [
        "선형 회귀 모델을 훈련 셋으로 학습시킨다라는 의미는 데이터들을 가장 잘 설명할 수 있는 (훈련 셋과 예측값들 사이의 오차가 적어지도록 하는) 직선(곡선)의 방정식을 찾는 과정.\n",
        "\n",
        "$$\n",
        "\\hat{y_i} = w_0 + w_1 \\times x_i\n",
        "$$\n",
        "\n",
        "* $w_0$: 절편(intercept), 편향(bias)\n",
        "* $w_1$: 계수(coefficient), 기울기(slope)\n",
        "* 선형 회귀의 목적은 MSE(오차들의 제곱의 평균)이 가장 작아지는 절편($w_0$)과 계수들($w_1$)을 찾는 것."
      ],
      "metadata": {
        "id": "Xb63F8r9AQtX"
      }
    },
    {
      "cell_type": "code",
      "source": [
        "lin_reg.intercept_ # 선형 회귀 모델을 훈련시킨 후 찾은 직선의 절편 - 숫자하나로 반환"
      ],
      "metadata": {
        "colab": {
          "base_uri": "https://localhost:8080/"
        },
        "id": "J6yzZECxAP_E",
        "outputId": "275d1dcf-2b85-49e7-bef1-4273fc16f616"
      },
      "execution_count": null,
      "outputs": [
        {
          "output_type": "execute_result",
          "data": {
            "text/plain": [
              "-709.0186449535477"
            ]
          },
          "metadata": {},
          "execution_count": 30
        }
      ]
    },
    {
      "cell_type": "code",
      "source": [
        "lin_reg.coef_ # 선형 회귀 모델을 훈련시킨 후 찾은 직선의 기울기  - 배열로 반환, 행렬로 확장되기위해서"
      ],
      "metadata": {
        "colab": {
          "base_uri": "https://localhost:8080/"
        },
        "id": "C16ToQrsBwbD",
        "outputId": "0fa9974d-ff6e-4e99-ea8e-18a2b3c1d746"
      },
      "execution_count": null,
      "outputs": [
        {
          "output_type": "execute_result",
          "data": {
            "text/plain": [
              "array([39.01714496])"
            ]
          },
          "metadata": {},
          "execution_count": 31
        }
      ]
    },
    {
      "cell_type": "markdown",
      "source": [
        "선형 회귀 모델을 훈련시킨 후 찾은 수학적 모델(직선의 방정식)\n",
        "\n",
        "$$\n",
        "\\hat{y} = -709 + 39 × x\n",
        "$$\n"
      ],
      "metadata": {
        "id": "OqHzlZ87CvbM"
      }
    },
    {
      "cell_type": "code",
      "source": [
        "-709 + 39 * 50"
      ],
      "metadata": {
        "colab": {
          "base_uri": "https://localhost:8080/"
        },
        "id": "8D8DyJjvCW_L",
        "outputId": "f27a3cba-c5ae-48b2-f01f-a77e28b35eeb"
      },
      "execution_count": null,
      "outputs": [
        {
          "output_type": "execute_result",
          "data": {
            "text/plain": [
              "1241"
            ]
          },
          "metadata": {},
          "execution_count": 32
        }
      ]
    },
    {
      "cell_type": "code",
      "source": [
        "# 훈련 셋, 테스트 셋, 선형 회귀 모델(직선) 시각화\n",
        "plt.scatter(X_train, y_train, alpha=0.5, label='train') # 훈련 셋\n",
        "plt.scatter(X_test, y_test, alpha=0.5, label='test') # 테스트 셋\n",
        "\n",
        "# 직선(곡선) 시각화\n",
        "x = np.arange(5, 45, 0.001)\n",
        "w0 = lin_reg.intercept_ # 직선의 y절편\n",
        "w1 = lin_reg.coef_[0] # 직선의 기울기\n",
        "y = w0 + w1 * x # 직선의 방정식\n",
        "plt.plot(x, y, 'r-', label='linar regression')\n",
        "\n",
        "plt.grid()\n",
        "plt.legend()\n",
        "plt.xlabel('Length(cm)')\n",
        "plt.ylabel('Weight(g)')\n",
        "plt.show()"
      ],
      "metadata": {
        "colab": {
          "base_uri": "https://localhost:8080/",
          "height": 279
        },
        "id": "x_c4evbeDSr7",
        "outputId": "49f71172-e8af-4c2c-b683-5a1196f4ddc8"
      },
      "execution_count": null,
      "outputs": [
        {
          "output_type": "display_data",
          "data": {
            "text/plain": [
              "<Figure size 432x288 with 1 Axes>"
            ],
            "image/png": "[encoded data removed]"
          },
          "metadata": {
            "needs_background": "light"
          }
        }
      ]
    },
    {
      "cell_type": "code",
      "source": [
        "# 훈련 셋에서의 R^2 score\n",
        "train_pred = lin_reg.predict(X_train)\n",
        "print(train_pred)"
      ],
      "metadata": {
        "colab": {
          "base_uri": "https://localhost:8080/"
        },
        "id": "uHrRedRoDzPD",
        "outputId": "214b0c5b-a40b-4d18-81d6-515c55af743d"
      },
      "execution_count": null,
      "outputs": [
        {
          "output_type": "stream",
          "name": "stdout",
          "text": [
            "[  55.71739633  149.35854425   20.60196587  -30.12032259  695.59857374\n",
            "  266.40997914  851.66715359  812.65000863  968.71858848  149.35854425\n",
            "   71.32425432  149.35854425  227.39283417  363.95284155  968.71858848\n",
            "  851.66715359  227.39283417  110.34139928  363.95284155  851.66715359\n",
            "  570.74370985  324.93569658  715.10714622 -174.48375895  176.67054572\n",
            " -123.7614705   734.6157187   656.58142877  410.7734155   207.88426169\n",
            "  812.65000863  110.34139928  188.37568921  149.35854425 1007.73573345\n",
            "  168.86711673   32.30710936  734.6157187   149.35854425  289.82026612\n",
            "  929.70144352  637.07285629]\n"
          ]
        }
      ]
    },
    {
      "cell_type": "code",
      "source": [
        "print(y_train)"
      ],
      "metadata": {
        "colab": {
          "base_uri": "https://localhost:8080/"
        },
        "id": "qdszR6plHHFE",
        "outputId": "b627534a-fae0-459d-c42b-9f5faeb0f53f"
      },
      "execution_count": null,
      "outputs": [
        {
          "output_type": "stream",
          "name": "stdout",
          "text": [
            "[  85.  135.   78.   70.  700.  180.  850.  820. 1000.  120.   85.  130.\n",
            "  225.  260. 1100.  900.  145.  115.  265. 1015.  514.  218.  685.   32.\n",
            "  145.   40.  690.  840.  300.  170.  650.  110.  150.  110. 1000.  150.\n",
            "   80.  700.  120.  197. 1100.  556.]\n"
          ]
        }
      ]
    },
    {
      "cell_type": "code",
      "source": [
        "# 훈련 셋에서의 R^2 score\n",
        "lin_reg.score(X_train, y_train)"
      ],
      "metadata": {
        "colab": {
          "base_uri": "https://localhost:8080/"
        },
        "id": "9icBV7USHcyb",
        "outputId": "48b87aa7-c345-4f58-bdbe-c0ce167cd510"
      },
      "execution_count": null,
      "outputs": [
        {
          "output_type": "execute_result",
          "data": {
            "text/plain": [
              "0.939846333997604"
            ]
          },
          "metadata": {},
          "execution_count": 36
        }
      ]
    },
    {
      "cell_type": "code",
      "source": [
        "# 테스트 셋에서의 R^2 score\n",
        "lin_reg.score(X_test, y_test)"
      ],
      "metadata": {
        "colab": {
          "base_uri": "https://localhost:8080/"
        },
        "id": "70HbHNAxH33Q",
        "outputId": "6bb0a33d-f946-4dc2-f12e-2bb397e85004"
      },
      "execution_count": null,
      "outputs": [
        {
          "output_type": "execute_result",
          "data": {
            "text/plain": [
              "0.8247503123313558"
            ]
          },
          "metadata": {},
          "execution_count": 37
        }
      ]
    },
    {
      "cell_type": "markdown",
      "source": [
        "# 2차 항(polymonial)을 포함하는 선형 회귀\n",
        "\n",
        "$$\n",
        "\\hat{y} = w_0 + w_1 × x + w_2 \\times x^2\n",
        "$$\n",
        "\n",
        "2차 함수에 의해서 계산된 MSE가 최소가 되는 절편과 계수들을 찾는 것."
      ],
      "metadata": {
        "id": "xu2WTTSiPqZa"
      }
    },
    {
      "cell_type": "code",
      "source": [
        "X_train.shape # 훈련 셋의 shape"
      ],
      "metadata": {
        "colab": {
          "base_uri": "https://localhost:8080/"
        },
        "id": "WuBh4XbQQnSb",
        "outputId": "d3bc30aa-524d-477a-a8bb-efca55bf96a0"
      },
      "execution_count": null,
      "outputs": [
        {
          "output_type": "execute_result",
          "data": {
            "text/plain": [
              "(42, 1)"
            ]
          },
          "metadata": {},
          "execution_count": 38
        }
      ]
    },
    {
      "cell_type": "code",
      "source": [
        "X_train[:3, :]"
      ],
      "metadata": {
        "colab": {
          "base_uri": "https://localhost:8080/"
        },
        "id": "KPh02JcUQqtw",
        "outputId": "566488bf-0630-4c28-b332-06ffde815a2d"
      },
      "execution_count": null,
      "outputs": [
        {
          "output_type": "execute_result",
          "data": {
            "text/plain": [
              "array([[19.6],\n",
              "       [22. ],\n",
              "       [18.7]])"
            ]
          },
          "metadata": {},
          "execution_count": 39
        }
      ]
    },
    {
      "cell_type": "code",
      "source": [
        "# 특성(featuer) 배열에 2차항을 추가 \n",
        "X_train_poly = np.c_[X_train, X_train ** 2]"
      ],
      "metadata": {
        "id": "ht844CVhQ-mU"
      },
      "execution_count": null,
      "outputs": []
    },
    {
      "cell_type": "code",
      "source": [
        "X_train_poly.shape"
      ],
      "metadata": {
        "colab": {
          "base_uri": "https://localhost:8080/"
        },
        "id": "FVzun8uJRPsL",
        "outputId": "6adf63b8-e409-4f8d-c556-d2665e5eb15e"
      },
      "execution_count": null,
      "outputs": [
        {
          "output_type": "execute_result",
          "data": {
            "text/plain": [
              "(42, 2)"
            ]
          },
          "metadata": {},
          "execution_count": 41
        }
      ]
    },
    {
      "cell_type": "code",
      "source": [
        "X_train_poly[:3, :]"
      ],
      "metadata": {
        "colab": {
          "base_uri": "https://localhost:8080/"
        },
        "id": "7BAyIxIORaNb",
        "outputId": "61183378-18b1-4400-aa3d-0c68751237ae"
      },
      "execution_count": null,
      "outputs": [
        {
          "output_type": "execute_result",
          "data": {
            "text/plain": [
              "array([[ 19.6 , 384.16],\n",
              "       [ 22.  , 484.  ],\n",
              "       [ 18.7 , 349.69]])"
            ]
          },
          "metadata": {},
          "execution_count": 42
        }
      ]
    },
    {
      "cell_type": "code",
      "source": [
        "# 테스트 셋의 특성 배열에 2차항을 추가\n",
        "X_test_poly = np.c_[X_test, X_test ** 2]"
      ],
      "metadata": {
        "id": "a2XQdM8lSDIK"
      },
      "execution_count": null,
      "outputs": []
    },
    {
      "cell_type": "code",
      "source": [
        "X_test_poly.shape"
      ],
      "metadata": {
        "colab": {
          "base_uri": "https://localhost:8080/"
        },
        "id": "s5_fe3C7SGQK",
        "outputId": "ba3c92b8-8326-47b8-cfab-5485fe1e36e4"
      },
      "execution_count": null,
      "outputs": [
        {
          "output_type": "execute_result",
          "data": {
            "text/plain": [
              "(14, 2)"
            ]
          },
          "metadata": {},
          "execution_count": 44
        }
      ]
    },
    {
      "cell_type": "code",
      "source": [
        "X_test_poly[:3, :]"
      ],
      "metadata": {
        "colab": {
          "base_uri": "https://localhost:8080/"
        },
        "id": "vomQBz4jSWK8",
        "outputId": "4798c306-8308-48c3-d77c-8bc77454dd5b"
      },
      "execution_count": null,
      "outputs": [
        {
          "output_type": "execute_result",
          "data": {
            "text/plain": [
              "array([[  8.4 ,  70.56],\n",
              "       [ 18.  , 324.  ],\n",
              "       [ 27.5 , 756.25]])"
            ]
          },
          "metadata": {},
          "execution_count": 45
        }
      ]
    },
    {
      "cell_type": "code",
      "source": [
        "lin_reg2 = LinearRegression() # 선형 회귀 모델 생성"
      ],
      "metadata": {
        "id": "hOV4nzAjSgv1"
      },
      "execution_count": null,
      "outputs": []
    },
    {
      "cell_type": "code",
      "source": [
        "lin_reg2.fit(X_train_poly, y_train) # 선형 회귀 모델 훈련"
      ],
      "metadata": {
        "colab": {
          "base_uri": "https://localhost:8080/"
        },
        "id": "FptCN6dhSmFD",
        "outputId": "a4ab6a85-f01e-4803-c033-7a25d6155ced"
      },
      "execution_count": null,
      "outputs": [
        {
          "output_type": "execute_result",
          "data": {
            "text/plain": [
              "LinearRegression()"
            ]
          },
          "metadata": {},
          "execution_count": 47
        }
      ]
    },
    {
      "cell_type": "code",
      "source": [
        "# 학습 결과 - 선형 회귀식에서 절편(intercept)과 계수들(cofficients)을 찾음.\n",
        "print(lin_reg2.intercept_)\n",
        "print(lin_reg2.coef_) # 선형회귀식에서 변"
      ],
      "metadata": {
        "colab": {
          "base_uri": "https://localhost:8080/"
        },
        "id": "4pGvIiBiS4E7",
        "outputId": "3d50470f-d5c1-4650-f1f3-0941a261307b"
      },
      "execution_count": null,
      "outputs": [
        {
          "output_type": "stream",
          "name": "stdout",
          "text": [
            "116.05021078278384\n",
            "[-21.55792498   1.01433211]\n"
          ]
        }
      ]
    },
    {
      "cell_type": "markdown",
      "source": [
        "$$\n",
        "\\hat{y} = 116 - 21.6 \\times x + 1.0 \\times x^2\n",
        "$$"
      ],
      "metadata": {
        "id": "-VlhpiwFTjgb"
      }
    },
    {
      "cell_type": "code",
      "source": [
        "116 - 21.6 * 50 + 1.0 * 50 ** 2"
      ],
      "metadata": {
        "colab": {
          "base_uri": "https://localhost:8080/"
        },
        "id": "Rtx4yBU_T9Qe",
        "outputId": "2dc5ecc2-d3b9-4240-bbe8-e43e48cd71c2"
      },
      "execution_count": null,
      "outputs": [
        {
          "output_type": "execute_result",
          "data": {
            "text/plain": [
              "1536.0"
            ]
          },
          "metadata": {},
          "execution_count": 49
        }
      ]
    },
    {
      "cell_type": "code",
      "source": [
        "116 - 21.6 * 8 + 1.0 * 8 ** 2"
      ],
      "metadata": {
        "colab": {
          "base_uri": "https://localhost:8080/"
        },
        "id": "lblWDKi5UA1j",
        "outputId": "ef51e6db-3cc5-4641-c402-0d8d2e6167cb"
      },
      "execution_count": null,
      "outputs": [
        {
          "output_type": "execute_result",
          "data": {
            "text/plain": [
              "7.199999999999989"
            ]
          },
          "metadata": {},
          "execution_count": 50
        }
      ]
    },
    {
      "cell_type": "code",
      "source": [
        "# 훈련 셋의 예측값\n",
        "train_pred = lin_reg2.predict(X_train_poly)\n",
        "print(train_pred)"
      ],
      "metadata": {
        "colab": {
          "base_uri": "https://localhost:8080/"
        },
        "id": "twf5P9JaU2az",
        "outputId": "9b1ea849-3193-459d-c6d7-b37d47e29962"
      },
      "execution_count": null,
      "outputs": [
        {
          "output_type": "stream",
          "name": "stdout",
          "text": [
            "[  83.18070434  132.71260219   67.61880901   48.04150559  654.5393253\n",
            "  211.05965467  876.66458663  818.09027497 1064.55950693  132.71260219\n",
            "   90.62455496  132.71260219  182.91530629  290.29593158 1064.55950693\n",
            "  876.66458663  182.91530629  110.65424646  290.29593158  876.66458663\n",
            "  500.20932803  257.07992265  680.52990177   11.08663218  149.3605064\n",
            "   20.90606071  707.0276443   604.07967051  332.83297906  169.60388118\n",
            "  818.09027497  110.65424646  156.79962213  132.71260219 1131.24847547\n",
            "  144.50252913   72.62352767  707.0276443   132.71260219  228.92002253\n",
            "  999.89920261  579.6105922 ]\n"
          ]
        }
      ]
    },
    {
      "cell_type": "code",
      "source": [
        "print(y_train)"
      ],
      "metadata": {
        "colab": {
          "base_uri": "https://localhost:8080/"
        },
        "id": "9vhQWR_BVScD",
        "outputId": "71d4da05-b991-4571-feb5-307c5a76d5b8"
      },
      "execution_count": null,
      "outputs": [
        {
          "output_type": "stream",
          "name": "stdout",
          "text": [
            "[  85.  135.   78.   70.  700.  180.  850.  820. 1000.  120.   85.  130.\n",
            "  225.  260. 1100.  900.  145.  115.  265. 1015.  514.  218.  685.   32.\n",
            "  145.   40.  690.  840.  300.  170.  650.  110.  150.  110. 1000.  150.\n",
            "   80.  700.  120.  197. 1100.  556.]\n"
          ]
        }
      ]
    },
    {
      "cell_type": "code",
      "source": [
        "# 테스트 셋 예측값\n",
        "test_pred = lin_reg2.predict(X_test_poly)\n",
        "print(test_pred)"
      ],
      "metadata": {
        "colab": {
          "base_uri": "https://localhost:8080/"
        },
        "id": "PkdMI828Vg_8",
        "outputId": "0f9cab1f-1928-44c0-a60f-b0814a519634"
      },
      "execution_count": null,
      "outputs": [
        {
          "output_type": "stream",
          "name": "stdout",
          "text": [
            "[   6.5349146    56.6511646   290.29593158  117.05874344  144.50252913\n",
            "  876.66458663  382.21135986  199.55847561  818.09027497  110.65424646\n",
            " 1097.65040817   33.01314491  307.66468513  283.49043666]\n"
          ]
        }
      ]
    },
    {
      "cell_type": "code",
      "source": [
        "# 테스트 셋 실젯값\n",
        "print(y_test)"
      ],
      "metadata": {
        "colab": {
          "base_uri": "https://localhost:8080/"
        },
        "id": "79KzkwWZVp_8",
        "outputId": "2987648d-e361-4fbb-daca-48acafcdd7e4"
      },
      "execution_count": null,
      "outputs": [
        {
          "output_type": "stream",
          "name": "stdout",
          "text": [
            "[   5.9  100.   250.   130.   130.   820.   320.   188.   900.   125.\n",
            " 1000.    51.5  250.   300. ]\n"
          ]
        }
      ]
    },
    {
      "cell_type": "code",
      "source": [
        "# 훈련 셋 R^2 score\n",
        "lin_reg2.score(X_train_poly, y_train)"
      ],
      "metadata": {
        "colab": {
          "base_uri": "https://localhost:8080/"
        },
        "id": "_YUU9YBXV4Bq",
        "outputId": "4d69b3b5-80b4-4223-f2ae-933c07d36c62"
      },
      "execution_count": null,
      "outputs": [
        {
          "output_type": "execute_result",
          "data": {
            "text/plain": [
              "0.9706807451768623"
            ]
          },
          "metadata": {},
          "execution_count": 55
        }
      ]
    },
    {
      "cell_type": "code",
      "source": [
        "# 테스트 셋 R^2 score\n",
        "lin_reg2.score(X_test_poly, y_test)"
      ],
      "metadata": {
        "colab": {
          "base_uri": "https://localhost:8080/"
        },
        "id": "Rc5oHsklWEp1",
        "outputId": "2a71ecf4-1433-4453-9a79-0a873ab236e4"
      },
      "execution_count": null,
      "outputs": [
        {
          "output_type": "execute_result",
          "data": {
            "text/plain": [
              "0.9775935108325122"
            ]
          },
          "metadata": {},
          "execution_count": 56
        }
      ]
    },
    {
      "cell_type": "code",
      "source": [
        "# 훈련 셋, 테스트 셋, (다항) 선형 회귀 모델 시각화\n",
        "plt.scatter(X_train, y_train, alpha=0.5, label='train') # 훈련 셋\n",
        "plt.scatter(X_test, y_test, alpha=0.5, label='test') # 테스트 셋\n",
        "\n",
        "# 다항 선형 회귀 곡선 시각화\n",
        "x = np.arange(5, 50, 0.001)\n",
        "w0 = lin_reg2.intercept_ # 2차 함수의 y절편\n",
        "w1, w2 = lin_reg2.coef_  # 2차 함수의 1차항과 2차항의 계수들\n",
        "y = w0 + w1 * x + w2 * x **2\n",
        "plt.plot(x, y, 'r-', label='regression')\n",
        "\n",
        "\n",
        "plt.grid()\n",
        "plt.legend()\n",
        "plt.xlabel('Length(cm)')\n",
        "plt.ylabel('Weight(g)')\n",
        "plt.show()"
      ],
      "metadata": {
        "colab": {
          "base_uri": "https://localhost:8080/",
          "height": 279
        },
        "id": "t6A9dPcwbeKz",
        "outputId": "b98a4854-f595-4371-a18a-b8332ca3890f"
      },
      "execution_count": null,
      "outputs": [
        {
          "output_type": "display_data",
          "data": {
            "text/plain": [
              "<Figure size 432x288 with 1 Axes>"
            ],
            "image/png": "[encoded data removed]"
          },
          "metadata": {
            "needs_background": "light"
          }
        }
      ]
    },
    {
      "cell_type": "markdown",
      "source": [
        "# 행렬(2차원배열)의 점곱(dot product), 내적(inner product), 행렬 곱셈\n",
        "\n",
        "```\n",
        "(n, k) @ (k, m) = (n, m)\n",
        "```"
      ],
      "metadata": {
        "id": "fHG_UKCXeY7q"
      }
    },
    {
      "cell_type": "code",
      "source": [
        "A = np.arange(1, 7).reshape((3, -2))\n",
        "print(A) # (3, 2) shape"
      ],
      "metadata": {
        "colab": {
          "base_uri": "https://localhost:8080/"
        },
        "id": "s8lB6MrafNVq",
        "outputId": "47003373-28e2-4447-aa34-55e1f0066a46"
      },
      "execution_count": null,
      "outputs": [
        {
          "output_type": "stream",
          "name": "stdout",
          "text": [
            "[[1 2]\n",
            " [3 4]\n",
            " [5 6]]\n"
          ]
        }
      ]
    },
    {
      "cell_type": "code",
      "source": [
        "B = np.array([[0, 1, 2],\n",
        "              [1, 2, 3]])\n",
        "print(B) # (2, 3) shape"
      ],
      "metadata": {
        "colab": {
          "base_uri": "https://localhost:8080/"
        },
        "id": "eroL_IdkfshR",
        "outputId": "388739e7-8d63-4042-8e30-e71930cbe464"
      },
      "execution_count": null,
      "outputs": [
        {
          "output_type": "stream",
          "name": "stdout",
          "text": [
            "[[0 1 2]\n",
            " [1 2 3]]\n"
          ]
        }
      ]
    },
    {
      "cell_type": "code",
      "source": [
        "# A @ B\n",
        "# A.dot(B) \n",
        "np.dot(A, B)"
      ],
      "metadata": {
        "colab": {
          "base_uri": "https://localhost:8080/"
        },
        "id": "WsNQiTY-f5wf",
        "outputId": "509307c1-7707-4851-f161-7c8d855b5ed5"
      },
      "execution_count": null,
      "outputs": [
        {
          "output_type": "execute_result",
          "data": {
            "text/plain": [
              "array([[ 2,  5,  8],\n",
              "       [ 4, 11, 18],\n",
              "       [ 6, 17, 28]])"
            ]
          },
          "metadata": {},
          "execution_count": 60
        }
      ]
    },
    {
      "cell_type": "code",
      "source": [
        "B @ A "
      ],
      "metadata": {
        "colab": {
          "base_uri": "https://localhost:8080/"
        },
        "id": "mDC1ue-EiFvj",
        "outputId": "ec5b1ffd-485c-42d9-df23-253a748aaa79"
      },
      "execution_count": null,
      "outputs": [
        {
          "output_type": "execute_result",
          "data": {
            "text/plain": [
              "array([[13, 16],\n",
              "       [22, 28]])"
            ]
          },
          "metadata": {},
          "execution_count": 61
        }
      ]
    },
    {
      "cell_type": "code",
      "source": [
        "A = np.arange(6).reshape((3, 2))\n",
        "print(A)    # (3, 2)"
      ],
      "metadata": {
        "colab": {
          "base_uri": "https://localhost:8080/"
        },
        "id": "3Y97fZnFiyPB",
        "outputId": "c4740b0f-ef9c-4175-bba7-ae48e0f2377b"
      },
      "execution_count": null,
      "outputs": [
        {
          "output_type": "stream",
          "name": "stdout",
          "text": [
            "[[0 1]\n",
            " [2 3]\n",
            " [4 5]]\n"
          ]
        }
      ]
    },
    {
      "cell_type": "code",
      "source": [
        "w = np.array([1, 2])\n",
        "print(w)    # (2, )"
      ],
      "metadata": {
        "colab": {
          "base_uri": "https://localhost:8080/"
        },
        "id": "j2w9l-rHjRfu",
        "outputId": "6be874f4-2b66-4e4d-c230-fc91e02ff31c"
      },
      "execution_count": null,
      "outputs": [
        {
          "output_type": "stream",
          "name": "stdout",
          "text": [
            "[1 2]\n"
          ]
        }
      ]
    },
    {
      "cell_type": "code",
      "source": [
        "A @ w"
      ],
      "metadata": {
        "colab": {
          "base_uri": "https://localhost:8080/"
        },
        "id": "67y7JJaBj7uN",
        "outputId": "b54b330f-b84a-443f-95b2-64f1aafc8a32"
      },
      "execution_count": null,
      "outputs": [
        {
          "output_type": "execute_result",
          "data": {
            "text/plain": [
              "array([ 2,  8, 14])"
            ]
          },
          "metadata": {},
          "execution_count": 64
        }
      ]
    },
    {
      "cell_type": "code",
      "source": [
        "X_test_poly.shape, lin_reg2.coef_.shape"
      ],
      "metadata": {
        "colab": {
          "base_uri": "https://localhost:8080/"
        },
        "id": "J6PeuHzXkNJL",
        "outputId": "e7fb16c2-79e1-4783-f4ae-eff7de40852f"
      },
      "execution_count": null,
      "outputs": [
        {
          "output_type": "execute_result",
          "data": {
            "text/plain": [
              "((14, 2), (2,))"
            ]
          },
          "metadata": {},
          "execution_count": 65
        }
      ]
    },
    {
      "cell_type": "code",
      "source": [
        "lin_reg2.intercept_ + X_test_poly @ lin_reg2.coef_ # x0 + X  * w1 절편 + x * 기울기 1차함수"
      ],
      "metadata": {
        "colab": {
          "base_uri": "https://localhost:8080/"
        },
        "id": "Oj7RblcKkq_M",
        "outputId": "7b9242db-0ee6-4891-8cd3-faae60206ea4"
      },
      "execution_count": null,
      "outputs": [
        {
          "output_type": "execute_result",
          "data": {
            "text/plain": [
              "array([   6.5349146 ,   56.6511646 ,  290.29593158,  117.05874344,\n",
              "        144.50252913,  876.66458663,  382.21135986,  199.55847561,\n",
              "        818.09027497,  110.65424646, 1097.65040817,   33.01314491,\n",
              "        307.66468513,  283.49043666])"
            ]
          },
          "metadata": {},
          "execution_count": 66
        }
      ]
    },
    {
      "cell_type": "code",
      "source": [
        "test_pred"
      ],
      "metadata": {
        "colab": {
          "base_uri": "https://localhost:8080/"
        },
        "id": "4ViaAxBTlDT4",
        "outputId": "5713b3f3-9029-4bb1-c994-fe494baf875e"
      },
      "execution_count": null,
      "outputs": [
        {
          "output_type": "execute_result",
          "data": {
            "text/plain": [
              "array([   6.5349146 ,   56.6511646 ,  290.29593158,  117.05874344,\n",
              "        144.50252913,  876.66458663,  382.21135986,  199.55847561,\n",
              "        818.09027497,  110.65424646, 1097.65040817,   33.01314491,\n",
              "        307.66468513,  283.49043666])"
            ]
          },
          "metadata": {},
          "execution_count": 67
        }
      ]
    },
    {
      "cell_type": "markdown",
      "source": [
        "# PolynomialFeatures 변환기"
      ],
      "metadata": {
        "id": "f3LG9f9rs7QE"
      }
    },
    {
      "cell_type": "markdown",
      "source": [
        "scikit-learn 클래스\n",
        "\n",
        "* Estimater(추정기, 예측기) 클래스\n",
        "    * 머신 러닝 알고리즘을 구현한 클래스\n",
        "    * `fit, predict, score` 메서드를 가지고 있음.\n",
        "    * 예: `KneighborsClassifier, KNeighborsRegressor, LinearRegression`, ...\n",
        "\n",
        "* Transformer(변환기) 클래스\n",
        "    * 전처리(preprocessiong) 과정에서(모델을 훈련시키기 전에) 훈련 셋과 테스트 셋의 데이터들을 변환할 때 사용하는 클래스.\n",
        "    * `fit, transform, fit_transform` 메서드를 가지고 있음.\n",
        "    * `StandardScaler, MinMaxScaler, PolynomialFeatures, ` ..."
      ],
      "metadata": {
        "id": "N4cxUiTntBzH"
      }
    },
    {
      "cell_type": "code",
      "source": [
        "# PolynomialFeatures 변환기 클래스의 인스턴스 생성\n",
        "poly = PolynomialFeatures(include_bias=False) # 2차 다항식을 만들어 주는 변환기"
      ],
      "metadata": {
        "id": "tezWgFiOtAmn"
      },
      "execution_count": null,
      "outputs": []
    },
    {
      "cell_type": "code",
      "source": [
        "# 훈련 셋 출력\n",
        "X_train[:5, :]"
      ],
      "metadata": {
        "colab": {
          "base_uri": "https://localhost:8080/"
        },
        "id": "ewi5Yc0ewVsz",
        "outputId": "d36034db-55eb-472d-cab1-fcba0582fcdb"
      },
      "execution_count": null,
      "outputs": [
        {
          "output_type": "execute_result",
          "data": {
            "text/plain": [
              "array([[19.6],\n",
              "       [22. ],\n",
              "       [18.7],\n",
              "       [17.4],\n",
              "       [36. ]])"
            ]
          },
          "metadata": {},
          "execution_count": 69
        }
      ]
    },
    {
      "cell_type": "code",
      "source": [
        "# 훈련 셋에서 2차항(Length**2)을 추가한 데이터 셋으로 변환 \n",
        "X_train_2 = poly.fit_transform(X_train) # 훈련 셋 변환 fit_transform\n",
        "X_train_2[:5, :]"
      ],
      "metadata": {
        "colab": {
          "base_uri": "https://localhost:8080/"
        },
        "id": "VBmKtN7Qwqmm",
        "outputId": "c8c871b8-f89d-401d-82c8-bd1d0352d4d0"
      },
      "execution_count": null,
      "outputs": [
        {
          "output_type": "execute_result",
          "data": {
            "text/plain": [
              "array([[  19.6 ,  384.16],\n",
              "       [  22.  ,  484.  ],\n",
              "       [  18.7 ,  349.69],\n",
              "       [  17.4 ,  302.76],\n",
              "       [  36.  , 1296.  ]])"
            ]
          },
          "metadata": {},
          "execution_count": 70
        }
      ]
    },
    {
      "cell_type": "code",
      "source": [
        "# 테스트 셋에서 2차항을 추가\n",
        "X_test_2 = poly.transform(X_test) # 테스트 셋 변환 transform\n",
        "X_test_2[:5, :]"
      ],
      "metadata": {
        "colab": {
          "base_uri": "https://localhost:8080/"
        },
        "id": "riVHZyCbxNC0",
        "outputId": "4f7fdf43-91a7-46f9-f40c-ce4e9784c15a"
      },
      "execution_count": null,
      "outputs": [
        {
          "output_type": "execute_result",
          "data": {
            "text/plain": [
              "array([[  8.4 ,  70.56],\n",
              "       [ 18.  , 324.  ],\n",
              "       [ 27.5 , 756.25],\n",
              "       [ 21.3 , 453.69],\n",
              "       [ 22.5 , 506.25]])"
            ]
          },
          "metadata": {},
          "execution_count": 71
        }
      ]
    },
    {
      "cell_type": "code",
      "source": [
        "# 3차 다항식까지 생성하는 변환기 객체 생성.\n",
        "poly_3 = PolynomialFeatures(degree=3, include_bias=False)"
      ],
      "metadata": {
        "id": "jw2SNfTKxpD1"
      },
      "execution_count": null,
      "outputs": []
    },
    {
      "cell_type": "code",
      "source": [
        "X_train_3 = poly_3.fit_transform(X_train)\n",
        "X_train_3[:5, :]"
      ],
      "metadata": {
        "colab": {
          "base_uri": "https://localhost:8080/"
        },
        "id": "MN5sGusMx36i",
        "outputId": "0c39fe5d-0b1c-405b-e2b4-9576b2a52cb7"
      },
      "execution_count": null,
      "outputs": [
        {
          "output_type": "execute_result",
          "data": {
            "text/plain": [
              "array([[1.960000e+01, 3.841600e+02, 7.529536e+03],\n",
              "       [2.200000e+01, 4.840000e+02, 1.064800e+04],\n",
              "       [1.870000e+01, 3.496900e+02, 6.539203e+03],\n",
              "       [1.740000e+01, 3.027600e+02, 5.268024e+03],\n",
              "       [3.600000e+01, 1.296000e+03, 4.665600e+04]])"
            ]
          },
          "metadata": {},
          "execution_count": 73
        }
      ]
    },
    {
      "cell_type": "code",
      "source": [
        "X_test_3 = poly_3.transform(X_test)\n",
        "X_test_3[:5, :]"
      ],
      "metadata": {
        "colab": {
          "base_uri": "https://localhost:8080/"
        },
        "id": "hsGqgoXByr0s",
        "outputId": "a9bb0c48-a2cc-48c7-e922-668d45ebab43"
      },
      "execution_count": null,
      "outputs": [
        {
          "output_type": "execute_result",
          "data": {
            "text/plain": [
              "array([[8.4000000e+00, 7.0560000e+01, 5.9270400e+02],\n",
              "       [1.8000000e+01, 3.2400000e+02, 5.8320000e+03],\n",
              "       [2.7500000e+01, 7.5625000e+02, 2.0796875e+04],\n",
              "       [2.1300000e+01, 4.5369000e+02, 9.6635970e+03],\n",
              "       [2.2500000e+01, 5.0625000e+02, 1.1390625e+04]])"
            ]
          },
          "metadata": {},
          "execution_count": 74
        }
      ]
    },
    {
      "cell_type": "markdown",
      "source": [
        "## PolyNomialFeatures + StandardScaler\n",
        "\n",
        "* 다항 선형 회귀에서 차수(degree)가 커질 수록 고차항이 저차항에 비해서 예측값을 계산할 때 더 큰 영향을 미치게 됨. \n",
        "* 다항 선형 회귀에서 고차항을 포함시킬 때는 일반적으로 scaling(표준화)를 함께 사용하는 경우가 많음."
      ],
      "metadata": {
        "id": "TC7iRnmj09ah"
      }
    },
    {
      "cell_type": "code",
      "source": [
        "# 3차항까지 추가 -> 표준화\n",
        "poly = PolynomialFeatures(degree=3, include_bias=False) # 다차항 추가 변환기\n",
        "scaler = StandardScaler() # 표준화 변환기"
      ],
      "metadata": {
        "id": "cugEUhvh1exx"
      },
      "execution_count": null,
      "outputs": []
    },
    {
      "cell_type": "code",
      "source": [
        "# 훈련 셋 변환\n",
        "X_tr_poly = poly.fit_transform(X_train) # 2차항, 3차항을 추가\n",
        "X_tr_poly_sc = scaler.fit_transform(X_tr_poly)  # 컬럼 별로 평균과 표준편차를 찾아서 스케일을 변환"
      ],
      "metadata": {
        "id": "RUUWDHJ72K9q"
      },
      "execution_count": null,
      "outputs": []
    },
    {
      "cell_type": "code",
      "source": [
        "X_tr_poly_sc[:5, :]"
      ],
      "metadata": {
        "colab": {
          "base_uri": "https://localhost:8080/"
        },
        "id": "CFXKQ9rA2YYc",
        "outputId": "d165b9ce-51bf-45d5-ec34-81906bcbd6f8"
      },
      "execution_count": null,
      "outputs": [
        {
          "output_type": "execute_result",
          "data": {
            "text/plain": [
              "array([[-1.01339619, -0.9549757 , -0.88757122],\n",
              "       [-0.73842893, -0.76472563, -0.76291014],\n",
              "       [-1.11650891, -1.02065999, -0.92715994],\n",
              "       [-1.26544951, -1.11008743, -0.97797552],\n",
              "       [ 0.86554673,  0.78258063,  0.67651527]])"
            ]
          },
          "metadata": {},
          "execution_count": 77
        }
      ]
    },
    {
      "cell_type": "code",
      "source": [
        "# 테스트 셋 변환\n",
        "X_te_poly = poly.fit_transform(X_test)\n",
        "X_te_poly_sc = scaler.transform(X_te_poly)"
      ],
      "metadata": {
        "id": "AW0MtBqp3KwZ"
      },
      "execution_count": null,
      "outputs": []
    },
    {
      "cell_type": "code",
      "source": [
        "X_te_poly_sc[:5, :]"
      ],
      "metadata": {
        "colab": {
          "base_uri": "https://localhost:8080/"
        },
        "id": "z8iqUIN13ldJ",
        "outputId": "9380640e-61f8-4b2d-9f80-18269852ea2f"
      },
      "execution_count": null,
      "outputs": [
        {
          "output_type": "execute_result",
          "data": {
            "text/plain": [
              "array([[-2.29657672, -1.55255604, -1.16487216],\n",
              "       [-1.1967077 , -1.06961356, -0.95543049],\n",
              "       [-0.10829564, -0.24593976, -0.35720728],\n",
              "       [-0.81862772, -0.82248284, -0.8022618 ],\n",
              "       [-0.68114409, -0.72232715, -0.73322359]])"
            ]
          },
          "metadata": {},
          "execution_count": 79
        }
      ]
    },
    {
      "cell_type": "code",
      "source": [
        "lin_reg = LinearRegression() # 모델 생성\n",
        "lin_reg.fit(X_tr_poly_sc, y_train) # 모델 훈련\n",
        "train_pred = lin_reg.predict(X_tr_poly_sc) # 예측\n",
        "print(train_pred)"
      ],
      "metadata": {
        "colab": {
          "base_uri": "https://localhost:8080/"
        },
        "id": "xcPrNmnk39de",
        "outputId": "c935c0ba-e329-4216-9dfe-d49cad7effcd"
      },
      "execution_count": null,
      "outputs": [
        {
          "output_type": "stream",
          "name": "stdout",
          "text": [
            "[  76.11208213  121.32671907   64.43503022   53.03736922  676.51776072\n",
            "  203.64006744  883.41268054  831.17507632 1039.71479927  121.32671907\n",
            "   82.25658755  121.32671907  173.27607317  290.93930643 1039.71479927\n",
            "  883.41268054  173.27607317  100.09367224  290.93930643  883.41268054\n",
            "  519.14231311  254.17726522  701.95141826   59.18009181  138.11611752\n",
            "   50.17607368  727.55145991  626.2376762   338.00950138  159.158376\n",
            "  831.17507632  100.09367224  145.77957155  121.32671907 1091.09141922\n",
            "  133.16167938   67.9916215   727.55145991  121.32671907  223.16157937\n",
            "  987.85869851  601.43528834]\n"
          ]
        }
      ]
    },
    {
      "cell_type": "code",
      "source": [
        "lin_reg.score(X_tr_poly_sc, y_train)    # 훈련 셋 결과 평가"
      ],
      "metadata": {
        "colab": {
          "base_uri": "https://localhost:8080/"
        },
        "id": "SLazXIv04b27",
        "outputId": "fc2a9c24-7af1-41b0-d1b2-01b65398a1e8"
      },
      "execution_count": null,
      "outputs": [
        {
          "output_type": "execute_result",
          "data": {
            "text/plain": [
              "0.9729178478354534"
            ]
          },
          "metadata": {},
          "execution_count": 81
        }
      ]
    },
    {
      "cell_type": "code",
      "source": [
        "lin_reg.score(X_te_poly_sc, y_test) # 테스트 셋 결과 평가"
      ],
      "metadata": {
        "colab": {
          "base_uri": "https://localhost:8080/"
        },
        "id": "eBY5Swe04qzi",
        "outputId": "d60a41d4-eef6-4571-a74a-327aa7903f3f"
      },
      "execution_count": null,
      "outputs": [
        {
          "output_type": "execute_result",
          "data": {
            "text/plain": [
              "0.9588363727422972"
            ]
          },
          "metadata": {},
          "execution_count": 82
        }
      ]
    },
    {
      "cell_type": "markdown",
      "source": [
        "# 다항 회귀에서 과대적합(overfitting)\n",
        "\n",
        "100차항을 포함하는 선형 회귀\n",
        "\n",
        "$$\n",
        "\\hat{y} = w_0 + w_1 * \\times x + w_2 \\times x^2 + ... + w_{100} \\times x^{100}\n",
        "        = w_0 + X \\cdot w\n",
        "$$\n"
      ],
      "metadata": {
        "id": "qgaeNTKchiRU"
      }
    },
    {
      "cell_type": "code",
      "source": [
        "# Pipeline으로 연결할 변환기(Transfomer), 예측기(Estimator) 객체들을 생성\n",
        "poly = PolynomialFeatures(degree=60, include_bias=False) # 다차항 추가 변환기\n",
        "scaler = StandardScaler() # 표준화 변환기\n",
        "reg = LinearRegression() # 선형 회귀 알고리즘(모델) 예측기"
      ],
      "metadata": {
        "id": "TrrRMkLziSA6"
      },
      "execution_count": 89,
      "outputs": []
    },
    {
      "cell_type": "code",
      "source": [
        "# 변환기와 예측기를 순서대로 연결하는 Pipeline 객체 생성\n",
        "model = Pipeline(steps=[('poly_feature', poly), \n",
        "                        ('std_sclaer', scaler), \n",
        "                        ('lin_reg', reg)])"
      ],
      "metadata": {
        "id": "dr9Ef5O6jsAd"
      },
      "execution_count": 90,
      "outputs": []
    },
    {
      "cell_type": "code",
      "source": [
        "# 머신 러닝 모델을 훈련\n",
        "model.fit(X_train, y_train)\n",
        "#> X_train: (42, 1) shape의 2차원 배열. 훈련 셋 42마리의 농어의 길이를 가지고 있는 특성 배열.\n",
        "#> (1) poly_feature의 fit_transform()을 호출 -> 길이의 100차항까지 가지는 2차원 배열 변환.(42, 60) 2차원 배열.\n",
        "#> (2) std_scaler의 fit_transform()을 호출 -> 모든 특성들(1~60차항)에 대해서 스케일링. (42, 60) 2차원 배열.\n",
        "#> (3) lin_reg의 fit()을 호출 -> 선형 회귀식을 찾음. intercept_, coef_을 찾음."
      ],
      "metadata": {
        "colab": {
          "base_uri": "https://localhost:8080/"
        },
        "id": "suOIIBAfk_Jk",
        "outputId": "4732cd68-4c75-4d75-adc2-b31809c90e1e"
      },
      "execution_count": 91,
      "outputs": [
        {
          "output_type": "execute_result",
          "data": {
            "text/plain": [
              "Pipeline(steps=[('poly_feature',\n",
              "                 PolynomialFeatures(degree=60, include_bias=False)),\n",
              "                ('std_sclaer', StandardScaler()),\n",
              "                ('lin_reg', LinearRegression())])"
            ]
          },
          "metadata": {},
          "execution_count": 91
        }
      ]
    },
    {
      "cell_type": "code",
      "source": [
        "model.named_steps['lin_reg'].intercept_"
      ],
      "metadata": {
        "colab": {
          "base_uri": "https://localhost:8080/"
        },
        "id": "L-g6zeSuvbL2",
        "outputId": "f7a408c0-e7f1-4083-f9bd-a49f93a484f0"
      },
      "execution_count": 94,
      "outputs": [
        {
          "output_type": "execute_result",
          "data": {
            "text/plain": [
              "400.8389383918388"
            ]
          },
          "metadata": {},
          "execution_count": 94
        }
      ]
    },
    {
      "cell_type": "code",
      "source": [
        "model.named_steps['lin_reg'].coef_"
      ],
      "metadata": {
        "colab": {
          "base_uri": "https://localhost:8080/"
        },
        "id": "Ljg6uGvHwAuM",
        "outputId": "675814cc-174f-4c33-c9dd-bee4a55b4c80"
      },
      "execution_count": 95,
      "outputs": [
        {
          "output_type": "execute_result",
          "data": {
            "text/plain": [
              "array([-1.65781947e+11,  2.47304146e+12, -1.69664350e+13,  6.84437750e+13,\n",
              "       -1.71783603e+14,  2.53996839e+14, -1.53474006e+14, -1.15459548e+14,\n",
              "        1.86883849e+14,  8.69636077e+13, -1.65843483e+14, -1.38023452e+14,\n",
              "        1.05209256e+14,  1.81014042e+14,  4.83614562e+13, -1.58084449e+14,\n",
              "       -1.85172772e+14,  1.98220033e+12,  1.30844751e+14,  1.81462119e+14,\n",
              "        6.63047026e+13, -7.18393173e+13, -1.89663857e+14, -1.54059836e+14,\n",
              "       -3.12335207e+13,  1.14772798e+14,  1.96793583e+14,  1.42712660e+14,\n",
              "        5.19049009e+13, -8.78325479e+13, -1.78140934e+14, -1.89408443e+14,\n",
              "       -1.04448121e+14,  1.64809285e+13,  1.38768086e+14,  2.01212189e+14,\n",
              "        1.65937726e+14,  8.67995149e+13, -2.93793059e+13, -1.40311382e+14,\n",
              "       -2.06750994e+14, -1.85554194e+14, -9.30499408e+13,  2.10107237e+13,\n",
              "        1.39244110e+14,  2.15074334e+14,  1.88646019e+14,  1.17511066e+14,\n",
              "       -1.85640092e+13, -1.45640520e+14, -2.22999015e+14, -2.06909877e+14,\n",
              "       -9.34200197e+13,  7.26307412e+13,  2.35773088e+14,  2.37448695e+14,\n",
              "        1.10736198e+14, -1.90642361e+14, -3.56352513e+14,  2.33777241e+14])"
            ]
          },
          "metadata": {},
          "execution_count": 95
        }
      ]
    },
    {
      "cell_type": "code",
      "source": [
        "train_pred = model.predict(X_train) # 훈련된 모델로 훈련 셋 예측값 계산.\n",
        "#> (1) poly_features의 transform() 호출 -> (42, 60) 변환\n",
        "#> (2) std_scaler의 transform() 호출 -> 60개 특성들을 모두 스케일링.\n",
        "#> (3) lin_reg의 predict() 호출 -> 예측값 계산\n",
        "print(train_pred)"
      ],
      "metadata": {
        "colab": {
          "base_uri": "https://localhost:8080/"
        },
        "id": "rRmb7j6goQKc",
        "outputId": "e423c7a5-afb3-4797-cd33-81e358c0e10c"
      },
      "execution_count": 96,
      "outputs": [
        {
          "output_type": "stream",
          "name": "stdout",
          "text": [
            "[  82.83893839  125.21393839   78.99518839   69.80768839  700.12800089\n",
            "  186.65143839  921.77643839  735.21393839 1050.46393839  125.21393839\n",
            "   89.80768839  125.21393839  183.08893839  261.99518839 1050.46393839\n",
            "  921.77643839  183.08893839  109.33893839  261.99518839  921.77643839\n",
            "  514.06550089  221.02643839  685.08893839   31.87018839  144.08893839\n",
            "   39.87018839  695.08893839  840.03425089  300.08893839  171.21393839\n",
            "  735.21393839  109.33893839  154.49518839  125.21393839 1000.58893839\n",
            "  137.77643839   78.65143839  695.08893839  125.21393839  189.90143839\n",
            " 1100.46393839  555.99518839]\n"
          ]
        }
      ]
    },
    {
      "cell_type": "code",
      "source": [
        "r2_score(y_train, train_pred) # 훈련 셋의 R^2 score"
      ],
      "metadata": {
        "colab": {
          "base_uri": "https://localhost:8080/"
        },
        "id": "chU4A1ULoTWt",
        "outputId": "eba00db4-0fe2-46e9-c101-ace14674f197"
      },
      "execution_count": 97,
      "outputs": [
        {
          "output_type": "execute_result",
          "data": {
            "text/plain": [
              "0.9927102007101539"
            ]
          },
          "metadata": {},
          "execution_count": 97
        }
      ]
    },
    {
      "cell_type": "code",
      "source": [
        "# 테스트 셋의 예측값\n",
        "test_pred = model.predict(X_test)\n",
        "print(test_pred)"
      ],
      "metadata": {
        "colab": {
          "base_uri": "https://localhost:8080/"
        },
        "id": "wtx2GZV2yEj0",
        "outputId": "9d83f4ee-27c0-4903-b2bb-3524bea320f9"
      },
      "execution_count": 99,
      "outputs": [
        {
          "output_type": "stream",
          "name": "stdout",
          "text": [
            "[ 4.98439169e+07  7.80889384e+01  2.61995188e+02  1.13682688e+02\n",
            "  1.37776438e+02  9.21776438e+02  7.21510813e+02  1.87370188e+02\n",
            "  7.35213938e+02  1.09338938e+02 -2.69736412e+07  1.30995188e+02\n",
            "  2.69526438e+02  2.56651438e+02]\n"
          ]
        }
      ]
    },
    {
      "cell_type": "code",
      "source": [
        "y_test # 테스트 셋의 실젯값"
      ],
      "metadata": {
        "colab": {
          "base_uri": "https://localhost:8080/"
        },
        "id": "47aC5yBOyrj9",
        "outputId": "0cb701ca-17cb-4f2f-a947-f8604e976784"
      },
      "execution_count": 100,
      "outputs": [
        {
          "output_type": "execute_result",
          "data": {
            "text/plain": [
              "array([   5.9,  100. ,  250. ,  130. ,  130. ,  820. ,  320. ,  188. ,\n",
              "        900. ,  125. , 1000. ,   51.5,  250. ,  300. ])"
            ]
          },
          "metadata": {},
          "execution_count": 100
        }
      ]
    },
    {
      "cell_type": "code",
      "source": [
        "r2_score(y_test, test_pred)"
      ],
      "metadata": {
        "colab": {
          "base_uri": "https://localhost:8080/"
        },
        "id": "5xU0xUiJzC7g",
        "outputId": "69d1fbc4-dcb4-4458-9c58-8cb0b22aa58a"
      },
      "execution_count": 101,
      "outputs": [
        {
          "output_type": "execute_result",
          "data": {
            "text/plain": [
              "-2285802301.920006"
            ]
          },
          "metadata": {},
          "execution_count": 101
        }
      ]
    },
    {
      "cell_type": "code",
      "source": [
        "# 훈련 셋, 테스트 셋, 다항 선형 회귀 곡선 시각화\n",
        "plt.scatter(X_train, y_train, alpha=0.5, label='train')\n",
        "plt.scatter(X_test, y_test, alpha=0.5, label='test')\n",
        "\n",
        "#60차 항을 포함하는 선형 회귀 곡선\n",
        "x = np.arange(5, 45, 0.001).reshape((-1, 1)) # (n_samples, 1) shape의 2차원 배열\n",
        "y = model.predict(x)\n",
        "plt.plot(x, y, 'r-', label='regression')\n",
        "\n",
        "\n",
        "plt.ylim((-200, 1600))\n",
        "plt.legend()\n",
        "plt.grid()\n",
        "plt.xlabel('Length(cm)')\n",
        "plt.ylabel('Weight(g)')\n",
        "plt.show()"
      ],
      "metadata": {
        "colab": {
          "base_uri": "https://localhost:8080/",
          "height": 283
        },
        "id": "dXJteJh_ziLJ",
        "outputId": "231e237a-0615-438c-eda9-34af75dc03d3"
      },
      "execution_count": 109,
      "outputs": [
        {
          "output_type": "display_data",
          "data": {
            "text/plain": [
              "<Figure size 432x288 with 1 Axes>"
            ],
            "image/png": "[encoded data removed]"
          },
          "metadata": {
            "needs_background": "light"
          }
        }
      ]
    }
  ]
}