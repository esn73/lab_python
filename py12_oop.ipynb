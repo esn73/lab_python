{
  "nbformat": 4,
  "nbformat_minor": 0,
  "metadata": {
    "colab": {
      "name": "py12_oop.ipynb",
      "provenance": [],
      "collapsed_sections": [],
      "authorship_tag": "ABX9TyMWte9VZ5QrsBd99KUZneK+",
      "include_colab_link": true
    },
    "kernelspec": {
      "name": "python3",
      "display_name": "Python 3"
    },
    "language_info": {
      "name": "python"
    }
  },
  "cells": [
    {
      "cell_type": "markdown",
      "metadata": {
        "id": "view-in-github",
        "colab_type": "text"
      },
      "source": [
        "<a href=\"https://colab.research.google.com/github/esn73/lab_python/blob/master/py12_oop.ipynb\" target=\"_parent\"><img src=\"https://colab.research.google.com/assets/colab-badge.svg\" alt=\"Open In Colab\"/></a>"
      ]
    },
    {
      "cell_type": "markdown",
      "source": [
        "#OOP(Object-Oriented Programming, 객체 지향 프로그래밍의 배경"
      ],
      "metadata": {
        "id": "vMC_L3x5fuL1"
      }
    },
    {
      "cell_type": "markdown",
      "source": [
        "## list, dict 사용"
      ],
      "metadata": {
        "id": "KnDHjLD5f-Wj"
      }
    },
    {
      "cell_type": "code",
      "execution_count": 3,
      "metadata": {
        "id": "d-AhMSDzfJr4"
      },
      "outputs": [],
      "source": [
        "studnents = [\n",
        "             {'name': 'aa', 'korean':90, 'english': 95, 'math': 80},\n",
        "             {'name': 'bb', 'korean':70, 'english': 80, 'math': 55},\n",
        "             {'name': 'cc', 'korean':80, 'english': 95, 'math': 90}\n",
        "]\n"
      ]
    },
    {
      "cell_type": "code",
      "source": [
        "# 각 학생의 3과목 총점과 평균\n",
        "for s in studnents:\n",
        "    total = s['korean'] + s['english'] + s['math']\n",
        "    mean = total / 3\n",
        "    print(f'이름: {s[\"name\"]}, 총점: {total}, 평균:{mean}')"
      ],
      "metadata": {
        "colab": {
          "base_uri": "https://localhost:8080/"
        },
        "id": "SUyDlovxhFy_",
        "outputId": "58cd2f5b-2dc2-4df0-9b86-e747017d137c"
      },
      "execution_count": 4,
      "outputs": [
        {
          "output_type": "stream",
          "name": "stdout",
          "text": [
            "이름: aa, 총점: 265, 평균:88.33333333333333\n",
            "이름: bb, 총점: 205, 평균:68.33333333333333\n",
            "이름: cc, 총점: 265, 평균:88.33333333333333\n"
          ]
        }
      ]
    },
    {
      "cell_type": "markdown",
      "source": [
        ""
      ],
      "metadata": {
        "id": "78A3r7lOj8Vy"
      }
    },
    {
      "cell_type": "markdown",
      "source": [
        "#함수형 프그래밍(Functional Programming)"
      ],
      "metadata": {
        "id": "5EZ1ygMZj2m9"
      }
    },
    {
      "cell_type": "code",
      "source": [
        "def create_student(name, korean, english, math):\n",
        "    student = {\n",
        "        'name': name,\n",
        "        'korean': korean,\n",
        "        'english': english,\n",
        "        'math': math\n",
        "    }\n",
        "    return student"
      ],
      "metadata": {
        "id": "EGHlE2gTj-ZZ"
      },
      "execution_count": 6,
      "outputs": []
    },
    {
      "cell_type": "code",
      "source": [
        "students = [\n",
        "            create_student(name='aa', korean=100, english=100, math=100),\n",
        "            create_student(name='bb', korean=90, english=100, math=100),\n",
        "            create_student(name='cc', korean=80, english=100, math=100),\n",
        "            create_student(name='dd', korean=77, english=100, math=100),\n",
        "]"
      ],
      "metadata": {
        "id": "-0AJX0ulknuM"
      },
      "execution_count": 7,
      "outputs": []
    },
    {
      "cell_type": "code",
      "source": [
        "def get_total(student):\n",
        "    return student['korean'] + student['english'] + student['math']"
      ],
      "metadata": {
        "id": "SX5g5V_7lW1g"
      },
      "execution_count": 11,
      "outputs": []
    },
    {
      "cell_type": "code",
      "source": [
        "def get_mean(student):\n",
        "    return get_total(student) / 3"
      ],
      "metadata": {
        "id": "KO76ef_6lv0E"
      },
      "execution_count": 12,
      "outputs": []
    },
    {
      "cell_type": "code",
      "source": [
        "for s in students:\n",
        "    total = get_total(s)\n",
        "    mean = get_mean(s)\n",
        "    print(f'이름: {\"name\"}, 총점: {total}, 평균:{mean}')"
      ],
      "metadata": {
        "colab": {
          "base_uri": "https://localhost:8080/"
        },
        "id": "vNXVdLrqlvm5",
        "outputId": "1f55c1bc-c0a4-4df8-fd3c-010d39b36e30"
      },
      "execution_count": 13,
      "outputs": [
        {
          "output_type": "stream",
          "name": "stdout",
          "text": [
            "이름: name, 총점: 300, 평균:100.0\n",
            "이름: name, 총점: 290, 평균:96.66666666666667\n",
            "이름: name, 총점: 280, 평균:93.33333333333333\n",
            "이름: name, 총점: 277, 평균:92.33333333333333\n"
          ]
        }
      ]
    },
    {
      "cell_type": "markdown",
      "source": [
        "## 객체 지향 프로그래밍(OOP)\n",
        "\n",
        "* 객체(object): 소프트웨어로 구현할 대상.\n",
        "* 클래스(class): 객체를 구현하기 위한 소스 코드.\n",
        "    * 속성(attribute, property): 객체가 가져야 하는 데이터. 변수들에 저장되는 값.\n",
        "    * 메서드(method): 객체가 가져야 하는 기능. 클래스 내부에서 정의하는 함수.\n",
        "* 인스턴스(instance): 클래스를 사용해서 메모리에 생성된 객체.\n",
        "* 인스턴스 생성(intantiate): 클래스의 객체를 메모리에 생성하는 것.\n",
        "* 생성자(constructor): 인스턴스를 생성하기 위해서 호출하는 함수. 클래스 이름과 동일한 함수"
      ],
      "metadata": {
        "id": "9vQMBgymnTF9"
      }
    },
    {
      "cell_type": "code",
      "source": [
        ""
      ],
      "metadata": {
        "id": "ZJWw5jwGmKYe"
      },
      "execution_count": null,
      "outputs": []
    }
  ]
}