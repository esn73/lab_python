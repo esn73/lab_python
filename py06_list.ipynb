{
  "nbformat": 4,
  "nbformat_minor": 0,
  "metadata": {
    "colab": {
      "name": "py06_list.ipynb",
      "provenance": [],
      "collapsed_sections": [],
      "toc_visible": true,
      "authorship_tag": "ABX9TyPcsJQ0VlFO8g3XrYdoyizf",
      "include_colab_link": true
    },
    "kernelspec": {
      "name": "python3",
      "display_name": "Python 3"
    },
    "language_info": {
      "name": "python"
    }
  },
  "cells": [
    {
      "cell_type": "markdown",
      "metadata": {
        "id": "view-in-github",
        "colab_type": "text"
      },
      "source": [
        "<a href=\"https://colab.research.google.com/github/esn73/lab_python/blob/master/py06_list.ipynb\" target=\"_parent\"><img src=\"https://colab.research.google.com/assets/colab-badge.svg\" alt=\"Open In Colab\"/></a>"
      ]
    },
    {
      "cell_type": "code",
      "execution_count": null,
      "metadata": {
        "id": "SeFGk8pBpJ6o"
      },
      "outputs": [],
      "source": [
        ""
      ]
    },
    {
      "cell_type": "markdown",
      "source": [
        "# List(리스트)"
      ],
      "metadata": {
        "id": "8TMinPHipXCv"
      }
    },
    {
      "cell_type": "markdown",
      "source": [
        "list: 여러개의 값들을 하나의 변수에 저장하기 위한 데이터 타입.\n",
        "\n",
        "* element(원소, 요소): 리스트에 저장되는 각각의 값.\n",
        "* index(인덱스): 리스트에 원소들이 저장된 위치(번호).\n",
        "    * 리스트의 인덱스는 **0**부터 시작.\n",
        "    * 리스트에서 마지막 원소의 인덱스는 **(원소의 개수 - 1)**\n",
        "* 리스트는 원소들을 추가/삭제/변경할 수 있음.\n",
        "    * tuple과 다른 점!\n"
      ],
      "metadata": {
        "id": "4D4NtMi6pgJE"
      }
    },
    {
      "cell_type": "code",
      "source": [
        "# 숫자들을 저장하는 리스트\n",
        "numbers = [1, 20, 3, 40, 7]"
      ],
      "metadata": {
        "id": "oZh4GedDqyNA"
      },
      "execution_count": null,
      "outputs": []
    },
    {
      "cell_type": "code",
      "source": [
        "print(numbers)"
      ],
      "metadata": {
        "colab": {
          "base_uri": "https://localhost:8080/"
        },
        "id": "AZzugyD5rG7G",
        "outputId": "91a98086-f753-45f0-a98a-878beeca1024"
      },
      "execution_count": null,
      "outputs": [
        {
          "output_type": "stream",
          "name": "stdout",
          "text": [
            "[1, 20, 3, 40, 7]\n"
          ]
        }
      ]
    },
    {
      "cell_type": "code",
      "source": [
        "numbers "
      ],
      "metadata": {
        "colab": {
          "base_uri": "https://localhost:8080/"
        },
        "id": "172H7q-arIq9",
        "outputId": "54607ee3-4ddf-4e31-b4e6-8e12c4bc5f77"
      },
      "execution_count": null,
      "outputs": [
        {
          "output_type": "execute_result",
          "data": {
            "text/plain": [
              "[1, 20, 3, 40, 7]"
            ]
          },
          "metadata": {},
          "execution_count": 3
        }
      ]
    },
    {
      "cell_type": "markdown",
      "source": [
        "ipynb의 코드 셀에서 가장 마자막 줄의 문장이 식(expression: 변수, 값, 등)이면 식을 평가한 결과를 자동으로 출력해줌"
      ],
      "metadata": {
        "id": "FTKC644TrpJU"
      }
    },
    {
      "cell_type": "code",
      "source": [
        "type(numbers)"
      ],
      "metadata": {
        "colab": {
          "base_uri": "https://localhost:8080/"
        },
        "id": "bEIaGyYbrVKR",
        "outputId": "bb98b74d-75df-4fbf-e87d-1ad0e5a9309b"
      },
      "execution_count": null,
      "outputs": [
        {
          "output_type": "execute_result",
          "data": {
            "text/plain": [
              "list"
            ]
          },
          "metadata": {},
          "execution_count": 4
        }
      ]
    },
    {
      "cell_type": "markdown",
      "source": [
        "# Indexing\n",
        "인덱스를 사용해서 리스트의 원소를 사용하는 방법."
      ],
      "metadata": {
        "id": "SXLxB50gsE2V"
      }
    },
    {
      "cell_type": "code",
      "source": [
        "numbers[0] # list의 첫번째 원소"
      ],
      "metadata": {
        "colab": {
          "base_uri": "https://localhost:8080/"
        },
        "id": "jnChLCQqr2FQ",
        "outputId": "4a103603-1443-4d11-fd83-ed2017af34b7"
      },
      "execution_count": null,
      "outputs": [
        {
          "output_type": "execute_result",
          "data": {
            "text/plain": [
              "1"
            ]
          },
          "metadata": {},
          "execution_count": 5
        }
      ]
    },
    {
      "cell_type": "code",
      "source": [
        "numbers[4] # list의 마지막 원소"
      ],
      "metadata": {
        "colab": {
          "base_uri": "https://localhost:8080/"
        },
        "id": "E0mxm5I1sqNa",
        "outputId": "9bad6b92-13e1-473e-cb3c-33e793ba840c"
      },
      "execution_count": null,
      "outputs": [
        {
          "output_type": "execute_result",
          "data": {
            "text/plain": [
              "7"
            ]
          },
          "metadata": {},
          "execution_count": 6
        }
      ]
    },
    {
      "cell_type": "code",
      "source": [
        "numbers[-1]"
      ],
      "metadata": {
        "colab": {
          "base_uri": "https://localhost:8080/"
        },
        "id": "CAKNsD1Ks9kb",
        "outputId": "f5eafddc-e5c8-4a68-f613-7f4327e3b893"
      },
      "execution_count": null,
      "outputs": [
        {
          "output_type": "execute_result",
          "data": {
            "text/plain": [
              "7"
            ]
          },
          "metadata": {},
          "execution_count": 7
        }
      ]
    },
    {
      "cell_type": "code",
      "source": [
        "numbers[-2] #list에서 끝에서 두번째 원소"
      ],
      "metadata": {
        "colab": {
          "base_uri": "https://localhost:8080/"
        },
        "id": "u4528PZbtaNM",
        "outputId": "2d493f21-06b9-445d-dd30-1c968fbd7506"
      },
      "execution_count": null,
      "outputs": [
        {
          "output_type": "execute_result",
          "data": {
            "text/plain": [
              "40"
            ]
          },
          "metadata": {},
          "execution_count": 8
        }
      ]
    },
    {
      "cell_type": "code",
      "source": [
        "# numbers[5] #> IndexError"
      ],
      "metadata": {
        "id": "WH7KkLOAto24"
      },
      "execution_count": null,
      "outputs": []
    },
    {
      "cell_type": "markdown",
      "source": [
        "# Slicing"
      ],
      "metadata": {
        "id": "9A35aZ1AuNH6"
      }
    },
    {
      "cell_type": "code",
      "source": [
        "numbers[1:4]"
      ],
      "metadata": {
        "colab": {
          "base_uri": "https://localhost:8080/"
        },
        "id": "QdJYbTYVucY0",
        "outputId": "5a0e0ec6-8826-4962-da34-e4f799a91611"
      },
      "execution_count": null,
      "outputs": [
        {
          "output_type": "execute_result",
          "data": {
            "text/plain": [
              "[20, 3, 40]"
            ]
          },
          "metadata": {},
          "execution_count": 9
        }
      ]
    },
    {
      "cell_type": "markdown",
      "source": [
        "```\n",
        "list[start:end]\n",
        "\n",
        "* start <= index < end 범위의 인덱스 위치의 원소들을 선택.\n",
        "* start가 생략되면 리스트의 첫번째 원소부터 선택. (0 <= index < end 범위의 원소들을 선택.)\n",
        "* end가 생략되면 리스트의 마지막 원소까지 선택(start <= index < 마지막)\n",
        "* slicing의 결과는 새로운 list."
      ],
      "metadata": {
        "id": "52H9fOZOvNbP"
      }
    },
    {
      "cell_type": "code",
      "source": [
        "numbers[:3] # 리스트에서 첫번째 원소부터 순서대로 3개를 선택"
      ],
      "metadata": {
        "colab": {
          "base_uri": "https://localhost:8080/"
        },
        "id": "Xifrnw-dv6lZ",
        "outputId": "72b1ae29-b3eb-4ea9-abad-f5feb233308d"
      },
      "execution_count": null,
      "outputs": [
        {
          "output_type": "execute_result",
          "data": {
            "text/plain": [
              "[1, 20, 3]"
            ]
          },
          "metadata": {},
          "execution_count": 10
        }
      ]
    },
    {
      "cell_type": "code",
      "source": [
        "numbers[2:] # 리스트에서 끝에서 3개의 원소를 선택"
      ],
      "metadata": {
        "colab": {
          "base_uri": "https://localhost:8080/"
        },
        "id": "JXmGN90JwRZd",
        "outputId": "b262286e-f4d8-49f9-fce9-8915c3fd3b4f"
      },
      "execution_count": null,
      "outputs": [
        {
          "output_type": "execute_result",
          "data": {
            "text/plain": [
              "[3, 40, 7]"
            ]
          },
          "metadata": {},
          "execution_count": 11
        }
      ]
    },
    {
      "cell_type": "code",
      "source": [
        "numbers[-3:]"
      ],
      "metadata": {
        "colab": {
          "base_uri": "https://localhost:8080/"
        },
        "id": "aLxCBixPwtmV",
        "outputId": "fd42301c-725c-4e88-9c6f-21e1521c67ab"
      },
      "execution_count": null,
      "outputs": [
        {
          "output_type": "execute_result",
          "data": {
            "text/plain": [
              "[3, 40, 7]"
            ]
          },
          "metadata": {},
          "execution_count": 12
        }
      ]
    },
    {
      "cell_type": "code",
      "source": [
        "numbers[0] #> indexing의 결과: 값(int)"
      ],
      "metadata": {
        "colab": {
          "base_uri": "https://localhost:8080/"
        },
        "id": "xMaOtvrvxikr",
        "outputId": "15a496fc-d4ea-4239-accd-98a9919495a2"
      },
      "execution_count": null,
      "outputs": [
        {
          "output_type": "execute_result",
          "data": {
            "text/plain": [
              "1"
            ]
          },
          "metadata": {},
          "execution_count": 13
        }
      ]
    },
    {
      "cell_type": "code",
      "source": [
        "numbers[0:1] #> slicing의 결과: 원소가 1개인 list"
      ],
      "metadata": {
        "colab": {
          "base_uri": "https://localhost:8080/"
        },
        "id": "iukAakX_yTdv",
        "outputId": "be54b36f-8503-4897-e23c-cec0dead34ed"
      },
      "execution_count": null,
      "outputs": [
        {
          "output_type": "execute_result",
          "data": {
            "text/plain": [
              "[1]"
            ]
          },
          "metadata": {},
          "execution_count": 14
        }
      ]
    },
    {
      "cell_type": "markdown",
      "source": [
        "# 문자열(str)\n",
        "\n",
        "문자들의 리스트\n",
        "\n",
        "* 문자열 객체도 리스트 객체처럼 indexing과 slicing을 사용할 수 있다."
      ],
      "metadata": {
        "id": "039x80Wd2NX-"
      }
    },
    {
      "cell_type": "code",
      "source": [
        "message = 'Hello, Python!' #14개의 문자들을 원소로 갖는 문자열"
      ],
      "metadata": {
        "id": "NXeF8MG5ycDD"
      },
      "execution_count": null,
      "outputs": []
    },
    {
      "cell_type": "code",
      "source": [
        "message[0] # 문자열에서 첫번째 문자"
      ],
      "metadata": {
        "colab": {
          "base_uri": "https://localhost:8080/",
          "height": 35
        },
        "id": "RTnMsW1S2iYV",
        "outputId": "002d5a75-2d2d-4481-b067-63847526a004"
      },
      "execution_count": null,
      "outputs": [
        {
          "output_type": "execute_result",
          "data": {
            "application/vnd.google.colaboratory.intrinsic+json": {
              "type": "string"
            },
            "text/plain": [
              "'H'"
            ]
          },
          "metadata": {},
          "execution_count": 16
        }
      ]
    },
    {
      "cell_type": "code",
      "source": [
        "message[13] # 문자열에서 가장 마지막 문자"
      ],
      "metadata": {
        "colab": {
          "base_uri": "https://localhost:8080/",
          "height": 35
        },
        "id": "1nKeg7Ki2m4a",
        "outputId": "7cfffeae-ce28-4dca-ccfe-b212f415321f"
      },
      "execution_count": null,
      "outputs": [
        {
          "output_type": "execute_result",
          "data": {
            "application/vnd.google.colaboratory.intrinsic+json": {
              "type": "string"
            },
            "text/plain": [
              "'!'"
            ]
          },
          "metadata": {},
          "execution_count": 17
        }
      ]
    },
    {
      "cell_type": "code",
      "source": [
        "message[-1]"
      ],
      "metadata": {
        "colab": {
          "base_uri": "https://localhost:8080/",
          "height": 35
        },
        "id": "St9TwyN42wZR",
        "outputId": "6ee8ade5-8984-4b62-84c1-73654d565001"
      },
      "execution_count": null,
      "outputs": [
        {
          "output_type": "execute_result",
          "data": {
            "application/vnd.google.colaboratory.intrinsic+json": {
              "type": "string"
            },
            "text/plain": [
              "'!'"
            ]
          },
          "metadata": {},
          "execution_count": 18
        }
      ]
    },
    {
      "cell_type": "code",
      "source": [
        "message[:3] # 문자열에서 첫 3글자"
      ],
      "metadata": {
        "colab": {
          "base_uri": "https://localhost:8080/",
          "height": 35
        },
        "id": "Cc2gsg9n2_rC",
        "outputId": "b135ec94-6602-4672-a062-27b5e0d5ec73"
      },
      "execution_count": null,
      "outputs": [
        {
          "output_type": "execute_result",
          "data": {
            "application/vnd.google.colaboratory.intrinsic+json": {
              "type": "string"
            },
            "text/plain": [
              "'Hel'"
            ]
          },
          "metadata": {},
          "execution_count": 19
        }
      ]
    },
    {
      "cell_type": "code",
      "source": [
        "message[-3:] # 문자열에서 마지막 3글자"
      ],
      "metadata": {
        "colab": {
          "base_uri": "https://localhost:8080/",
          "height": 35
        },
        "id": "CjPc_gL33IMr",
        "outputId": "7fe8aa63-de4f-40ef-fe63-e870fde5e8f0"
      },
      "execution_count": null,
      "outputs": [
        {
          "output_type": "execute_result",
          "data": {
            "application/vnd.google.colaboratory.intrinsic+json": {
              "type": "string"
            },
            "text/plain": [
              "'on!'"
            ]
          },
          "metadata": {},
          "execution_count": 20
        }
      ]
    },
    {
      "cell_type": "markdown",
      "source": [
        "# list의 산술 연산\n",
        "\n",
        "* `+`: concatenate. 두 개의 리스트를 하나의 리스트로 합침.\n",
        "* `*`: replicate. 리스트의 원소들을 곱해주는 숫자만큼 복사해서 원소의 개수를 늘림."
      ],
      "metadata": {
        "id": "hlkuErT14Aw4"
      }
    },
    {
      "cell_type": "code",
      "source": [
        "' Hello' + 'Python'\n"
      ],
      "metadata": {
        "colab": {
          "base_uri": "https://localhost:8080/",
          "height": 35
        },
        "id": "_JGTsLkI3QNq",
        "outputId": "2bfc25e4-a5e1-442c-8fd0-3b1028635a8b"
      },
      "execution_count": null,
      "outputs": [
        {
          "output_type": "execute_result",
          "data": {
            "application/vnd.google.colaboratory.intrinsic+json": {
              "type": "string"
            },
            "text/plain": [
              "' HelloPython'"
            ]
          },
          "metadata": {},
          "execution_count": 22
        }
      ]
    },
    {
      "cell_type": "code",
      "source": [
        "[1, 2, 3] + [10, 20, 30]"
      ],
      "metadata": {
        "colab": {
          "base_uri": "https://localhost:8080/"
        },
        "id": "DZfwQ1Lo3-p0",
        "outputId": "3590e971-2087-4bab-f264-d50799705b27"
      },
      "execution_count": null,
      "outputs": [
        {
          "output_type": "execute_result",
          "data": {
            "text/plain": [
              "[1, 2, 3, 10, 20, 30]"
            ]
          },
          "metadata": {},
          "execution_count": 23
        }
      ]
    },
    {
      "cell_type": "code",
      "source": [
        "'Hello' * 3"
      ],
      "metadata": {
        "colab": {
          "base_uri": "https://localhost:8080/",
          "height": 35
        },
        "id": "VGpuMPam4UQW",
        "outputId": "e2d9fb4e-0640-420d-be6b-cc50d28d9a85"
      },
      "execution_count": null,
      "outputs": [
        {
          "output_type": "execute_result",
          "data": {
            "application/vnd.google.colaboratory.intrinsic+json": {
              "type": "string"
            },
            "text/plain": [
              "'HelloHelloHello'"
            ]
          },
          "metadata": {},
          "execution_count": 24
        }
      ]
    },
    {
      "cell_type": "code",
      "source": [
        "[1, 2, 3] * 3"
      ],
      "metadata": {
        "colab": {
          "base_uri": "https://localhost:8080/"
        },
        "id": "I98Eqcz94WP5",
        "outputId": "3a8a6f77-a301-4c78-b1ec-e018538e0589"
      },
      "execution_count": null,
      "outputs": [
        {
          "output_type": "execute_result",
          "data": {
            "text/plain": [
              "[1, 2, 3, 1, 2, 3, 1, 2, 3]"
            ]
          },
          "metadata": {},
          "execution_count": 25
        }
      ]
    },
    {
      "cell_type": "markdown",
      "source": [
        "## element 추가"
      ],
      "metadata": {
        "id": "gwv9RllE44hf"
      }
    },
    {
      "cell_type": "code",
      "source": [
        "numbers"
      ],
      "metadata": {
        "colab": {
          "base_uri": "https://localhost:8080/"
        },
        "id": "UNlGXMku494n",
        "outputId": "f45f9990-852d-4a74-f6eb-29434d55a103"
      },
      "execution_count": null,
      "outputs": [
        {
          "output_type": "execute_result",
          "data": {
            "text/plain": [
              "[1, 20, 3, 40, 7]"
            ]
          },
          "metadata": {},
          "execution_count": 26
        }
      ]
    },
    {
      "cell_type": "markdown",
      "source": [
        "`list.append(arg)`\n",
        "\n",
        "리스트의 가장 마지막에 새로운 원소(arg)를 추가"
      ],
      "metadata": {
        "id": "9_3RMDW75JgT"
      }
    },
    {
      "cell_type": "code",
      "source": [
        "numbers.append(100)"
      ],
      "metadata": {
        "id": "MDLutoN94YnS"
      },
      "execution_count": null,
      "outputs": []
    },
    {
      "cell_type": "code",
      "source": [
        "numbers"
      ],
      "metadata": {
        "colab": {
          "base_uri": "https://localhost:8080/"
        },
        "id": "Wg8Mf3K65tN2",
        "outputId": "444967e9-97d6-47e8-c1b0-12e1daedc935"
      },
      "execution_count": null,
      "outputs": [
        {
          "output_type": "execute_result",
          "data": {
            "text/plain": [
              "[1, 20, 3, 40, 7, 100]"
            ]
          },
          "metadata": {},
          "execution_count": 32
        }
      ]
    },
    {
      "cell_type": "markdown",
      "source": [
        "list.insert(index, value)\n",
        "list의 index 위치에 value를 추가(삽입)"
      ],
      "metadata": {
        "id": "ZnqdCPyH50Tr"
      }
    },
    {
      "cell_type": "code",
      "source": [
        "numbers.insert(1, 100)"
      ],
      "metadata": {
        "id": "uDey1vA-56ph"
      },
      "execution_count": null,
      "outputs": []
    },
    {
      "cell_type": "code",
      "source": [
        "numbers"
      ],
      "metadata": {
        "colab": {
          "base_uri": "https://localhost:8080/"
        },
        "id": "5yyS3_Qb5lZ0",
        "outputId": "7387a2bc-8a67-4067-daec-ef7b925dd840"
      },
      "execution_count": null,
      "outputs": [
        {
          "output_type": "execute_result",
          "data": {
            "text/plain": [
              "[1, 100, 20, 3, 40, 7, 100]"
            ]
          },
          "metadata": {},
          "execution_count": 34
        }
      ]
    },
    {
      "cell_type": "markdown",
      "source": [
        "`list.extend(iterable)`\n",
        "\n",
        "리스트 이어 붙이기(concatenate). `+` 연산과 동일한 기능."
      ],
      "metadata": {
        "id": "tSZuwTvo6fVd"
      }
    },
    {
      "cell_type": "code",
      "source": [
        "numbers.extend([2, 4, 6]) #numbers + [2, 4, 6]"
      ],
      "metadata": {
        "id": "HADl5TqR6JJL"
      },
      "execution_count": null,
      "outputs": []
    },
    {
      "cell_type": "code",
      "source": [
        "numbers"
      ],
      "metadata": {
        "colab": {
          "base_uri": "https://localhost:8080/"
        },
        "id": "tFES_rRQ6-Ab",
        "outputId": "ca880d8f-afec-47b3-af33-4dbab01376e6"
      },
      "execution_count": null,
      "outputs": [
        {
          "output_type": "execute_result",
          "data": {
            "text/plain": [
              "[1, 100, 20, 3, 40, 7, 100, 2, 4, 6]"
            ]
          },
          "metadata": {},
          "execution_count": 36
        }
      ]
    },
    {
      "cell_type": "code",
      "source": [
        "# 주의!!!\n",
        "numbers.append([1, 3, 5]) #> 리스트의 가장 마지막에 다른 리스트가 원소로 추가."
      ],
      "metadata": {
        "id": "7RziZKdv6-lh"
      },
      "execution_count": null,
      "outputs": []
    },
    {
      "cell_type": "code",
      "source": [
        "numbers"
      ],
      "metadata": {
        "colab": {
          "base_uri": "https://localhost:8080/"
        },
        "id": "6iIsertP7dnB",
        "outputId": "a4acb864-f769-4f0d-e9d6-e1e1d03ac63a"
      },
      "execution_count": null,
      "outputs": [
        {
          "output_type": "execute_result",
          "data": {
            "text/plain": [
              "[1, 100, 20, 3, 40, 7, 100, 2, 4, 6, [1, 3, 5], [1, 3, 5], [1, 3, 5]]"
            ]
          },
          "metadata": {},
          "execution_count": 43
        }
      ]
    },
    {
      "cell_type": "markdown",
      "source": [
        "#element삭제"
      ],
      "metadata": {
        "id": "Kr-sW2DlNH77"
      }
    },
    {
      "cell_type": "markdown",
      "source": [
        "  `\n",
        "  list에서 처음 등장하는 value 한개를 삭제."
      ],
      "metadata": {
        "id": "x6cJG-2vNMV_"
      }
    },
    {
      "cell_type": "code",
      "source": [
        "numbers.remove(100)"
      ],
      "metadata": {
        "id": "27bVwqzi7jRS"
      },
      "execution_count": null,
      "outputs": []
    },
    {
      "cell_type": "code",
      "source": [
        "numbers"
      ],
      "metadata": {
        "colab": {
          "base_uri": "https://localhost:8080/"
        },
        "id": "aDwg27kONk_V",
        "outputId": "eed98d4e-7e12-47e1-87c7-f08eb4f1cc4d"
      },
      "execution_count": null,
      "outputs": [
        {
          "output_type": "execute_result",
          "data": {
            "text/plain": [
              "[1, 20, 3, 40, 7, 100, 2, 4, 6, [1, 3, 5], [1, 3, 5], [1, 3, 5]]"
            ]
          },
          "metadata": {},
          "execution_count": 45
        }
      ]
    },
    {
      "cell_type": "markdown",
      "source": [
        "`list.pop(index)`\n",
        "\n",
        "list에서 index 위치에 있는 값을 삭제하고, 삭제한 값을 리턴. index를 전달하지 않으면, list에서 *가장 마지막 원소*를 삭제"
      ],
      "metadata": {
        "id": "0z8iWoQkNx8A"
      }
    },
    {
      "cell_type": "code",
      "source": [
        "numbers.pop(0)"
      ],
      "metadata": {
        "colab": {
          "base_uri": "https://localhost:8080/"
        },
        "id": "nSy1SwWtNlxV",
        "outputId": "64b915f8-f622-4bf4-ccf9-fc0fff398e87"
      },
      "execution_count": null,
      "outputs": [
        {
          "output_type": "execute_result",
          "data": {
            "text/plain": [
              "1"
            ]
          },
          "metadata": {},
          "execution_count": 46
        }
      ]
    },
    {
      "cell_type": "code",
      "source": [
        "numbers"
      ],
      "metadata": {
        "colab": {
          "base_uri": "https://localhost:8080/"
        },
        "id": "W0fkXSoDOcNN",
        "outputId": "54f94ff9-8135-4839-9aa7-3ea8afe5f070"
      },
      "execution_count": null,
      "outputs": [
        {
          "output_type": "execute_result",
          "data": {
            "text/plain": [
              "[20, 3, 40, 7, 100, 2, 4, 6, [1, 3, 5], [1, 3, 5], [1, 3, 5]]"
            ]
          },
          "metadata": {},
          "execution_count": 47
        }
      ]
    },
    {
      "cell_type": "code",
      "source": [
        "numbers.pop()"
      ],
      "metadata": {
        "colab": {
          "base_uri": "https://localhost:8080/"
        },
        "id": "wLMS3NQ_OdJN",
        "outputId": "21eb6e59-79fc-4f8c-ed9c-66e7eb7b9e89"
      },
      "execution_count": null,
      "outputs": [
        {
          "output_type": "execute_result",
          "data": {
            "text/plain": [
              "[1, 3, 5]"
            ]
          },
          "metadata": {},
          "execution_count": 48
        }
      ]
    },
    {
      "cell_type": "markdown",
      "source": [
        "`list.clear()`\n",
        "\n",
        "list의 모든 원소들을 삭제."
      ],
      "metadata": {
        "id": "pIGgpWFHO9wX"
      }
    },
    {
      "cell_type": "code",
      "source": [
        "numbers.clear()"
      ],
      "metadata": {
        "id": "amXTSH7rOjo1"
      },
      "execution_count": null,
      "outputs": []
    },
    {
      "cell_type": "code",
      "source": [
        "numbers #> empty list(빈 리스트)"
      ],
      "metadata": {
        "colab": {
          "base_uri": "https://localhost:8080/"
        },
        "id": "4Bw4-ZQiPKnI",
        "outputId": "437d147a-6c7c-4ff5-e413-8de91c0700fb"
      },
      "execution_count": null,
      "outputs": [
        {
          "output_type": "execute_result",
          "data": {
            "text/plain": [
              "[]"
            ]
          },
          "metadata": {},
          "execution_count": 50
        }
      ]
    },
    {
      "cell_type": "markdown",
      "source": [
        "## list의 값 수정\n",
        "\n",
        "```\n",
        "list[index] = value\n",
        "```"
      ],
      "metadata": {
        "id": "8uAi6U10PfCO"
      }
    },
    {
      "cell_type": "code",
      "source": [
        "numbers = [1, 3, 5, 7]\n",
        "numbers"
      ],
      "metadata": {
        "colab": {
          "base_uri": "https://localhost:8080/"
        },
        "id": "ytt_XmbyPMQV",
        "outputId": "a506a26e-3b1b-4ed1-9b26-fdeb9e981813"
      },
      "execution_count": null,
      "outputs": [
        {
          "output_type": "execute_result",
          "data": {
            "text/plain": [
              "[1, 3, 5, 7]"
            ]
          },
          "metadata": {},
          "execution_count": 52
        }
      ]
    },
    {
      "cell_type": "code",
      "source": [
        "numbers[1] = 100 # 인덱스 1 위치의 값(3)을 100으로 변경\n",
        "numbers"
      ],
      "metadata": {
        "colab": {
          "base_uri": "https://localhost:8080/"
        },
        "id": "fbrqKzkBP0QF",
        "outputId": "026f6be1-b542-401e-9369-943adbf43f78"
      },
      "execution_count": null,
      "outputs": [
        {
          "output_type": "execute_result",
          "data": {
            "text/plain": [
              "[1, 100, 5, 7]"
            ]
          },
          "metadata": {},
          "execution_count": 55
        }
      ]
    },
    {
      "cell_type": "markdown",
      "source": [
        "list와 for 반복문"
      ],
      "metadata": {
        "id": "G5auol4kQK6h"
      }
    },
    {
      "cell_type": "code",
      "source": [
        "for x in 'hello':\n",
        "    print(x)"
      ],
      "metadata": {
        "colab": {
          "base_uri": "https://localhost:8080/"
        },
        "id": "yjw3i5BcP53Z",
        "outputId": "0a0141bb-4df1-4a89-a950-675d1c4eccbe"
      },
      "execution_count": null,
      "outputs": [
        {
          "output_type": "stream",
          "name": "stdout",
          "text": [
            "h\n",
            "e\n",
            "l\n",
            "l\n",
            "o\n"
          ]
        }
      ]
    },
    {
      "cell_type": "code",
      "source": [
        "for x in numbers:\n",
        "    print(x)"
      ],
      "metadata": {
        "colab": {
          "base_uri": "https://localhost:8080/"
        },
        "id": "M_Fneb_CQgWN",
        "outputId": "47308752-8a83-40ef-b6c5-ee5748615e51"
      },
      "execution_count": null,
      "outputs": [
        {
          "output_type": "stream",
          "name": "stdout",
          "text": [
            "1\n",
            "100\n",
            "5\n",
            "7\n"
          ]
        }
      ]
    },
    {
      "cell_type": "markdown",
      "source": [
        "리스트에 인덱스와 그 인덱스의 원소가 모두 필요한 경우"
      ],
      "metadata": {
        "id": "0uwINUIaRRxS"
      }
    },
    {
      "cell_type": "code",
      "source": [
        "len(numbers) # 리스트 numbers의 원소의 개수를 리턴."
      ],
      "metadata": {
        "colab": {
          "base_uri": "https://localhost:8080/"
        },
        "id": "-To26arlQwyI",
        "outputId": "7d621dad-d4db-48fa-daf4-a2db9845bae0"
      },
      "execution_count": null,
      "outputs": [
        {
          "output_type": "execute_result",
          "data": {
            "text/plain": [
              "4"
            ]
          },
          "metadata": {},
          "execution_count": 58
        }
      ]
    },
    {
      "cell_type": "code",
      "source": [
        "for i in range(len(numbers)):\n",
        "    print(i, ':', numbers[i])"
      ],
      "metadata": {
        "colab": {
          "base_uri": "https://localhost:8080/"
        },
        "id": "9OhU9OkBRmNs",
        "outputId": "99e5c24e-5e53-4ff4-f756-448f5d3a8d95"
      },
      "execution_count": null,
      "outputs": [
        {
          "output_type": "stream",
          "name": "stdout",
          "text": [
            "0 : 1\n",
            "1 : 100\n",
            "2 : 5\n",
            "3 : 7\n"
          ]
        }
      ]
    },
    {
      "cell_type": "code",
      "source": [
        "# list에서 리스트의 인덱스와 그 인덱스 위치의 값을 동시에 반복(iteration)\n",
        "for index, value in enumerate(numbers):\n",
        "    print(index, ':', value)"
      ],
      "metadata": {
        "colab": {
          "base_uri": "https://localhost:8080/"
        },
        "id": "pIhnmYodR-PA",
        "outputId": "afe8c96e-cfb5-433e-f415-8ae100be3727"
      },
      "execution_count": null,
      "outputs": [
        {
          "output_type": "stream",
          "name": "stdout",
          "text": [
            "0 : 1\n",
            "1 : 100\n",
            "2 : 5\n",
            "3 : 7\n"
          ]
        }
      ]
    },
    {
      "cell_type": "markdown",
      "source": [
        "# Exercises"
      ],
      "metadata": {
        "id": "Tsp2BCNcU2uT"
      }
    },
    {
      "cell_type": "markdown",
      "source": [
        "Python에서 난수(random number) 생성: `random` 모듈을 import하고 `random`모듈에 있는 함수들을 사용."
      ],
      "metadata": {
        "id": "IUAxY4eCVhVs"
      }
    },
    {
      "cell_type": "code",
      "source": [
        "import random # random 모듈 임포트(사용)"
      ],
      "metadata": {
        "id": "r81bc4MXVnzV"
      },
      "execution_count": null,
      "outputs": []
    },
    {
      "cell_type": "code",
      "source": [
        "random.random() # 0 <= x < 1 범위의 실수(float) 난수를 리턴."
      ],
      "metadata": {
        "colab": {
          "base_uri": "https://localhost:8080/"
        },
        "id": "fCRaxJZaV_AQ",
        "outputId": "2d74234e-b17a-4e14-cedd-5805c5920941"
      },
      "execution_count": null,
      "outputs": [
        {
          "output_type": "execute_result",
          "data": {
            "text/plain": [
              "0.22826475221229103"
            ]
          },
          "metadata": {},
          "execution_count": 67
        }
      ]
    },
    {
      "cell_type": "code",
      "source": [
        "random.randrange(1, 5) #  <=  5 범위의 정수(int) 난수를 리턴. "
      ],
      "metadata": {
        "colab": {
          "base_uri": "https://localhost:8080/"
        },
        "id": "sQ-kHi3vWkVt",
        "outputId": "a85115f5-11ec-4999-d16a-06b55ee3e9e5"
      },
      "execution_count": null,
      "outputs": [
        {
          "output_type": "execute_result",
          "data": {
            "text/plain": [
              "4"
            ]
          },
          "metadata": {},
          "execution_count": 71
        }
      ]
    },
    {
      "cell_type": "markdown",
      "source": [
        "## Ex1\n",
        "1. 빈 리스트를 생성\n",
        "1. 1 이상 10이하의 정수 난수 5개를 저장\n",
        "1. 리스트에 저장된 모든 정수들의 합을 계산, 출력.\n",
        "1. 리스트에 저장된 모든 정수들의 평균을 계산, 출력."
      ],
      "metadata": {
        "id": "OSSg9h6aU6d-"
      }
    },
    {
      "cell_type": "code",
      "source": [
        "numbers = []\n",
        "for _ in range(5):\n",
        "    numbers.append(random.randrange(1, 11))\n",
        "    print(numbers)"
      ],
      "metadata": {
        "colab": {
          "base_uri": "https://localhost:8080/"
        },
        "id": "nYgAGM1UTcWW",
        "outputId": "de0a351e-668b-497e-ac5e-ddd79c9e05e9"
      },
      "execution_count": null,
      "outputs": [
        {
          "output_type": "stream",
          "name": "stdout",
          "text": [
            "[4]\n",
            "[4, 3]\n",
            "[4, 3, 10]\n",
            "[4, 3, 10, 8]\n",
            "[4, 3, 10, 8, 6]\n"
          ]
        }
      ]
    },
    {
      "cell_type": "code",
      "source": [
        "sum(numbers)  #sum(iteralbe) : iterable 타입 객체의 모든 원소들의 합을 리턴."
      ],
      "metadata": {
        "colab": {
          "base_uri": "https://localhost:8080/"
        },
        "id": "z_bzhm-YW650",
        "outputId": "058cee57-42aa-4dec-ab6b-3edbc57aa60f"
      },
      "execution_count": null,
      "outputs": [
        {
          "output_type": "execute_result",
          "data": {
            "text/plain": [
              "29"
            ]
          },
          "metadata": {},
          "execution_count": 95
        }
      ]
    },
    {
      "cell_type": "code",
      "source": [
        "total = 0\n",
        "for x in numbers:\n",
        "    total += x\n",
        "    \n",
        "total"
      ],
      "metadata": {
        "colab": {
          "base_uri": "https://localhost:8080/"
        },
        "id": "UKJYyYUte9Dx",
        "outputId": "60d3c47d-5e5a-4ee2-cabc-68c4b5487942"
      },
      "execution_count": null,
      "outputs": [
        {
          "output_type": "execute_result",
          "data": {
            "text/plain": [
              "29"
            ]
          },
          "metadata": {},
          "execution_count": 97
        }
      ]
    },
    {
      "cell_type": "code",
      "source": [
        "total / len(numbers)"
      ],
      "metadata": {
        "colab": {
          "base_uri": "https://localhost:8080/"
        },
        "id": "HE6vPB-9fhOq",
        "outputId": "8ba9a461-c88c-4591-ef12-d74be2c83958"
      },
      "execution_count": null,
      "outputs": [
        {
          "output_type": "execute_result",
          "data": {
            "text/plain": [
              "5.8"
            ]
          },
          "metadata": {},
          "execution_count": 98
        }
      ]
    },
    {
      "cell_type": "markdown",
      "source": [
        "## Ex 2.\n",
        "\n",
        "1. 빈 리스트(numbers) 생성\n",
        "1. [10, 100] 범위의 난수 10개를 빈 리스트에 저장\n",
        "1. numbers에서 짝수들만 선택해서 evens 리스트에 저장.\n",
        "1. numbers에서 홀수들만 선택해서 odds 리스트에 저장."
      ],
      "metadata": {
        "id": "spx5qkG3go_L"
      }
    },
    {
      "cell_type": "code",
      "source": [
        "numbers = []  # 빈 리스트 생성\n",
        "for i in range(10): # 10번 반복하면서\n",
        "  numbers.append(random.randrange(10, 100)) # 10이상 100 미만의 난수를 리스트에 추가\n",
        "numbers # 리스트 내용 출력\n"
      ],
      "metadata": {
        "colab": {
          "base_uri": "https://localhost:8080/"
        },
        "id": "NHyTqTcthNhT",
        "outputId": "7c02dee8-0c9c-4313-a23a-e039d990bd35"
      },
      "execution_count": null,
      "outputs": [
        {
          "output_type": "execute_result",
          "data": {
            "text/plain": [
              "[31, 65, 78, 55, 74, 90, 26, 82, 77, 71]"
            ]
          },
          "metadata": {},
          "execution_count": 106
        }
      ]
    },
    {
      "cell_type": "code",
      "source": [
        "evens = [] # numbers의 짝수들을 저장할 리스트\n",
        "for x in numbers: #리스트 number의 원소들을 반복(iteration)하면서\n",
        "    if x % 2 == 0:  # 리스트에서 꺼낸 원소가 짝수이면\n",
        "      evens.append(x)\n",
        "evens"
      ],
      "metadata": {
        "colab": {
          "base_uri": "https://localhost:8080/"
        },
        "id": "IezAEDa_ka5e",
        "outputId": "f9e5215f-5979-4ee8-d341-eb3e97fffc35"
      },
      "execution_count": null,
      "outputs": [
        {
          "output_type": "execute_result",
          "data": {
            "text/plain": [
              "[78, 74, 90, 26, 82]"
            ]
          },
          "metadata": {},
          "execution_count": 110
        }
      ]
    },
    {
      "cell_type": "code",
      "source": [
        "odds = [] # 홀수들을 저장할 리스트\n",
        "for x in numbers: #리스트 number의 원소들을 반복(iteration)하면서\n",
        "    if x % 2:  # 리스트에서 꺼낸 원소가 홀수이면이면\n",
        "      odds.append(x)  # 홀수 추가\n",
        "odds\n"
      ],
      "metadata": {
        "colab": {
          "base_uri": "https://localhost:8080/"
        },
        "id": "evzWSsG4lJTG",
        "outputId": "377f9dab-ced4-4a4e-c048-50217c046c63"
      },
      "execution_count": null,
      "outputs": [
        {
          "output_type": "execute_result",
          "data": {
            "text/plain": [
              "[31, 65, 55, 77, 71]"
            ]
          },
          "metadata": {},
          "execution_count": 111
        }
      ]
    },
    {
      "cell_type": "markdown",
      "source": [
        "Ex 3.\n",
        "  1. 빈 리스트(number)를 생성\n",
        "  1. [-10, 10] 범위의 난수 10개를 numbers에 저장\n",
        "  1. numbers의 원소가 양수이면 True, 그렇지 않으면 false를 저장하는 리스트 is_positives를 만들고 출력."
      ],
      "metadata": {
        "id": "dA4oFq8NqTAa"
      }
    },
    {
      "cell_type": "code",
      "source": [
        "numbers = []\n",
        "\n",
        "for i in range(10):\n",
        "  numbers.append(random.randrange(-10, 11))\n",
        "print(numbers)\n",
        "\n",
        "is_positives = []\n",
        "for i in numbers: \n",
        "  if i > 0:\n",
        "    is_positives.append(True)\n",
        "  else:\n",
        "    is_positives.append(False) \n",
        "\n",
        "print(is_positives)\n"
      ],
      "metadata": {
        "colab": {
          "base_uri": "https://localhost:8080/"
        },
        "id": "RWZckgEvqokf",
        "outputId": "d3688f47-6d33-4a1f-8f9e-7d6002f7534a"
      },
      "execution_count": null,
      "outputs": [
        {
          "output_type": "stream",
          "name": "stdout",
          "text": [
            "[-2, -4, -9, 1, -5, 8, -1, 7, 2, 2]\n",
            "[False, False, False, True, False, True, False, True, True, True]\n"
          ]
        }
      ]
    },
    {
      "cell_type": "markdown",
      "source": [
        "Ex4.\n",
        "  1. 빈 리스트 gender_codes를 생성\n",
        "  1. gender_codes에 0 또는 1을 랜덤하게 10번 저장.\n",
        "  1. gender_codes의 값이 0이면 'Male', 1이면 'Female'을 저장하는 리스트 genders를 만들고 출력."
      ],
      "metadata": {
        "id": "ck2H1S8_tQsw"
      }
    },
    {
      "cell_type": "code",
      "source": [
        "gender_codes = []\n",
        "for i in range(10):\n",
        "    gender_codes.append(random.randrange(0, 2))\n",
        "print(gender_codes)"
      ],
      "metadata": {
        "id": "mFk_4gOtlbq_"
      },
      "execution_count": null,
      "outputs": []
    },
    {
      "cell_type": "markdown",
      "source": [
        "\n"
      ],
      "metadata": {
        "id": "VZqcwF4fsYbo"
      }
    },
    {
      "cell_type": "code",
      "source": [
        "genders = []\n",
        "for i in gender_codes:\n",
        "    if i == 0:\n",
        "      genders.append('Male')\n",
        "    else:\n",
        "      genders.append('Female')\n",
        "print(genders)"
      ],
      "metadata": {
        "id": "iqORNnGSv6PQ"
      },
      "execution_count": null,
      "outputs": []
    },
    {
      "cell_type": "markdown",
      "source": [
        "# List Comprehension(리스트 내포)\n",
        "\n",
        "1~10까지 정수를 차례로 저장하고 있는 리스트: [1, 2, 3, ..., 9, 10]"
      ],
      "metadata": {
        "id": "tWDByx4MwgPw"
      }
    },
    {
      "cell_type": "code",
      "source": [
        "numbers = []\n",
        "for x in range(1, 11):\n",
        "    numbers.append(x)\n",
        "numbers\n"
      ],
      "metadata": {
        "colab": {
          "base_uri": "https://localhost:8080/"
        },
        "id": "CPYqDU2Ev6n9",
        "outputId": "6c670469-8aad-42b9-fa87-8d8ffdce1fd3"
      },
      "execution_count": null,
      "outputs": [
        {
          "output_type": "execute_result",
          "data": {
            "text/plain": [
              "[1, 2, 3, 4, 5, 6, 7, 8, 9, 10]"
            ]
          },
          "metadata": {},
          "execution_count": 128
        }
      ]
    },
    {
      "cell_type": "code",
      "source": [
        "numbers = [ x for x in range(1, 11)]\n",
        "numbers"
      ],
      "metadata": {
        "colab": {
          "base_uri": "https://localhost:8080/"
        },
        "id": "nJDNFTPrxETg",
        "outputId": "c407795e-3f12-4747-aaa0-00f7587d3be1"
      },
      "execution_count": null,
      "outputs": [
        {
          "output_type": "execute_result",
          "data": {
            "text/plain": [
              "[1, 2, 3, 4, 5, 6, 7, 8, 9, 10]"
            ]
          },
          "metadata": {},
          "execution_count": 129
        }
      ]
    },
    {
      "cell_type": "markdown",
      "source": [
        "1부터 10까지 정수들의 제곱을 저장하는 리스트: `[1, 4, 9, 16, ..., 64, 81, 100]`"
      ],
      "metadata": {
        "id": "7P1fr4YdxvD3"
      }
    },
    {
      "cell_type": "code",
      "source": [
        "squares = []\n",
        "for x in range(1, 11):\n",
        "     squares.append(x ** 2)\n",
        "squares"
      ],
      "metadata": {
        "colab": {
          "base_uri": "https://localhost:8080/"
        },
        "id": "5W1sMwy7x5uD",
        "outputId": "74535295-e020-43d4-de28-9669c3949e9e"
      },
      "execution_count": null,
      "outputs": [
        {
          "output_type": "execute_result",
          "data": {
            "text/plain": [
              "[1, 4, 9, 16, 25, 36, 49, 64, 81, 100]"
            ]
          },
          "metadata": {},
          "execution_count": 131
        }
      ]
    },
    {
      "cell_type": "code",
      "source": [
        "[x ** 2 for x in range(1, 11)]"
      ],
      "metadata": {
        "colab": {
          "base_uri": "https://localhost:8080/"
        },
        "id": "PVEmRi5zxHy9",
        "outputId": "dd3618df-8798-42f4-a311-c8f0b3bacca6"
      },
      "execution_count": null,
      "outputs": [
        {
          "output_type": "execute_result",
          "data": {
            "text/plain": [
              "[1, 4, 9, 16, 25, 36, 49, 64, 81, 100]"
            ]
          },
          "metadata": {},
          "execution_count": 132
        }
      ]
    },
    {
      "cell_type": "markdown",
      "source": [
        "0 이상 10 이하의 짝수들을 저장하는 리스트: [0, 2, 4, 6, 8, 10]"
      ],
      "metadata": {
        "id": "-8L1p4C0zeer"
      }
    },
    {
      "cell_type": "code",
      "source": [
        "[x for x in range(0, 11, 2)]"
      ],
      "metadata": {
        "colab": {
          "base_uri": "https://localhost:8080/"
        },
        "id": "0O6IrUCIzFBe",
        "outputId": "8e69a1ad-564e-49b9-b7ad-8b5b517f5ab5"
      },
      "execution_count": null,
      "outputs": [
        {
          "output_type": "execute_result",
          "data": {
            "text/plain": [
              "[0, 2, 4, 6, 8, 10]"
            ]
          },
          "metadata": {},
          "execution_count": 137
        }
      ]
    },
    {
      "cell_type": "markdown",
      "source": [
        "0 이상 10 이하의 홀수들을 저장하는 리스트: `[1, 3, 5, 7, 9]`"
      ],
      "metadata": {
        "id": "x-_38Fs70LIk"
      }
    },
    {
      "cell_type": "code",
      "source": [
        "[ x for x in range(1, 11, 2)]"
      ],
      "metadata": {
        "colab": {
          "base_uri": "https://localhost:8080/"
        },
        "id": "qeNqzyIFzx0l",
        "outputId": "92644b09-e767-463f-cfb6-7283303325ee"
      },
      "execution_count": null,
      "outputs": [
        {
          "output_type": "execute_result",
          "data": {
            "text/plain": [
              "[1, 3, 5, 7, 9]"
            ]
          },
          "metadata": {},
          "execution_count": 138
        }
      ]
    },
    {
      "cell_type": "code",
      "source": [
        "# 10 이상 100 미만의 정수 10개를 저장하는 리스트\n",
        "numbers = [random.randrange(10, 100) for _ in range(10)]\n",
        "numbers"
      ],
      "metadata": {
        "colab": {
          "base_uri": "https://localhost:8080/"
        },
        "id": "ABE2a4iX4XKk",
        "outputId": "5db33131-60d8-48e6-8e09-25738cf654a5"
      },
      "execution_count": null,
      "outputs": [
        {
          "output_type": "execute_result",
          "data": {
            "text/plain": [
              "[80, 18, 56, 18, 74, 63, 84, 12, 77, 20]"
            ]
          },
          "metadata": {},
          "execution_count": 144
        }
      ]
    },
    {
      "cell_type": "code",
      "source": [
        "# numbers에서 짝수들만 선택해서 저장한 리스트\n",
        "evens = [x for x in numbers if x % 2 == 0]\n",
        "evens"
      ],
      "metadata": {
        "colab": {
          "base_uri": "https://localhost:8080/"
        },
        "id": "MlwCTjE15YC3",
        "outputId": "cf488de2-95aa-407a-b7ab-be165cc67091"
      },
      "execution_count": null,
      "outputs": [
        {
          "output_type": "execute_result",
          "data": {
            "text/plain": [
              "[80, 18, 56, 18, 74, 84, 12, 20]"
            ]
          },
          "metadata": {},
          "execution_count": 146
        }
      ]
    },
    {
      "cell_type": "code",
      "source": [
        "# numbers에서 홀수들만 선택해서 저장한 리스트\n",
        "odds = [x for x in numbers if x % 2]\n",
        "odds"
      ],
      "metadata": {
        "colab": {
          "base_uri": "https://localhost:8080/"
        },
        "id": "14WGJ_bo6HWt",
        "outputId": "a1132a13-4e2e-4eeb-a5f8-9b3a5edb613c"
      },
      "execution_count": null,
      "outputs": [
        {
          "output_type": "execute_result",
          "data": {
            "text/plain": [
              "[63, 77]"
            ]
          },
          "metadata": {},
          "execution_count": 149
        }
      ]
    },
    {
      "cell_type": "code",
      "source": [
        "# numbers의 숫자가 짝수이면 'odd', 홀수이면 'even'을 저장하는 리스트\n",
        "is_even = ['even' if x % 2 == 0 else 'odd' \n",
        "           for x in numbers]\n",
        "is_even"
      ],
      "metadata": {
        "colab": {
          "base_uri": "https://localhost:8080/"
        },
        "id": "qLRKKceo6sht",
        "outputId": "5ee25d98-5234-4894-a8e1-6df933ce8126"
      },
      "execution_count": null,
      "outputs": [
        {
          "output_type": "execute_result",
          "data": {
            "text/plain": [
              "['even', 'even', 'even', 'even', 'even', 'odd', 'even', 'even', 'odd', 'even']"
            ]
          },
          "metadata": {},
          "execution_count": 152
        }
      ]
    },
    {
      "cell_type": "code",
      "source": [
        "x = -100\n",
        "is_positive = True if x > 0 else False # if-else 표헌식: java의 삼항 연산자(if 조건 ?  값1 : 값2)\n",
        "is_positive"
      ],
      "metadata": {
        "colab": {
          "base_uri": "https://localhost:8080/"
        },
        "id": "IiJKarWP7VHa",
        "outputId": "04d75d65-5e22-4ffb-e0f5-224764a32494"
      },
      "execution_count": null,
      "outputs": [
        {
          "output_type": "execute_result",
          "data": {
            "text/plain": [
              "False"
            ]
          },
          "metadata": {},
          "execution_count": 154
        }
      ]
    },
    {
      "cell_type": "code",
      "source": [
        "# -10 이상 10 이하의 정수 난수 10개를 저장하는 리스트\n",
        "numbers = [random.randrange(-10, 10) for _ in range(10)]\n",
        "numbers"
      ],
      "metadata": {
        "colab": {
          "base_uri": "https://localhost:8080/"
        },
        "id": "rZcliliI-am7",
        "outputId": "4065c451-0e52-4d71-8245-de83cfc10d28"
      },
      "execution_count": null,
      "outputs": [
        {
          "output_type": "execute_result",
          "data": {
            "text/plain": [
              "[5, -4, 2, 8, -6, 7, 3, 6, 4, -6]"
            ]
          },
          "metadata": {},
          "execution_count": 158
        }
      ]
    },
    {
      "cell_type": "code",
      "source": [
        "# numbers의 원소들 중에서 양수들만 저장하는 리스트\n",
        "positives = [ x for x in numbers if x > 0 ]\n",
        "positives"
      ],
      "metadata": {
        "colab": {
          "base_uri": "https://localhost:8080/"
        },
        "id": "ioM-t4ES-pg3",
        "outputId": "6080d9ba-a112-4823-dca8-fab065827ec9"
      },
      "execution_count": null,
      "outputs": [
        {
          "output_type": "execute_result",
          "data": {
            "text/plain": [
              "[5, 2, 8, 7, 3, 6, 4]"
            ]
          },
          "metadata": {},
          "execution_count": 160
        }
      ]
    },
    {
      "cell_type": "code",
      "source": [
        "# numbers의 원소들 중에서 양수가 아닌 (음수 또는 0 ) 숫자들만 저장하는 리스트\n",
        "not_positives = [x for x in numbers if x <= 0 ]\n",
        "not_positives"
      ],
      "metadata": {
        "colab": {
          "base_uri": "https://localhost:8080/"
        },
        "id": "XJGbTnki-ufm",
        "outputId": "ed50d29d-1698-4917-d3c2-274fbf36cc42"
      },
      "execution_count": null,
      "outputs": [
        {
          "output_type": "execute_result",
          "data": {
            "text/plain": [
              "[-4, -6, -6]"
            ]
          },
          "metadata": {},
          "execution_count": 162
        }
      ]
    },
    {
      "cell_type": "code",
      "source": [
        "# numbes의 원소가 양수이면 True, 그렇지 않으면 False를 저장하는 리스트\n",
        "is_positives = [True if x > 0 else False for x in numbers]\n",
        "is_positives"
      ],
      "metadata": {
        "colab": {
          "base_uri": "https://localhost:8080/"
        },
        "id": "0OZJ0E7Z-1sb",
        "outputId": "def6b7cb-74bc-4127-8044-1d6e3d79a2f2"
      },
      "execution_count": null,
      "outputs": [
        {
          "output_type": "execute_result",
          "data": {
            "text/plain": [
              "[True, False, True, True, False, True, True, True, True, False]"
            ]
          },
          "metadata": {},
          "execution_count": 165
        }
      ]
    },
    {
      "cell_type": "markdown",
      "source": [
        "# List Comprehension 연습"
      ],
      "metadata": {
        "id": "epjqfL5TGLNI"
      }
    },
    {
      "cell_type": "markdown",
      "source": [
        "## Ex 1.\n",
        "1. 0 또는 1을 랜덤하게 10개를 저장하는 리스트 gender_codes를 만들고 출력.\n",
        "1. gender_codes의 값이 0이면 'Male', 1이면 'Female'을 저장하는 리스트 genders를 만들고 출력"
      ],
      "metadata": {
        "id": "yDncOSLuGPvJ"
      }
    },
    {
      "cell_type": "code",
      "source": [
        "import random\n",
        "gender_codes = [random.randrange(0, 2) for x in range(10)]\n",
        "gender_codes"
      ],
      "metadata": {
        "colab": {
          "base_uri": "https://localhost:8080/"
        },
        "id": "6KNE8-gMdTs6",
        "outputId": "b87b4b81-b70f-4b2a-fc08-867d990d007c"
      },
      "execution_count": 6,
      "outputs": [
        {
          "output_type": "execute_result",
          "data": {
            "text/plain": [
              "[1, 0, 0, 1, 1, 0, 1, 0, 0, 1]"
            ]
          },
          "metadata": {},
          "execution_count": 6
        }
      ]
    },
    {
      "cell_type": "code",
      "source": [
        "genders = ['Male' if x == 0 else 'Female' for x in gender_codes]\n",
        "print(genders)"
      ],
      "metadata": {
        "colab": {
          "base_uri": "https://localhost:8080/"
        },
        "id": "w8VBtlJ2nFAE",
        "outputId": "d267cf99-9181-49d5-c9b7-91ba17c22c87"
      },
      "execution_count": null,
      "outputs": [
        {
          "output_type": "stream",
          "name": "stdout",
          "text": [
            "['Female', 'Female', 'Male', 'Male', 'Male', 'Male', 'Male', 'Female', 'Male', 'Female']\n"
          ]
        }
      ]
    },
    {
      "cell_type": "markdown",
      "source": [
        "##Ex 2.\n",
        "1. 0, 1, 2를 랜덤하게 10개 저장하는 리스트 gender_codes를 만들고 출력.\n",
        "1. gender_codes의 값이 0이면 'Male', 1이면 'Female', 2이면 'Unknown'을 저장하는 리스트 genders를 만들고 출력."
      ],
      "metadata": {
        "id": "B0iYDdEDHV6R"
      }
    },
    {
      "cell_type": "code",
      "source": [
        "gender_codes = [random.randrange(0, 3) for x in range(10)]\n",
        "gender_codes"
      ],
      "metadata": {
        "colab": {
          "base_uri": "https://localhost:8080/"
        },
        "id": "OfPGnLEGn25l",
        "outputId": "60d8e478-3959-4df3-f88f-da0ced13da7e"
      },
      "execution_count": null,
      "outputs": [
        {
          "output_type": "execute_result",
          "data": {
            "text/plain": [
              "[2, 1, 2, 2, 1, 2, 1, 1, 0, 2]"
            ]
          },
          "metadata": {},
          "execution_count": 71
        }
      ]
    },
    {
      "cell_type": "code",
      "source": [
        "genders = ['Male' if x == 0 else 'Female' if x == 1 else 'Unknown' for x in gender_codes]\n",
        "print(genders)"
      ],
      "metadata": {
        "colab": {
          "base_uri": "https://localhost:8080/"
        },
        "id": "uw6otLKEqk9h",
        "outputId": "f38a3a27-f5c7-440d-da0e-256bc2266acb"
      },
      "execution_count": null,
      "outputs": [
        {
          "output_type": "stream",
          "name": "stdout",
          "text": [
            "['Unknown', 'Female', 'Unknown', 'Unknown', 'Female', 'Unknown', 'Female', 'Female', 'Male', 'Unknown']\n"
          ]
        }
      ]
    },
    {
      "cell_type": "markdown",
      "source": [
        "##Ex 3.\n",
        "1. 0 이상 10 미만의 정수 난수 10개를 저장하는 리스트 numbers1을 만들고 출력.\n",
        "1. 0 이상 10 미만의 정수 난수 10개를 저장하는 리스트 numbers2을 만들고 출력.\n",
        "1. numbers1과 numbers2에서 같은 인덱스의 원소들끼리의 합을 저장하는 리스트 adds를 만들고 출력.\n",
        "1. numbers1과 numbers2에서 같은 인덱스의 원소들끼리의 곱을 저장하는 리스트 mutiplicatoins를 만들고 출력.\n",
        "1. mutiplications의 모든 원소들의 합을 계산하고 출력."
      ],
      "metadata": {
        "id": "eLQ83xdWdB4p"
      }
    },
    {
      "cell_type": "code",
      "source": [
        "numbers1 = [random.randrange(0, 10) for _ in range(10)]\n",
        "numbers1"
      ],
      "metadata": {
        "colab": {
          "base_uri": "https://localhost:8080/"
        },
        "id": "xXVcWIlu3_cA",
        "outputId": "88b8de27-84d3-4e26-911a-c0534c2ee4d4"
      },
      "execution_count": 7,
      "outputs": [
        {
          "output_type": "execute_result",
          "data": {
            "text/plain": [
              "[4, 9, 4, 2, 6, 1, 9, 0, 7, 9]"
            ]
          },
          "metadata": {},
          "execution_count": 7
        }
      ]
    },
    {
      "cell_type": "code",
      "source": [
        "numbers2 = [random.randrange(0, 10) for _ in range(10)]\n",
        "numbers2"
      ],
      "metadata": {
        "colab": {
          "base_uri": "https://localhost:8080/"
        },
        "id": "ErowyHSF4VAw",
        "outputId": "b8281c27-6786-48ab-c7a5-a032cf9e2044"
      },
      "execution_count": 8,
      "outputs": [
        {
          "output_type": "execute_result",
          "data": {
            "text/plain": [
              "[4, 8, 8, 2, 0, 6, 0, 7, 7, 4]"
            ]
          },
          "metadata": {},
          "execution_count": 8
        }
      ]
    },
    {
      "cell_type": "code",
      "source": [
        "adds = [numbers1[i] + numbers2[i] for i in range(10)] \n",
        "adds"
      ],
      "metadata": {
        "id": "Z_jq-roM7okE",
        "colab": {
          "base_uri": "https://localhost:8080/"
        },
        "outputId": "efb1144a-48ee-4b20-d66f-4669118c6dd2"
      },
      "execution_count": 10,
      "outputs": [
        {
          "output_type": "execute_result",
          "data": {
            "text/plain": [
              "[8, 17, 12, 4, 6, 7, 9, 7, 14, 13]"
            ]
          },
          "metadata": {},
          "execution_count": 10
        }
      ]
    },
    {
      "cell_type": "code",
      "source": [
        "adds = [ x + y for x, y in zip(numbers1, numbers2)]\n",
        "adds"
      ],
      "metadata": {
        "colab": {
          "base_uri": "https://localhost:8080/"
        },
        "id": "YCmiPIOf5pms",
        "outputId": "34e1fdce-a436-48a7-abd9-c6215ba55d7b"
      },
      "execution_count": 12,
      "outputs": [
        {
          "output_type": "execute_result",
          "data": {
            "text/plain": [
              "[8, 17, 12, 4, 6, 7, 9, 7, 14, 13]"
            ]
          },
          "metadata": {},
          "execution_count": 12
        }
      ]
    },
    {
      "cell_type": "code",
      "source": [
        "multiplications = [ x * y for x, y in zip(numbers1, numbers2)]\n",
        "multiplications"
      ],
      "metadata": {
        "colab": {
          "base_uri": "https://localhost:8080/"
        },
        "id": "T0X1KrIF7So7",
        "outputId": "0e6a19dd-b65d-4315-e319-2ff7e0335d4a"
      },
      "execution_count": 13,
      "outputs": [
        {
          "output_type": "execute_result",
          "data": {
            "text/plain": [
              "[16, 72, 32, 4, 0, 6, 0, 0, 49, 36]"
            ]
          },
          "metadata": {},
          "execution_count": 13
        }
      ]
    },
    {
      "cell_type": "code",
      "source": [
        "sum(multiplications)"
      ],
      "metadata": {
        "colab": {
          "base_uri": "https://localhost:8080/"
        },
        "id": "7YZer0lh7sVf",
        "outputId": "1fd3d855-584e-4381-f787-429255685593"
      },
      "execution_count": 14,
      "outputs": [
        {
          "output_type": "execute_result",
          "data": {
            "text/plain": [
              "215"
            ]
          },
          "metadata": {},
          "execution_count": 14
        }
      ]
    },
    {
      "cell_type": "code",
      "source": [
        "total = 0\n",
        "for x in multiplications:\n",
        "    total += x\n",
        "total"
      ],
      "metadata": {
        "colab": {
          "base_uri": "https://localhost:8080/"
        },
        "id": "V4v8NrOZ7uh7",
        "outputId": "87f66c41-8710-490b-da7a-5dd33d939d88"
      },
      "execution_count": 15,
      "outputs": [
        {
          "output_type": "execute_result",
          "data": {
            "text/plain": [
              "215"
            ]
          },
          "metadata": {},
          "execution_count": 15
        }
      ]
    },
    {
      "cell_type": "markdown",
      "source": [
        "# 다차원 리스트"
      ],
      "metadata": {
        "id": "8JbF1FLD8Mtt"
      }
    },
    {
      "cell_type": "code",
      "source": [
        "matrix = [ [1, 2, 3],\n",
        "        [4, 5, 6],\n",
        "        [7, 8, 9] ]\n",
        "matrix"
      ],
      "metadata": {
        "colab": {
          "base_uri": "https://localhost:8080/"
        },
        "id": "3P86ZZMh8eqb",
        "outputId": "96020ea8-2fee-4081-f480-f60126fbb49f"
      },
      "execution_count": 17,
      "outputs": [
        {
          "output_type": "execute_result",
          "data": {
            "text/plain": [
              "[[1, 2, 3], [4, 5, 6], [7, 8, 9]]"
            ]
          },
          "metadata": {},
          "execution_count": 17
        }
      ]
    },
    {
      "cell_type": "markdown",
      "source": [
        "## 2차원 리스트의 indexing"
      ],
      "metadata": {
        "id": "OqqylGQ98vg0"
      }
    },
    {
      "cell_type": "code",
      "source": [
        "matrix[0] #> 1차원 리스트"
      ],
      "metadata": {
        "colab": {
          "base_uri": "https://localhost:8080/"
        },
        "id": "wdhQEegq80lb",
        "outputId": "c41d14d7-2c85-4c1a-fec8-c4d0456fa482"
      },
      "execution_count": 18,
      "outputs": [
        {
          "output_type": "execute_result",
          "data": {
            "text/plain": [
              "[1, 2, 3]"
            ]
          },
          "metadata": {},
          "execution_count": 18
        }
      ]
    },
    {
      "cell_type": "code",
      "source": [
        "matrix[0][0]"
      ],
      "metadata": {
        "colab": {
          "base_uri": "https://localhost:8080/"
        },
        "id": "kKI9mFWr9JJX",
        "outputId": "488d00c3-449e-431b-a2d2-037794daa3f1"
      },
      "execution_count": 19,
      "outputs": [
        {
          "output_type": "execute_result",
          "data": {
            "text/plain": [
              "1"
            ]
          },
          "metadata": {},
          "execution_count": 19
        }
      ]
    },
    {
      "cell_type": "code",
      "source": [
        "matrix[1][2]"
      ],
      "metadata": {
        "colab": {
          "base_uri": "https://localhost:8080/"
        },
        "id": "mHyigLRN9btv",
        "outputId": "7f726fc5-05a2-438e-aa24-08a495295b5a"
      },
      "execution_count": 20,
      "outputs": [
        {
          "output_type": "execute_result",
          "data": {
            "text/plain": [
              "6"
            ]
          },
          "metadata": {},
          "execution_count": 20
        }
      ]
    },
    {
      "cell_type": "markdown",
      "source": [
        "## 2차원 리스트와 for 반복문"
      ],
      "metadata": {
        "id": "xhqFASGH9vwo"
      }
    },
    {
      "cell_type": "code",
      "source": [
        "for row in matrix:\n",
        "  print(row)"
      ],
      "metadata": {
        "colab": {
          "base_uri": "https://localhost:8080/"
        },
        "id": "0K6i5EcO90Yb",
        "outputId": "07f472d2-1548-4170-c07d-2609b7a61054"
      },
      "execution_count": 25,
      "outputs": [
        {
          "output_type": "stream",
          "name": "stdout",
          "text": [
            "[1, 2, 3]\n",
            "[4, 5, 6]\n",
            "[7, 8, 9]\n"
          ]
        }
      ]
    },
    {
      "cell_type": "code",
      "source": [
        "for row in matrix:\n",
        "    for x in row:\n",
        "      print(x)"
      ],
      "metadata": {
        "colab": {
          "base_uri": "https://localhost:8080/"
        },
        "id": "CreUqGp4-QW8",
        "outputId": "ef7f0d65-9db1-4f8b-c28d-17de5c99490c"
      },
      "execution_count": 26,
      "outputs": [
        {
          "output_type": "stream",
          "name": "stdout",
          "text": [
            "1\n",
            "2\n",
            "3\n",
            "4\n",
            "5\n",
            "6\n",
            "7\n",
            "8\n",
            "9\n"
          ]
        }
      ]
    },
    {
      "cell_type": "code",
      "source": [
        "for row in matrix:\n",
        "    for x in row:\n",
        "        print(x, end= ' ') ## 줄바꿈이 없어짐\n",
        "    print() # 줄바꿈"
      ],
      "metadata": {
        "colab": {
          "base_uri": "https://localhost:8080/"
        },
        "id": "QaVRa5qD-jay",
        "outputId": "b856434d-4feb-4f16-ea3e-c8bdf5a1eb7d"
      },
      "execution_count": 28,
      "outputs": [
        {
          "output_type": "stream",
          "name": "stdout",
          "text": [
            "1 2 3 \n",
            "4 5 6 \n",
            "7 8 9 \n"
          ]
        }
      ]
    },
    {
      "cell_type": "markdown",
      "source": [
        "## 2차원 리스트와 list comprehension"
      ],
      "metadata": {
        "id": "1bjrURYhDUaI"
      }
    },
    {
      "cell_type": "code",
      "source": [
        "# 3x3 모양의 정수 난수 9개를 저장하는 2차원 리스트를 생성.\n",
        "matrix1 = [] # 빈 리스트 - 1차원 리스트들을 저장하기 위한 리스트\n",
        "for _ in range(3):\n",
        "  row = [] # 빈 리스트 - 3개의 난수를 저장하기 위한 리스트.\n",
        "  for _ in range(3):\n",
        "      row.append(random.randrange(10))\n",
        "  matrix1.append(row)\n",
        "\n",
        "matrix"
      ],
      "metadata": {
        "colab": {
          "base_uri": "https://localhost:8080/"
        },
        "id": "r2ZxTAY1DyL6",
        "outputId": "34ccfdb4-eeee-41d4-96f5-dee16df03a55"
      },
      "execution_count": 52,
      "outputs": [
        {
          "output_type": "execute_result",
          "data": {
            "text/plain": [
              "[[1, 2, 3], [4, 5, 6], [7, 8, 9]]"
            ]
          },
          "metadata": {},
          "execution_count": 52
        }
      ]
    },
    {
      "cell_type": "code",
      "source": [
        "matrix2 = []\n",
        "for _ in range(3):\n",
        "    row = [random.randrange(10) for _ in range(3)]\n",
        "    matrix2.append(row)\n",
        "matrix2"
      ],
      "metadata": {
        "colab": {
          "base_uri": "https://localhost:8080/"
        },
        "id": "gqGpYQJhFoDO",
        "outputId": "0f6545e4-b14a-4151-9b01-0dbd9f04a1c6"
      },
      "execution_count": 54,
      "outputs": [
        {
          "output_type": "execute_result",
          "data": {
            "text/plain": [
              "[[8, 8, 8], [7, 3, 0], [8, 9, 5]]"
            ]
          },
          "metadata": {},
          "execution_count": 54
        }
      ]
    },
    {
      "cell_type": "code",
      "source": [
        "matrix3 = [ [random.randrange(10) for _ in range(3)]\n",
        "              for _ in range(3)]\n",
        "matrix3"
      ],
      "metadata": {
        "colab": {
          "base_uri": "https://localhost:8080/"
        },
        "id": "jsSnnv4NGbd9",
        "outputId": "3ac34527-bbac-489e-8008-399156af5a5f"
      },
      "execution_count": 55,
      "outputs": [
        {
          "output_type": "execute_result",
          "data": {
            "text/plain": [
              "[[8, 9, 4], [0, 7, 6], [8, 8, 6]]"
            ]
          },
          "metadata": {},
          "execution_count": 55
        }
      ]
    },
    {
      "cell_type": "code",
      "source": [
        "# matrix1, matrix2의 같은 인덱스에 있는 원소들끼리의 합을 원소로 갖는 리스트.\n",
        "adds=[] # 각 원소들끼리의 합을 저장할 2차원 리스트\n",
        "for row1, row2 in zip(matrix1, matrix2):\n",
        "    temp = [] # 각 행에 있는 원소들끼리의 합을 저장할 1차원 리스트\n",
        "    for x, y in zip(row1, row2):\n",
        "        temp.append(x + y)\n",
        "    adds.append(temp)\n",
        "    \n",
        "adds"
      ],
      "metadata": {
        "colab": {
          "base_uri": "https://localhost:8080/"
        },
        "id": "n0N1-n7zHA8e",
        "outputId": "a445a09b-28f4-4e34-9a70-a6eb86858bc9"
      },
      "execution_count": 56,
      "outputs": [
        {
          "output_type": "execute_result",
          "data": {
            "text/plain": [
              "[[11, 13, 12], [7, 11, 5], [12, 13, 11]]"
            ]
          },
          "metadata": {},
          "execution_count": 56
        }
      ]
    },
    {
      "cell_type": "code",
      "source": [
        "adds = []\n",
        "for row1, row2 in zip(matrix1, matrix2):\n",
        "    temp = [x + y for x, y in zip(row1, row2)]\n",
        "    adds.append(temp)\n",
        "adds"
      ],
      "metadata": {
        "colab": {
          "base_uri": "https://localhost:8080/"
        },
        "id": "quPuHpFzLUIH",
        "outputId": "b72da250-ff53-436b-dd24-1c17602d166b"
      },
      "execution_count": 57,
      "outputs": [
        {
          "output_type": "execute_result",
          "data": {
            "text/plain": [
              "[[11, 13, 12], [7, 11, 5], [12, 13, 11]]"
            ]
          },
          "metadata": {},
          "execution_count": 57
        }
      ]
    },
    {
      "cell_type": "code",
      "source": [
        "adds = [  [x + y for x, y in zip(row1, row2)]\n",
        "        for row1, row2 in zip(matrix1, matrix2)]\n",
        "adds"
      ],
      "metadata": {
        "colab": {
          "base_uri": "https://localhost:8080/"
        },
        "id": "xv-RmZEjLpvX",
        "outputId": "bc89ae43-3041-4b13-a05b-63223c139e8a"
      },
      "execution_count": 58,
      "outputs": [
        {
          "output_type": "execute_result",
          "data": {
            "text/plain": [
              "[[11, 13, 12], [7, 11, 5], [12, 13, 11]]"
            ]
          },
          "metadata": {},
          "execution_count": 58
        }
      ]
    },
    {
      "cell_type": "markdown",
      "source": [
        ""
      ],
      "metadata": {
        "id": "NTHcUImN9yX-"
      }
    }
  ]
}