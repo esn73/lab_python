{
  "nbformat": 4,
  "nbformat_minor": 0,
  "metadata": {
    "colab": {
      "name": "py07_tuple.ipynb",
      "provenance": [],
      "collapsed_sections": [],
      "toc_visible": true,
      "authorship_tag": "ABX9TyO6pvCuFQa5H3FebTNYDYpQ",
      "include_colab_link": true
    },
    "kernelspec": {
      "name": "python3",
      "display_name": "Python 3"
    },
    "language_info": {
      "name": "python"
    }
  },
  "cells": [
    {
      "cell_type": "markdown",
      "metadata": {
        "id": "view-in-github",
        "colab_type": "text"
      },
      "source": [
        "<a href=\"https://colab.research.google.com/github/esn73/lab_python/blob/master/py07_tuple.ipynb\" target=\"_parent\"><img src=\"https://colab.research.google.com/assets/colab-badge.svg\" alt=\"Open In Colab\"/></a>"
      ]
    },
    {
      "cell_type": "code",
      "execution_count": null,
      "metadata": {
        "id": "woO2QpkOQNEY"
      },
      "outputs": [],
      "source": [
        "# 튜플(Tuple)"
      ]
    },
    {
      "cell_type": "markdown",
      "source": [
        "* tuple: 저장된 원소(아이템)들을 변경할 수 없는 리스트.\n",
        "* 인덱스 기반의 데이터 타입. 인덱스를 사용해서 원소를 참조함. --> indexing, slicing\n",
        "* append(), insert(), extend(), remove(), pop()와 같은 기능(메서드)들은 제공되지 않음."
      ],
      "metadata": {
        "id": "A1JD1VuZQdww"
      }
    },
    {
      "cell_type": "code",
      "source": [
        "numbers = (1, 2, 10, 20, 100)\n",
        "numbers"
      ],
      "metadata": {
        "colab": {
          "base_uri": "https://localhost:8080/"
        },
        "id": "QqoFu0vhRa3U",
        "outputId": "1fe1e271-008b-4903-a89e-ff28a9af1117"
      },
      "execution_count": 1,
      "outputs": [
        {
          "output_type": "execute_result",
          "data": {
            "text/plain": [
              "(1, 2, 10, 20, 100)"
            ]
          },
          "metadata": {},
          "execution_count": 1
        }
      ]
    },
    {
      "cell_type": "code",
      "source": [
        "type(numbers)"
      ],
      "metadata": {
        "colab": {
          "base_uri": "https://localhost:8080/"
        },
        "id": "C9JZxtWGRiWD",
        "outputId": "e274c445-5e94-45f9-a2f1-821ac0b82cfd"
      },
      "execution_count": 2,
      "outputs": [
        {
          "output_type": "execute_result",
          "data": {
            "text/plain": [
              "tuple"
            ]
          },
          "metadata": {},
          "execution_count": 2
        }
      ]
    },
    {
      "cell_type": "markdown",
      "source": [
        "# indexing"
      ],
      "metadata": {
        "id": "u1QsYn7hRomp"
      }
    },
    {
      "cell_type": "code",
      "source": [
        "numbers[0] # 시작 인덱스: 0"
      ],
      "metadata": {
        "colab": {
          "base_uri": "https://localhost:8080/"
        },
        "id": "__iylwiaRv8W",
        "outputId": "7d537942-d323-474d-ee49-65c12ea504c5"
      },
      "execution_count": 4,
      "outputs": [
        {
          "output_type": "execute_result",
          "data": {
            "text/plain": [
              "1"
            ]
          },
          "metadata": {},
          "execution_count": 4
        }
      ]
    },
    {
      "cell_type": "code",
      "source": [
        "numbers[4] # 마지막 인덱스: 원소 개수 -1"
      ],
      "metadata": {
        "colab": {
          "base_uri": "https://localhost:8080/"
        },
        "id": "zq5uFhNwR1Pa",
        "outputId": "f1cdfe40-3e61-4a74-9ea7-a2d3a6c4774f"
      },
      "execution_count": 3,
      "outputs": [
        {
          "output_type": "execute_result",
          "data": {
            "text/plain": [
              "100"
            ]
          },
          "metadata": {},
          "execution_count": 3
        }
      ]
    },
    {
      "cell_type": "code",
      "source": [
        "numbers[-1] # 튜플의 가장 마지막 원소"
      ],
      "metadata": {
        "colab": {
          "base_uri": "https://localhost:8080/"
        },
        "id": "E_xmdzwHSDy2",
        "outputId": "4a976101-9050-4bb9-db8a-ef2532d89853"
      },
      "execution_count": 5,
      "outputs": [
        {
          "output_type": "execute_result",
          "data": {
            "text/plain": [
              "100"
            ]
          },
          "metadata": {},
          "execution_count": 5
        }
      ]
    },
    {
      "cell_type": "markdown",
      "source": [
        "## slicing"
      ],
      "metadata": {
        "id": "4QyUENUcS10w"
      }
    },
    {
      "cell_type": "code",
      "source": [
        "numbers[1:4] #> tuple"
      ],
      "metadata": {
        "colab": {
          "base_uri": "https://localhost:8080/"
        },
        "id": "1M7Y7rUASJGS",
        "outputId": "e059a949-5238-444f-8551-7956761f3e16"
      },
      "execution_count": 8,
      "outputs": [
        {
          "output_type": "execute_result",
          "data": {
            "text/plain": [
              "(2, 10, 20)"
            ]
          },
          "metadata": {},
          "execution_count": 8
        }
      ]
    },
    {
      "cell_type": "code",
      "source": [
        "numbers[:3] #> tuple에서 앞에서 3개 원소 선택"
      ],
      "metadata": {
        "colab": {
          "base_uri": "https://localhost:8080/"
        },
        "id": "4ItwtixjTSQV",
        "outputId": "6b6708ee-8a22-4ada-c135-efbb19eed240"
      },
      "execution_count": 9,
      "outputs": [
        {
          "output_type": "execute_result",
          "data": {
            "text/plain": [
              "(1, 2, 10)"
            ]
          },
          "metadata": {},
          "execution_count": 9
        }
      ]
    },
    {
      "cell_type": "code",
      "source": [
        "numbers[-3:] #> tuple에서 끝에서 3개 원소 선택"
      ],
      "metadata": {
        "colab": {
          "base_uri": "https://localhost:8080/"
        },
        "id": "Ooj2F3UmThTG",
        "outputId": "a94dee71-569d-49f6-8d0c-887de0e43ee0"
      },
      "execution_count": 11,
      "outputs": [
        {
          "output_type": "execute_result",
          "data": {
            "text/plain": [
              "(10, 20, 100)"
            ]
          },
          "metadata": {},
          "execution_count": 11
        }
      ]
    },
    {
      "cell_type": "markdown",
      "source": [
        "# decomposition(분해)"
      ],
      "metadata": {
        "id": "JxP5ccLSUBbJ"
      }
    },
    {
      "cell_type": "code",
      "source": [
        "first, second = (100, 50)\n",
        "print(first)\n",
        "print(second)"
      ],
      "metadata": {
        "colab": {
          "base_uri": "https://localhost:8080/"
        },
        "id": "zRKgM74_T2c7",
        "outputId": "d8067f41-9d03-456a-fb4e-011605990d84"
      },
      "execution_count": 12,
      "outputs": [
        {
          "output_type": "stream",
          "name": "stdout",
          "text": [
            "100\n",
            "50\n"
          ]
        }
      ]
    },
    {
      "cell_type": "code",
      "source": [
        "# tuple뿐만 아니라 list도 decomposition이 가능\n",
        "x, y, z = [1, 2, 3]\n",
        "print(f'x = {x}, y = {y}, z = {z}')"
      ],
      "metadata": {
        "colab": {
          "base_uri": "https://localhost:8080/"
        },
        "id": "36r8snSSUt-B",
        "outputId": "28eda183-5a0f-4f12-d903-db089be335bb"
      },
      "execution_count": 15,
      "outputs": [
        {
          "output_type": "stream",
          "name": "stdout",
          "text": [
            "x = 1, y = 2, z = 3\n"
          ]
        }
      ]
    },
    {
      "cell_type": "markdown",
      "source": [
        "# tuple과 for 반복문"
      ],
      "metadata": {
        "id": "eF750p9aVDby"
      }
    },
    {
      "cell_type": "code",
      "source": [
        "numbers = (1, 20, 3, 40, 500, 1000)\n",
        "for x in numbers:\n",
        "        print(x, end=', ')"
      ],
      "metadata": {
        "colab": {
          "base_uri": "https://localhost:8080/"
        },
        "id": "nW4mbEwFVFpa",
        "outputId": "839bdeb3-f25f-4d96-b333-c5c274bb00c5"
      },
      "execution_count": 19,
      "outputs": [
        {
          "output_type": "stream",
          "name": "stdout",
          "text": [
            "1, 20, 3, 40, 500, 1000, "
          ]
        }
      ]
    },
    {
      "cell_type": "code",
      "source": [
        "numbers = ((1, 2),\n",
        "           (3, 4),\n",
        "           (5, 6))\n",
        "numbers"
      ],
      "metadata": {
        "colab": {
          "base_uri": "https://localhost:8080/"
        },
        "id": "BNPGgoQdVlsc",
        "outputId": "5369d041-ddde-4983-b025-4166849b6e2b"
      },
      "execution_count": 21,
      "outputs": [
        {
          "output_type": "execute_result",
          "data": {
            "text/plain": [
              "((1, 2), (3, 4), (5, 6))"
            ]
          },
          "metadata": {},
          "execution_count": 21
        }
      ]
    },
    {
      "cell_type": "code",
      "source": [
        "for row in numbers:\n",
        "    for x in row:\n",
        "        print(x, end=' ')\n",
        "    print()"
      ],
      "metadata": {
        "colab": {
          "base_uri": "https://localhost:8080/"
        },
        "id": "MAjPUMQnV1op",
        "outputId": "35388c34-ad48-4ca1-c7ad-92157f4fbe96"
      },
      "execution_count": 27,
      "outputs": [
        {
          "output_type": "stream",
          "name": "stdout",
          "text": [
            "1 2 \n",
            "3 4 \n",
            "5 6 \n"
          ]
        }
      ]
    },
    {
      "cell_type": "code",
      "source": [
        "numbers[2][1]"
      ],
      "metadata": {
        "colab": {
          "base_uri": "https://localhost:8080/"
        },
        "id": "1DhBALKJWP2S",
        "outputId": "dcfafa3c-ee51-4452-e6f9-536e8d36d322"
      },
      "execution_count": 32,
      "outputs": [
        {
          "output_type": "execute_result",
          "data": {
            "text/plain": [
              "6"
            ]
          },
          "metadata": {},
          "execution_count": 32
        }
      ]
    },
    {
      "cell_type": "code",
      "source": [
        ""
      ],
      "metadata": {
        "id": "dbBe6iXdWdyB"
      },
      "execution_count": null,
      "outputs": []
    }
  ]
}