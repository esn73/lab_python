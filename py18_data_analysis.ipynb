{
  "nbformat": 4,
  "nbformat_minor": 0,
  "metadata": {
    "colab": {
      "name": "py18_data_analysis.ipynb",
      "provenance": [],
      "collapsed_sections": [],
      "authorship_tag": "ABX9TyN4GoXHtueYmDeczvw6Pa7h",
      "include_colab_link": true
    },
    "kernelspec": {
      "name": "python3",
      "display_name": "Python 3"
    },
    "language_info": {
      "name": "python"
    }
  },
  "cells": [
    {
      "cell_type": "markdown",
      "metadata": {
        "id": "view-in-github",
        "colab_type": "text"
      },
      "source": [
        "<a href=\"https://colab.research.google.com/github/esn73/lab_python/blob/master/py18_data_analysis.ipynb\" target=\"_parent\"><img src=\"https://colab.research.google.com/assets/colab-badge.svg\" alt=\"Open In Colab\"/></a>"
      ]
    },
    {
      "cell_type": "markdown",
      "source": [
        "# 데이터 분석에 많이 사용되는 패키지\n",
        "\n",
        "* NumPy: 다차원 배열(n-dimensional array)을 다루는 패키지. 머신 러닝(machine learning)에서 중요하게 사용됨.\n",
        "* pandas: 데이터프레임(DataFrame)과 시리즈(Series)를 다루는 패키지. 데이터 분석에서 기본으로 사용되는 패키지.\n",
        "* matplotlib: 데이터 시각화(그래프).\n",
        "\n",
        "Google Colab은 데이터 분석과 머신 러닝에 필요한 대부분의 패키지들이 이미 설치되어 있음."
      ],
      "metadata": {
        "id": "CB5uy9cbSabC"
      }
    },
    {
      "cell_type": "code",
      "execution_count": 3,
      "metadata": {
        "id": "M2Gtc48lSO_6"
      },
      "outputs": [],
      "source": [
        "import numpy as np\n",
        "import pandas as pd\n",
        "import matplotlib"
      ]
    },
    {
      "cell_type": "code",
      "source": [
        "# Google Colab에 설치된 패키지 버전\n",
        "print('Numpy version:', np.__version__)\n",
        "print('pandas version:', pd.__version__)\n",
        "print('matplotlib version', matplotlib.__version__)"
      ],
      "metadata": {
        "colab": {
          "base_uri": "https://localhost:8080/"
        },
        "id": "CZx7kMhMUoZR",
        "outputId": "00d3995e-ae02-4396-9b8f-5485785b7604"
      },
      "execution_count": 4,
      "outputs": [
        {
          "output_type": "stream",
          "name": "stdout",
          "text": [
            "Numpy version: 1.21.5\n",
            "pandas version: 1.3.5\n",
            "matplotlib version 3.2.2\n"
          ]
        }
      ]
    },
    {
      "cell_type": "markdown",
      "source": [
        "# Python list\n",
        "\n",
        "* 여러개의 값들을 저장할 수 있는 데이터 타입.\n",
        "* 인덱스를 기반으로 값들을 저장하는 데이터 타입.\n",
        "    * indexing: 인덱스를 원하는 위치의 값을 참조.\n",
        "    * slicing: `(start, end)` 이런 인덱스 범위의 값들로 이루어진 부분 집합(list)을 만듦.\n",
        "* `list + list`:extend 메서드의 기능. 두 개의 리스트를 이어붙여서 하나의 리스트를 만듦.\n",
        "    ```\n",
        "    [1, 2] + [3, 4] = [1, 2, 3, 4]\n",
        "    ```\n",
        "* `list * int, int * list`: list의 원소들을 정수 개수만큼 반복해서 추가.\n",
        "    ```\n",
        "    [1, 2] * 3 = [1, 2, 1, 2, 1, 2]\n",
        "    3 * [1, 2] = [1, 2, 1, 2, 1, 2]"
      ],
      "metadata": {
        "id": "KX0qStAHXQ25"
      }
    },
    {
      "cell_type": "code",
      "source": [
        "num_list1 = [1, 2, 3]\n",
        "num_list2 = [10, 20, 30]"
      ],
      "metadata": {
        "id": "ilyhdxDzY5Mh"
      },
      "execution_count": 5,
      "outputs": []
    },
    {
      "cell_type": "code",
      "source": [
        "# indexing\n",
        "print(num_list1[0])\n",
        "print(num_list1[-1])\n"
      ],
      "metadata": {
        "colab": {
          "base_uri": "https://localhost:8080/"
        },
        "id": "PrSI7p1LY-qI",
        "outputId": "62e605ea-3dae-4fa9-e9a1-ed2bbd326842"
      },
      "execution_count": 10,
      "outputs": [
        {
          "output_type": "stream",
          "name": "stdout",
          "text": [
            "1\n",
            "3\n"
          ]
        }
      ]
    },
    {
      "cell_type": "code",
      "source": [
        "# slicing\n",
        "print(num_list1[:2])\n",
        "print(num_list1[-2:])"
      ],
      "metadata": {
        "colab": {
          "base_uri": "https://localhost:8080/"
        },
        "id": "cGOlLoRzZeBw",
        "outputId": "c9f62818-eb4c-41d5-85f7-1f1ee394ae68"
      },
      "execution_count": 13,
      "outputs": [
        {
          "output_type": "stream",
          "name": "stdout",
          "text": [
            "[1, 2]\n",
            "[2, 3]\n"
          ]
        }
      ]
    },
    {
      "cell_type": "code",
      "source": [
        "num_list1 + num_list2"
      ],
      "metadata": {
        "colab": {
          "base_uri": "https://localhost:8080/"
        },
        "id": "yA6SRhUxZs8Y",
        "outputId": "d502ce14-8cd5-4f89-aad8-48b104c2bc75"
      },
      "execution_count": 14,
      "outputs": [
        {
          "output_type": "execute_result",
          "data": {
            "text/plain": [
              "[1, 2, 3, 10, 20, 30]"
            ]
          },
          "metadata": {},
          "execution_count": 14
        }
      ]
    },
    {
      "cell_type": "markdown",
      "source": [
        ""
      ],
      "metadata": {
        "id": "8j3qkN3VaJCZ"
      }
    },
    {
      "cell_type": "code",
      "source": [
        "2 * num_list1"
      ],
      "metadata": {
        "colab": {
          "base_uri": "https://localhost:8080/"
        },
        "id": "oRSuMAAEZvT4",
        "outputId": "53cbfd89-1253-428b-bc11-e3aafbbf3843"
      },
      "execution_count": 15,
      "outputs": [
        {
          "output_type": "execute_result",
          "data": {
            "text/plain": [
              "[1, 2, 3, 1, 2, 3]"
            ]
          },
          "metadata": {},
          "execution_count": 15
        }
      ]
    },
    {
      "cell_type": "markdown",
      "source": [
        "# NumPy"
      ],
      "metadata": {
        "id": "fuGosN_cxUTX"
      }
    },
    {
      "cell_type": "code",
      "source": [
        "num_arr1 = np.array(num_list1) # np.array(): 객체를 ndarray 타입으로 변환."
      ],
      "metadata": {
        "id": "k0rwX_sAZySg"
      },
      "execution_count": 16,
      "outputs": []
    },
    {
      "cell_type": "code",
      "source": [
        "num_arr1 #식(expression) 출력 - ndarray.__repr__() 메서드의 리턴값을 출력"
      ],
      "metadata": {
        "colab": {
          "base_uri": "https://localhost:8080/"
        },
        "id": "SRwKT2WkxN-R",
        "outputId": "283a72db-28fc-4543-c428-80e2403bd1ac"
      },
      "execution_count": 18,
      "outputs": [
        {
          "output_type": "execute_result",
          "data": {
            "text/plain": [
              "array([1, 2, 3])"
            ]
          },
          "metadata": {},
          "execution_count": 18
        }
      ]
    },
    {
      "cell_type": "code",
      "source": [
        "print(num_arr1) # print() 함수는  ndarray.__str__() 메서드의 리턴값을 출력"
      ],
      "metadata": {
        "colab": {
          "base_uri": "https://localhost:8080/"
        },
        "id": "ur2jvXqfxmah",
        "outputId": "74fb7899-33f1-47ed-d461-3620e8725d40"
      },
      "execution_count": 20,
      "outputs": [
        {
          "output_type": "stream",
          "name": "stdout",
          "text": [
            "[1 2 3]\n"
          ]
        }
      ]
    },
    {
      "cell_type": "code",
      "source": [
        "type(num_arr1)"
      ],
      "metadata": {
        "colab": {
          "base_uri": "https://localhost:8080/"
        },
        "id": "Lc3F9pQ0yDSG",
        "outputId": "e81d1a19-1152-499f-f0ab-33fae793ea6d"
      },
      "execution_count": 21,
      "outputs": [
        {
          "output_type": "execute_result",
          "data": {
            "text/plain": [
              "numpy.ndarray"
            ]
          },
          "metadata": {},
          "execution_count": 21
        }
      ]
    }
  ]
}