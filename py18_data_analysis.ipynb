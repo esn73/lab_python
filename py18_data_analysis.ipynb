{
  "nbformat": 4,
  "nbformat_minor": 0,
  "metadata": {
    "colab": {
      "name": "py18_data_analysis.ipynb",
      "provenance": [],
      "collapsed_sections": [],
      "authorship_tag": "ABX9TyP6CgNlmF/GqTEI5Ikp5foq",
      "include_colab_link": true
    },
    "kernelspec": {
      "name": "python3",
      "display_name": "Python 3"
    },
    "language_info": {
      "name": "python"
    }
  },
  "cells": [
    {
      "cell_type": "markdown",
      "metadata": {
        "id": "view-in-github",
        "colab_type": "text"
      },
      "source": [
        "<a href=\"https://colab.research.google.com/github/esn73/lab_python/blob/master/py18_data_analysis.ipynb\" target=\"_parent\"><img src=\"https://colab.research.google.com/assets/colab-badge.svg\" alt=\"Open In Colab\"/></a>"
      ]
    },
    {
      "cell_type": "markdown",
      "source": [
        "# 데이터 분석에 많이 사용되는 패키지\n",
        "\n",
        "* NumPy: 다차원 배열(n-dimensional array)을 다루는 패키지. 머신 러닝(machine learning)에서 중요하게 사용됨.\n",
        "* pandas: 데이터프레임(DataFrame)과 시리즈(Series)를 다루는 패키지. 데이터 분석에서 기본으로 사용되는 패키지.\n",
        "* matplotlib: 데이터 시각화(그래프).\n",
        "\n",
        "Google Colab은 데이터 분석과 머신 러닝에 필요한 대부분의 패키지들이 이미 설치되어 있음."
      ],
      "metadata": {
        "id": "CB5uy9cbSabC"
      }
    },
    {
      "cell_type": "code",
      "execution_count": null,
      "metadata": {
        "id": "M2Gtc48lSO_6"
      },
      "outputs": [],
      "source": [
        "import numpy as np\n",
        "import pandas as pd\n",
        "import matplotlib"
      ]
    },
    {
      "cell_type": "code",
      "source": [
        "# Google Colab에 설치된 패키지 버전\n",
        "print('Numpy version:', np.__version__)\n",
        "print('pandas version:', pd.__version__)\n",
        "print('matplotlib version', matplotlib.__version__)"
      ],
      "metadata": {
        "colab": {
          "base_uri": "https://localhost:8080/"
        },
        "id": "CZx7kMhMUoZR",
        "outputId": "00d3995e-ae02-4396-9b8f-5485785b7604"
      },
      "execution_count": null,
      "outputs": [
        {
          "output_type": "stream",
          "name": "stdout",
          "text": [
            "Numpy version: 1.21.5\n",
            "pandas version: 1.3.5\n",
            "matplotlib version 3.2.2\n"
          ]
        }
      ]
    },
    {
      "cell_type": "markdown",
      "source": [
        "# Python list\n",
        "\n",
        "* 여러개의 값들을 저장할 수 있는 데이터 타입.\n",
        "* 인덱스를 기반으로 값들을 저장하는 데이터 타입.\n",
        "    * indexing: 인덱스를 원하는 위치의 값을 참조.\n",
        "    * slicing: `(start, end)` 이런 인덱스 범위의 값들로 이루어진 부분 집합(list)을 만듦.\n",
        "* `list + list`:extend 메서드의 기능. 두 개의 리스트를 이어붙여서 하나의 리스트를 만듦.\n",
        "    ```\n",
        "    [1, 2] + [3, 4] = [1, 2, 3, 4]\n",
        "    ```\n",
        "* `list * int, int * list`: list의 원소들을 정수 개수만큼 반복해서 추가.\n",
        "    ```\n",
        "    [1, 2] * 3 = [1, 2, 1, 2, 1, 2]\n",
        "    3 * [1, 2] = [1, 2, 1, 2, 1, 2]"
      ],
      "metadata": {
        "id": "KX0qStAHXQ25"
      }
    },
    {
      "cell_type": "code",
      "source": [
        "num_list1 = [1, 2, 3]\n",
        "num_list2 = [10, 20, 30]"
      ],
      "metadata": {
        "id": "ilyhdxDzY5Mh"
      },
      "execution_count": null,
      "outputs": []
    },
    {
      "cell_type": "code",
      "source": [
        "# indexing\n",
        "print(num_list1[0])\n",
        "print(num_list1[-1])\n"
      ],
      "metadata": {
        "colab": {
          "base_uri": "https://localhost:8080/"
        },
        "id": "PrSI7p1LY-qI",
        "outputId": "62e605ea-3dae-4fa9-e9a1-ed2bbd326842"
      },
      "execution_count": null,
      "outputs": [
        {
          "output_type": "stream",
          "name": "stdout",
          "text": [
            "1\n",
            "3\n"
          ]
        }
      ]
    },
    {
      "cell_type": "code",
      "source": [
        "# slicing\n",
        "print(num_list1[:2])\n",
        "print(num_list1[-2:])"
      ],
      "metadata": {
        "colab": {
          "base_uri": "https://localhost:8080/"
        },
        "id": "cGOlLoRzZeBw",
        "outputId": "c9f62818-eb4c-41d5-85f7-1f1ee394ae68"
      },
      "execution_count": null,
      "outputs": [
        {
          "output_type": "stream",
          "name": "stdout",
          "text": [
            "[1, 2]\n",
            "[2, 3]\n"
          ]
        }
      ]
    },
    {
      "cell_type": "code",
      "source": [
        "num_list1 + num_list2"
      ],
      "metadata": {
        "colab": {
          "base_uri": "https://localhost:8080/"
        },
        "id": "yA6SRhUxZs8Y",
        "outputId": "d502ce14-8cd5-4f89-aad8-48b104c2bc75"
      },
      "execution_count": null,
      "outputs": [
        {
          "output_type": "execute_result",
          "data": {
            "text/plain": [
              "[1, 2, 3, 10, 20, 30]"
            ]
          },
          "metadata": {},
          "execution_count": 14
        }
      ]
    },
    {
      "cell_type": "markdown",
      "source": [
        ""
      ],
      "metadata": {
        "id": "8j3qkN3VaJCZ"
      }
    },
    {
      "cell_type": "code",
      "source": [
        "2 * num_list1"
      ],
      "metadata": {
        "colab": {
          "base_uri": "https://localhost:8080/"
        },
        "id": "oRSuMAAEZvT4",
        "outputId": "53cbfd89-1253-428b-bc11-e3aafbbf3843"
      },
      "execution_count": null,
      "outputs": [
        {
          "output_type": "execute_result",
          "data": {
            "text/plain": [
              "[1, 2, 3, 1, 2, 3]"
            ]
          },
          "metadata": {},
          "execution_count": 15
        }
      ]
    },
    {
      "cell_type": "code",
      "source": [
        "# num_list1과 num_list2의 같은 "
      ],
      "metadata": {
        "id": "I3E4CfgqzCQo"
      },
      "execution_count": null,
      "outputs": []
    },
    {
      "cell_type": "markdown",
      "source": [
        "# NumPy\n",
        "    * 배열(array)을 쉽고 빠르게 연산(+,-,*,/,..)하기 위한 라이브러리.\n",
        "    * NumPy 패키지의 대부분의 기능(함수,메서드)들은 반복문의 기능을 가지고 있음.\n",
        "    * "
      ],
      "metadata": {
        "id": "fuGosN_cxUTX"
      }
    },
    {
      "cell_type": "code",
      "source": [
        "num_arr1 = np.array(num_list1) # np.array(): 객체를 ndarray 타입으로 변환."
      ],
      "metadata": {
        "id": "k0rwX_sAZySg"
      },
      "execution_count": null,
      "outputs": []
    },
    {
      "cell_type": "code",
      "source": [
        "num_arr1 #식(expression) 출력 - ndarray.__repr__() 메서드의 리턴값을 출력"
      ],
      "metadata": {
        "colab": {
          "base_uri": "https://localhost:8080/"
        },
        "id": "SRwKT2WkxN-R",
        "outputId": "283a72db-28fc-4543-c428-80e2403bd1ac"
      },
      "execution_count": null,
      "outputs": [
        {
          "output_type": "execute_result",
          "data": {
            "text/plain": [
              "array([1, 2, 3])"
            ]
          },
          "metadata": {},
          "execution_count": 18
        }
      ]
    },
    {
      "cell_type": "code",
      "source": [
        "print(num_arr1) # print() 함수는  ndarray.__str__() 메서드의 리턴값을 출력"
      ],
      "metadata": {
        "colab": {
          "base_uri": "https://localhost:8080/"
        },
        "id": "ur2jvXqfxmah",
        "outputId": "74fb7899-33f1-47ed-d461-3620e8725d40"
      },
      "execution_count": null,
      "outputs": [
        {
          "output_type": "stream",
          "name": "stdout",
          "text": [
            "[1 2 3]\n"
          ]
        }
      ]
    },
    {
      "cell_type": "code",
      "source": [
        "type(num_arr1)"
      ],
      "metadata": {
        "colab": {
          "base_uri": "https://localhost:8080/"
        },
        "id": "Lc3F9pQ0yDSG",
        "outputId": "437ccefa-a21b-4441-df66-16fdf1ff8d95"
      },
      "execution_count": null,
      "outputs": [
        {
          "output_type": "execute_result",
          "data": {
            "text/plain": [
              "numpy.ndarray"
            ]
          },
          "metadata": {},
          "execution_count": 22
        }
      ]
    },
    {
      "cell_type": "code",
      "source": [
        "num_arr2 = np.array(num_list2)\n",
        "print(num_arr2)"
      ],
      "metadata": {
        "colab": {
          "base_uri": "https://localhost:8080/"
        },
        "id": "YAfbQXioyoRY",
        "outputId": "3b2e3ec3-64d3-41c6-e88e-3978efaf79d6"
      },
      "execution_count": null,
      "outputs": [
        {
          "output_type": "stream",
          "name": "stdout",
          "text": [
            "[10 20 30]\n"
          ]
        }
      ]
    },
    {
      "cell_type": "code",
      "source": [
        "# ndarray의 사칙연산 - element - wise operation\n",
        "print(num_arr1 + num_arr2)\n",
        "print(num_arr1 - num_arr2)\n",
        "print(num_arr1 * num_arr2)\n",
        "print(num_arr1 / num_arr2)\n",
        "\n"
      ],
      "metadata": {
        "colab": {
          "base_uri": "https://localhost:8080/"
        },
        "id": "QIJcW_fyy8J5",
        "outputId": "0a9e6254-b029-40d0-86f6-6ab66a46d862"
      },
      "execution_count": null,
      "outputs": [
        {
          "output_type": "stream",
          "name": "stdout",
          "text": [
            "[11 22 33]\n",
            "[ -9 -18 -27]\n",
            "[10 40 90]\n",
            "[0.1 0.1 0.1]\n"
          ]
        }
      ]
    },
    {
      "cell_type": "code",
      "source": [
        "print(num_arr1 * 2)"
      ],
      "metadata": {
        "colab": {
          "base_uri": "https://localhost:8080/"
        },
        "id": "PVWGmsefzNrY",
        "outputId": "b367f553-ede3-4dcc-d82f-1527e5ec5cc6"
      },
      "execution_count": null,
      "outputs": [
        {
          "output_type": "stream",
          "name": "stdout",
          "text": [
            "[2 4 6]\n"
          ]
        }
      ]
    },
    {
      "cell_type": "code",
      "source": [
        "# ndarray의 속성들(attributes)\n",
        "print(num_arr1)\n",
        "print('ndim = ', num_arr1.ndim) # 차원(dimension)\n",
        "print('size = ', num_arr1.size) # ndarray의 크기 (원소 개수)\n",
        "print('shape = ', num_arr1.shape) # 각 차원에서의 원소의 개수\n",
        "print('dtype = ', num_arr1.dtype) # 원소의 데이터 타입"
      ],
      "metadata": {
        "colab": {
          "base_uri": "https://localhost:8080/"
        },
        "id": "xW2NPUuQ0pm3",
        "outputId": "a415ef92-a285-4d7c-c55b-227ca6bbbe88"
      },
      "execution_count": null,
      "outputs": [
        {
          "output_type": "stream",
          "name": "stdout",
          "text": [
            "[1 2 3]\n",
            "ndim =  1\n",
            "size =  3\n",
            "shape =  (3,)\n",
            "dtype =  int64\n"
          ]
        }
      ]
    },
    {
      "cell_type": "markdown",
      "source": [
        "* Python 숫자타입\n",
        "    * 정수: int\n",
        "    * 실수: float\n",
        "* np의 숫자 타입\n",
        "    * 정수: int8, int16, int32, int64, ...\n",
        "    * 실수: float16, float32, float64, ..."
      ],
      "metadata": {
        "id": "HsHTwDQd2lFm"
      }
    },
    {
      "cell_type": "markdown",
      "source": [
        "# 2차원 ndarray"
      ],
      "metadata": {
        "id": "1jVHiK9G3L5O"
      }
    },
    {
      "cell_type": "code",
      "source": [
        "arr_2d = np.array([[1, 2, 3], [4, 5, 6]])\n",
        "print(arr_2d)"
      ],
      "metadata": {
        "colab": {
          "base_uri": "https://localhost:8080/"
        },
        "id": "m7uoGInT3OWP",
        "outputId": "563ef70f-1f30-42be-cc79-4715ca61e4ec"
      },
      "execution_count": null,
      "outputs": [
        {
          "output_type": "stream",
          "name": "stdout",
          "text": [
            "[[1 2 3]\n",
            " [4 5 6]]\n"
          ]
        }
      ]
    },
    {
      "cell_type": "code",
      "source": [
        "print('ndim = ', arr_2d.ndim)\n",
        "print('size = ', arr_2d.size)\n",
        "print('shape = ', arr_2d.shape) \n",
        "print('dtype = ', arr_2d.dtype)"
      ],
      "metadata": {
        "colab": {
          "base_uri": "https://localhost:8080/"
        },
        "id": "AyoGL2zD3f92",
        "outputId": "8b21ad4f-c845-41de-d759-0f5af05854a2"
      },
      "execution_count": null,
      "outputs": [
        {
          "output_type": "stream",
          "name": "stdout",
          "text": [
            "ndim =  2\n",
            "size =  6\n",
            "shape =  (2, 3)\n",
            "dtype =  int64\n"
          ]
        }
      ]
    },
    {
      "cell_type": "code",
      "source": [
        "arr_2d[1][1]"
      ],
      "metadata": {
        "colab": {
          "base_uri": "https://localhost:8080/"
        },
        "id": "cMW2auT43jcF",
        "outputId": "0a4decdb-fc15-4237-a651-026e6916d6c4"
      },
      "execution_count": null,
      "outputs": [
        {
          "output_type": "execute_result",
          "data": {
            "text/plain": [
              "5"
            ]
          },
          "metadata": {},
          "execution_count": 46
        }
      ]
    },
    {
      "cell_type": "markdown",
      "source": [
        "# np.ndarray 객체 생성 함수\n"
      ],
      "metadata": {
        "id": "GkpcG3db8vOi"
      }
    },
    {
      "cell_type": "markdown",
      "source": [
        "```\n",
        "np.array(objtect\n",
        "```\n",
        "* object 배열과 비슷한 객체들(리스트,튜플,dict,ndarray,...)"
      ],
      "metadata": {
        "id": "dNcrSBSR8vJN"
      }
    },
    {
      "cell_type": "code",
      "source": [
        "# 0 이상 10 이하의 짝수들로 이루어진 ndarray\n",
        "evens = np.array([2 * x for x in range(6)])\n",
        "print(evens)"
      ],
      "metadata": {
        "colab": {
          "base_uri": "https://localhost:8080/"
        },
        "id": "0b8jrYWB9EMd",
        "outputId": "964adff1-3caf-44f2-ffbd-05b185f0a441"
      },
      "execution_count": null,
      "outputs": [
        {
          "output_type": "stream",
          "name": "stdout",
          "text": [
            "[ 0  2  4  6  8 10]\n"
          ]
        }
      ]
    },
    {
      "cell_type": "markdown",
      "source": [
        ""
      ],
      "metadata": {
        "id": "vX7VPl418u6M"
      }
    },
    {
      "cell_type": "markdown",
      "source": [
        "```\n",
        "np.arange(start, end, step)\n",
        "```\n",
        "\n",
        "*`range(start, end, step)` 함수의 사용 방법과 동일"
      ],
      "metadata": {
        "id": "6tdC1yeX9oWH"
      }
    },
    {
      "cell_type": "code",
      "source": [
        "evens = np.arange(0, 11, 2)\n",
        "print(evens)"
      ],
      "metadata": {
        "colab": {
          "base_uri": "https://localhost:8080/"
        },
        "id": "75OEMbZu-A-p",
        "outputId": "4d827508-bfe3-4648-f0c7-e2db71184b9d"
      },
      "execution_count": null,
      "outputs": [
        {
          "output_type": "stream",
          "name": "stdout",
          "text": [
            "[ 0  2  4  6  8 10]\n"
          ]
        }
      ]
    },
    {
      "cell_type": "markdown",
      "source": [
        "```\n",
        "np.reshape(array, shape) 함수\n",
        "np.ndarray.reshape(shpae) 메서드\n",
        "```\n"
      ],
      "metadata": {
        "id": "0DD17Oma-YQI"
      }
    },
    {
      "cell_type": "code",
      "source": [
        "arr = np.arange(12)\n",
        "print(arr) # (12, ) shape의 1차원 배열"
      ],
      "metadata": {
        "colab": {
          "base_uri": "https://localhost:8080/"
        },
        "id": "O1s2C9Ic_xgG",
        "outputId": "e827d0fc-3141-473a-919c-37f910d9ea89"
      },
      "execution_count": null,
      "outputs": [
        {
          "output_type": "stream",
          "name": "stdout",
          "text": [
            "[ 0  1  2  3  4  5  6  7  8  9 10 11]\n"
          ]
        }
      ]
    },
    {
      "cell_type": "code",
      "source": [
        "# 함수 호출\n",
        "np.reshape(arr, (3, 4))"
      ],
      "metadata": {
        "colab": {
          "base_uri": "https://localhost:8080/"
        },
        "id": "vGeyrse2AWrl",
        "outputId": "814eb413-6e69-464a-fdde-23331168181c"
      },
      "execution_count": null,
      "outputs": [
        {
          "output_type": "execute_result",
          "data": {
            "text/plain": [
              "array([[ 0,  1,  2,  3],\n",
              "       [ 4,  5,  6,  7],\n",
              "       [ 8,  9, 10, 11]])"
            ]
          },
          "metadata": {},
          "execution_count": 57
        }
      ]
    },
    {
      "cell_type": "code",
      "source": [
        "# 메서드 호출\n",
        "arr.reshape(3, 4)"
      ],
      "metadata": {
        "colab": {
          "base_uri": "https://localhost:8080/"
        },
        "id": "R6Sq1E11Ak93",
        "outputId": "d7c86a57-72ec-478f-c0de-72a88d3732bf"
      },
      "execution_count": null,
      "outputs": [
        {
          "output_type": "execute_result",
          "data": {
            "text/plain": [
              "array([[ 0,  1,  2,  3],\n",
              "       [ 4,  5,  6,  7],\n",
              "       [ 8,  9, 10, 11]])"
            ]
          },
          "metadata": {},
          "execution_count": 58
        }
      ]
    },
    {
      "cell_type": "code",
      "source": [
        "# 함수(메서드) 연쇄 호출\n",
        "np.arange(6).reshape(3,2)"
      ],
      "metadata": {
        "colab": {
          "base_uri": "https://localhost:8080/"
        },
        "id": "Q6vZqns1Cz1_",
        "outputId": "e902ee62-cc51-48d1-92d5-6651d07706da"
      },
      "execution_count": 60,
      "outputs": [
        {
          "output_type": "execute_result",
          "data": {
            "text/plain": [
              "array([[0, 1],\n",
              "       [2, 3],\n",
              "       [4, 5]])"
            ]
          },
          "metadata": {},
          "execution_count": 60
        }
      ]
    },
    {
      "cell_type": "markdown",
      "source": [
        "```\n",
        "np.random.rand(d0, d1, de, ...) 함수\n",
        "```\n",
        "* `[0, 1)` 범위의 균등분포를 따르는 난수들로 만들어진 ndarray를 생성.\n",
        "* `d0, d1, d2, ...`: ndarray에서 각 차원의 원소의 개수"
      ],
      "metadata": {
        "id": "TALBQbnlDNP-"
      }
    },
    {
      "cell_type": "code",
      "source": [
        "np.random.rand(5) #(5, )shape의 1차원 배열"
      ],
      "metadata": {
        "colab": {
          "base_uri": "https://localhost:8080/"
        },
        "id": "PzsUzEzmEHxG",
        "outputId": "5545df9c-5e07-43ae-fcde-76b2f85b04ec"
      },
      "execution_count": 63,
      "outputs": [
        {
          "output_type": "execute_result",
          "data": {
            "text/plain": [
              "array([0.85298167, 0.53201553, 0.59729117, 0.57627796, 0.3196579 ])"
            ]
          },
          "metadata": {},
          "execution_count": 63
        }
      ]
    },
    {
      "cell_type": "code",
      "source": [
        "np.random.rand(3, 4) # (3, 4) shape의 2차원 배열"
      ],
      "metadata": {
        "colab": {
          "base_uri": "https://localhost:8080/"
        },
        "id": "FATR_HznEiMG",
        "outputId": "60a854dc-6881-4729-dd9b-64ac364f6163"
      },
      "execution_count": 65,
      "outputs": [
        {
          "output_type": "execute_result",
          "data": {
            "text/plain": [
              "array([[0.64906574, 0.10264095, 0.62023851, 0.50546015],\n",
              "       [0.38708183, 0.13655221, 0.63394143, 0.02375639],\n",
              "       [0.25734113, 0.00587583, 0.2934943 , 0.93346039]])"
            ]
          },
          "metadata": {},
          "execution_count": 65
        }
      ]
    },
    {
      "cell_type": "markdown",
      "source": [
        "```\n",
        "np.random.randn(d0, d1, d2, ...) 함수\n",
        "```\n",
        "\n",
        "* 평균이 0이고 표준편차가 1인 표준정규분포(standard normal distribution)를 따르는 난수들의 배열을 생성.\n",
        "* `d0, d1, d2, ...`: ndarray의 각 차원의 원소의 개수."
      ],
      "metadata": {
        "id": "mQfeSVYWFDKd"
      }
    },
    {
      "cell_type": "code",
      "source": [
        "np.random.randn(5)"
      ],
      "metadata": {
        "colab": {
          "base_uri": "https://localhost:8080/"
        },
        "id": "_LnrvHvMEznG",
        "outputId": "7e75bf2e-c5e6-4f55-8ecd-8604a5ab9f03"
      },
      "execution_count": 76,
      "outputs": [
        {
          "output_type": "execute_result",
          "data": {
            "text/plain": [
              "array([ 0.03481965, -0.02079443,  0.03879229,  0.4951681 , -0.58383359])"
            ]
          },
          "metadata": {},
          "execution_count": 76
        }
      ]
    },
    {
      "cell_type": "code",
      "source": [
        "np.random.randn(3, 4)"
      ],
      "metadata": {
        "colab": {
          "base_uri": "https://localhost:8080/"
        },
        "id": "IAm9ey9cGBOW",
        "outputId": "93d3b4eb-3c70-4f35-b951-c104105927b8"
      },
      "execution_count": 77,
      "outputs": [
        {
          "output_type": "execute_result",
          "data": {
            "text/plain": [
              "array([[ 0.16202346,  0.37973805, -0.35715681,  1.15776433],\n",
              "       [-1.10473499,  0.81413689,  1.84013168, -0.21994572],\n",
              "       [-0.17255111, -0.28425625, -0.58746053,  0.75284619]])"
            ]
          },
          "metadata": {},
          "execution_count": 77
        }
      ]
    },
    {
      "cell_type": "markdown",
      "source": [
        "```\n",
        "np.random.randint(low, high, size, dtype) 함수\n",
        "```\n",
        "\n",
        "* `[low, hiht)` 범위의 균등분포를 따르는 정수 난수들의 배열 생성.\n",
        "* `size`: ndarray의 모양(shpae). 정수 또는 정수들의 tuple.\n",
        "* dtype: in8, int16, int32, int64, ..."
      ],
      "metadata": {
        "id": "6SDhu2LZGJj1"
      }
    },
    {
      "cell_type": "code",
      "source": [
        "# 0 이상 10 미만의 정수 난수 5개로 이루어진 리스트\n",
        "np.random.randint(0, 10, 5)"
      ],
      "metadata": {
        "colab": {
          "base_uri": "https://localhost:8080/"
        },
        "id": "vUqSWErbHCGW",
        "outputId": "f99fb7b0-7938-4aa1-c785-7bb30e29c0a4"
      },
      "execution_count": 79,
      "outputs": [
        {
          "output_type": "execute_result",
          "data": {
            "text/plain": [
              "array([2, 9, 1, 0, 1])"
            ]
          },
          "metadata": {},
          "execution_count": 79
        }
      ]
    },
    {
      "cell_type": "code",
      "source": [
        "np.random.randint(0, 10, size=5)"
      ],
      "metadata": {
        "colab": {
          "base_uri": "https://localhost:8080/"
        },
        "id": "M1u0y3stHuy_",
        "outputId": "7557248b-8d1d-418e-8f40-93ae5e1d1ba2"
      },
      "execution_count": 81,
      "outputs": [
        {
          "output_type": "execute_result",
          "data": {
            "text/plain": [
              "array([9, 1, 5, 5, 2])"
            ]
          },
          "metadata": {},
          "execution_count": 81
        }
      ]
    },
    {
      "cell_type": "code",
      "source": [
        "np.random.randint(0, 10, size=(3,4))"
      ],
      "metadata": {
        "colab": {
          "base_uri": "https://localhost:8080/"
        },
        "id": "suDmgbpvHyOF",
        "outputId": "bbad1196-b385-437e-add8-2eda1e9aee60"
      },
      "execution_count": 82,
      "outputs": [
        {
          "output_type": "execute_result",
          "data": {
            "text/plain": [
              "array([[7, 9, 5, 3],\n",
              "       [3, 7, 9, 5],\n",
              "       [9, 9, 2, 2]])"
            ]
          },
          "metadata": {},
          "execution_count": 82
        }
      ]
    }
  ]
}