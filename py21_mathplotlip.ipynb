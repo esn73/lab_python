{
  "nbformat": 4,
  "nbformat_minor": 0,
  "metadata": {
    "colab": {
      "name": "py21_mathplotlip.ipynb",
      "provenance": [],
      "collapsed_sections": [],
      "authorship_tag": "ABX9TyMKdO8bj/jAeYNS0J+POlx1",
      "include_colab_link": true
    },
    "kernelspec": {
      "name": "python3",
      "display_name": "Python 3"
    },
    "language_info": {
      "name": "python"
    }
  },
  "cells": [
    {
      "cell_type": "markdown",
      "metadata": {
        "id": "view-in-github",
        "colab_type": "text"
      },
      "source": [
        "<a href=\"https://colab.research.google.com/github/esn73/lab_python/blob/master/py21_mathplotlip.ipynb\" target=\"_parent\"><img src=\"https://colab.research.google.com/assets/colab-badge.svg\" alt=\"Open In Colab\"/></a>"
      ]
    },
    {
      "cell_type": "code",
      "execution_count": 1,
      "metadata": {
        "id": "tw0pDxohNvSH"
      },
      "outputs": [],
      "source": [
        "import numpy as np                  # ndarray\n",
        "import pandas as pd                 # Sereies, DataFrame\n",
        "import matplotlib.pyplot as plt     # 시각화(그래프)\n",
        "import seaborn as sns               # 시각화, 예제 데이터셋"
      ]
    },
    {
      "cell_type": "markdown",
      "source": [
        "# 데이터 셋"
      ],
      "metadata": {
        "id": "53KUDMTMPFiT"
      }
    },
    {
      "cell_type": "code",
      "source": [
        "tips = sns.load_dataset('tips')"
      ],
      "metadata": {
        "id": "OS5ocWkFPENL"
      },
      "execution_count": 2,
      "outputs": []
    },
    {
      "cell_type": "code",
      "source": [
        "tips.head()"
      ],
      "metadata": {
        "colab": {
          "base_uri": "https://localhost:8080/",
          "height": 206
        },
        "id": "l8yUu-sdP54z",
        "outputId": "f6aac212-2232-45ff-9cde-eca7334603fb"
      },
      "execution_count": 4,
      "outputs": [
        {
          "output_type": "execute_result",
          "data": {
            "text/plain": [
              "   total_bill   tip     sex smoker  day    time  size\n",
              "0       16.99  1.01  Female     No  Sun  Dinner     2\n",
              "1       10.34  1.66    Male     No  Sun  Dinner     3\n",
              "2       21.01  3.50    Male     No  Sun  Dinner     3\n",
              "3       23.68  3.31    Male     No  Sun  Dinner     2\n",
              "4       24.59  3.61  Female     No  Sun  Dinner     4"
            ],
            "text/html": [
              "\n",
              "  <div id=\"df-396f9379-5f4f-42ff-9f16-1874e41aa45c\">\n",
              "    <div class=\"colab-df-container\">\n",
              "      <div>\n",
              "<style scoped>\n",
              "    .dataframe tbody tr th:only-of-type {\n",
              "        vertical-align: middle;\n",
              "    }\n",
              "\n",
              "    .dataframe tbody tr th {\n",
              "        vertical-align: top;\n",
              "    }\n",
              "\n",
              "    .dataframe thead th {\n",
              "        text-align: right;\n",
              "    }\n",
              "</style>\n",
              "<table border=\"1\" class=\"dataframe\">\n",
              "  <thead>\n",
              "    <tr style=\"text-align: right;\">\n",
              "      <th></th>\n",
              "      <th>total_bill</th>\n",
              "      <th>tip</th>\n",
              "      <th>sex</th>\n",
              "      <th>smoker</th>\n",
              "      <th>day</th>\n",
              "      <th>time</th>\n",
              "      <th>size</th>\n",
              "    </tr>\n",
              "  </thead>\n",
              "  <tbody>\n",
              "    <tr>\n",
              "      <th>0</th>\n",
              "      <td>16.99</td>\n",
              "      <td>1.01</td>\n",
              "      <td>Female</td>\n",
              "      <td>No</td>\n",
              "      <td>Sun</td>\n",
              "      <td>Dinner</td>\n",
              "      <td>2</td>\n",
              "    </tr>\n",
              "    <tr>\n",
              "      <th>1</th>\n",
              "      <td>10.34</td>\n",
              "      <td>1.66</td>\n",
              "      <td>Male</td>\n",
              "      <td>No</td>\n",
              "      <td>Sun</td>\n",
              "      <td>Dinner</td>\n",
              "      <td>3</td>\n",
              "    </tr>\n",
              "    <tr>\n",
              "      <th>2</th>\n",
              "      <td>21.01</td>\n",
              "      <td>3.50</td>\n",
              "      <td>Male</td>\n",
              "      <td>No</td>\n",
              "      <td>Sun</td>\n",
              "      <td>Dinner</td>\n",
              "      <td>3</td>\n",
              "    </tr>\n",
              "    <tr>\n",
              "      <th>3</th>\n",
              "      <td>23.68</td>\n",
              "      <td>3.31</td>\n",
              "      <td>Male</td>\n",
              "      <td>No</td>\n",
              "      <td>Sun</td>\n",
              "      <td>Dinner</td>\n",
              "      <td>2</td>\n",
              "    </tr>\n",
              "    <tr>\n",
              "      <th>4</th>\n",
              "      <td>24.59</td>\n",
              "      <td>3.61</td>\n",
              "      <td>Female</td>\n",
              "      <td>No</td>\n",
              "      <td>Sun</td>\n",
              "      <td>Dinner</td>\n",
              "      <td>4</td>\n",
              "    </tr>\n",
              "  </tbody>\n",
              "</table>\n",
              "</div>\n",
              "      <button class=\"colab-df-convert\" onclick=\"convertToInteractive('df-396f9379-5f4f-42ff-9f16-1874e41aa45c')\"\n",
              "              title=\"Convert this dataframe to an interactive table.\"\n",
              "              style=\"display:none;\">\n",
              "        \n",
              "  <svg xmlns=\"http://www.w3.org/2000/svg\" height=\"24px\"viewBox=\"0 0 24 24\"\n",
              "       width=\"24px\">\n",
              "    <path d=\"M0 0h24v24H0V0z\" fill=\"none\"/>\n",
              "    <path d=\"M18.56 5.44l.94 2.06.94-2.06 2.06-.94-2.06-.94-.94-2.06-.94 2.06-2.06.94zm-11 1L8.5 8.5l.94-2.06 2.06-.94-2.06-.94L8.5 2.5l-.94 2.06-2.06.94zm10 10l.94 2.06.94-2.06 2.06-.94-2.06-.94-.94-2.06-.94 2.06-2.06.94z\"/><path d=\"M17.41 7.96l-1.37-1.37c-.4-.4-.92-.59-1.43-.59-.52 0-1.04.2-1.43.59L10.3 9.45l-7.72 7.72c-.78.78-.78 2.05 0 2.83L4 21.41c.39.39.9.59 1.41.59.51 0 1.02-.2 1.41-.59l7.78-7.78 2.81-2.81c.8-.78.8-2.07 0-2.86zM5.41 20L4 18.59l7.72-7.72 1.47 1.35L5.41 20z\"/>\n",
              "  </svg>\n",
              "      </button>\n",
              "      \n",
              "  <style>\n",
              "    .colab-df-container {\n",
              "      display:flex;\n",
              "      flex-wrap:wrap;\n",
              "      gap: 12px;\n",
              "    }\n",
              "\n",
              "    .colab-df-convert {\n",
              "      background-color: #E8F0FE;\n",
              "      border: none;\n",
              "      border-radius: 50%;\n",
              "      cursor: pointer;\n",
              "      display: none;\n",
              "      fill: #1967D2;\n",
              "      height: 32px;\n",
              "      padding: 0 0 0 0;\n",
              "      width: 32px;\n",
              "    }\n",
              "\n",
              "    .colab-df-convert:hover {\n",
              "      background-color: #E2EBFA;\n",
              "      box-shadow: 0px 1px 2px rgba(60, 64, 67, 0.3), 0px 1px 3px 1px rgba(60, 64, 67, 0.15);\n",
              "      fill: #174EA6;\n",
              "    }\n",
              "\n",
              "    [theme=dark] .colab-df-convert {\n",
              "      background-color: #3B4455;\n",
              "      fill: #D2E3FC;\n",
              "    }\n",
              "\n",
              "    [theme=dark] .colab-df-convert:hover {\n",
              "      background-color: #434B5C;\n",
              "      box-shadow: 0px 1px 3px 1px rgba(0, 0, 0, 0.15);\n",
              "      filter: drop-shadow(0px 1px 2px rgba(0, 0, 0, 0.3));\n",
              "      fill: #FFFFFF;\n",
              "    }\n",
              "  </style>\n",
              "\n",
              "      <script>\n",
              "        const buttonEl =\n",
              "          document.querySelector('#df-396f9379-5f4f-42ff-9f16-1874e41aa45c button.colab-df-convert');\n",
              "        buttonEl.style.display =\n",
              "          google.colab.kernel.accessAllowed ? 'block' : 'none';\n",
              "\n",
              "        async function convertToInteractive(key) {\n",
              "          const element = document.querySelector('#df-396f9379-5f4f-42ff-9f16-1874e41aa45c');\n",
              "          const dataTable =\n",
              "            await google.colab.kernel.invokeFunction('convertToInteractive',\n",
              "                                                     [key], {});\n",
              "          if (!dataTable) return;\n",
              "\n",
              "          const docLinkHtml = 'Like what you see? Visit the ' +\n",
              "            '<a target=\"_blank\" href=https://colab.research.google.com/notebooks/data_table.ipynb>data table notebook</a>'\n",
              "            + ' to learn more about interactive tables.';\n",
              "          element.innerHTML = '';\n",
              "          dataTable['output_type'] = 'display_data';\n",
              "          await google.colab.output.renderOutput(dataTable, element);\n",
              "          const docLink = document.createElement('div');\n",
              "          docLink.innerHTML = docLinkHtml;\n",
              "          element.appendChild(docLink);\n",
              "        }\n",
              "      </script>\n",
              "    </div>\n",
              "  </div>\n",
              "  "
            ]
          },
          "metadata": {},
          "execution_count": 4
        }
      ]
    },
    {
      "cell_type": "code",
      "source": [
        "tips.shape"
      ],
      "metadata": {
        "colab": {
          "base_uri": "https://localhost:8080/"
        },
        "id": "HpXueQZxQVM9",
        "outputId": "b3c0a3ea-a42b-4b30-ab59-1094fbef1807"
      },
      "execution_count": 5,
      "outputs": [
        {
          "output_type": "execute_result",
          "data": {
            "text/plain": [
              "(244, 7)"
            ]
          },
          "metadata": {},
          "execution_count": 5
        }
      ]
    },
    {
      "cell_type": "markdown",
      "source": [
        "# `matplotlib.pylot` 모듈을 사용한 시각화\n",
        "\n",
        "1. `figure` 객체 생성\n",
        "1. `figure` 객체에 `subplot`을 생성해서 추가\n",
        "1. subplot에 그래프를 그림.\n",
        "1. 그래프의 여러가지 옵션들을 설정.\n",
        "1. 그래프 보여주기."
      ],
      "metadata": {
        "id": "jOt5Eyx3QeGz"
      }
    },
    {
      "cell_type": "code",
      "source": [
        "# 1. figure 객체 생성\n",
        "fig = plt.figure()\n",
        "\n",
        "# 2. figure 객체에 subplot을 추가.\n",
        "axis =  fig.add_subplot(1, 1, 1) \n",
        "# axis =  fig.add_subplot(2, 1, 2) \n",
        "#> add_subplot(nrows, ncols, index): nrows(행의 개수), ncols(열의 개수), index(subplot의 인덱스)\n",
        "#> subplot의 인덱스는 1부터 시작.\n",
        "\n",
        "# 3. subplot에 그래프를 그림.\n",
        "axis.hist(x=tips['total_bill']) # histogram(히스토그램)\n",
        "\n",
        "# 4. 그래프 옵션 설정\n",
        "axis.set_title('Histgram of total bill')\n",
        "axis.set_xlabel('Total bill')\n",
        "axis.set_ylabel('Counts')\n",
        "axis.grid()\n",
        "\n",
        "# 5. 그래프 보여주기\n",
        "plt.show()"
      ],
      "metadata": {
        "colab": {
          "base_uri": "https://localhost:8080/",
          "height": 295
        },
        "id": "V66ZLeP9QdUY",
        "outputId": "10921305-1dfa-49c4-e15d-f33f9d340224"
      },
      "execution_count": 19,
      "outputs": [
        {
          "output_type": "display_data",
          "data": {
            "text/plain": [
              "<Figure size 432x288 with 1 Axes>"
            ],
            "image/png": "[encoded data removed]"
          },
          "metadata": {
            "needs_background": "light"
          }
        }
      ]
    },
    {
      "cell_type": "code",
      "source": [
        "# 1. figure 생성\n",
        "fig = plt.figure(figsize=(8, 8))\n",
        "\n",
        "# 2. subplot을 추가\n",
        "axis1 = fig.add_subplot(2, 1, 1)\n",
        "axis2 = fig.add_subplot(212) # = add_subplot(2,1,2)와 동일 (pod, **kwargs) 세자리 숫자로 만듦\n",
        "\n",
        "# 3. 각각의 subplot에 그래프를 그림.\n",
        "axis1.hist(x=tips['total_bill']) # 히스토그램\n",
        "axis2.scatter(x=tips['total_bill'], y=tips['tip']) #산점도 \n",
        "\n",
        "# 4. 각각의 그래프 옵션 설정\n",
        "axis1.set_title('Histogram of total bill')\n",
        "axis1.grid()\n",
        "axis2.set_title('Scatter plot')\n",
        "axis2.set_xlabel('Total bill')\n",
        "axis2.set_ylabel('Tip')\n",
        "axis2.grid()\n",
        "\n",
        "#5 그래프 보여주기\n",
        "plt.show()"
      ],
      "metadata": {
        "colab": {
          "base_uri": "https://localhost:8080/",
          "height": 513
        },
        "id": "IIij7hUvaHLc",
        "outputId": "901ddff3-fc56-469f-8608-69143182ced4"
      },
      "execution_count": 47,
      "outputs": [
        {
          "output_type": "display_data",
          "data": {
            "text/plain": [
              "<Figure size 576x576 with 2 Axes>"
            ],
            "image/png": "[encoded data removed]"
          },
          "metadata": {
            "needs_background": "light"
          }
        }
      ]
    },
    {
      "cell_type": "markdown",
      "source": [
        "2개의 subplot을 좌/우로 배치해서 그래프 그리기"
      ],
      "metadata": {
        "id": "B4A6Tc52c_J0"
      }
    },
    {
      "cell_type": "code",
      "source": [
        "fig = plt.figure(figsize=(12, 3))\n",
        "axis3 = fig.add_subplot(121) # nrows=1, ncols=2,  index=1\n",
        "axis4 = fig.add_subplot(122) # nrows=1, ncols=2,  index=1\n",
        "\n",
        "axis3.hist(x=tips['total_bill']) # 히스토그램\n",
        "axis4.scatter(x=tips['total_bill'], y=tips['tip']) # 산점도\n",
        "\n",
        "# 그래프 3 옵션\n",
        "axis3.set_title('Histogram of total bill')\n",
        "axis3.set_xlabel('Total bill')\n",
        "axis3.set_ylabel('Counts')\n",
        "axis3.grid()\n",
        "\n",
        "# 그래프 4 옵션\n",
        "axis4.set_title('Scatter plot')\n",
        "axis4.set_xlabel('Total bill')\n",
        "axis4.set_ylabel('Tip')\n",
        "axis4.grid()\n",
        "\n",
        "plt.show()"
      ],
      "metadata": {
        "colab": {
          "base_uri": "https://localhost:8080/",
          "height": 241
        },
        "id": "Sd0lY854dGfT",
        "outputId": "bc546e7f-4f3b-417e-95f8-3a0a520943ee"
      },
      "execution_count": 69,
      "outputs": [
        {
          "output_type": "display_data",
          "data": {
            "text/plain": [
              "<Figure size 864x216 with 2 Axes>"
            ],
            "image/png": "[encoded data removed]"
          },
          "metadata": {
            "needs_background": "light"
          }
        }
      ]
    },
    {
      "cell_type": "markdown",
      "source": [
        "`plt.subplots()`: figure 객체 생성(`plt.figure()`) + subplot 추가(`figuer_add_sublot()`)"
      ],
      "metadata": {
        "id": "A2ZDAmfkgKuG"
      }
    },
    {
      "cell_type": "code",
      "source": [
        "# figure 객체 생성 + subplot 추가\n",
        "fig, ax = plt.subplots() # nrows=1, ncols=1 ax array\n",
        "#> fig: Figure 클래스의 객체 \n",
        "#> ax: Sbuplot 객체 또는 Subplot 객체들의 리스트\n",
        "\n",
        "# subplot에 그래프 그림\n",
        "ax.hist(x=tips['total_bill'])\n",
        "\n",
        "# 그래프 옵션\n",
        "ax.grid()\n",
        "\n",
        "# 그래프 보여주기\n",
        "plt.show()\n"
      ],
      "metadata": {
        "colab": {
          "base_uri": "https://localhost:8080/",
          "height": 265
        },
        "id": "HBSdnJ9edaWW",
        "outputId": "ede07179-309b-40d2-da56-e81db5e18b53"
      },
      "execution_count": 80,
      "outputs": [
        {
          "output_type": "display_data",
          "data": {
            "text/plain": [
              "<Figure size 432x288 with 1 Axes>"
            ],
            "image/png": "[encoded data removed]"
          },
          "metadata": {
            "needs_background": "light"
          }
        }
      ]
    },
    {
      "cell_type": "code",
      "source": [
        "# plt.subplots() 함수를 사용해서 상/하로 배치한 그래프 2개(hist, scatter)\n",
        "fig, ax = plt.subplots(nrows=2, figsize=(8, 8))\n",
        "print(fig)\n",
        "print(ax)\n",
        "\n",
        "ax[0].hist(x=tips['total_bill']) # 배열의 첫번째 원소를 찾\n",
        "ax[1].scatter(x=tips['total_bill'], y=tips['tip'])\n",
        "\n",
        "ax[0].grid()\n",
        "ax[1].grid()\n",
        "\n",
        "plt.show()"
      ],
      "metadata": {
        "colab": {
          "base_uri": "https://localhost:8080/",
          "height": 538
        },
        "id": "OPeYlOKZnoFp",
        "outputId": "824052a3-6297-4c40-8803-e86815ab9995"
      },
      "execution_count": 106,
      "outputs": [
        {
          "output_type": "stream",
          "name": "stdout",
          "text": [
            "Figure(576x576)\n",
            "[<matplotlib.axes._subplots.AxesSubplot object at 0x7fab0db024d0>\n",
            " <matplotlib.axes._subplots.AxesSubplot object at 0x7fab0de9e6d0>]\n"
          ]
        },
        {
          "output_type": "display_data",
          "data": {
            "text/plain": [
              "<Figure size 576x576 with 2 Axes>"
            ],
            "image/png": "[encoded data removed]"
          },
          "metadata": {
            "needs_background": "light"
          }
        }
      ]
    },
    {
      "cell_type": "code",
      "source": [
        "# plt.subplots() 함수를 사용해서 좌/우로 배치한 그래프 2개(hist, scatter)\n",
        "fig, ax = plt.subplots(ncols=2, figsize=(12, 3))\n",
        "\n",
        "ax[0].hist(x=tips['total_bill']) \n",
        "ax[1].scatter(x=tips['total_bill'], y=tips['tip'])\n",
        "\n",
        "ax[0].grid()\n",
        "ax[1].grid()\n",
        "\n",
        "plt.show()"
      ],
      "metadata": {
        "colab": {
          "base_uri": "https://localhost:8080/",
          "height": 212
        },
        "id": "AfjxPqZwnxNz",
        "outputId": "bdbc7845-d328-4fe8-a99c-11c2b5ffe6ca"
      },
      "execution_count": 105,
      "outputs": [
        {
          "output_type": "display_data",
          "data": {
            "text/plain": [
              "<Figure size 864x216 with 2 Axes>"
            ],
            "image/png": "[encoded data removed]"
          },
          "metadata": {
            "needs_background": "light"
          }
        }
      ]
    },
    {
      "cell_type": "markdown",
      "source": [
        "Figure 객체에 1개의 subplot만 있는 경우에는 `matplotlib.pyplot` 모듈의 top-lebel 함수들(`plot, scatter, hist, ...`)을 사용해서 간단히 그래프를 그릴 수 있음."
      ],
      "metadata": {
        "id": "3ilrhpIDrhaD"
      }
    },
    {
      "cell_type": "code",
      "source": [
        "# Figure 생성 + Figure에 1개의 subplot을 추가 + subplot 히스토그램 그림\n",
        "plt.hist(x=tips['total_bill'])\n",
        "\n",
        "# 옵션 설정\n",
        "plt.title('Histogram of total bill') # module-> 함수들이 정의된 파일\n",
        "plt.grid()\n",
        "\n",
        "# 그래프 보여주기\n",
        "plt.show()"
      ],
      "metadata": {
        "colab": {
          "base_uri": "https://localhost:8080/",
          "height": 281
        },
        "id": "lcpbBDNLrg00",
        "outputId": "2c103870-ea18-4e83-b00f-ffdd1168d221"
      },
      "execution_count": 108,
      "outputs": [
        {
          "output_type": "display_data",
          "data": {
            "text/plain": [
              "<Figure size 432x288 with 1 Axes>"
            ],
            "image/png": "[encoded data removed]"
          },
          "metadata": {
            "needs_background": "light"
          }
        }
      ]
    },
    {
      "cell_type": "markdown",
      "source": [
        "# Box Plot\n",
        "\n",
        "숫자 타입 변수의 기술 통계랑(descriptive statistics)을 시각화\n",
        "\n",
        "* 최솟값, 최댓값, 4분위값(25%, 중앙값, 75%)"
      ],
      "metadata": {
        "id": "IRQfLn19AH4J"
      }
    },
    {
      "cell_type": "code",
      "source": [
        "# tips 데이터프레임의 total_bill 변수(컬럼)의 기술 통계량\n",
        "tips['total_bill'].describe()"
      ],
      "metadata": {
        "colab": {
          "base_uri": "https://localhost:8080/"
        },
        "id": "pazkbdevAmjd",
        "outputId": "4dd4453c-2a77-4015-d249-7a238ad242ce"
      },
      "execution_count": 109,
      "outputs": [
        {
          "output_type": "execute_result",
          "data": {
            "text/plain": [
              "count    244.000000\n",
              "mean      19.785943\n",
              "std        8.902412\n",
              "min        3.070000\n",
              "25%       13.347500\n",
              "50%       17.795000\n",
              "75%       24.127500\n",
              "max       50.810000\n",
              "Name: total_bill, dtype: float64"
            ]
          },
          "metadata": {},
          "execution_count": 109
        }
      ]
    },
    {
      "cell_type": "code",
      "source": [
        "plt.boxplot(x=tips['total_bill'], labels=['Total_bill'])\n",
        "plt.grid()\n",
        "plt.show()"
      ],
      "metadata": {
        "colab": {
          "base_uri": "https://localhost:8080/",
          "height": 266
        },
        "id": "XQMteOTABFf5",
        "outputId": "738f917b-07ab-4730-ac4c-454fe3b0bcb7"
      },
      "execution_count": 116,
      "outputs": [
        {
          "output_type": "display_data",
          "data": {
            "text/plain": [
              "<Figure size 432x288 with 1 Axes>"
            ],
            "image/png": "[encoded data removed]"
          },
          "metadata": {
            "needs_background": "light"
          }
        }
      ]
    },
    {
      "cell_type": "code",
      "source": [
        "# IQR(inter-quartile range):박스 크기(75% - 25%) \n",
        "iqr = 24.127500 - 13.347500\n",
        "iqr"
      ],
      "metadata": {
        "colab": {
          "base_uri": "https://localhost:8080/"
        },
        "id": "mY2eGYKOEs4X",
        "outputId": "708b5862-4399-46c4-ae82-3da7283818dd"
      },
      "execution_count": 119,
      "outputs": [
        {
          "output_type": "execute_result",
          "data": {
            "text/plain": [
              "10.780000000000001"
            ]
          },
          "metadata": {},
          "execution_count": 119
        }
      ]
    },
    {
      "cell_type": "code",
      "source": [
        "upper_fence = 24.127500 + iqr * 1.5 # upper_fence = 75% + iqr * 1.5\n",
        "upper_fence"
      ],
      "metadata": {
        "colab": {
          "base_uri": "https://localhost:8080/"
        },
        "id": "0MRmdLvwFG2Q",
        "outputId": "f71c74c3-731a-4446-ca35-a70f918e80a2"
      },
      "execution_count": 121,
      "outputs": [
        {
          "output_type": "execute_result",
          "data": {
            "text/plain": [
              "40.2975"
            ]
          },
          "metadata": {},
          "execution_count": 121
        }
      ]
    },
    {
      "cell_type": "code",
      "source": [
        "lower_fence = 13.347500 - iqr * 1.5 # lower_fence = 25% - iqr * 1.5\n",
        "lower_fence"
      ],
      "metadata": {
        "colab": {
          "base_uri": "https://localhost:8080/"
        },
        "id": "AgC1vaPsFn4i",
        "outputId": "d0021fad-3b58-451d-db65-e97fc01dda34"
      },
      "execution_count": 123,
      "outputs": [
        {
          "output_type": "execute_result",
          "data": {
            "text/plain": [
              "-2.8225000000000016"
            ]
          },
          "metadata": {},
          "execution_count": 123
        }
      ]
    },
    {
      "cell_type": "code",
      "source": [
        "# total_bill, tip의 box plot\n",
        "plt.boxplot(x=[tips['total_bill'], tips['tip']], labels=['Total bill', 'Tip'])\n",
        "plt.show()"
      ],
      "metadata": {
        "colab": {
          "base_uri": "https://localhost:8080/",
          "height": 265
        },
        "id": "sW3Li8ykGyal",
        "outputId": "6ec4a766-6ac3-4b5f-8edc-54f125651af1"
      },
      "execution_count": 128,
      "outputs": [
        {
          "output_type": "display_data",
          "data": {
            "text/plain": [
              "<Figure size 432x288 with 1 Axes>"
            ],
            "image/png": "[encoded data removed]"
          },
          "metadata": {
            "needs_background": "light"
          }
        }
      ]
    },
    {
      "cell_type": "markdown",
      "source": [
        "성별 tip의 기술 통계량을 시각화 - 남성/여성의 tip의 최솟값, 최댓값, 4분위수"
      ],
      "metadata": {
        "id": "eEVlJpOEH54K"
      }
    },
    {
      "cell_type": "code",
      "source": [
        "tips['sex'].unique()"
      ],
      "metadata": {
        "colab": {
          "base_uri": "https://localhost:8080/"
        },
        "id": "j-KTi_1lH9rf",
        "outputId": "67a1f5e3-9dd5-479f-9da4-a66851fc8bfb"
      },
      "execution_count": 135,
      "outputs": [
        {
          "output_type": "execute_result",
          "data": {
            "text/plain": [
              "['Female', 'Male']\n",
              "Categories (2, object): ['Male', 'Female']"
            ]
          },
          "metadata": {},
          "execution_count": 135
        }
      ]
    },
    {
      "cell_type": "code",
      "source": [
        "# 여성들의 tip\n",
        "female_tip = tips[tips['sex'] == 'Female']['tip']\n",
        "female_tip\n",
        "plt.boxplot(female_tip)"
      ],
      "metadata": {
        "colab": {
          "base_uri": "https://localhost:8080/",
          "height": 412
        },
        "id": "_qRpDKQCJSUA",
        "outputId": "d88e97fb-e10a-44a2-da0f-f333706e0817"
      },
      "execution_count": 144,
      "outputs": [
        {
          "output_type": "execute_result",
          "data": {
            "text/plain": [
              "{'boxes': [<matplotlib.lines.Line2D at 0x7fab0e606fd0>],\n",
              " 'caps': [<matplotlib.lines.Line2D at 0x7fab0f18bcd0>,\n",
              "  <matplotlib.lines.Line2D at 0x7fab0f0f8910>],\n",
              " 'fliers': [<matplotlib.lines.Line2D at 0x7fab0f05b850>],\n",
              " 'means': [],\n",
              " 'medians': [<matplotlib.lines.Line2D at 0x7fab0f3439d0>],\n",
              " 'whiskers': [<matplotlib.lines.Line2D at 0x7fab0f052910>,\n",
              "  <matplotlib.lines.Line2D at 0x7fab0f052710>]}"
            ]
          },
          "metadata": {},
          "execution_count": 144
        },
        {
          "output_type": "display_data",
          "data": {
            "text/plain": [
              "<Figure size 432x288 with 1 Axes>"
            ],
            "image/png": "[encoded data removed]"
          },
          "metadata": {
            "needs_background": "light"
          }
        }
      ]
    },
    {
      "cell_type": "code",
      "source": [
        "# 남성들의 tip\n",
        "male_tip = tips[tips['sex'] == 'Male']['tip']\n",
        "male_tip\n",
        "plt.boxplot(male_tip)"
      ],
      "metadata": {
        "colab": {
          "base_uri": "https://localhost:8080/",
          "height": 412
        },
        "id": "YApt5WUcJrAp",
        "outputId": "b46b1f7e-7f61-48da-fb30-a9201d23deb8"
      },
      "execution_count": 145,
      "outputs": [
        {
          "output_type": "execute_result",
          "data": {
            "text/plain": [
              "{'boxes': [<matplotlib.lines.Line2D at 0x7fab0eb79c90>],\n",
              " 'caps': [<matplotlib.lines.Line2D at 0x7fab0eabb750>,\n",
              "  <matplotlib.lines.Line2D at 0x7fab0eed7f50>],\n",
              " 'fliers': [<matplotlib.lines.Line2D at 0x7fab0e94a450>],\n",
              " 'means': [],\n",
              " 'medians': [<matplotlib.lines.Line2D at 0x7fab0ed6f590>],\n",
              " 'whiskers': [<matplotlib.lines.Line2D at 0x7fab0eb79a90>,\n",
              "  <matplotlib.lines.Line2D at 0x7fab0eabba50>]}"
            ]
          },
          "metadata": {},
          "execution_count": 145
        },
        {
          "output_type": "display_data",
          "data": {
            "text/plain": [
              "<Figure size 432x288 with 1 Axes>"
            ],
            "image/png": "[encoded data removed]"
          },
          "metadata": {
            "needs_background": "light"
          }
        }
      ]
    },
    {
      "cell_type": "code",
      "source": [
        "plt.boxplot(x=[female_tip, male_tip], labels=['Female', 'Male'])\n",
        "plt.grid()\n",
        "plt.show()"
      ],
      "metadata": {
        "colab": {
          "base_uri": "https://localhost:8080/",
          "height": 322
        },
        "id": "48UGqZk1KMOC",
        "outputId": "5548c8ea-4bb0-4e5e-9e86-60cc3bdbfe41"
      },
      "execution_count": 146,
      "outputs": [
        {
          "output_type": "stream",
          "name": "stderr",
          "text": [
            "/usr/local/lib/python3.7/dist-packages/matplotlib/cbook/__init__.py:1376: VisibleDeprecationWarning: Creating an ndarray from ragged nested sequences (which is a list-or-tuple of lists-or-tuples-or ndarrays with different lengths or shapes) is deprecated. If you meant to do this, you must specify 'dtype=object' when creating the ndarray.\n",
            "  X = np.atleast_1d(X.T if isinstance(X, np.ndarray) else np.asarray(X))\n"
          ]
        },
        {
          "output_type": "display_data",
          "data": {
            "text/plain": [
              "<Figure size 432x288 with 1 Axes>"
            ],
            "image/png": "[encoded data removed]"
          },
          "metadata": {
            "needs_background": "light"
          }
        }
      ]
    },
    {
      "cell_type": "markdown",
      "source": [
        "요일별 tip의 기술 통계량 시각화"
      ],
      "metadata": {
        "id": "mxsR_DoPLnxb"
      }
    },
    {
      "cell_type": "code",
      "source": [
        ""
      ],
      "metadata": {
        "id": "AOfQo-fNLpg4"
      },
      "execution_count": null,
      "outputs": []
    }
  ]
}