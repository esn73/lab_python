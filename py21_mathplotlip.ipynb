{
  "nbformat": 4,
  "nbformat_minor": 0,
  "metadata": {
    "colab": {
      "name": "py21_mathplotlip.ipynb",
      "provenance": [],
      "collapsed_sections": [],
      "authorship_tag": "ABX9TyND5Ru0qbUtMLz6gFFYovVE",
      "include_colab_link": true
    },
    "kernelspec": {
      "name": "python3",
      "display_name": "Python 3"
    },
    "language_info": {
      "name": "python"
    }
  },
  "cells": [
    {
      "cell_type": "markdown",
      "metadata": {
        "id": "view-in-github",
        "colab_type": "text"
      },
      "source": [
        "<a href=\"https://colab.research.google.com/github/esn73/lab_python/blob/master/py21_mathplotlip.ipynb\" target=\"_parent\"><img src=\"https://colab.research.google.com/assets/colab-badge.svg\" alt=\"Open In Colab\"/></a>"
      ]
    },
    {
      "cell_type": "code",
      "execution_count": 1,
      "metadata": {
        "id": "tw0pDxohNvSH"
      },
      "outputs": [],
      "source": [
        "import numpy as np                  # ndarray\n",
        "import pandas as pd                 # Sereies, DataFrame\n",
        "import matplotlib.pyplot as plt     # 시각화(그래프)\n",
        "import seaborn as sns               # 시각화, 예제 데이터셋"
      ]
    },
    {
      "cell_type": "markdown",
      "source": [
        "# 데이터 셋"
      ],
      "metadata": {
        "id": "53KUDMTMPFiT"
      }
    },
    {
      "cell_type": "code",
      "source": [
        "tips = sns.load_dataset('tips')"
      ],
      "metadata": {
        "id": "OS5ocWkFPENL"
      },
      "execution_count": 2,
      "outputs": []
    },
    {
      "cell_type": "code",
      "source": [
        "tips.head()"
      ],
      "metadata": {
        "colab": {
          "base_uri": "https://localhost:8080/",
          "height": 206
        },
        "id": "l8yUu-sdP54z",
        "outputId": "f6aac212-2232-45ff-9cde-eca7334603fb"
      },
      "execution_count": 4,
      "outputs": [
        {
          "output_type": "execute_result",
          "data": {
            "text/plain": [
              "   total_bill   tip     sex smoker  day    time  size\n",
              "0       16.99  1.01  Female     No  Sun  Dinner     2\n",
              "1       10.34  1.66    Male     No  Sun  Dinner     3\n",
              "2       21.01  3.50    Male     No  Sun  Dinner     3\n",
              "3       23.68  3.31    Male     No  Sun  Dinner     2\n",
              "4       24.59  3.61  Female     No  Sun  Dinner     4"
            ],
            "text/html": [
              "\n",
              "  <div id=\"df-396f9379-5f4f-42ff-9f16-1874e41aa45c\">\n",
              "    <div class=\"colab-df-container\">\n",
              "      <div>\n",
              "<style scoped>\n",
              "    .dataframe tbody tr th:only-of-type {\n",
              "        vertical-align: middle;\n",
              "    }\n",
              "\n",
              "    .dataframe tbody tr th {\n",
              "        vertical-align: top;\n",
              "    }\n",
              "\n",
              "    .dataframe thead th {\n",
              "        text-align: right;\n",
              "    }\n",
              "</style>\n",
              "<table border=\"1\" class=\"dataframe\">\n",
              "  <thead>\n",
              "    <tr style=\"text-align: right;\">\n",
              "      <th></th>\n",
              "      <th>total_bill</th>\n",
              "      <th>tip</th>\n",
              "      <th>sex</th>\n",
              "      <th>smoker</th>\n",
              "      <th>day</th>\n",
              "      <th>time</th>\n",
              "      <th>size</th>\n",
              "    </tr>\n",
              "  </thead>\n",
              "  <tbody>\n",
              "    <tr>\n",
              "      <th>0</th>\n",
              "      <td>16.99</td>\n",
              "      <td>1.01</td>\n",
              "      <td>Female</td>\n",
              "      <td>No</td>\n",
              "      <td>Sun</td>\n",
              "      <td>Dinner</td>\n",
              "      <td>2</td>\n",
              "    </tr>\n",
              "    <tr>\n",
              "      <th>1</th>\n",
              "      <td>10.34</td>\n",
              "      <td>1.66</td>\n",
              "      <td>Male</td>\n",
              "      <td>No</td>\n",
              "      <td>Sun</td>\n",
              "      <td>Dinner</td>\n",
              "      <td>3</td>\n",
              "    </tr>\n",
              "    <tr>\n",
              "      <th>2</th>\n",
              "      <td>21.01</td>\n",
              "      <td>3.50</td>\n",
              "      <td>Male</td>\n",
              "      <td>No</td>\n",
              "      <td>Sun</td>\n",
              "      <td>Dinner</td>\n",
              "      <td>3</td>\n",
              "    </tr>\n",
              "    <tr>\n",
              "      <th>3</th>\n",
              "      <td>23.68</td>\n",
              "      <td>3.31</td>\n",
              "      <td>Male</td>\n",
              "      <td>No</td>\n",
              "      <td>Sun</td>\n",
              "      <td>Dinner</td>\n",
              "      <td>2</td>\n",
              "    </tr>\n",
              "    <tr>\n",
              "      <th>4</th>\n",
              "      <td>24.59</td>\n",
              "      <td>3.61</td>\n",
              "      <td>Female</td>\n",
              "      <td>No</td>\n",
              "      <td>Sun</td>\n",
              "      <td>Dinner</td>\n",
              "      <td>4</td>\n",
              "    </tr>\n",
              "  </tbody>\n",
              "</table>\n",
              "</div>\n",
              "      <button class=\"colab-df-convert\" onclick=\"convertToInteractive('df-396f9379-5f4f-42ff-9f16-1874e41aa45c')\"\n",
              "              title=\"Convert this dataframe to an interactive table.\"\n",
              "              style=\"display:none;\">\n",
              "        \n",
              "  <svg xmlns=\"http://www.w3.org/2000/svg\" height=\"24px\"viewBox=\"0 0 24 24\"\n",
              "       width=\"24px\">\n",
              "    <path d=\"M0 0h24v24H0V0z\" fill=\"none\"/>\n",
              "    <path d=\"M18.56 5.44l.94 2.06.94-2.06 2.06-.94-2.06-.94-.94-2.06-.94 2.06-2.06.94zm-11 1L8.5 8.5l.94-2.06 2.06-.94-2.06-.94L8.5 2.5l-.94 2.06-2.06.94zm10 10l.94 2.06.94-2.06 2.06-.94-2.06-.94-.94-2.06-.94 2.06-2.06.94z\"/><path d=\"M17.41 7.96l-1.37-1.37c-.4-.4-.92-.59-1.43-.59-.52 0-1.04.2-1.43.59L10.3 9.45l-7.72 7.72c-.78.78-.78 2.05 0 2.83L4 21.41c.39.39.9.59 1.41.59.51 0 1.02-.2 1.41-.59l7.78-7.78 2.81-2.81c.8-.78.8-2.07 0-2.86zM5.41 20L4 18.59l7.72-7.72 1.47 1.35L5.41 20z\"/>\n",
              "  </svg>\n",
              "      </button>\n",
              "      \n",
              "  <style>\n",
              "    .colab-df-container {\n",
              "      display:flex;\n",
              "      flex-wrap:wrap;\n",
              "      gap: 12px;\n",
              "    }\n",
              "\n",
              "    .colab-df-convert {\n",
              "      background-color: #E8F0FE;\n",
              "      border: none;\n",
              "      border-radius: 50%;\n",
              "      cursor: pointer;\n",
              "      display: none;\n",
              "      fill: #1967D2;\n",
              "      height: 32px;\n",
              "      padding: 0 0 0 0;\n",
              "      width: 32px;\n",
              "    }\n",
              "\n",
              "    .colab-df-convert:hover {\n",
              "      background-color: #E2EBFA;\n",
              "      box-shadow: 0px 1px 2px rgba(60, 64, 67, 0.3), 0px 1px 3px 1px rgba(60, 64, 67, 0.15);\n",
              "      fill: #174EA6;\n",
              "    }\n",
              "\n",
              "    [theme=dark] .colab-df-convert {\n",
              "      background-color: #3B4455;\n",
              "      fill: #D2E3FC;\n",
              "    }\n",
              "\n",
              "    [theme=dark] .colab-df-convert:hover {\n",
              "      background-color: #434B5C;\n",
              "      box-shadow: 0px 1px 3px 1px rgba(0, 0, 0, 0.15);\n",
              "      filter: drop-shadow(0px 1px 2px rgba(0, 0, 0, 0.3));\n",
              "      fill: #FFFFFF;\n",
              "    }\n",
              "  </style>\n",
              "\n",
              "      <script>\n",
              "        const buttonEl =\n",
              "          document.querySelector('#df-396f9379-5f4f-42ff-9f16-1874e41aa45c button.colab-df-convert');\n",
              "        buttonEl.style.display =\n",
              "          google.colab.kernel.accessAllowed ? 'block' : 'none';\n",
              "\n",
              "        async function convertToInteractive(key) {\n",
              "          const element = document.querySelector('#df-396f9379-5f4f-42ff-9f16-1874e41aa45c');\n",
              "          const dataTable =\n",
              "            await google.colab.kernel.invokeFunction('convertToInteractive',\n",
              "                                                     [key], {});\n",
              "          if (!dataTable) return;\n",
              "\n",
              "          const docLinkHtml = 'Like what you see? Visit the ' +\n",
              "            '<a target=\"_blank\" href=https://colab.research.google.com/notebooks/data_table.ipynb>data table notebook</a>'\n",
              "            + ' to learn more about interactive tables.';\n",
              "          element.innerHTML = '';\n",
              "          dataTable['output_type'] = 'display_data';\n",
              "          await google.colab.output.renderOutput(dataTable, element);\n",
              "          const docLink = document.createElement('div');\n",
              "          docLink.innerHTML = docLinkHtml;\n",
              "          element.appendChild(docLink);\n",
              "        }\n",
              "      </script>\n",
              "    </div>\n",
              "  </div>\n",
              "  "
            ]
          },
          "metadata": {},
          "execution_count": 4
        }
      ]
    },
    {
      "cell_type": "code",
      "source": [
        "tips.shape"
      ],
      "metadata": {
        "colab": {
          "base_uri": "https://localhost:8080/"
        },
        "id": "HpXueQZxQVM9",
        "outputId": "b3c0a3ea-a42b-4b30-ab59-1094fbef1807"
      },
      "execution_count": 5,
      "outputs": [
        {
          "output_type": "execute_result",
          "data": {
            "text/plain": [
              "(244, 7)"
            ]
          },
          "metadata": {},
          "execution_count": 5
        }
      ]
    },
    {
      "cell_type": "markdown",
      "source": [
        "# `matplotlib.pylot` 모듈을 사용한 시각화\n",
        "\n",
        "1. `figure` 객체 생성\n",
        "1. `figure` 객체에 `subplot`을 생성해서 추가\n",
        "1. subplot에 그래프를 그림.\n",
        "1. 그래프의 여러가지 옵션들을 설정.\n",
        "1. 그래프 보여주기."
      ],
      "metadata": {
        "id": "jOt5Eyx3QeGz"
      }
    },
    {
      "cell_type": "code",
      "source": [
        "# 1. figure 객체 생성\n",
        "fig = plt.figure()\n",
        "\n",
        "# 2. figure 객체에 subplot을 추가.\n",
        "axis =  fig.add_subplot(1, 1, 1) \n",
        "# axis =  fig.add_subplot(2, 1, 2) \n",
        "#> add_subplot(nrows, ncols, index): nrows(행의 개수), ncols(열의 개수), index(subplot의 인덱스)\n",
        "#> subplot의 인덱스는 1부터 시작.\n",
        "\n",
        "# 3. subplot에 그래프를 그림.\n",
        "axis.hist(x=tips['total_bill']) # histogram(히스토그램)\n",
        "\n",
        "# 4. 그래프 옵션 설정\n",
        "axis.set_title('Histgram of total bill')\n",
        "axis.set_xlabel('Total bill')\n",
        "axis.set_ylabel('Counts')\n",
        "axis.grid()\n",
        "\n",
        "# 5. 그래프 보여주기\n",
        "plt.show()"
      ],
      "metadata": {
        "colab": {
          "base_uri": "https://localhost:8080/",
          "height": 295
        },
        "id": "V66ZLeP9QdUY",
        "outputId": "10921305-1dfa-49c4-e15d-f33f9d340224"
      },
      "execution_count": 19,
      "outputs": [
        {
          "output_type": "display_data",
          "data": {
            "text/plain": [
              "<Figure size 432x288 with 1 Axes>"
            ],
            "image/png": "[encoded data removed]"
          },
          "metadata": {
            "needs_background": "light"
          }
        }
      ]
    },
    {
      "cell_type": "code",
      "source": [
        "# 1. figure 생성\n",
        "fig = plt.figure(figsize=(8, 8))\n",
        "\n",
        "# 2. subplot을 추가\n",
        "axis1 = fig.add_subplot(2, 1, 1)\n",
        "axis2 = fig.add_subplot(212) # = add_subplot(2,1,2)와 동일 (pod, **kwargs) 세자리 숫자로 만듦\n",
        "\n",
        "# 3. 각각의 subplot에 그래프를 그림.\n",
        "axis1.hist(x=tips['total_bill']) # 히스토그램\n",
        "axis2.scatter(x=tips['total_bill'], y=tips['tip']) #산점도 \n",
        "\n",
        "# 4. 각각의 그래프 옵션 설정\n",
        "axis1.set_title('Histogram of total bill')\n",
        "axis1.grid()\n",
        "axis2.set_title('Scatter plot')\n",
        "axis2.set_xlabel('Total bill')\n",
        "axis2.set_ylabel('Tip')\n",
        "axis2.grid()\n",
        "\n",
        "#5 그래프 보여주기\n",
        "plt.show()"
      ],
      "metadata": {
        "colab": {
          "base_uri": "https://localhost:8080/",
          "height": 513
        },
        "id": "IIij7hUvaHLc",
        "outputId": "901ddff3-fc56-469f-8608-69143182ced4"
      },
      "execution_count": 47,
      "outputs": [
        {
          "output_type": "display_data",
          "data": {
            "text/plain": [
              "<Figure size 576x576 with 2 Axes>"
            ],
            "image/png": "[encoded data removed]"
          },
          "metadata": {
            "needs_background": "light"
          }
        }
      ]
    },
    {
      "cell_type": "markdown",
      "source": [
        "2개의 subplot을 좌/우로 배치해서 그래프 그리기"
      ],
      "metadata": {
        "id": "B4A6Tc52c_J0"
      }
    },
    {
      "cell_type": "code",
      "source": [
        "fig = plt.figure(figsize=(12, 3))\n",
        "axis3 = fig.add_subplot(121) # nrows=1, ncols=2,  index=1\n",
        "axis4 = fig.add_subplot(122) # nrows=1, ncols=2,  index=1\n",
        "\n",
        "axis3.hist(x=tips['total_bill']) # 히스토그램\n",
        "axis4.scatter(x=tips['total_bill'], y=tips['tip']) # 산점도\n",
        "\n",
        "# 그래프 3 옵션\n",
        "axis3.set_title('Histogram of total bill')\n",
        "axis3.set_xlabel('Total bill')\n",
        "axis3.set_ylabel('Counts')\n",
        "axis3.grid()\n",
        "\n",
        "# 그래프 4 옵션\n",
        "axis4.set_title('Scatter plot')\n",
        "axis4.set_xlabel('Total bill')\n",
        "axis4.set_ylabel('Tip')\n",
        "axis4.grid()\n",
        "\n",
        "plt.show()"
      ],
      "metadata": {
        "colab": {
          "base_uri": "https://localhost:8080/",
          "height": 241
        },
        "id": "Sd0lY854dGfT",
        "outputId": "bc546e7f-4f3b-417e-95f8-3a0a520943ee"
      },
      "execution_count": 69,
      "outputs": [
        {
          "output_type": "display_data",
          "data": {
            "text/plain": [
              "<Figure size 864x216 with 2 Axes>"
            ],
            "image/png": "[encoded data removed]"
          },
          "metadata": {
            "needs_background": "light"
          }
        }
      ]
    },
    {
      "cell_type": "markdown",
      "source": [
        "`plt.subplots()`: figure 객체 생성(`plt.figure()`) + subplot 추가(`figuer_add_sublot()`)"
      ],
      "metadata": {
        "id": "A2ZDAmfkgKuG"
      }
    },
    {
      "cell_type": "code",
      "source": [
        "# figure 객체 생성 + subplot 추가\n",
        "fig, ax = plt.subplots() # nrows=1, ncols=1 ax array\n",
        "#> fig: Figure 클래스의 객체 \n",
        "#> ax: Sbuplot 객체 또는 Subplot 객체들의 리스트\n",
        "\n",
        "# subplot에 그래프 그림\n",
        "ax.hist(x=tips['total_bill'])\n",
        "\n",
        "# 그래프 옵션\n",
        "ax.grid()\n",
        "\n",
        "# 그래프 보여주기\n",
        "plt.show()\n"
      ],
      "metadata": {
        "colab": {
          "base_uri": "https://localhost:8080/",
          "height": 265
        },
        "id": "HBSdnJ9edaWW",
        "outputId": "ede07179-309b-40d2-da56-e81db5e18b53"
      },
      "execution_count": 80,
      "outputs": [
        {
          "output_type": "display_data",
          "data": {
            "text/plain": [
              "<Figure size 432x288 with 1 Axes>"
            ],
            "image/png": "[encoded data removed]"
          },
          "metadata": {
            "needs_background": "light"
          }
        }
      ]
    }
  ]
}