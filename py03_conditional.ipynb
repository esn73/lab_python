{
  "nbformat": 4,
  "nbformat_minor": 0,
  "metadata": {
    "colab": {
      "name": "py03_conditional.ipynb",
      "provenance": [],
      "collapsed_sections": [],
      "include_colab_link": true
    },
    "kernelspec": {
      "name": "python3",
      "display_name": "Python 3"
    },
    "language_info": {
      "name": "python"
    }
  },
  "cells": [
    {
      "cell_type": "markdown",
      "metadata": {
        "id": "view-in-github",
        "colab_type": "text"
      },
      "source": [
        "<a href=\"https://colab.research.google.com/github/esn73/lab_python/blob/master/py03_conditional.ipynb\" target=\"_parent\"><img src=\"https://colab.research.google.com/assets/colab-badge.svg\" alt=\"Open In Colab\"/></a>"
      ]
    },
    {
      "cell_type": "markdown",
      "source": [
        "# 조건문(Conditional Statement)"
      ],
      "metadata": {
        "id": "0_shIl5vGsDF"
      }
    },
    {
      "cell_type": "markdown",
      "source": [
        "## else가 없는 조건문\n",
        "\n",
        "```\n",
        "if 조건식:\n",
        "    조건식을 만족할 때 실행할 코드(들)\n",
        "```\n",
        "\n",
        "* `if 조건식` 뒤에는 반드시 **콜론(:)**을 사용해야 함.\n",
        "* `if` 블록(조건식을 만족할 때 실행할 문장들)은 반드시 **들여쓰기(indentation)**을 해야 함.\n",
        "* 파이썬은 들여쓰기(indentation)이 제대로 되어 있지 않으면 문장이 실행되지 않음!\n"
      ],
      "metadata": {
        "id": "flRfRINxG0sD"
      }
    },
    {
      "cell_type": "code",
      "execution_count": null,
      "metadata": {
        "id": "qr2-O5JpGbAM"
      },
      "outputs": [],
      "source": [
        "n = -100"
      ]
    },
    {
      "cell_type": "code",
      "source": [
        "if n > 0:\n",
        "    print(f'{n}은 양수입니다...')\n",
        "    print('if 블록 내부 끝')\n",
        "print('if 블록 바깥')"
      ],
      "metadata": {
        "colab": {
          "base_uri": "https://localhost:8080/"
        },
        "id": "qJ4yg2ZzIhh0",
        "outputId": "dd4d85f0-ef60-47ed-afeb-692bf7f2bf77"
      },
      "execution_count": null,
      "outputs": [
        {
          "output_type": "stream",
          "name": "stdout",
          "text": [
            "if 블록 내부 끝\n",
            "if 블록 바깥\n"
          ]
        }
      ]
    },
    {
      "cell_type": "markdown",
      "source": [
        "# else 있는 조건문\n",
        "\n",
        "```\n",
        "if 조건식:\n",
        "    조건식을 만족할 때 실행할 문장(들)\n",
        "else:\n",
        "    조건식을 만족하지 못할 때 실행할 문장(들)\n",
        "```\n"
      ],
      "metadata": {
        "id": "0ubQ6S7ALAs1"
      }
    },
    {
      "cell_type": "code",
      "source": [
        "if n > 0:\n",
        "    print(f'{n}은 양수입니다...')\n",
        "else:\n",
        "    print(f'{n}은 양수가 아닙니다...')\n",
        "print('if-else 끝')"
      ],
      "metadata": {
        "colab": {
          "base_uri": "https://localhost:8080/"
        },
        "id": "6JWFfiYHI9Bl",
        "outputId": "7adc1171-a035-4d48-8615-2402f8fd727e"
      },
      "execution_count": null,
      "outputs": [
        {
          "output_type": "stream",
          "name": "stdout",
          "text": [
            "-100은 양수가 아닙니다...\n",
            "if-else 끝\n"
          ]
        }
      ]
    },
    {
      "cell_type": "code",
      "source": [
        "# 정수를 입력받아서 짝수인지 홀수인지 출력\n",
        "number = int(input('정수 입력>>> '))\n",
        "if number % 2 == 0:\n",
        "    print(f'{number}: even')\n",
        "else:\n",
        "    print(f'{number}: odd')"
      ],
      "metadata": {
        "colab": {
          "base_uri": "https://localhost:8080/"
        },
        "id": "6EShJWHyMnaU",
        "outputId": "5fddfa23-67a4-4138-ed31-11694ae49684"
      },
      "execution_count": null,
      "outputs": [
        {
          "output_type": "stream",
          "name": "stdout",
          "text": [
            "정수 입력>>> 21\n",
            "21: odd\n"
          ]
        }
      ]
    }
  ]
}