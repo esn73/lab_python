{
  "nbformat": 4,
  "nbformat_minor": 0,
  "metadata": {
    "colab": {
      "name": "py08_dict.ipynb",
      "provenance": [],
      "collapsed_sections": [],
      "authorship_tag": "ABX9TyPxsKgbLgFnOIqD1bEO4E8h",
      "include_colab_link": true
    },
    "kernelspec": {
      "name": "python3",
      "display_name": "Python 3"
    },
    "language_info": {
      "name": "python"
    }
  },
  "cells": [
    {
      "cell_type": "markdown",
      "metadata": {
        "id": "view-in-github",
        "colab_type": "text"
      },
      "source": [
        "<a href=\"https://colab.research.google.com/github/esn73/lab_python/blob/master/py08_dict.ipynb\" target=\"_parent\"><img src=\"https://colab.research.google.com/assets/colab-badge.svg\" alt=\"Open In Colab\"/></a>"
      ]
    },
    {
      "cell_type": "markdown",
      "source": [
        "# dict\n",
        "\n",
        "* dictionary(사전) 형식의 데이터 타입\n",
        "* 키(key)를 기반으로 값(value)를 저장하는 데이터 타입.\n",
        "  * list, tuple: index를 기반으로 값을 저장하는 데이터 타입.\n",
        "  * key의 역할은 list 또는 tuple에서 인덱스 역할과 마찬가지로, dict 타입에 저장되어 있는 유일한 1개의 값ㅇ르 참조하기 위한 용도."
      ],
      "metadata": {
        "id": "2R_Xzl3kp9TD"
      }
    },
    {
      "cell_type": "code",
      "execution_count": 3,
      "metadata": {
        "colab": {
          "base_uri": "https://localhost:8080/"
        },
        "id": "EjKA8J5Zp4Fa",
        "outputId": "a23089a9-634f-4255-bfb4-8d8e77a8ad7c"
      },
      "outputs": [
        {
          "output_type": "execute_result",
          "data": {
            "text/plain": [
              "{1: '홍길동', 2: 'Scott', 10: '김길동'}"
            ]
          },
          "metadata": {},
          "execution_count": 3
        }
      ],
      "source": [
        "students = {1: '홍길동', 2: 'Scott', 10: '김길동'}\n",
        "students"
      ]
    },
    {
      "cell_type": "code",
      "source": [
        "type(students)"
      ],
      "metadata": {
        "colab": {
          "base_uri": "https://localhost:8080/"
        },
        "id": "PtSDSM_HrhgI",
        "outputId": "e0749b56-2ee0-43f5-cc77-d6cf1fc97148"
      },
      "execution_count": 5,
      "outputs": [
        {
          "output_type": "execute_result",
          "data": {
            "text/plain": [
              "dict"
            ]
          },
          "metadata": {},
          "execution_count": 5
        }
      ]
    },
    {
      "cell_type": "code",
      "source": [
        "len(students)"
      ],
      "metadata": {
        "colab": {
          "base_uri": "https://localhost:8080/"
        },
        "id": "Y1QO97Hsrmjn",
        "outputId": "8761a388-3e06-46ff-c079-ee2aa2b41661"
      },
      "execution_count": 6,
      "outputs": [
        {
          "output_type": "execute_result",
          "data": {
            "text/plain": [
              "3"
            ]
          },
          "metadata": {},
          "execution_count": 6
        }
      ]
    },
    {
      "cell_type": "code",
      "source": [
        "# dict의 저장된 값(value)를 참조할 떄 인덱스 연산자([])와 키(key)를 사용.\n",
        "students[1]"
      ],
      "metadata": {
        "colab": {
          "base_uri": "https://localhost:8080/",
          "height": 35
        },
        "id": "GjG5vVYLsDWM",
        "outputId": "72f9608e-5277-4e14-ed0c-dbf25c0243fd"
      },
      "execution_count": 7,
      "outputs": [
        {
          "output_type": "execute_result",
          "data": {
            "application/vnd.google.colaboratory.intrinsic+json": {
              "type": "string"
            },
            "text/plain": [
              "'홍길동'"
            ]
          },
          "metadata": {},
          "execution_count": 7
        }
      ]
    },
    {
      "cell_type": "code",
      "source": [
        "# dict에 새로운 아이템 추가: dict[new_key] = value\n",
        "students[11] = 'Tiger'\n",
        "students"
      ],
      "metadata": {
        "colab": {
          "base_uri": "https://localhost:8080/"
        },
        "id": "_0deox9As5mZ",
        "outputId": "2cb56e2d-0e88-479d-b496-cc35f8cf0716"
      },
      "execution_count": 12,
      "outputs": [
        {
          "output_type": "execute_result",
          "data": {
            "text/plain": [
              "{1: '홍길동', 2: 'Scott', 3: 'e', 10: 'King', 11: 'Tiger'}"
            ]
          },
          "metadata": {},
          "execution_count": 12
        }
      ]
    },
    {
      "cell_type": "code",
      "source": [
        "# dict에서 해당 키의 값을 변경: dict[key] = new_value\n",
        "students[10] = 'King'\n",
        "students"
      ],
      "metadata": {
        "colab": {
          "base_uri": "https://localhost:8080/"
        },
        "id": "UddeyYiTtTJi",
        "outputId": "c0814342-87c5-4f1e-f6a3-d20c1c1439d5"
      },
      "execution_count": 13,
      "outputs": [
        {
          "output_type": "execute_result",
          "data": {
            "text/plain": [
              "{1: '홍길동', 2: 'Scott', 3: 'e', 10: 'King', 11: 'Tiger'}"
            ]
          },
          "metadata": {},
          "execution_count": 13
        }
      ]
    },
    {
      "cell_type": "markdown",
      "source": [
        "# dict의 메서드(기능)"
      ],
      "metadata": {
        "id": "evCXxVw8t2e2"
      }
    },
    {
      "cell_type": "code",
      "source": [
        "book = {'title': '점프 투 파이썬', 'author': '박응용', 'price': 10_000}\n",
        "book"
      ],
      "metadata": {
        "colab": {
          "base_uri": "https://localhost:8080/"
        },
        "id": "aAtZIYggt8l6",
        "outputId": "96e9823f-a5a3-41ed-b593-1576202ff6ac"
      },
      "execution_count": 14,
      "outputs": [
        {
          "output_type": "execute_result",
          "data": {
            "text/plain": [
              "{'author': '박응용', 'price': 10000, 'title': '점프 투 파이썬'}"
            ]
          },
          "metadata": {},
          "execution_count": 14
        }
      ]
    },
    {
      "cell_type": "code",
      "source": [
        "# dict의 key들의 집합\n",
        "book.keys()"
      ],
      "metadata": {
        "colab": {
          "base_uri": "https://localhost:8080/"
        },
        "id": "e0SXVkuwuzmz",
        "outputId": "416da9f4-7bba-408e-b797-15e34cdaf624"
      },
      "execution_count": 15,
      "outputs": [
        {
          "output_type": "execute_result",
          "data": {
            "text/plain": [
              "dict_keys(['title', 'author', 'price'])"
            ]
          },
          "metadata": {},
          "execution_count": 15
        }
      ]
    },
    {
      "cell_type": "code",
      "source": [
        "# dict의 value들의 집합\n",
        "book.values()"
      ],
      "metadata": {
        "colab": {
          "base_uri": "https://localhost:8080/"
        },
        "id": "IpGEpbIwvV1W",
        "outputId": "de7e2d36-8ca9-4719-c3ea-d8eed3f716d3"
      },
      "execution_count": 16,
      "outputs": [
        {
          "output_type": "execute_result",
          "data": {
            "text/plain": [
              "dict_values(['점프 투 파이썬', '박응용', 10000])"
            ]
          },
          "metadata": {},
          "execution_count": 16
        }
      ]
    },
    {
      "cell_type": "code",
      "source": [
        "#dict의 item(key, value)들의 집합\n",
        "book.items()"
      ],
      "metadata": {
        "colab": {
          "base_uri": "https://localhost:8080/"
        },
        "id": "nw85kDj2vpNB",
        "outputId": "034f3171-7a38-4870-caf1-2365a90c1028"
      },
      "execution_count": 18,
      "outputs": [
        {
          "output_type": "execute_result",
          "data": {
            "text/plain": [
              "dict_items([('title', '점프 투 파이썬'), ('author', '박응용'), ('price', 10000)])"
            ]
          },
          "metadata": {},
          "execution_count": 18
        }
      ]
    },
    {
      "cell_type": "code",
      "source": [
        "# dict에서 해당 key의 value를 리턴.\n",
        "book['title'] # 인덱스 연산자 + 키"
      ],
      "metadata": {
        "colab": {
          "base_uri": "https://localhost:8080/",
          "height": 35
        },
        "id": "17i8-VlIwmxw",
        "outputId": "c2a6c84a-7887-42a6-9d17-ff1eebb81d73"
      },
      "execution_count": 20,
      "outputs": [
        {
          "output_type": "execute_result",
          "data": {
            "application/vnd.google.colaboratory.intrinsic+json": {
              "type": "string"
            },
            "text/plain": [
              "'점프 투 파이썬'"
            ]
          },
          "metadata": {},
          "execution_count": 20
        }
      ]
    },
    {
      "cell_type": "code",
      "source": [
        "book.get('title') # 메서드 호출하면서 키를 argument로 전달."
      ],
      "metadata": {
        "colab": {
          "base_uri": "https://localhost:8080/",
          "height": 35
        },
        "id": "R17hbz9XxAZj",
        "outputId": "4b695cc0-a55b-448c-99e8-5b47b39a3329"
      },
      "execution_count": 22,
      "outputs": [
        {
          "output_type": "execute_result",
          "data": {
            "application/vnd.google.colaboratory.intrinsic+json": {
              "type": "string"
            },
            "text/plain": [
              "'점프 투 파이썬'"
            ]
          },
          "metadata": {},
          "execution_count": 22
        }
      ]
    },
    {
      "cell_type": "code",
      "source": [
        "# 인덱스 연산자를 사용하는 경우, dict에 없는 키를 사용하면 KeyError가 발생함.\n",
        "# print(book['isbn'])\n",
        "\n",
        "# get() 메서드를 호출할 때는 dict에 없는 키인 경우 None을 리턴.\n",
        "print(book.get('isbn'))"
      ],
      "metadata": {
        "colab": {
          "base_uri": "https://localhost:8080/"
        },
        "id": "8p7hFUrgxT9U",
        "outputId": "2e69a23c-0a57-4abc-dda8-572c76fc0abf"
      },
      "execution_count": 26,
      "outputs": [
        {
          "output_type": "stream",
          "name": "stdout",
          "text": [
            "None\n"
          ]
        }
      ]
    },
    {
      "cell_type": "code",
      "source": [
        "# dict에서 아이템 삭제\n",
        "book.pop('price')"
      ],
      "metadata": {
        "id": "zgQjguSmySt1"
      },
      "execution_count": null,
      "outputs": []
    },
    {
      "cell_type": "code",
      "source": [
        "book"
      ],
      "metadata": {
        "colab": {
          "base_uri": "https://localhost:8080/"
        },
        "id": "Babd-smEzCrb",
        "outputId": "7e53a5cd-1630-4b4c-a515-b29d9dfed88f"
      },
      "execution_count": 29,
      "outputs": [
        {
          "output_type": "execute_result",
          "data": {
            "text/plain": [
              "{'author': '박응용', 'title': '점프 투 파이썬'}"
            ]
          },
          "metadata": {},
          "execution_count": 29
        }
      ]
    },
    {
      "cell_type": "markdown",
      "source": [
        "dict는 키(key)와  값(value) 모두 다양한 타입의 자료들을 사용할 수 있음."
      ],
      "metadata": {
        "id": "Z8-Pq9Lb3gx7"
      }
    },
    {
      "cell_type": "code",
      "source": [
        "contact = {\n",
        "    'no' : 1,\n",
        "    'name': '오쌤',\n",
        "    'phone': ['010-1111-2222', '02-1234-5678'], \n",
        "    'email': {'personal':'jake@gmail.com', 'company': 'jake@itiwill.co.kr'}\n",
        "}\n",
        "contact"
      ],
      "metadata": {
        "colab": {
          "base_uri": "https://localhost:8080/"
        },
        "id": "7E3biw9Y3myL",
        "outputId": "f8b5ff8c-6c1a-4bc4-d417-5c1aede10f69"
      },
      "execution_count": 33,
      "outputs": [
        {
          "output_type": "execute_result",
          "data": {
            "text/plain": [
              "{'email': {'company': 'jake@itiwill.co.kr', 'personal': 'jake@gmail.com'},\n",
              " 'name': '오쌤',\n",
              " 'no': 1,\n",
              " 'phone': ['010-1111-2222', '02-1234-5678']}"
            ]
          },
          "metadata": {},
          "execution_count": 33
        }
      ]
    },
    {
      "cell_type": "code",
      "source": [
        "contact['no'] #> int"
      ],
      "metadata": {
        "colab": {
          "base_uri": "https://localhost:8080/"
        },
        "id": "lgomRhb64sGz",
        "outputId": "c903f763-79cf-4181-bbc3-2e5324c1366a"
      },
      "execution_count": 35,
      "outputs": [
        {
          "output_type": "execute_result",
          "data": {
            "text/plain": [
              "1"
            ]
          },
          "metadata": {},
          "execution_count": 35
        }
      ]
    },
    {
      "cell_type": "code",
      "source": [
        "contact['phone'] #> list"
      ],
      "metadata": {
        "colab": {
          "base_uri": "https://localhost:8080/"
        },
        "id": "TvvOP48T4yxS",
        "outputId": "3914fe95-563b-4db0-a2c6-27913557e113"
      },
      "execution_count": 36,
      "outputs": [
        {
          "output_type": "execute_result",
          "data": {
            "text/plain": [
              "['010-1111-2222', '02-1234-5678']"
            ]
          },
          "metadata": {},
          "execution_count": 36
        }
      ]
    },
    {
      "cell_type": "code",
      "source": [
        "contact['phone'][0]"
      ],
      "metadata": {
        "colab": {
          "base_uri": "https://localhost:8080/",
          "height": 35
        },
        "id": "ggA1Brg4416i",
        "outputId": "b9ee9340-0f6f-4364-b331-776cc92a3978"
      },
      "execution_count": 38,
      "outputs": [
        {
          "output_type": "execute_result",
          "data": {
            "application/vnd.google.colaboratory.intrinsic+json": {
              "type": "string"
            },
            "text/plain": [
              "'010-1111-2222'"
            ]
          },
          "metadata": {},
          "execution_count": 38
        }
      ]
    },
    {
      "cell_type": "code",
      "source": [
        "contact['email']"
      ],
      "metadata": {
        "colab": {
          "base_uri": "https://localhost:8080/"
        },
        "id": "WLrhpG7Z5PQa",
        "outputId": "dd22070d-5f59-452c-a30a-d1b2b4d7493b"
      },
      "execution_count": 39,
      "outputs": [
        {
          "output_type": "execute_result",
          "data": {
            "text/plain": [
              "{'company': 'jake@itiwill.co.kr', 'personal': 'jake@gmail.com'}"
            ]
          },
          "metadata": {},
          "execution_count": 39
        }
      ]
    },
    {
      "cell_type": "code",
      "source": [
        "contact['email']['company'] #> dict"
      ],
      "metadata": {
        "colab": {
          "base_uri": "https://localhost:8080/",
          "height": 35
        },
        "id": "4_KtDOhX5SEa",
        "outputId": "e7006c9d-2427-42c1-d0fa-daf7a79a61c2"
      },
      "execution_count": 40,
      "outputs": [
        {
          "output_type": "execute_result",
          "data": {
            "application/vnd.google.colaboratory.intrinsic+json": {
              "type": "string"
            },
            "text/plain": [
              "'jake@itiwill.co.kr'"
            ]
          },
          "metadata": {},
          "execution_count": 40
        }
      ]
    },
    {
      "cell_type": "markdown",
      "source": [
        "# dict와 for 반복문"
      ],
      "metadata": {
        "id": "GY_YJhlE5tX2"
      }
    },
    {
      "cell_type": "markdown",
      "source": [
        "for-in 구문에 dict 타입 객체를 사용하면, key에 대해서 반복(iteration)을 함."
      ],
      "metadata": {
        "id": "oY-QCYfE6R80"
      }
    },
    {
      "cell_type": "code",
      "source": [
        "for k in contact:\n",
        "  print(k)"
      ],
      "metadata": {
        "colab": {
          "base_uri": "https://localhost:8080/"
        },
        "id": "r5a9H6WM5yPn",
        "outputId": "806b24ee-0018-4e68-b3bb-68bdfb125259"
      },
      "execution_count": 42,
      "outputs": [
        {
          "output_type": "stream",
          "name": "stdout",
          "text": [
            "no\n",
            "name\n",
            "phone\n",
            "email\n"
          ]
        }
      ]
    },
    {
      "cell_type": "code",
      "source": [
        "for k in contact:\n",
        "    print(k, \":\", contact[k])"
      ],
      "metadata": {
        "colab": {
          "base_uri": "https://localhost:8080/"
        },
        "id": "5TNBvX2I6h80",
        "outputId": "31f16824-b70c-4a43-d607-6c7d278a0189"
      },
      "execution_count": 44,
      "outputs": [
        {
          "output_type": "stream",
          "name": "stdout",
          "text": [
            "no : 1\n",
            "name : 오쌤\n",
            "phone : ['010-1111-2222', '02-1234-5678']\n",
            "email : {'personal': 'jake@gmail.com', 'company': 'jake@itiwill.co.kr'}\n"
          ]
        }
      ]
    },
    {
      "cell_type": "code",
      "source": [
        "for item in contact.items():\n",
        "        print(item)"
      ],
      "metadata": {
        "colab": {
          "base_uri": "https://localhost:8080/"
        },
        "id": "i0kYk8WX652k",
        "outputId": "590d2b52-72c6-4069-e0d4-2800b70b452c"
      },
      "execution_count": 45,
      "outputs": [
        {
          "output_type": "stream",
          "name": "stdout",
          "text": [
            "('no', 1)\n",
            "('name', '오쌤')\n",
            "('phone', ['010-1111-2222', '02-1234-5678'])\n",
            "('email', {'personal': 'jake@gmail.com', 'company': 'jake@itiwill.co.kr'})\n"
          ]
        }
      ]
    },
    {
      "cell_type": "code",
      "source": [
        "# tuple decomposition: k, v = ('no', 1)\n",
        "for k, v in contact.items():\n",
        "      print(k, ':', v)"
      ],
      "metadata": {
        "colab": {
          "base_uri": "https://localhost:8080/"
        },
        "id": "spKY6P9a7OB2",
        "outputId": "3a1edb60-0a75-4711-90f8-5f35703828c1"
      },
      "execution_count": 46,
      "outputs": [
        {
          "output_type": "stream",
          "name": "stdout",
          "text": [
            "no : 1\n",
            "name : 오쌤\n",
            "phone : ['010-1111-2222', '02-1234-5678']\n",
            "email : {'personal': 'jake@gmail.com', 'company': 'jake@itiwill.co.kr'}\n"
          ]
        }
      ]
    },
    {
      "cell_type": "markdown",
      "source": [
        "# Dictionary Comprehension"
      ],
      "metadata": {
        "id": "QMW2cVHP79jE"
      }
    },
    {
      "cell_type": "code",
      "source": [
        "emp_no = [101, 102, 103, 201, 202] # 사번 리스트\n",
        "emp_name = ['King','Scott', 'Allen', 'Tiger', '오쌤'] # 직원 이름 리스트"
      ],
      "metadata": {
        "id": "psMz-n6h8N2V"
      },
      "execution_count": 47,
      "outputs": []
    },
    {
      "cell_type": "code",
      "source": [
        "# 사번을 key 로 하고, 이름을 value로 하는 dict 객체 생성\n",
        "# 1) empty dict\n",
        "emp = {}\n",
        "# 2) dict[k] = v 추가 반복\n",
        "for i in range(5):\n",
        "   emp[emp_no[i]] = emp_name[i]\n",
        "      \n",
        "print(emp)\n"
      ],
      "metadata": {
        "colab": {
          "base_uri": "https://localhost:8080/"
        },
        "id": "17BI36f88fo7",
        "outputId": "8447bb64-932f-46f4-dbb9-d0b3ba7480bb"
      },
      "execution_count": 52,
      "outputs": [
        {
          "output_type": "stream",
          "name": "stdout",
          "text": [
            "{101: 'King', 102: 'Scott', 103: 'Allen', 201: 'Tiger', 202: '오쌤'}\n"
          ]
        }
      ]
    },
    {
      "cell_type": "code",
      "source": [
        "emp = {}\n",
        "for x, y in zip(emp_no, emp_name):\n",
        "    emp[x] = y\n",
        "\n",
        "emp"
      ],
      "metadata": {
        "colab": {
          "base_uri": "https://localhost:8080/"
        },
        "id": "bxscu16b9UMq",
        "outputId": "e2fd9a2d-85c3-40b4-f9f8-f6b3a5de2eab"
      },
      "execution_count": 55,
      "outputs": [
        {
          "output_type": "execute_result",
          "data": {
            "text/plain": [
              "{101: 'King', 102: 'Scott', 103: 'Allen', 201: 'Tiger', 202: '오쌤'}"
            ]
          },
          "metadata": {},
          "execution_count": 55
        }
      ]
    },
    {
      "cell_type": "code",
      "source": [
        "# dictionary comprehension\n",
        "emp = {k: v for k, v in zip(emp_no, emp_name)}\n",
        "emp"
      ],
      "metadata": {
        "colab": {
          "base_uri": "https://localhost:8080/"
        },
        "id": "pbvopAXg_sr-",
        "outputId": "4feed8b3-9a90-4e15-8cb5-b473b4617bd3"
      },
      "execution_count": 57,
      "outputs": [
        {
          "output_type": "execute_result",
          "data": {
            "text/plain": [
              "{101: 'King', 102: 'Scott', 103: 'Allen', 201: 'Tiger', 202: '오쌤'}"
            ]
          },
          "metadata": {},
          "execution_count": 57
        }
      ]
    },
    {
      "cell_type": "code",
      "source": [
        "fruits = ['apple', 'banana', 'cherry', 'pineapple', 'watermelon']\n",
        "\n",
        "# {과일이름:이름의 길이} 형식ㄷ의 dict를 생성: {'apple':5, 'banana':6 ...}\n",
        "fruit_lengths = {} # 빈 dict\n",
        "for x in fruits:\n",
        "    # print(x, len(x))\n",
        "    fruit_lengths[x] = len(x)\n",
        "fruit_lengths\n",
        "                            "
      ],
      "metadata": {
        "colab": {
          "base_uri": "https://localhost:8080/"
        },
        "id": "O2E8jr8HAcUE",
        "outputId": "245cb480-0a34-40f2-cd8a-ff84bcf63796"
      },
      "execution_count": 63,
      "outputs": [
        {
          "output_type": "execute_result",
          "data": {
            "text/plain": [
              "{'apple': 5, 'banana': 6, 'cherry': 6, 'pineapple': 9, 'watermelon': 10}"
            ]
          },
          "metadata": {},
          "execution_count": 63
        }
      ]
    },
    {
      "cell_type": "code",
      "source": [
        "lengths = {k: len(k) for k in fruits}\n",
        "lengths"
      ],
      "metadata": {
        "colab": {
          "base_uri": "https://localhost:8080/"
        },
        "id": "ircDVZ0eCHMm",
        "outputId": "56fadf5d-8853-4102-91f3-0fd1799fe5a6"
      },
      "execution_count": 65,
      "outputs": [
        {
          "output_type": "execute_result",
          "data": {
            "text/plain": [
              "{'apple': 5, 'banana': 6, 'cherry': 6, 'pineapple': 9, 'watermelon': 10}"
            ]
          },
          "metadata": {},
          "execution_count": 65
        }
      ]
    }
  ]
}