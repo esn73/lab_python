{
  "nbformat": 4,
  "nbformat_minor": 0,
  "metadata": {
    "colab": {
      "name": "py16_file.ipynb",
      "provenance": [],
      "collapsed_sections": [],
      "mount_file_id": "1y2oaVYB5GEvrloDnBh4ChtEpFf0FBYOC",
      "authorship_tag": "ABX9TyMRUZY30wSoQuhD295YnvXh",
      "include_colab_link": true
    },
    "kernelspec": {
      "name": "python3",
      "display_name": "Python 3"
    },
    "language_info": {
      "name": "python"
    }
  },
  "cells": [
    {
      "cell_type": "markdown",
      "metadata": {
        "id": "view-in-github",
        "colab_type": "text"
      },
      "source": [
        "<a href=\"https://colab.research.google.com/github/esn73/lab_python/blob/master/py16_file.ipynb\" target=\"_parent\"><img src=\"https://colab.research.google.com/assets/colab-badge.svg\" alt=\"Open In Colab\"/></a>"
      ]
    },
    {
      "cell_type": "markdown",
      "source": [
        "# 파일 쓰기(write)\n",
        "\n",
        "1. 파일 열기(open)\n",
        "1. 파일 내용 쓰기(write)\n",
        "1. 파일 닫기(close)"
      ],
      "metadata": {
        "id": "JPZTY7LR9ZJl"
      }
    },
    {
      "cell_type": "markdown",
      "source": [
        "```\n",
        "open(file, mode='rt', ...): 파일 열기\n",
        "```\n",
        "\n",
        "* file: 디렉토리(폴더)를 포함한 파일 이름.\n",
        "* `mode`:\n",
        "    * r(read): 읽기. 기본값\n",
        "    * w(write): 쓰기. 기존 내용이 모두 삭제되고 파일 처음부터 다시 쓰기 시작.\n",
        "    * a(append): 추가. 기존 내용 다음부터 쓰기 시작.\n",
        "    * t(text): 텍스트. 기본값.\n",
        "    * b(binary): 이진 데이터.(이미지, mp3, 동영상).\n"
      ],
      "metadata": {
        "id": "YVo-UTfd9jvd"
      }
    },
    {
      "cell_type": "code",
      "execution_count": 11,
      "metadata": {
        "id": "9rH15dj18vxj"
      },
      "outputs": [],
      "source": [
        "# 1) 파일 열기\n",
        "f = open('hello.txt', mode='wt') # text 모드는 기본값이므로, mode='w'과 동일.\n",
        "\n",
        "# 2) 파일 내용 쓰기.\n",
        "f.write('Hello.\\n') # '\\n': new line. 줄바꿈\n",
        "f.write('안녕하세요\\n')\n",
        "f.write('0123456789\\=')\n",
        "\n",
        "# 3) 파일닫기\n",
        "f.close()"
      ]
    },
    {
      "cell_type": "code",
      "source": [
        "# with ~ as ... 구문\n",
        "with open('hello.txt', mode='at') as f:\n",
        "    f.write('파일 append 테스트 \\n')\n",
        "# with 블록이 끝나면 open된 파일 객체 f의 close() 메서드가 자동으로 호출됨."
      ],
      "metadata": {
        "id": "uB4ZapYcB9Ks"
      },
      "execution_count": 13,
      "outputs": []
    },
    {
      "cell_type": "markdown",
      "source": [
        "# 파일 읽기(read)\n",
        "\n",
        "1. 파일 open\n",
        "1. file.read\n",
        "1. f.close"
      ],
      "metadata": {
        "id": "h2DMvN1aDGso"
      }
    },
    {
      "cell_type": "code",
      "source": [
        "# 1) 파일 열기\n",
        "f = open('hello.txt', mode='rt') # mode의 기본값은 read text 이기 때문에, mode 파라미터는 생략\n",
        "\n",
        "# 2) 파일 내용 읽기\n",
        "line = f.readline().strip()\n",
        "print(line)\n",
        "line = f.readline().strip()\n",
        "print(line)\n",
        "\n",
        "# 3) 파일 닫기\n",
        "f.close()"
      ],
      "metadata": {
        "colab": {
          "base_uri": "https://localhost:8080/"
        },
        "id": "gcNU7AQZDV3J",
        "outputId": "26abca5c-ab1b-435c-cf29-7ab31f6ff071"
      },
      "execution_count": 20,
      "outputs": [
        {
          "output_type": "stream",
          "name": "stdout",
          "text": [
            "Hello.\n",
            "안녕하세요\n"
          ]
        }
      ]
    },
    {
      "cell_type": "code",
      "source": [
        "with open('hello.txt') as f: # 파일을 'rt' 모드로 열기\n",
        "    for line in f:  # 파일 객체 f의 처음부터 파일의 끝까지 반복하면서 f.readline() 호출\n",
        "        print(line.strip())"
      ],
      "metadata": {
        "colab": {
          "base_uri": "https://localhost:8080/"
        },
        "id": "flX1NeWZFWlQ",
        "outputId": "84e278ed-3e18-46f1-c7b1-2fb17ca03aa3"
      },
      "execution_count": 22,
      "outputs": [
        {
          "output_type": "stream",
          "name": "stdout",
          "text": [
            "Hello.\n",
            "안녕하세요\n",
            "0123456789\\=파일 append 테스트\n"
          ]
        }
      ]
    },
    {
      "cell_type": "markdown",
      "source": [
        "* 지금까지의 과정은 Google에서 임대한 가상 머신(Virtual Machine)의 하우 디스크에서 파일을 읽고 쓰는 기능을 수행하는 것.\n",
        "* Google Colab과 연결이 끊어지면, 임대했던 가상 머신의 모든 리소스(CPU, HDD, RAM, ...)를 반환하게 됨.\n",
        "    * Colab 디렉토리(폴더)에 저장했던 파일은 모두 사라짐."
      ],
      "metadata": {
        "id": "dJ1N0_vWGf04"
      }
    },
    {
      "cell_type": "markdown",
      "source": [
        "# Google Drive 연결(Mount)"
      ],
      "metadata": {
        "id": "BuyHrykoHrmx"
      }
    },
    {
      "cell_type": "code",
      "source": [
        "dir_path = '/content/drive/MyDrive/lab_python'\n",
        "file_name = 'email.txt'"
      ],
      "metadata": {
        "id": "T-7aLcjRJWdd"
      },
      "execution_count": 23,
      "outputs": []
    },
    {
      "cell_type": "code",
      "source": [
        "import os # os 모듈 임포트: os.path.join() 함수를 사용하기 위해서"
      ],
      "metadata": {
        "id": "ujj0ilwzJvcS"
      },
      "execution_count": 24,
      "outputs": []
    },
    {
      "cell_type": "code",
      "source": [
        "# 폴더(디렉토리) 경로와 파일 이름을 OS에 사용하는 파일 구분자를 사용해서 이어붙여줌.\n",
        "file_path = os.path.join(dir_path, file_name)\n",
        "file_path"
      ],
      "metadata": {
        "colab": {
          "base_uri": "https://localhost:8080/",
          "height": 35
        },
        "id": "51fRytLWJ8Qn",
        "outputId": "f59c6078-f671-445a-9cc0-5e0d7099b00e"
      },
      "execution_count": 26,
      "outputs": [
        {
          "output_type": "execute_result",
          "data": {
            "application/vnd.google.colaboratory.intrinsic+json": {
              "type": "string"
            },
            "text/plain": [
              "'/content/drive/MyDrive/lab_python/email.txt'"
            ]
          },
          "metadata": {},
          "execution_count": 26
        }
      ]
    },
    {
      "cell_type": "code",
      "source": [
        "with open(file_path, mode='wt') as f:\n",
        "    f.write('guest@naver.com\\n')\n",
        "    f.write('test@gamil.com\\n')\n",
        "    f.write('guest@kakao.com\\n')"
      ],
      "metadata": {
        "id": "Jg9X31QsK9hD"
      },
      "execution_count": 27,
      "outputs": []
    },
    {
      "cell_type": "code",
      "source": [
        "with open(file_path, mode='rt') as f:\n",
        "    for line in f:\n",
        "        print(line.strip())"
      ],
      "metadata": {
        "colab": {
          "base_uri": "https://localhost:8080/"
        },
        "id": "k9_vDNO5Lz1T",
        "outputId": "23f3d4ac-6b75-4e58-eed5-77067c1eb852"
      },
      "execution_count": 29,
      "outputs": [
        {
          "output_type": "stream",
          "name": "stdout",
          "text": [
            "guest@naver.com\n",
            "test@gamil.com\n",
            "guest@kakao.com\n"
          ]
        }
      ]
    }
  ]
}