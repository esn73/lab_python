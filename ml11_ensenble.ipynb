{
  "nbformat": 4,
  "nbformat_minor": 0,
  "metadata": {
    "colab": {
      "name": "ml11_ensenble.ipynb",
      "provenance": [],
      "collapsed_sections": [],
      "authorship_tag": "ABX9TyPcQscoVz/ZBp1shw82bDq7",
      "include_colab_link": true
    },
    "kernelspec": {
      "name": "python3",
      "display_name": "Python 3"
    },
    "language_info": {
      "name": "python"
    }
  },
  "cells": [
    {
      "cell_type": "markdown",
      "metadata": {
        "id": "view-in-github",
        "colab_type": "text"
      },
      "source": [
        "<a href=\"https://colab.research.google.com/github/esn73/lab_python/blob/master/ml11_ensenble.ipynb\" target=\"_parent\"><img src=\"https://colab.research.google.com/assets/colab-badge.svg\" alt=\"Open In Colab\"/></a>"
      ]
    },
    {
      "cell_type": "markdown",
      "source": [
        "# Ensemble Learning(앙상블 학습 방법)\n",
        "\n",
        "* 앙상블(ensenmble): 머신 러닝에서 사용되는 일련의 모델(알고리즘)들.\n",
        "    * 서로 다른 모델 여러개를 학습시키는 방법.\n",
        "    * 한 가지 모델을 서로 다른 훈련 셋에서 학습시키는 방법.\n",
        "* 앙상블 학습 방법\n",
        "    * 투표(voting) 방식: 여러 모델을 학습시켜서 각각의 예측값들을 투표(다수결) 또는 평균값으로 예측하는 방식\n",
        "    * __Bagging(Bootstrap Aggregating)__: **중복을 허용해서 샘플링한 훈련 셋의 부분집합들을 하나의 알고리즘에서 학습시켜서 예측(다수결, 평균)하는 방법.\n",
        "    * Pasting: 중복을 허용하지 않고 샘플링한 훈련 셋의 부분집합들을 하나의 알고리즘에 학습시켜서 예측하는 방법.\n",
        "* __Random Forest__: Bagging을 사용한 Decision Tree들의 Ensenmble의 학습 방법."
      ],
      "metadata": {
        "id": "A7HZaXEzLep0"
      }
    },
    {
      "cell_type": "markdown",
      "source": [
        "# Imports"
      ],
      "metadata": {
        "id": "4TlROHXJRYNi"
      }
    },
    {
      "cell_type": "code",
      "execution_count": 38,
      "metadata": {
        "id": "G67uLjfHLXD0"
      },
      "outputs": [],
      "source": [
        "import numpy as np\n",
        "import pandas as pd\n",
        "import matplotlib.pyplot as plt\n",
        "\n",
        "from sklearn.datasets import make_moons\n",
        "from sklearn.model_selection import train_test_split, cross_validate, cross_val_score\n",
        "from sklearn.neighbors import KNeighborsClassifier\n",
        "from sklearn.linear_model import LogisticRegression, SGDClassifier\n",
        "from sklearn.tree import DecisionTreeClassifier\n",
        "from sklearn.svm import SVC  # SVM(Support Vector Machine)을 사용한 분류 알고리즘.\n",
        "from sklearn.ensemble import VotingClassifier, BaggingClassifier, RandomForestClassifier"
      ]
    },
    {
      "cell_type": "markdown",
      "source": [
        "# Datasets 준비\n",
        "\n",
        "2개의 특성(x1, x2)과 2개 클래스(0, 1)를 갖는 가상의 데이터 셋 - 분류(classification) 문제"
      ],
      "metadata": {
        "id": "m7neyCNqTA1C"
      }
    },
    {
      "cell_type": "code",
      "source": [
        "# X: 특성 행렬(2차원 배열), y: 레이블 배열\n",
        "X, y = make_moons(n_samples=500, noise=0.3, random_state=42)"
      ],
      "metadata": {
        "id": "LB7zRDY9TAHd"
      },
      "execution_count": 11,
      "outputs": []
    },
    {
      "cell_type": "code",
      "source": [
        "X.shape, y.shape"
      ],
      "metadata": {
        "colab": {
          "base_uri": "https://localhost:8080/"
        },
        "id": "rZVRMZyATmbM",
        "outputId": "a017e396-05b4-4217-be13-a611905643c0"
      },
      "execution_count": 3,
      "outputs": [
        {
          "output_type": "execute_result",
          "data": {
            "text/plain": [
              "((500, 2), (500,))"
            ]
          },
          "metadata": {},
          "execution_count": 3
        }
      ]
    },
    {
      "cell_type": "code",
      "source": [
        "np.unique(y, return_counts=True)"
      ],
      "metadata": {
        "colab": {
          "base_uri": "https://localhost:8080/"
        },
        "id": "T1H0E-nkT5ta",
        "outputId": "26173e0b-c62c-4704-eaab-f187200a4013"
      },
      "execution_count": 5,
      "outputs": [
        {
          "output_type": "execute_result",
          "data": {
            "text/plain": [
              "(array([0, 1]), array([250, 250]))"
            ]
          },
          "metadata": {},
          "execution_count": 5
        }
      ]
    },
    {
      "cell_type": "code",
      "source": [
        "# 데이터 셋 시각화\n",
        "plt.scatter(X[y==0, 0], X[y==0,1], label='class-0')\n",
        "plt.scatter(X[y==1, 0], X[y==1,1], label='class-1')\n",
        "\n",
        "plt.xlabel('$x_1$')\n",
        "plt.ylabel('$x_2$')\n",
        "plt.legend()\n",
        "plt.grid()\n",
        "plt.show()"
      ],
      "metadata": {
        "colab": {
          "base_uri": "https://localhost:8080/",
          "height": 281
        },
        "id": "J0XCOI3wT9Cf",
        "outputId": "0f030635-fb53-4a4e-dccb-5278c2f70fce"
      },
      "execution_count": 12,
      "outputs": [
        {
          "output_type": "display_data",
          "data": {
            "text/plain": [
              "<Figure size 432x288 with 1 Axes>"
            ],
            "image/png": "[encoded data removed]"
          },
          "metadata": {
            "needs_background": "light"
          }
        }
      ]
    },
    {
      "cell_type": "code",
      "source": [
        "# 훈련/테스트 셋 분리\n",
        "X_train, X_test, y_train, y_test = train_test_split(X, y, test_size=0.2,\n",
        "                                                    stratify=y, random_state=42)"
      ],
      "metadata": {
        "id": "ycVytgmiVqEC"
      },
      "execution_count": 14,
      "outputs": []
    },
    {
      "cell_type": "markdown",
      "source": [
        "# 머신 러닝 모델 비교\n",
        "\n",
        "* 여러개의 머신 러닝 모델들을 훈련 셋(X_train, y_train)으로 학습시킴.\n",
        "    * KNN, Logistic Regression, SGD, Decision Tree, SVM\n",
        "* 훈련된 각 모델의 교차 검증 점수(정확도)를 계산, 평가 - 테스트 셋을 마지막까지 남기기위해서"
      ],
      "metadata": {
        "id": "H7Kdf9RaZnW5"
      }
    },
    {
      "cell_type": "code",
      "source": [
        "knn = KNeighborsClassifier(n_jobs=-1) # 성능을 좋고 빠르게 하기위해서\n",
        "log_reg = LogisticRegression(random_state=42, n_jobs=-1)\n",
        "sgd = SGDClassifier(loss='log', random_state=42, n_jobs=-1) # loss='log' 이유: 분류 확률을 계산할 필요가 있을 때.\n",
        "tree = DecisionTreeClassifier(random_state=42)\n",
        "svm = SVC(probability=True, random_state=42)"
      ],
      "metadata": {
        "id": "PvwjzDKQV5a3"
      },
      "execution_count": 28,
      "outputs": []
    },
    {
      "cell_type": "code",
      "source": [
        "classifiers = [knn, log_reg, sgd, tree, svm]\n",
        "for clf in classifiers:\n",
        "    cv = cross_validate(estimator=clf, X=X_train, y=y_train, n_jobs=-1, cv=5)\n",
        "    score = np.mean(cv['test_score'])\n",
        "    print(clf.__class__.__name__, 'acc.:', score)"
      ],
      "metadata": {
        "colab": {
          "base_uri": "https://localhost:8080/"
        },
        "id": "UNVWfezwb8sY",
        "outputId": "4834b40d-e6fa-4dfc-9086-6ae62367121e"
      },
      "execution_count": 29,
      "outputs": [
        {
          "output_type": "stream",
          "name": "stdout",
          "text": [
            "KNeighborsClassifier acc.: 0.9099999999999999\n",
            "LogisticRegression acc.: 0.845\n",
            "SGDClassifier acc.: 0.8375\n",
            "DecisionTreeClassifier acc.: 0.8925000000000001\n",
            "SVC acc.: 0.9225\n"
          ]
        }
      ]
    },
    {
      "cell_type": "markdown",
      "source": [
        "# Voting Enesemble"
      ],
      "metadata": {
        "id": "3HMSEFKOgyUT"
      }
    },
    {
      "cell_type": "code",
      "source": [
        "voting = VotingClassifier(estimators=[('knn', knn),\n",
        "                                      ('log_reg', log_reg),\n",
        "                                      ('sgd', sgd),\n",
        "                                      ('tree', tree),\n",
        "                                      ('svm', svm)],\n",
        "                         voting='soft', n_jobs=-1) \n",
        "# VotingClassifier 파라미터\n",
        "#> estimators: 투표 방식 앙상블을 만들기 위한 ML 모델들의 리스트\n",
        "#> voting: 투표 방식\n",
        "#>> hard: 모든 앙상블들이 동일하게 1표씩 행사. 예측 확률을 계산할 필요가 없음.\n",
        "#>> soft: 각 모델의 예측값에 각 모델에서 예측된 예측 확률을 가중치로 곱한 값을 사용해서 예측.\n",
        "# 일반적으로 soft voting 방식이 hard voting 방식 보다 성능이 더 좋다고 알려져 있음."
      ],
      "metadata": {
        "id": "E3KEBQLidYws"
      },
      "execution_count": 34,
      "outputs": []
    },
    {
      "cell_type": "code",
      "source": [
        "cv = cross_validate(X=X_train, y=y_train, estimator=voting, cv=5, n_jobs=-1)"
      ],
      "metadata": {
        "id": "1SZ8_mxgjuzw"
      },
      "execution_count": 36,
      "outputs": []
    },
    {
      "cell_type": "code",
      "source": [
        "np.mean(cv['test_score'])"
      ],
      "metadata": {
        "colab": {
          "base_uri": "https://localhost:8080/"
        },
        "id": "xGaHltJckDhy",
        "outputId": "64da7cc3-7870-40bd-cd52-09c29fb1aaa9"
      },
      "execution_count": 37,
      "outputs": [
        {
          "output_type": "execute_result",
          "data": {
            "text/plain": [
              "0.9075000000000001"
            ]
          },
          "metadata": {},
          "execution_count": 37
        }
      ]
    },
    {
      "cell_type": "markdown",
      "source": [
        "# Bagging(Bootstrap Aggregating) Ensemble"
      ],
      "metadata": {
        "id": "FgRqcBqJngNL"
      }
    },
    {
      "cell_type": "code",
      "source": [
        "bagging = BaggingClassifier(base_estimator=DecisionTreeClassifier(random_state=42),\n",
        "                            n_estimators=50,\n",
        "                            max_samples=100,\n",
        "                            bootstrap=True,\n",
        "                            oob_score=True,\n",
        "                            n_jobs=-1,\n",
        "                            random_state=42)"
      ],
      "metadata": {
        "id": "GRUNL2wLnmEt"
      },
      "execution_count": 40,
      "outputs": []
    },
    {
      "cell_type": "markdown",
      "source": [
        "BaggingClassifier 파라미터\n",
        "\n",
        "* base_estimator: 기본 예측기. 머신 러닝 알고리즘(모델) 객체.\n",
        "* n_estimator: 앙상블을 만드는 예측기(머신 러닝 모델)의 개수.\n",
        "* max_samples: 훈련 셋의 부분 집합이 가질 수 있는 최대 샘플 개수(정수) 또는 비율(0 ~ 1.0)\n",
        "* bootstrap: True(중복 허용 샘플링), False(중복 허용하지 않고 샘플링 - pasting). 기본값은 True\n",
        "* oob_score: True(OOB 샘플들로 평가 점수 계산), False(OOB 샘플들로 평가 점수를 계산하지 않음). 기본값은 False.\n",
        "    * OOB(Out-Of-Bagging) 샘플: 중복을 허용해서 샘플링하는 (부분집합을 만드는)동안에 한번도 샘플링되지 못하고 남아 있는 훈련 셋의 샘플들.\n",
        "    * OOB 샘플은 검증 셋(validation set)의 역할을 할 수 있음.\n",
        "    * 테스트 셋에서의 점수를 예상할 수 있음.\n",
        "    "
      ],
      "metadata": {
        "id": "MPPV_ifCoUVZ"
      }
    },
    {
      "cell_type": "code",
      "source": [
        "bagging.fit(X_train, y_train)   # bagging ensemble 모델 훈련"
      ],
      "metadata": {
        "colab": {
          "base_uri": "https://localhost:8080/"
        },
        "id": "wzVsVvjJoN45",
        "outputId": "744522f8-286d-49be-edb4-ac0235bd88d1"
      },
      "execution_count": 41,
      "outputs": [
        {
          "output_type": "execute_result",
          "data": {
            "text/plain": [
              "BaggingClassifier(base_estimator=DecisionTreeClassifier(random_state=42),\n",
              "                  max_samples=100, n_estimators=50, n_jobs=-1, oob_score=True,\n",
              "                  random_state=42)"
            ]
          },
          "metadata": {},
          "execution_count": 41
        }
      ]
    },
    {
      "cell_type": "code",
      "source": [
        " bagging.oob_score_ # OOB 샘플들로 계산한 정확도 --> 보통 테스트 셋의 점수와 비슷함."
      ],
      "metadata": {
        "colab": {
          "base_uri": "https://localhost:8080/"
        },
        "id": "YWEBqzCKrKVZ",
        "outputId": "8d13c7dc-a7d6-4c67-8fd0-dbc1fa297c69"
      },
      "execution_count": 43,
      "outputs": [
        {
          "output_type": "execute_result",
          "data": {
            "text/plain": [
              "0.91"
            ]
          },
          "metadata": {},
          "execution_count": 43
        }
      ]
    },
    {
      "cell_type": "code",
      "source": [
        "bagging.score(X_test, y_test)"
      ],
      "metadata": {
        "colab": {
          "base_uri": "https://localhost:8080/"
        },
        "id": "iKxkqfiYrggL",
        "outputId": "0f14604c-aa9f-43c0-ee79-a8d246f96648"
      },
      "execution_count": 44,
      "outputs": [
        {
          "output_type": "execute_result",
          "data": {
            "text/plain": [
              "0.9"
            ]
          },
          "metadata": {},
          "execution_count": 44
        }
      ]
    },
    {
      "cell_type": "markdown",
      "source": [
        "# Random Forest\n",
        "\n",
        "Decision Tree(의사결정 나무)들을 사용하는 Bagging ensemble 학습 방법."
      ],
      "metadata": {
        "id": "oZKNdzTZr_x7"
      }
    },
    {
      "cell_type": "code",
      "source": [
        "# Random Forest 분류기 객체 생성\n",
        "forest = RandomForestClassifier(n_estimators=50, max_samples=100, oob_score=True,\n",
        "                                n_jobs=-1, random_state=42)"
      ],
      "metadata": {
        "id": "3sDU3rq1sWiL"
      },
      "execution_count": 47,
      "outputs": []
    },
    {
      "cell_type": "code",
      "source": [
        "# 모델 훈련\n",
        "forest.fit(X_train, y_train)"
      ],
      "metadata": {
        "colab": {
          "base_uri": "https://localhost:8080/"
        },
        "id": "l-Uw7u8-s1n7",
        "outputId": "636f960c-f13f-4eda-849c-afdbdc3e3a0f"
      },
      "execution_count": 48,
      "outputs": [
        {
          "output_type": "execute_result",
          "data": {
            "text/plain": [
              "RandomForestClassifier(max_samples=100, n_estimators=50, n_jobs=-1,\n",
              "                       oob_score=True, random_state=42)"
            ]
          },
          "metadata": {},
          "execution_count": 48
        }
      ]
    },
    {
      "cell_type": "code",
      "source": [
        "forest.oob_score_"
      ],
      "metadata": {
        "colab": {
          "base_uri": "https://localhost:8080/"
        },
        "id": "KKxK6Ejhs7RQ",
        "outputId": "633d12d6-a29d-4f7f-8454-826e92e9a360"
      },
      "execution_count": 49,
      "outputs": [
        {
          "output_type": "execute_result",
          "data": {
            "text/plain": [
              "0.9125"
            ]
          },
          "metadata": {},
          "execution_count": 49
        }
      ]
    }
  ]
}