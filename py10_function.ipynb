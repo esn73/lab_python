{
  "nbformat": 4,
  "nbformat_minor": 0,
  "metadata": {
    "colab": {
      "name": "py10_function.ipynb",
      "provenance": [],
      "collapsed_sections": [],
      "authorship_tag": "ABX9TyM1NwVlZcS1aIZcygthbPlX",
      "include_colab_link": true
    },
    "kernelspec": {
      "name": "python3",
      "display_name": "Python 3"
    },
    "language_info": {
      "name": "python"
    }
  },
  "cells": [
    {
      "cell_type": "markdown",
      "metadata": {
        "id": "view-in-github",
        "colab_type": "text"
      },
      "source": [
        "<a href=\"https://colab.research.google.com/github/esn73/lab_python/blob/master/py10_function.ipynb\" target=\"_parent\"><img src=\"https://colab.research.google.com/assets/colab-badge.svg\" alt=\"Open In Colab\"/></a>"
      ]
    },
    {
      "cell_type": "markdown",
      "source": [
        "# 함수(function)\n",
        "\n",
        "* 함수(function): 기능을 수행하는 코드 블록.\n",
        "* 인수(argument): 함수를 호출할 때, 함수에게 전달하는 값(들).\n",
        "* 매개 변수(parameter): argument를 저장하기 위해서, 함수를 정의할 때 선언하는 (지역) 변수.\n",
        "* 반환 값(return value): 함수가 기능 수행의 결과로 반환하는 값.\n",
        "  * 반환 값이 있는 함수\n",
        "  * 반환 값이 없는 함수\n",
        "\n"
      ],
      "metadata": {
        "id": "XZt3jYfUONbu"
      }
    },
    {
      "cell_type": "code",
      "execution_count": null,
      "metadata": {
        "id": "3Zqh81JgOEUb"
      },
      "outputs": [],
      "source": [
        "result = len([1, 2, 3, 4, 5])\n",
        "# function: len\n",
        "# argument: [1,2,3,4,5]\n",
        "# 함수 호출(call, invoke): len([1, 2, 3, 4, 5])\n",
        "# return value: 5"
      ]
    },
    {
      "cell_type": "code",
      "source": [
        "result"
      ],
      "metadata": {
        "colab": {
          "base_uri": "https://localhost:8080/"
        },
        "id": "PkB7DuTsQLwi",
        "outputId": "0b04c3c1-082a-4462-d575-e9b74e06f795"
      },
      "execution_count": null,
      "outputs": [
        {
          "output_type": "execute_result",
          "data": {
            "text/plain": [
              "5"
            ]
          },
          "metadata": {},
          "execution_count": 11
        }
      ]
    },
    {
      "cell_type": "markdown",
      "source": [
        "# 함수 정의(선언)방법\n",
        "\n",
        "```\n",
        "public void functionName(int x, String s) {}\n",
        "function funcName(arg, arg, ...) {}\n",
        "def function_name([pram1, ...]):\n",
        "    [\"\"\"문서화 주석(documentation comment): 함수에 대한 설명\"\"\"]\n",
        "    함수 기능 작성(코드)\n",
        "    [return 반환 값]\n",
        "```"
      ],
      "metadata": {
        "id": "JGVBMFQrOMpA"
      }
    },
    {
      "cell_type": "code",
      "source": [
        "def subtract(x, y):\n",
        "    \"\"\" 숫자 2개(x, y)를 전달받아서, x-y를 반환하는 함수.\n",
        "    \"\"\"\n",
        "    return x - y"
      ],
      "metadata": {
        "id": "bUiQAIgTWsFY"
      },
      "execution_count": null,
      "outputs": []
    },
    {
      "cell_type": "code",
      "source": [
        "result = subtract(1, 2)\n",
        "result"
      ],
      "metadata": {
        "colab": {
          "base_uri": "https://localhost:8080/"
        },
        "id": "gsY2ON2dXUCC",
        "outputId": "d827c1cf-e2b2-4a36-e547-11d33b8339a3"
      },
      "execution_count": null,
      "outputs": [
        {
          "output_type": "execute_result",
          "data": {
            "text/plain": [
              "-1"
            ]
          },
          "metadata": {},
          "execution_count": 7
        }
      ]
    },
    {
      "cell_type": "code",
      "source": [
        "def plus_and_minus(x, y):\n",
        "    \"\"\"2개의 숫자 x, y를 전달받아서, x+y와 x-y를 반환하는 함수.\n",
        "    \"\"\"\n",
        "    return x + y, x - y"
      ],
      "metadata": {
        "id": "b_6U9CyfX9rb"
      },
      "execution_count": null,
      "outputs": []
    },
    {
      "cell_type": "code",
      "source": [
        "result = plus_and_minus(1, 2)\n",
        "result #> tuple"
      ],
      "metadata": {
        "colab": {
          "base_uri": "https://localhost:8080/"
        },
        "id": "gOgFWGNIZP96",
        "outputId": "874676f1-7a65-4b18-cec0-5ef6a0dbb314"
      },
      "execution_count": null,
      "outputs": [
        {
          "output_type": "execute_result",
          "data": {
            "text/plain": [
              "(3, -1)"
            ]
          },
          "metadata": {},
          "execution_count": 9
        }
      ]
    },
    {
      "cell_type": "code",
      "source": [
        "# tuple decomposition(분해): x, y = (3, -1)\n",
        "plus, minus = plus_and_minus(1, 2)\n",
        "print(plus)\n",
        "print(minus)"
      ],
      "metadata": {
        "colab": {
          "base_uri": "https://localhost:8080/"
        },
        "id": "VLSkBL0PZi9U",
        "outputId": "d0e56193-0ffb-441b-a028-c3c7eab79a12"
      },
      "execution_count": null,
      "outputs": [
        {
          "output_type": "stream",
          "name": "stdout",
          "text": [
            "3\n",
            "-1\n"
          ]
        }
      ]
    },
    {
      "cell_type": "markdown",
      "source": [
        "값을 반환하지 않는 함수"
      ],
      "metadata": {
        "id": "gO8UCpUkatas"
      }
    },
    {
      "cell_type": "code",
      "source": [
        "def repeat_messages(message, n):\n",
        "  \"\"\"문자열 message와 양의 정수 n을 전달 받아서, \n",
        "  전달받은 문자열을 n번 반복해서 출력하는 함수.\n",
        "  \"\"\"\n",
        "  for _ in range(n):\n",
        "      print(message)\n",
        "\n",
        "  # return None # 반환 값이 없다는 것을 명시적으로 작성\n",
        "  # 반환 값이 없는 경우 return None 문장을 보통 생략함\n",
        "  "
      ],
      "metadata": {
        "id": "bahwLDrPavTW"
      },
      "execution_count": null,
      "outputs": []
    },
    {
      "cell_type": "code",
      "source": [
        "reusult = repeat_messages('안녕하세요', 3)"
      ],
      "metadata": {
        "colab": {
          "base_uri": "https://localhost:8080/"
        },
        "id": "TJ0ol6Osbli2",
        "outputId": "c19f117f-8a7e-4ec0-829e-3972e6fc5753"
      },
      "execution_count": null,
      "outputs": [
        {
          "output_type": "stream",
          "name": "stdout",
          "text": [
            "안녕하세요\n",
            "안녕하세요\n",
            "안녕하세요\n"
          ]
        }
      ]
    },
    {
      "cell_type": "code",
      "source": [
        "print(reusult) #> None: 값이 없음."
      ],
      "metadata": {
        "colab": {
          "base_uri": "https://localhost:8080/"
        },
        "id": "BWj5pBQNbVlG",
        "outputId": "e204f02f-e8a5-47ac-fcd7-b200d9dcbca6"
      },
      "execution_count": null,
      "outputs": [
        {
          "output_type": "stream",
          "name": "stdout",
          "text": [
            "None\n"
          ]
        }
      ]
    },
    {
      "cell_type": "code",
      "source": [
        "import random  # 난수 관련 함수들을 사용하기 위해서\n",
        "import math  # 수학 함수들을 사용하기 위해서"
      ],
      "metadata": {
        "id": "zFkCz5AXrYim"
      },
      "execution_count": 10,
      "outputs": []
    },
    {
      "cell_type": "markdown",
      "source": [
        "## Ex 1.\n",
        "* 함수 이름: make_list\n",
        "* 기능: start 이상 end 미만의 정수 난수 n개를 갖는 리스트를 반환."
      ],
      "metadata": {
        "id": "QGa_HvNxoaYx"
      }
    },
    {
      "cell_type": "code",
      "source": [
        "\n",
        "def make_list(start, end, n):\n",
        "  # array = [] # 빈 리스트\n",
        "  # for _ in range(n): # n번 반복하면서\n",
        "  #   array.apeend(random.randrange(start, end)) # 난수를 생성해서 리스트에 추가 \n",
        "  # return array # 리스트를 리턴.\n",
        "\n",
        "  return [random.randrange(start, end) for _ in range(n)]"
      ],
      "metadata": {
        "id": "MO7G2sitofuj"
      },
      "execution_count": 16,
      "outputs": []
    },
    {
      "cell_type": "code",
      "source": [
        "num_list = make_list(-10, 10, 5)\n",
        "num_list"
      ],
      "metadata": {
        "colab": {
          "base_uri": "https://localhost:8080/"
        },
        "id": "rnB3NPkwACRL",
        "outputId": "1dd9b18b-f6fc-4f4a-8df3-3d97cb68d204"
      },
      "execution_count": 31,
      "outputs": [
        {
          "output_type": "execute_result",
          "data": {
            "text/plain": [
              "[-6, 0, -10, 2, 4]"
            ]
          },
          "metadata": {},
          "execution_count": 31
        }
      ]
    },
    {
      "cell_type": "markdown",
      "source": [
        "## Ex 2.\n",
        "* 함수 이름: calc_sum\n",
        "* 기능: 숫자들을 저장하고 있는 리스트의 모든 원소들의 합을 반환."
      ],
      "metadata": {
        "id": "qae38rR-olOM"
      }
    },
    {
      "cell_type": "code",
      "source": [
        "def calc_sum(numbers):    \n",
        "  # return sum(numbers)\n",
        "  total = 0\n",
        "  for x in numbers:\n",
        "      total += x\n",
        "  return total"
      ],
      "metadata": {
        "id": "yRCJiysKoqJc"
      },
      "execution_count": 32,
      "outputs": []
    },
    {
      "cell_type": "code",
      "source": [
        "total = calc_sum(num_list)\n",
        "total"
      ],
      "metadata": {
        "colab": {
          "base_uri": "https://localhost:8080/"
        },
        "id": "A6EqLW9xBphP",
        "outputId": "7d1b10ae-b4db-4d14-ad87-6b900e41835e"
      },
      "execution_count": 33,
      "outputs": [
        {
          "output_type": "execute_result",
          "data": {
            "text/plain": [
              "-10"
            ]
          },
          "metadata": {},
          "execution_count": 33
        }
      ]
    },
    {
      "cell_type": "markdown",
      "source": [
        "## Ex 3.\n",
        "* 함수 이름: calc_mean\n",
        "* 기능: 숫자들을 저장하고 있는 리스트의 모든 원소들의 평균을 반환"
      ],
      "metadata": {
        "id": "y7scqT9QouOb"
      }
    },
    {
      "cell_type": "code",
      "source": [
        "def calc_mean(numbers):\n",
        "    return calc_sum(numbers) /  len(numbers)"
      ],
      "metadata": {
        "id": "QhfM6Uhyt-xM"
      },
      "execution_count": 29,
      "outputs": []
    },
    {
      "cell_type": "code",
      "source": [
        "mean =  calc_mean(num_list)\n",
        "mean"
      ],
      "metadata": {
        "colab": {
          "base_uri": "https://localhost:8080/"
        },
        "id": "AEFHTxqzCWCj",
        "outputId": "982cbb6a-c0f1-4db6-e4d5-e01d434fe6df"
      },
      "execution_count": 34,
      "outputs": [
        {
          "output_type": "execute_result",
          "data": {
            "text/plain": [
              "-2.0"
            ]
          },
          "metadata": {},
          "execution_count": 34
        }
      ]
    },
    {
      "cell_type": "markdown",
      "source": [
        "##Ex 4.\n",
        "* 함수 이름: calc_variance\n",
        "* 기능: 숫자들을 저장하고 있는 리스트의 원소들의 분산을 반환."
      ],
      "metadata": {
        "id": "hubMRGAKoxJ2"
      }
    },
    {
      "cell_type": "code",
      "source": [
        "def calc_variance(numbers):\n",
        "    mean = calc_mean(numbers) # 평균\n",
        "    squares = [(x - mean) ** 2 for x in numbers]\n",
        "    var = calc_sum(squares) / (len(numbers) - 1)\n",
        "    return var"
      ],
      "metadata": {
        "id": "qKZqbX5at_S7"
      },
      "execution_count": 37,
      "outputs": []
    },
    {
      "cell_type": "code",
      "source": [
        "var = calc_variance(num_list)\n",
        "var"
      ],
      "metadata": {
        "colab": {
          "base_uri": "https://localhost:8080/"
        },
        "id": "VcGnOxwEFDnE",
        "outputId": "afee79c5-abea-41ea-bbcb-387fe3bd2513"
      },
      "execution_count": 38,
      "outputs": [
        {
          "output_type": "execute_result",
          "data": {
            "text/plain": [
              "34.0"
            ]
          },
          "metadata": {},
          "execution_count": 38
        }
      ]
    },
    {
      "cell_type": "markdown",
      "source": [
        "##Ex 5.\n",
        "* 함수 이름: calc_stddev\n",
        "* 기능: 숫자들을 저장하고 있는 리스트의 원소들의 표준편차를 반환"
      ],
      "metadata": {
        "id": "-0FqDvA7o2wz"
      }
    },
    {
      "cell_type": "code",
      "source": [
        "def calc_stddev(numbers):\n",
        "    return math.sqrt(calc_variance(numbers))"
      ],
      "metadata": {
        "id": "vXElUr2wo73G"
      },
      "execution_count": 40,
      "outputs": []
    },
    {
      "cell_type": "code",
      "source": [
        "stddev = calc_stddev(num_list)\n",
        "stddev"
      ],
      "metadata": {
        "colab": {
          "base_uri": "https://localhost:8080/"
        },
        "id": "jqaiUe6-F45t",
        "outputId": "cb897c29-280c-4f18-94e2-a3bc316c3723"
      },
      "execution_count": 41,
      "outputs": [
        {
          "output_type": "execute_result",
          "data": {
            "text/plain": [
              "5.830951894845301"
            ]
          },
          "metadata": {},
          "execution_count": 41
        }
      ]
    },
    {
      "cell_type": "markdown",
      "source": [
        "## Ex 6.\n",
        "* 함수 이름: find_max_and_min\n",
        "* 기능: 숫자들을 저장하고 있는 리스트에서 최댓값과 최솟값을 반환."
      ],
      "metadata": {
        "id": "L2TiQR6Ao8b6"
      }
    },
    {
      "cell_type": "code",
      "source": [
        "def find_max_and_min(numbers):\n",
        "    # return max(numbers), min(numbers)\n",
        "    max_numbers = numbers[0]\n",
        "    min_numbers = numbers[0]\n",
        "    for x in numbers:\n",
        "        if x > max_numbers:\n",
        "            max_numbers = x\n",
        "        if x < min_numbers:\n",
        "            min_numbers = x\n",
        "    return max_numbers, min_numbers"
      ],
      "metadata": {
        "id": "8ZzEw30Nv0a6"
      },
      "execution_count": 47,
      "outputs": []
    },
    {
      "cell_type": "code",
      "source": [
        "num_list"
      ],
      "metadata": {
        "colab": {
          "base_uri": "https://localhost:8080/"
        },
        "id": "Vff6QGPzGn4l",
        "outputId": "2fd52470-b59b-4ead-cc2d-e1e40e872130"
      },
      "execution_count": 45,
      "outputs": [
        {
          "output_type": "execute_result",
          "data": {
            "text/plain": [
              "[-6, 0, -10, 2, 4]"
            ]
          },
          "metadata": {},
          "execution_count": 45
        }
      ]
    },
    {
      "cell_type": "code",
      "source": [
        "find_max_and_min(num_list)"
      ],
      "metadata": {
        "colab": {
          "base_uri": "https://localhost:8080/"
        },
        "id": "WZ7El9ECGsol",
        "outputId": "2bd19d27-99cb-4839-94cc-a0b357b30ec3"
      },
      "execution_count": 46,
      "outputs": [
        {
          "output_type": "execute_result",
          "data": {
            "text/plain": [
              "(4, -10)"
            ]
          },
          "metadata": {},
          "execution_count": 46
        }
      ]
    },
    {
      "cell_type": "markdown",
      "source": [
        "# Default argument(기본 인수)\n",
        "\n",
        "* 함수를 정의할 때 파라미터(parameter)에 설정된 기본 값.\n",
        "* 함수를 호출할 때 default argument를 갖는 파라미터에 값을 전달하지 않으면,\n",
        "default argument가 함수 내부에서 사용됨.\n",
        "* 함수를 호출할 때 default argument를 갖는 파라미터에 값을 전달하면, defualt argument는 무시되고 전달된 값이 함수 내부에서 사용됨.\n",
        "* **(주의)** 함수를 정의할 때, default parameter들은 반드시 default값을 갖지 않는 파라미터들 **뒤에 선언해야함!"
      ],
      "metadata": {
        "id": "22luK39CLx-S"
      }
    },
    {
      "cell_type": "code",
      "source": [
        "def repeat_messages(message, n=1):\n",
        "    for _ in range(n):\n",
        "        print(message)"
      ],
      "metadata": {
        "id": "L1tpv2dVMyqY"
      },
      "execution_count": 48,
      "outputs": []
    },
    {
      "cell_type": "code",
      "source": [
        "repeat_messages('안녕하세요')\n",
        "# 파라미터 n에 값을 전달하지 않은 경우, n은 기본값 1을 갖게 됨."
      ],
      "metadata": {
        "colab": {
          "base_uri": "https://localhost:8080/"
        },
        "id": "rbt2qhnuNqBX",
        "outputId": "b77c1c3e-8d2c-46ab-db6f-02c88113e1b2"
      },
      "execution_count": 50,
      "outputs": [
        {
          "output_type": "stream",
          "name": "stdout",
          "text": [
            "안녕하세요\n"
          ]
        }
      ]
    },
    {
      "cell_type": "code",
      "source": [
        "repeat_messages('안녕하세요', 3)"
      ],
      "metadata": {
        "colab": {
          "base_uri": "https://localhost:8080/"
        },
        "id": "VM7sFElwOCJQ",
        "outputId": "3dbde671-9485-4340-ba4e-aa986a834990"
      },
      "execution_count": 52,
      "outputs": [
        {
          "output_type": "stream",
          "name": "stdout",
          "text": [
            "안녕하세요\n",
            "안녕하세요\n",
            "안녕하세요\n"
          ]
        }
      ]
    },
    {
      "cell_type": "markdown",
      "source": [
        "# argument 전달 방법:\n",
        "\n",
        "함수를 호출할 때, 함수에 값(argument)를 전달하는 방법:\n",
        "* **positional argument**: 함수를 정의할 때 선언된 파라미터 순서대로 값을 전달하는 방식.\n",
        "* **keyword argument**: `param_name_value`과 같은 형식으로 값을 전달하는 방식.\n",
        "  * keyword argument 방식으로 값을 전달할 때는 함수 정의의 파라미터 순서를 지키지 않아도 됨.\n",
        "* **(주의)** 함수를 호출할 때 positional 방식과 keyword 방식을 함께 사용하는 경우에는 반드시 positional argument가 먼저, keyword argument가 나중에 와야 함!\n"
      ],
      "metadata": {
        "id": "hBhR7uz7PWoR"
      }
    },
    {
      "cell_type": "code",
      "source": [
        "def minus(x, y):\n",
        "    return x - y"
      ],
      "metadata": {
        "id": "WtDYV5dOOHVs"
      },
      "execution_count": 55,
      "outputs": []
    },
    {
      "cell_type": "code",
      "source": [
        "# positional argument 방식의 함수 호출\n",
        "minus(1, 2)"
      ],
      "metadata": {
        "colab": {
          "base_uri": "https://localhost:8080/"
        },
        "id": "tDe11HCBRzuO",
        "outputId": "26c4f174-9d37-463d-ea5d-c69f96206fad"
      },
      "execution_count": 56,
      "outputs": [
        {
          "output_type": "execute_result",
          "data": {
            "text/plain": [
              "-1"
            ]
          },
          "metadata": {},
          "execution_count": 56
        }
      ]
    },
    {
      "cell_type": "code",
      "source": [
        "# positional argument 방식의 함수 호출\n",
        "minus(x=1, y=2)"
      ],
      "metadata": {
        "colab": {
          "base_uri": "https://localhost:8080/"
        },
        "id": "KiDYsOIvR6Lg",
        "outputId": "f164998b-c1b8-4ba3-fe4b-87770f8936ad"
      },
      "execution_count": 58,
      "outputs": [
        {
          "output_type": "execute_result",
          "data": {
            "text/plain": [
              "-1"
            ]
          },
          "metadata": {},
          "execution_count": 58
        }
      ]
    },
    {
      "cell_type": "code",
      "source": [
        "# keyword argument 방식의 함수 호출에서는 파라미터의 순서를 지키지 않아도 됨.\n",
        "minus(y=1, x=2)"
      ],
      "metadata": {
        "colab": {
          "base_uri": "https://localhost:8080/"
        },
        "id": "wfoVW5eASYKr",
        "outputId": "779b96db-3f0f-4348-e533-449b56b3cda7"
      },
      "execution_count": 60,
      "outputs": [
        {
          "output_type": "execute_result",
          "data": {
            "text/plain": [
              "1"
            ]
          },
          "metadata": {},
          "execution_count": 60
        }
      ]
    },
    {
      "cell_type": "code",
      "source": [
        "minus(1, y=2)\n",
        "# positional argument를 먼저, keyword argument를 나중에 전달하는 것은 가능"
      ],
      "metadata": {
        "colab": {
          "base_uri": "https://localhost:8080/"
        },
        "id": "fRz0C6D_TNhH",
        "outputId": "23b59134-7aa4-4a1d-ca96-20dcfa359b2d"
      },
      "execution_count": 61,
      "outputs": [
        {
          "output_type": "execute_result",
          "data": {
            "text/plain": [
              "-1"
            ]
          },
          "metadata": {},
          "execution_count": 61
        }
      ]
    },
    {
      "cell_type": "code",
      "source": [
        "# minus(x=1, 2)\n",
        "#> positional argument가 keyword arguement보다 나중에 나오면 안됨!"
      ],
      "metadata": {
        "id": "Rzy0Ko6GTVPk"
      },
      "execution_count": null,
      "outputs": []
    },
    {
      "cell_type": "markdown",
      "source": [
        "# 가변길이 인수(variable-length arguments)"
      ],
      "metadata": {
        "id": "OZK2lyK9TwHw"
      }
    },
    {
      "cell_type": "code",
      "source": [
        "print('hello') #argument 1개"
      ],
      "metadata": {
        "colab": {
          "base_uri": "https://localhost:8080/"
        },
        "id": "qGa525ReT54Q",
        "outputId": "066ed635-e445-4c11-936e-5a4e88e5b59b"
      },
      "execution_count": 62,
      "outputs": [
        {
          "output_type": "stream",
          "name": "stdout",
          "text": [
            "hello\n"
          ]
        }
      ]
    },
    {
      "cell_type": "code",
      "source": [
        "print('hello', 'python') # argument 2개"
      ],
      "metadata": {
        "colab": {
          "base_uri": "https://localhost:8080/"
        },
        "id": "NIVKXXNyUL2L",
        "outputId": "8ea4a1ad-a193-4eed-9a21-d52af7018c66"
      },
      "execution_count": 63,
      "outputs": [
        {
          "output_type": "stream",
          "name": "stdout",
          "text": [
            "hello python\n"
          ]
        }
      ]
    },
    {
      "cell_type": "code",
      "source": [
        "max([1, 2, 3]) # arguemtn 1개"
      ],
      "metadata": {
        "colab": {
          "base_uri": "https://localhost:8080/"
        },
        "id": "5MlBAYc5UR7t",
        "outputId": "23a0c503-4a3c-4c7e-fdc1-f767c88518b3"
      },
      "execution_count": 65,
      "outputs": [
        {
          "output_type": "execute_result",
          "data": {
            "text/plain": [
              "3"
            ]
          },
          "metadata": {},
          "execution_count": 65
        }
      ]
    },
    {
      "cell_type": "code",
      "source": [
        "max(1,2,3,10,5,7) # argument 6개"
      ],
      "metadata": {
        "colab": {
          "base_uri": "https://localhost:8080/"
        },
        "id": "MR55_iFRUdjF",
        "outputId": "7a82b485-7aba-459d-e4e4-2f0f5cb4ddd1"
      },
      "execution_count": 66,
      "outputs": [
        {
          "output_type": "execute_result",
          "data": {
            "text/plain": [
              "10"
            ]
          },
          "metadata": {},
          "execution_count": 66
        }
      ]
    },
    {
      "cell_type": "markdown",
      "source": [
        "**가변길이 인수(variable-length argument)**\n",
        "\n",
        "* 함수를 호출할 때 전달하는 값(argument)의 개수가 임의로 변할 수 있는 것.\n",
        "  * argument 개수가 제한이 없다.\n",
        "  * argument를 전달하지 않아도 됨\n",
        "* 함수를 정의할 떄 파라미터 이름 앞에 `*`를 사용하면 가변길이 인수를 전달받는 파라미터가 됨.\n",
        "* 함수 내부에서는 가변길이 인수는 tuple로 취급.\n",
        "  * 가변길이 인수는 인덱스를 사용할 수 있음.\n",
        "  * 가변길이 인수는 for-in 구문에서 사용할 수 있음.\n",
        "* **★(주의)**\n",
        "  * ★가변길이 인수는 keyword argument 방식으로 전달할 수 없음.\n",
        "  * ★함수를 선언할 떄, 가변길이 인수를 갖는 파라미터는 **하나**만 선언할 수 있음.\n"
      ],
      "metadata": {
        "id": "IG7gRlr-Ysg3"
      }
    },
    {
      "cell_type": "code",
      "source": [
        "def add_all(*values):\n",
        "    total=0\n",
        "    for x in values:\n",
        "        total += x\n",
        "    return total\n",
        "    # print(values)"
      ],
      "metadata": {
        "id": "lE2MO2pXaKeI"
      },
      "execution_count": 75,
      "outputs": []
    },
    {
      "cell_type": "code",
      "source": [
        "add_all(1)"
      ],
      "metadata": {
        "colab": {
          "base_uri": "https://localhost:8080/"
        },
        "id": "7zWrhQuuaVWe",
        "outputId": "e7d5471b-d78d-4ebe-a1ef-dcc8a734a638"
      },
      "execution_count": 76,
      "outputs": [
        {
          "output_type": "execute_result",
          "data": {
            "text/plain": [
              "1"
            ]
          },
          "metadata": {},
          "execution_count": 76
        }
      ]
    },
    {
      "cell_type": "code",
      "source": [
        "add_all(1,2,3)"
      ],
      "metadata": {
        "colab": {
          "base_uri": "https://localhost:8080/"
        },
        "id": "wD_r2o_qanlW",
        "outputId": "a919570a-4a04-414a-84f2-c893efa0f848"
      },
      "execution_count": 77,
      "outputs": [
        {
          "output_type": "execute_result",
          "data": {
            "text/plain": [
              "6"
            ]
          },
          "metadata": {},
          "execution_count": 77
        }
      ]
    },
    {
      "cell_type": "code",
      "source": [
        "add_all()"
      ],
      "metadata": {
        "colab": {
          "base_uri": "https://localhost:8080/"
        },
        "id": "Ujf8XnWYbBPf",
        "outputId": "245fb271-87e4-4ff6-b483-0bfc7630f412"
      },
      "execution_count": 79,
      "outputs": [
        {
          "output_type": "execute_result",
          "data": {
            "text/plain": [
              "0"
            ]
          },
          "metadata": {},
          "execution_count": 79
        }
      ]
    },
    {
      "cell_type": "code",
      "source": [
        "def test1(a, *b): ## 키워드 사용없이 해야함\n",
        "  print('a = ', a)\n",
        "  print('b = ', b)"
      ],
      "metadata": {
        "id": "S246ulsNbgiq"
      },
      "execution_count": 80,
      "outputs": []
    },
    {
      "cell_type": "code",
      "source": [
        "test1(1,2)"
      ],
      "metadata": {
        "colab": {
          "base_uri": "https://localhost:8080/"
        },
        "id": "xPBDUtsjcnCF",
        "outputId": "aa9a6f2a-330b-4fe5-c58c-09eebe4e53f7"
      },
      "execution_count": 81,
      "outputs": [
        {
          "output_type": "stream",
          "name": "stdout",
          "text": [
            "a =  1\n",
            "b =  (2,)\n"
          ]
        }
      ]
    },
    {
      "cell_type": "code",
      "source": [
        "test1(1, 2, 3)"
      ],
      "metadata": {
        "colab": {
          "base_uri": "https://localhost:8080/"
        },
        "id": "N_-fxwHYc13G",
        "outputId": "39920bf3-2e1a-4e27-ab23-89aae7cc75d8"
      },
      "execution_count": 82,
      "outputs": [
        {
          "output_type": "stream",
          "name": "stdout",
          "text": [
            "a =  1\n",
            "b =  (2, 3)\n"
          ]
        }
      ]
    },
    {
      "cell_type": "markdown",
      "source": [
        "`test1()` 함수는 positional argument 방식으로만 값을 전달할 수 있는 함수."
      ],
      "metadata": {
        "id": "6r_WyEtvd2E6"
      }
    },
    {
      "cell_type": "code",
      "source": [
        "def test2(*a, b):\n",
        "  print('a = ', a)\n",
        "  print('b = ', b)"
      ],
      "metadata": {
        "id": "dmAj_pbheAy1"
      },
      "execution_count": 86,
      "outputs": []
    },
    {
      "cell_type": "code",
      "source": [
        "test2(1, 2, b=3)"
      ],
      "metadata": {
        "colab": {
          "base_uri": "https://localhost:8080/"
        },
        "id": "TSSNkiURePe8",
        "outputId": "4dec14d1-df03-4db7-84f4-f46929e7799a"
      },
      "execution_count": 90,
      "outputs": [
        {
          "output_type": "stream",
          "name": "stdout",
          "text": [
            "a =  (1, 2)\n",
            "b =  3\n"
          ]
        }
      ]
    },
    {
      "cell_type": "markdown",
      "source": [
        "`test2()` 함수에서 파라미터 b는 반드시 keyword argument 방식으로만 값을 전달할 수 있음."
      ],
      "metadata": {
        "id": "D7_usLse0yY4"
      }
    },
    {
      "cell_type": "code",
      "source": [
        "# test1(a=1, b=2) ##  키워드 "
      ],
      "metadata": {
        "id": "4_qFNHLcdMHp"
      },
      "execution_count": 84,
      "outputs": []
    },
    {
      "cell_type": "code",
      "source": [
        "def test3(*a, b=0):\n",
        "  print('a = ', a)\n",
        "  print('b = ', b)"
      ],
      "metadata": {
        "id": "Uze7rSUHfrbi"
      },
      "execution_count": 102,
      "outputs": []
    },
    {
      "cell_type": "code",
      "source": [
        "test3(1)"
      ],
      "metadata": {
        "colab": {
          "base_uri": "https://localhost:8080/"
        },
        "id": "QAMNNpAnf0vh",
        "outputId": "449b008e-201b-40ff-e0d3-2e35b456b012"
      },
      "execution_count": 103,
      "outputs": [
        {
          "output_type": "stream",
          "name": "stdout",
          "text": [
            "a =  (1,)\n",
            "b =  0\n"
          ]
        }
      ]
    },
    {
      "cell_type": "code",
      "source": [
        "test3(1,2,3)"
      ],
      "metadata": {
        "colab": {
          "base_uri": "https://localhost:8080/"
        },
        "id": "Vq2JKecyf2Vm",
        "outputId": "8aa7189e-e35d-45c1-dfb4-37d49144587d"
      },
      "execution_count": 93,
      "outputs": [
        {
          "output_type": "stream",
          "name": "stdout",
          "text": [
            "a =  (1, 2, 3)\n",
            "b =  0\n"
          ]
        }
      ]
    },
    {
      "cell_type": "code",
      "source": [
        "test3(1,2,3, b=100)"
      ],
      "metadata": {
        "colab": {
          "base_uri": "https://localhost:8080/"
        },
        "id": "eTVZ1ZYif4Dw",
        "outputId": "385f1c8a-618e-47b4-f176-8ac183c93733"
      },
      "execution_count": 97,
      "outputs": [
        {
          "output_type": "stream",
          "name": "stdout",
          "text": [
            "a =  (1, 2, 3)\n",
            "b =  100\n"
          ]
        }
      ]
    },
    {
      "cell_type": "code",
      "source": [
        "def calculate(*values, op):\n",
        "    \"\"\"\n",
        "    values: 임의의 개수의 숫자들.\n",
        "    op: 문자열. ('+', 또는 '*')\n",
        "    op가 '+'인 경우에는 모든 값들의 합을 리턴. values에 전달된 값이 없으면 0을 리턴.\n",
        "    op가 '*'인 경우에는 모든 값들의 곱을 리턴. values에 전달된 값이 없으면 1을 리턴.\n",
        "    \"\"\"\n",
        "    if op == '+':\n",
        "        result = 0\n",
        "        for x in values:\n",
        "          result += x\n",
        "\n",
        "    elif op == '*':\n",
        "        result = 1\n",
        "        for x in values:\n",
        "          result *= x\n",
        "    else: \n",
        "        result = None\n",
        "    \n",
        "    return result"
      ],
      "metadata": {
        "id": "oXZ2PUO-f6q9"
      },
      "execution_count": 113,
      "outputs": []
    },
    {
      "cell_type": "code",
      "source": [
        "calculate(1,2,3,4,5, op='+')"
      ],
      "metadata": {
        "colab": {
          "base_uri": "https://localhost:8080/"
        },
        "id": "LE0-uk2mhCjN",
        "outputId": "df017ce4-7c01-477c-9e79-8fd3ea547d67"
      },
      "execution_count": 112,
      "outputs": [
        {
          "output_type": "execute_result",
          "data": {
            "text/plain": [
              "15"
            ]
          },
          "metadata": {},
          "execution_count": 112
        }
      ]
    },
    {
      "cell_type": "code",
      "source": [
        "calculate(1,2,3,4,5, op='*')"
      ],
      "metadata": {
        "colab": {
          "base_uri": "https://localhost:8080/"
        },
        "id": "dPeT9xyGi4Ei",
        "outputId": "93565f1e-b3f4-4276-bef7-39dd7f8f556a"
      },
      "execution_count": 114,
      "outputs": [
        {
          "output_type": "execute_result",
          "data": {
            "text/plain": [
              "120"
            ]
          },
          "metadata": {},
          "execution_count": 114
        }
      ]
    },
    {
      "cell_type": "code",
      "source": [
        "calculate(op='*')"
      ],
      "metadata": {
        "colab": {
          "base_uri": "https://localhost:8080/"
        },
        "id": "21elOz9ljBO0",
        "outputId": "ac089d91-5297-4ef9-9449-c56add1afffb"
      },
      "execution_count": 115,
      "outputs": [
        {
          "output_type": "execute_result",
          "data": {
            "text/plain": [
              "1"
            ]
          },
          "metadata": {},
          "execution_count": 115
        }
      ]
    },
    {
      "cell_type": "markdown",
      "source": [
        "# 가변길이 키워드 인수(variable-length keyword argument)\n",
        "\n",
        "* variable-length + keyword\n",
        "  * variable-length argument: 함수를 호출할 때, 임의의 개수의 argument를 전달할 수 있음.\n",
        "  * keyword argument: 함수를 호출할 때 반드시 `param_name=value` 형식으로 값을 전달.\n",
        "* 함수를 정의할 때, 파라미터 이름 앞에 `**`를 사용.\n",
        "* 함수를 호출할 때, 임의의 개수의 keyword argument를 전달하면 됨. \n",
        "  * 파라미터 이름 제한 없음.\n",
        "  * 값의 개수 제한 없음.\n",
        "* 함수 내부에서 가변길이 키워드 인수는 dict로 취급됨.\n",
        "  * 함수 호출할 때 사용한 파라미터 이름이 dict의 키(key)가 됨.\n",
        "  * 함수 호출할 때 파라미터에 전달한 값(argument)이 dict의 값(value)가 됨.\n",
        "* 가변길이 키워드 인수는 함수 정의에서 오직 한번만 가능."
      ],
      "metadata": {
        "id": "lPXSLwcs1xfk"
      }
    },
    {
      "cell_type": "code",
      "source": [
        "def test4(**kwargs):\n",
        "    print(kwargs)"
      ],
      "metadata": {
        "id": "zJFh6Im23Vyo"
      },
      "execution_count": 117,
      "outputs": []
    },
    {
      "cell_type": "code",
      "source": [
        "test4()"
      ],
      "metadata": {
        "colab": {
          "base_uri": "https://localhost:8080/"
        },
        "id": "QInPkEfd3j2K",
        "outputId": "51ea98d6-8518-4052-cab0-d04e5bb877ef"
      },
      "execution_count": 119,
      "outputs": [
        {
          "output_type": "stream",
          "name": "stdout",
          "text": [
            "{}\n"
          ]
        }
      ]
    },
    {
      "cell_type": "code",
      "source": [
        "test4(a=1)"
      ],
      "metadata": {
        "colab": {
          "base_uri": "https://localhost:8080/"
        },
        "id": "u_hOjEaK3vwp",
        "outputId": "c2104a25-6fba-4ca5-d76d-e7dbee37daed"
      },
      "execution_count": 121,
      "outputs": [
        {
          "output_type": "stream",
          "name": "stdout",
          "text": [
            "{'a': 1}\n"
          ]
        }
      ]
    },
    {
      "cell_type": "code",
      "source": [
        "test4(a=1, b='hello')"
      ],
      "metadata": {
        "colab": {
          "base_uri": "https://localhost:8080/"
        },
        "id": "FXlp-Xp74TDO",
        "outputId": "0fe56885-49c4-4bf1-ba6a-6a234af8770c"
      },
      "execution_count": 122,
      "outputs": [
        {
          "output_type": "stream",
          "name": "stdout",
          "text": [
            "{'a': 1, 'b': 'hello'}\n"
          ]
        }
      ]
    },
    {
      "cell_type": "code",
      "source": [
        "def test5(*args, **kwargs):\n",
        "    print('args =', args)       # args: 가변길이 인수 -> tuple\n",
        "    print('kwargs = ', kwargs)  # kwargs: 가변길이 키워드 인수 -> dict"
      ],
      "metadata": {
        "id": "nSzycPOo44Ek"
      },
      "execution_count": 125,
      "outputs": []
    },
    {
      "cell_type": "code",
      "source": [
        "test5(1, 2, 'a', 'b')"
      ],
      "metadata": {
        "colab": {
          "base_uri": "https://localhost:8080/"
        },
        "id": "qKgmO31Y5E1v",
        "outputId": "784beacf-e5d6-4a58-a15d-d4fe93d8d390"
      },
      "execution_count": 126,
      "outputs": [
        {
          "output_type": "stream",
          "name": "stdout",
          "text": [
            "args = (1, 2, 'a', 'b')\n",
            "kwargs =  {}\n"
          ]
        }
      ]
    },
    {
      "cell_type": "code",
      "source": [
        "test5(1, 2, a=100, b=200)"
      ],
      "metadata": {
        "colab": {
          "base_uri": "https://localhost:8080/"
        },
        "id": "zgUpPAHW5byi",
        "outputId": "de09e795-c209-4448-b72f-6290d5cff276"
      },
      "execution_count": 128,
      "outputs": [
        {
          "output_type": "stream",
          "name": "stdout",
          "text": [
            "args = (1, 2)\n",
            "kwargs =  {'a': 100, 'b': 200}\n"
          ]
        }
      ]
    },
    {
      "cell_type": "code",
      "source": [
        "def make_employee(emp_no, emp_name, **kwargs):\n",
        "    emp = {'emp_no': emp_no, 'emp_name': emp_name}\n",
        "    for k, v in kwargs.items():\n",
        "        # kwargs의 키(파라미터 이름)이 email 또는 phone인 경우에만 dict에 추가.\n",
        "        # 그 이외의 파라미터들은 모두 무시.\n",
        "        if k == 'email' or k == 'phone' : \n",
        "            emp[k] = v\n",
        "    return emp"
      ],
      "metadata": {
        "id": "YJmVIhdS6RHJ"
      },
      "execution_count": 132,
      "outputs": []
    },
    {
      "cell_type": "code",
      "source": [
        "make_employee(101, 'Scott', tel='010-1111-2222')"
      ],
      "metadata": {
        "colab": {
          "base_uri": "https://localhost:8080/"
        },
        "id": "CsyYWppf710F",
        "outputId": "c2b5a6af-ecd2-46f1-b00e-65ab94c18bbf"
      },
      "execution_count": 134,
      "outputs": [
        {
          "output_type": "execute_result",
          "data": {
            "text/plain": [
              "{'emp_name': 'Scott', 'emp_no': 101}"
            ]
          },
          "metadata": {},
          "execution_count": 134
        }
      ]
    },
    {
      "cell_type": "code",
      "source": [
        "make_employee(101, 'Scott', phone='010-1111-2222')"
      ],
      "metadata": {
        "colab": {
          "base_uri": "https://localhost:8080/"
        },
        "id": "7qetC5ok8eS_",
        "outputId": "e64d25eb-0354-4caf-c25c-8a4951521ce9"
      },
      "execution_count": 135,
      "outputs": [
        {
          "output_type": "execute_result",
          "data": {
            "text/plain": [
              "{'emp_name': 'Scott', 'emp_no': 101, 'phone': '010-1111-2222'}"
            ]
          },
          "metadata": {},
          "execution_count": 135
        }
      ]
    },
    {
      "cell_type": "markdown",
      "source": [
        "# 재귀 함수(recursive function)\n",
        "\n",
        "함수 내부에서 자기 자신을 다시 호출하는 함수"
      ],
      "metadata": {
        "id": "iWBi-SEC9P6W"
      }
    },
    {
      "cell_type": "code",
      "source": [
        "def factorial(n):\n",
        "    \"\"\"\n",
        "    0! = 1 (정의)\n",
        "    1! = 1 = 0! x 1\n",
        "    2! = 1 x 2 = 2 = 1! x 2\n",
        "    3! = 1 x 2 x 3 = 6 = 2! x 3\n",
        "    ...\n",
        "    n! = 1 x 2 x ... x (n-1) x n = (n-1)! x n, n >= 1\n",
        "    \"\"\"\n",
        "    result = None\n",
        "    if n == 0:\n",
        "        result = 1\n",
        "    elif n > 0:\n",
        "        result =  factorial(n - 1) * n\n",
        "    return result"
      ],
      "metadata": {
        "id": "vWxoMiYx9fZ1"
      },
      "execution_count": 142,
      "outputs": []
    },
    {
      "cell_type": "code",
      "source": [
        "for n in range(6):\n",
        "    print(factorial(n))"
      ],
      "metadata": {
        "colab": {
          "base_uri": "https://localhost:8080/"
        },
        "id": "weR6So5L-5x-",
        "outputId": "79c73cf6-7c70-4527-b5b4-13989c18153e"
      },
      "execution_count": 143,
      "outputs": [
        {
          "output_type": "stream",
          "name": "stdout",
          "text": [
            "1\n",
            "1\n",
            "2\n",
            "6\n",
            "24\n",
            "120\n"
          ]
        }
      ]
    }
  ]
}