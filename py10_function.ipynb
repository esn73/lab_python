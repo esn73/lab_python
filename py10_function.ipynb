{
  "nbformat": 4,
  "nbformat_minor": 0,
  "metadata": {
    "colab": {
      "name": "py10_function.ipynb",
      "provenance": [],
      "collapsed_sections": [],
      "authorship_tag": "ABX9TyPqFYYEg2HPKac4G6RXoD+0",
      "include_colab_link": true
    },
    "kernelspec": {
      "name": "python3",
      "display_name": "Python 3"
    },
    "language_info": {
      "name": "python"
    }
  },
  "cells": [
    {
      "cell_type": "markdown",
      "metadata": {
        "id": "view-in-github",
        "colab_type": "text"
      },
      "source": [
        "<a href=\"https://colab.research.google.com/github/esn73/lab_python/blob/master/py10_function.ipynb\" target=\"_parent\"><img src=\"https://colab.research.google.com/assets/colab-badge.svg\" alt=\"Open In Colab\"/></a>"
      ]
    },
    {
      "cell_type": "markdown",
      "source": [
        "# 함수(function)\n",
        "\n",
        "* 함수(function): 기능을 수행하는 코드 블록.\n",
        "* 인수(argument): 함수를 호출할 때, 함수에게 전달하는 값(들).\n",
        "* 매개 변수(parameter): argument를 저장하기 위해서, 함수를 정의할 때 선언하는 (지역) 변수.\n",
        "* 반환 값(return value): 함수가 기능 수행의 결과로 반환하는 값.\n",
        "  * 반환 값이 있는 함수\n",
        "  * 반환 값이 없는 함수\n",
        "\n"
      ],
      "metadata": {
        "id": "XZt3jYfUONbu"
      }
    },
    {
      "cell_type": "code",
      "execution_count": null,
      "metadata": {
        "id": "3Zqh81JgOEUb"
      },
      "outputs": [],
      "source": [
        "result = len([1, 2, 3, 4, 5])\n",
        "# function: len\n",
        "# argument: [1,2,3,4,5]\n",
        "# 함수 호출(call, invoke): len([1, 2, 3, 4, 5])\n",
        "# return value: 5"
      ]
    },
    {
      "cell_type": "code",
      "source": [
        "result"
      ],
      "metadata": {
        "colab": {
          "base_uri": "https://localhost:8080/"
        },
        "id": "PkB7DuTsQLwi",
        "outputId": "0b04c3c1-082a-4462-d575-e9b74e06f795"
      },
      "execution_count": null,
      "outputs": [
        {
          "output_type": "execute_result",
          "data": {
            "text/plain": [
              "5"
            ]
          },
          "metadata": {},
          "execution_count": 11
        }
      ]
    },
    {
      "cell_type": "markdown",
      "source": [
        "# 함수 정의(선언)방법\n",
        "\n",
        "```\n",
        "public void functionName(int x, String s) {}\n",
        "function funcName(arg, arg, ...) {}\n",
        "def function_name([pram1, ...]):\n",
        "    [\"\"\"문서화 주석(documentation comment): 함수에 대한 설명\"\"\"]\n",
        "    함수 기능 작성(코드)\n",
        "    [return 반환 값]\n",
        "```"
      ],
      "metadata": {
        "id": "JGVBMFQrOMpA"
      }
    },
    {
      "cell_type": "code",
      "source": [
        "def subtract(x, y):\n",
        "    \"\"\" 숫자 2개(x, y)를 전달받아서, x-y를 반환하는 함수.\n",
        "    \"\"\"\n",
        "    return x - y"
      ],
      "metadata": {
        "id": "bUiQAIgTWsFY"
      },
      "execution_count": null,
      "outputs": []
    },
    {
      "cell_type": "code",
      "source": [
        "result = subtract(1, 2)\n",
        "result"
      ],
      "metadata": {
        "colab": {
          "base_uri": "https://localhost:8080/"
        },
        "id": "gsY2ON2dXUCC",
        "outputId": "d827c1cf-e2b2-4a36-e547-11d33b8339a3"
      },
      "execution_count": null,
      "outputs": [
        {
          "output_type": "execute_result",
          "data": {
            "text/plain": [
              "-1"
            ]
          },
          "metadata": {},
          "execution_count": 7
        }
      ]
    },
    {
      "cell_type": "code",
      "source": [
        "def plus_and_minus(x, y):\n",
        "    \"\"\"2개의 숫자 x, y를 전달받아서, x+y와 x-y를 반환하는 함수.\n",
        "    \"\"\"\n",
        "    return x + y, x - y"
      ],
      "metadata": {
        "id": "b_6U9CyfX9rb"
      },
      "execution_count": null,
      "outputs": []
    },
    {
      "cell_type": "code",
      "source": [
        "result = plus_and_minus(1, 2)\n",
        "result #> tuple"
      ],
      "metadata": {
        "colab": {
          "base_uri": "https://localhost:8080/"
        },
        "id": "gOgFWGNIZP96",
        "outputId": "874676f1-7a65-4b18-cec0-5ef6a0dbb314"
      },
      "execution_count": null,
      "outputs": [
        {
          "output_type": "execute_result",
          "data": {
            "text/plain": [
              "(3, -1)"
            ]
          },
          "metadata": {},
          "execution_count": 9
        }
      ]
    },
    {
      "cell_type": "code",
      "source": [
        "# tuple decomposition(분해): x, y = (3, -1)\n",
        "plus, minus = plus_and_minus(1, 2)\n",
        "print(plus)\n",
        "print(minus)"
      ],
      "metadata": {
        "colab": {
          "base_uri": "https://localhost:8080/"
        },
        "id": "VLSkBL0PZi9U",
        "outputId": "d0e56193-0ffb-441b-a028-c3c7eab79a12"
      },
      "execution_count": null,
      "outputs": [
        {
          "output_type": "stream",
          "name": "stdout",
          "text": [
            "3\n",
            "-1\n"
          ]
        }
      ]
    },
    {
      "cell_type": "markdown",
      "source": [
        "값을 반환하지 않는 함수"
      ],
      "metadata": {
        "id": "gO8UCpUkatas"
      }
    },
    {
      "cell_type": "code",
      "source": [
        "def repeat_messages(message, n):\n",
        "  \"\"\"문자열 message와 양의 정수 n을 전달 받아서, \n",
        "  전달받은 문자열을 n번 반복해서 출력하는 함수.\n",
        "  \"\"\"\n",
        "  for _ in range(n):\n",
        "      print(message)\n",
        "\n",
        "  # return None # 반환 값이 없다는 것을 명시적으로 작성\n",
        "  # 반환 값이 없는 경우 return None 문장을 보통 생략함\n",
        "  "
      ],
      "metadata": {
        "id": "bahwLDrPavTW"
      },
      "execution_count": null,
      "outputs": []
    },
    {
      "cell_type": "code",
      "source": [
        "reusult = repeat_messages('안녕하세요', 3)"
      ],
      "metadata": {
        "colab": {
          "base_uri": "https://localhost:8080/"
        },
        "id": "TJ0ol6Osbli2",
        "outputId": "c19f117f-8a7e-4ec0-829e-3972e6fc5753"
      },
      "execution_count": null,
      "outputs": [
        {
          "output_type": "stream",
          "name": "stdout",
          "text": [
            "안녕하세요\n",
            "안녕하세요\n",
            "안녕하세요\n"
          ]
        }
      ]
    },
    {
      "cell_type": "code",
      "source": [
        "print(reusult) #> None: 값이 없음."
      ],
      "metadata": {
        "colab": {
          "base_uri": "https://localhost:8080/"
        },
        "id": "BWj5pBQNbVlG",
        "outputId": "e204f02f-e8a5-47ac-fcd7-b200d9dcbca6"
      },
      "execution_count": null,
      "outputs": [
        {
          "output_type": "stream",
          "name": "stdout",
          "text": [
            "None\n"
          ]
        }
      ]
    },
    {
      "cell_type": "code",
      "source": [
        "import random  # 난수 관련 함수들을 사용하기 위해서\n",
        "import math  # 수학 함수들을 사용하기 위해서"
      ],
      "metadata": {
        "id": "zFkCz5AXrYim"
      },
      "execution_count": 10,
      "outputs": []
    },
    {
      "cell_type": "markdown",
      "source": [
        "## Ex 1.\n",
        "* 함수 이름: make_list\n",
        "* 기능: start 이상 end 미만의 정수 난수 n개를 갖는 리스트를 반환."
      ],
      "metadata": {
        "id": "QGa_HvNxoaYx"
      }
    },
    {
      "cell_type": "code",
      "source": [
        "\n",
        "def make_list(start, end, n):\n",
        "  # array = [] # 빈 리스트\n",
        "  # for _ in range(n): # n번 반복하면서\n",
        "  #   array.apeend(random.randrange(start, end)) # 난수를 생성해서 리스트에 추가 \n",
        "  # return array # 리스트를 리턴.\n",
        "\n",
        "  return [random.randrange(start, end) for _ in range(n)]"
      ],
      "metadata": {
        "id": "MO7G2sitofuj"
      },
      "execution_count": 16,
      "outputs": []
    },
    {
      "cell_type": "code",
      "source": [
        "num_list = make_list(-10, 10, 5)\n",
        "num_list"
      ],
      "metadata": {
        "colab": {
          "base_uri": "https://localhost:8080/"
        },
        "id": "rnB3NPkwACRL",
        "outputId": "1dd9b18b-f6fc-4f4a-8df3-3d97cb68d204"
      },
      "execution_count": 31,
      "outputs": [
        {
          "output_type": "execute_result",
          "data": {
            "text/plain": [
              "[-6, 0, -10, 2, 4]"
            ]
          },
          "metadata": {},
          "execution_count": 31
        }
      ]
    },
    {
      "cell_type": "markdown",
      "source": [
        "## Ex 2.\n",
        "* 함수 이름: calc_sum\n",
        "* 기능: 숫자들을 저장하고 있는 리스트의 모든 원소들의 합을 반환."
      ],
      "metadata": {
        "id": "qae38rR-olOM"
      }
    },
    {
      "cell_type": "code",
      "source": [
        "def calc_sum(numbers):    \n",
        "  # return sum(numbers)\n",
        "  total = 0\n",
        "  for x in numbers:\n",
        "      total += x\n",
        "  return total"
      ],
      "metadata": {
        "id": "yRCJiysKoqJc"
      },
      "execution_count": 32,
      "outputs": []
    },
    {
      "cell_type": "code",
      "source": [
        "total = calc_sum(num_list)\n",
        "total"
      ],
      "metadata": {
        "colab": {
          "base_uri": "https://localhost:8080/"
        },
        "id": "A6EqLW9xBphP",
        "outputId": "7d1b10ae-b4db-4d14-ad87-6b900e41835e"
      },
      "execution_count": 33,
      "outputs": [
        {
          "output_type": "execute_result",
          "data": {
            "text/plain": [
              "-10"
            ]
          },
          "metadata": {},
          "execution_count": 33
        }
      ]
    },
    {
      "cell_type": "markdown",
      "source": [
        "## Ex 3.\n",
        "* 함수 이름: calc_mean\n",
        "* 기능: 숫자들을 저장하고 있는 리스트의 모든 원소들의 평균을 반환"
      ],
      "metadata": {
        "id": "y7scqT9QouOb"
      }
    },
    {
      "cell_type": "code",
      "source": [
        "def calc_mean(numbers):\n",
        "    return calc_sum(numbers) /  len(numbers)"
      ],
      "metadata": {
        "id": "QhfM6Uhyt-xM"
      },
      "execution_count": 29,
      "outputs": []
    },
    {
      "cell_type": "code",
      "source": [
        "mean =  calc_mean(num_list)\n",
        "mean"
      ],
      "metadata": {
        "colab": {
          "base_uri": "https://localhost:8080/"
        },
        "id": "AEFHTxqzCWCj",
        "outputId": "982cbb6a-c0f1-4db6-e4d5-e01d434fe6df"
      },
      "execution_count": 34,
      "outputs": [
        {
          "output_type": "execute_result",
          "data": {
            "text/plain": [
              "-2.0"
            ]
          },
          "metadata": {},
          "execution_count": 34
        }
      ]
    },
    {
      "cell_type": "markdown",
      "source": [
        "##Ex 4.\n",
        "* 함수 이름: calc_variance\n",
        "* 기능: 숫자들을 저장하고 있는 리스트의 원소들의 분산을 반환."
      ],
      "metadata": {
        "id": "hubMRGAKoxJ2"
      }
    },
    {
      "cell_type": "code",
      "source": [
        "def calc_variance(numbers):\n",
        "    mean = calc_mean(numbers) # 평균\n",
        "    squares = [(x - mean) ** 2 for x in numbers]\n",
        "    var = calc_sum(squares) / (len(numbers) - 1)\n",
        "    return var"
      ],
      "metadata": {
        "id": "qKZqbX5at_S7"
      },
      "execution_count": 37,
      "outputs": []
    },
    {
      "cell_type": "code",
      "source": [
        "var = calc_variance(num_list)\n",
        "var"
      ],
      "metadata": {
        "colab": {
          "base_uri": "https://localhost:8080/"
        },
        "id": "VcGnOxwEFDnE",
        "outputId": "afee79c5-abea-41ea-bbcb-387fe3bd2513"
      },
      "execution_count": 38,
      "outputs": [
        {
          "output_type": "execute_result",
          "data": {
            "text/plain": [
              "34.0"
            ]
          },
          "metadata": {},
          "execution_count": 38
        }
      ]
    },
    {
      "cell_type": "markdown",
      "source": [
        "##Ex 5.\n",
        "* 함수 이름: calc_stddev\n",
        "* 기능: 숫자들을 저장하고 있는 리스트의 원소들의 표준편차를 반환"
      ],
      "metadata": {
        "id": "-0FqDvA7o2wz"
      }
    },
    {
      "cell_type": "code",
      "source": [
        "def calc_stddev(numbers):\n",
        "    return math.sqrt(calc_variance(numbers))"
      ],
      "metadata": {
        "id": "vXElUr2wo73G"
      },
      "execution_count": 40,
      "outputs": []
    },
    {
      "cell_type": "code",
      "source": [
        "stddev = calc_stddev(num_list)\n",
        "stddev"
      ],
      "metadata": {
        "colab": {
          "base_uri": "https://localhost:8080/"
        },
        "id": "jqaiUe6-F45t",
        "outputId": "cb897c29-280c-4f18-94e2-a3bc316c3723"
      },
      "execution_count": 41,
      "outputs": [
        {
          "output_type": "execute_result",
          "data": {
            "text/plain": [
              "5.830951894845301"
            ]
          },
          "metadata": {},
          "execution_count": 41
        }
      ]
    },
    {
      "cell_type": "markdown",
      "source": [
        "## Ex 6.\n",
        "* 함수 이름: find_max_and_min\n",
        "* 기능: 숫자들을 저장하고 있는 리스트에서 최댓값과 최솟값을 반환."
      ],
      "metadata": {
        "id": "L2TiQR6Ao8b6"
      }
    },
    {
      "cell_type": "code",
      "source": [
        "def find_max_and_min(numbers):\n",
        "    # return max(numbers), min(numbers)\n",
        "    max_numbers = numbers[0]\n",
        "    min_numbers = numbers[0]\n",
        "    for x in numbers:\n",
        "        if x > max_numbers:\n",
        "            max_numbers = x\n",
        "        if x < min_numbers:\n",
        "            min_numbers = x\n",
        "    return max_numbers, min_numbers"
      ],
      "metadata": {
        "id": "8ZzEw30Nv0a6"
      },
      "execution_count": 47,
      "outputs": []
    },
    {
      "cell_type": "code",
      "source": [
        "num_list"
      ],
      "metadata": {
        "colab": {
          "base_uri": "https://localhost:8080/"
        },
        "id": "Vff6QGPzGn4l",
        "outputId": "2fd52470-b59b-4ead-cc2d-e1e40e872130"
      },
      "execution_count": 45,
      "outputs": [
        {
          "output_type": "execute_result",
          "data": {
            "text/plain": [
              "[-6, 0, -10, 2, 4]"
            ]
          },
          "metadata": {},
          "execution_count": 45
        }
      ]
    },
    {
      "cell_type": "code",
      "source": [
        "find_max_and_min(num_list)"
      ],
      "metadata": {
        "colab": {
          "base_uri": "https://localhost:8080/"
        },
        "id": "WZ7El9ECGsol",
        "outputId": "2bd19d27-99cb-4839-94cc-a0b357b30ec3"
      },
      "execution_count": 46,
      "outputs": [
        {
          "output_type": "execute_result",
          "data": {
            "text/plain": [
              "(4, -10)"
            ]
          },
          "metadata": {},
          "execution_count": 46
        }
      ]
    }
  ]
}