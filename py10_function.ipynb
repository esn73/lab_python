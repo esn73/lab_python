{
  "nbformat": 4,
  "nbformat_minor": 0,
  "metadata": {
    "colab": {
      "name": "py10_function.ipynb",
      "provenance": [],
      "collapsed_sections": [],
      "authorship_tag": "ABX9TyNJ4xF3jpDX+V/I8m2u6RCG",
      "include_colab_link": true
    },
    "kernelspec": {
      "name": "python3",
      "display_name": "Python 3"
    },
    "language_info": {
      "name": "python"
    }
  },
  "cells": [
    {
      "cell_type": "markdown",
      "metadata": {
        "id": "view-in-github",
        "colab_type": "text"
      },
      "source": [
        "<a href=\"https://colab.research.google.com/github/esn73/lab_python/blob/master/py10_function.ipynb\" target=\"_parent\"><img src=\"https://colab.research.google.com/assets/colab-badge.svg\" alt=\"Open In Colab\"/></a>"
      ]
    },
    {
      "cell_type": "markdown",
      "source": [
        "# 함수(function)\n",
        "\n",
        "* 함수(function): 기능을 수행하는 코드 블록.\n",
        "* 인수(argument): 함수를 호출할 때, 함수에게 전달하는 값(들).\n",
        "* 매개 변수(parameter): argument를 저장하기 위해서, 함수를 정의할 때 선언하는 (지역) 변수.\n",
        "* 반환 값(return value): 함수가 기능 수행의 결과로 반환하는 값.\n",
        "  * 반환 값이 있는 함수\n",
        "  * 반환 값이 없는 함수\n",
        "\n"
      ],
      "metadata": {
        "id": "XZt3jYfUONbu"
      }
    },
    {
      "cell_type": "code",
      "execution_count": 4,
      "metadata": {
        "id": "3Zqh81JgOEUb"
      },
      "outputs": [],
      "source": [
        "result = len([1, 2, 3, 4, 5])\n",
        "# function: len\n",
        "# argument: [1,2,3,4,5]\n",
        "# 함수 호출(call, invoke): len([1, 2, 3, 4, 5])\n",
        "# return value: 5"
      ]
    },
    {
      "cell_type": "code",
      "source": [
        "result"
      ],
      "metadata": {
        "colab": {
          "base_uri": "https://localhost:8080/"
        },
        "id": "PkB7DuTsQLwi",
        "outputId": "b5f9e98d-8613-4460-dd35-649b499deab9"
      },
      "execution_count": 3,
      "outputs": [
        {
          "output_type": "execute_result",
          "data": {
            "text/plain": [
              "5"
            ]
          },
          "metadata": {},
          "execution_count": 3
        }
      ]
    },
    {
      "cell_type": "markdown",
      "source": [
        ""
      ],
      "metadata": {
        "id": "JGVBMFQrOMpA"
      }
    }
  ]
}