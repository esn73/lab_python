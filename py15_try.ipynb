{
  "nbformat": 4,
  "nbformat_minor": 0,
  "metadata": {
    "colab": {
      "name": "py15_try.ipynb",
      "provenance": [],
      "collapsed_sections": [],
      "authorship_tag": "ABX9TyMwD9d/1AkXoeJWTTjLr6mn",
      "include_colab_link": true
    },
    "kernelspec": {
      "name": "python3",
      "display_name": "Python 3"
    },
    "language_info": {
      "name": "python"
    }
  },
  "cells": [
    {
      "cell_type": "markdown",
      "metadata": {
        "id": "view-in-github",
        "colab_type": "text"
      },
      "source": [
        "<a href=\"https://colab.research.google.com/github/esn73/lab_python/blob/master/py15_try.ipynb\" target=\"_parent\"><img src=\"https://colab.research.google.com/assets/colab-badge.svg\" alt=\"Open In Colab\"/></a>"
      ]
    },
    {
      "cell_type": "markdown",
      "source": [
        "# 예외(Exception)/오류(Error) 처리\n",
        "\n",
        "* 오류가 발생한 위치와 원인을 파악해서 오류가 발생하지 않도록 코드 수정.\n",
        "* 오류가 발생하더라도 프로그램이 비정상적으로 종료되지 않고 계속 실행 될 수 있도록 처리. --> try 구문\n",
        "    * Java는 try 구문을 사용하지 않으면 compile 에러가 발생하는 경우가 있지만,\n",
        "    * Python에서는 try 구문이 필수로 필요한 것은 아님.\n"
      ],
      "metadata": {
        "id": "cgAAsmTilllc"
      }
    },
    {
      "cell_type": "markdown",
      "source": [
        "```\n",
        "try:\n",
        "    (1) 실행할 코드(들)\n",
        "except [에러이름 [as 별명]]:\n",
        "    (2) 에러가 발생했을 때 실행할 코드(들)\n",
        "[else:\n",
        "    (3) try 블록 내부의 모든 코드가 에러 없이 정상적으로 실행된 경우 실행할 문장\n",
        "(들)]\n",
        "[finally:\n",
        "    (4) try 블록을 실행중 에러 발생여부와 상관없이 항상 실행할 문장(들)]\n",
        "```\n",
        "\n",
        "* 에러가 발생하지 않은 경우: -> (1) [-> (3) -> (4)]\n",
        "* 에러가 발생한 경우: (1) -> (2) [-> (4)]"
      ],
      "metadata": {
        "id": "rtUPF652m6Nc"
      }
    },
    {
      "cell_type": "code",
      "execution_count": 4,
      "metadata": {
        "colab": {
          "base_uri": "https://localhost:8080/"
        },
        "id": "St2nppCRlacD",
        "outputId": "19ba1dba-0c8c-4e17-e25b-29108be8d17a"
      },
      "outputs": [
        {
          "output_type": "stream",
          "name": "stdout",
          "text": [
            "숫자 입력>>> 1.2\n",
            "x = 1.2\n"
          ]
        }
      ],
      "source": [
        "try:\n",
        "    x = float(input('숫자 입력>>> '))\n",
        "    print('x =', x)\n",
        "except: # 모든 종류의 에러를 처리\n",
        "    print('숫자로 입력하세요...')"
      ]
    },
    {
      "cell_type": "code",
      "source": [
        "try:\n",
        "    x = float(input('숫자 입력>>> ')) # (1)\n",
        "except:\n",
        "    print('숫자로 입력하세요...')     # (2)\n",
        "else:\n",
        "    print('x =', x)                   # (3)\n",
        "finally:\n",
        "    print('=== end ===')              # (4)"
      ],
      "metadata": {
        "colab": {
          "base_uri": "https://localhost:8080/"
        },
        "id": "wZP5VBBUsppe",
        "outputId": "32784fa1-e7ec-49be-b41b-d910c3a2eb9f"
      },
      "execution_count": 6,
      "outputs": [
        {
          "output_type": "stream",
          "name": "stdout",
          "text": [
            "숫자 입력>>> ff\n",
            "숫자로 입력하세요...\n",
            "=== end ===\n"
          ]
        }
      ]
    },
    {
      "cell_type": "code",
      "source": [
        "try:\n",
        "    x = float(input('x 입력 >>> '))\n",
        "    y = float(input('y 입력 >>> '))\n",
        "    print(f'{x} + {y} = {x + y}')\n",
        "    print(f'{x} - {y} = {x - y}')\n",
        "    print(f'{x} * {y} = {x * y}')\n",
        "    print(f'{x} / {y} = {x / y}')\n",
        "except ValueError:\n",
        "    print('숫자로 입력하세요...')\n",
        "except ZeroDivisionError:\n",
        "    print('0으로 나눌 수는 없습니다...')"
      ],
      "metadata": {
        "colab": {
          "base_uri": "https://localhost:8080/"
        },
        "id": "hobxsbvyv4Md",
        "outputId": "e1ff0c35-6e22-4ac1-a2f6-400a82f467b2"
      },
      "execution_count": 14,
      "outputs": [
        {
          "output_type": "stream",
          "name": "stdout",
          "text": [
            "x 입력 >>> 1\n",
            "y 입력 >>> 0\n",
            "1.0 + 0.0 = 1.0\n",
            "1.0 - 0.0 = 1.0\n",
            "1.0 * 0.0 = 0.0\n",
            "0으로 나눌 수는 없습니다...\n"
          ]
        }
      ]
    },
    {
      "cell_type": "markdown",
      "source": [
        "#try-except 연습"
      ],
      "metadata": {
        "id": "LC_SdW43yqrK"
      }
    },
    {
      "cell_type": "markdown",
      "source": [
        "## Ex 1. 정수 한 개를 입력받고, 입력받은 정수를 출력"
      ],
      "metadata": {
        "id": "-ZGvAKDmyuF1"
      }
    },
    {
      "cell_type": "code",
      "source": [
        "while True:\n",
        "    try:\n",
        "        x = int(input('정수 입력>>>'))\n",
        "        print(x)\n",
        "        break # 무한루프 종료\n",
        "    except ValueError:\n",
        "        print('정수로 입력하세요...')\n",
        "    "
      ],
      "metadata": {
        "colab": {
          "base_uri": "https://localhost:8080/"
        },
        "id": "-SYgXvQGv8Rz",
        "outputId": "a399784f-7329-472e-aa44-0ab968138e0d"
      },
      "execution_count": 23,
      "outputs": [
        {
          "output_type": "stream",
          "name": "stdout",
          "text": [
            "정수 입력>>>ㅔ\n",
            "정수로 입력하세요...\n",
            "정수 입력>>>20\n",
            "20\n"
          ]
        }
      ]
    },
    {
      "cell_type": "markdown",
      "source": [
        "## Ex 2.\n",
        "word conting"
      ],
      "metadata": {
        "id": "Ao__f7sLzLWh"
      }
    },
    {
      "cell_type": "code",
      "source": [
        "words = ['one', 'two', 'three', 'two', 'three', 'three', 'four']\n",
        "#> 리스트 words의 문자열을 key, 문자열의 등장 회수를 value로 하는 dict를 만드세요.\n",
        "#> {'one': 1, 'two : 2', 'three':3, 'four'4}\n",
        "word_counts = {} # empty dict\n",
        "for w in words:\n",
        "    try:\n",
        "        word_counts[w] += 1 # word_counts[w] = word_counts[w] + 1\n",
        "    except:\n",
        "        word_counts[w] = 1\n",
        "    print(word_counts)\n"
      ],
      "metadata": {
        "colab": {
          "base_uri": "https://localhost:8080/"
        },
        "id": "iRX7VYImzP88",
        "outputId": "6d3a28fc-f819-4bb5-fc50-5556bae4d774"
      },
      "execution_count": 24,
      "outputs": [
        {
          "output_type": "stream",
          "name": "stdout",
          "text": [
            "{'one': 1}\n",
            "{'one': 1, 'two': 1}\n",
            "{'one': 1, 'two': 1, 'three': 1}\n",
            "{'one': 1, 'two': 2, 'three': 1}\n",
            "{'one': 1, 'two': 2, 'three': 2}\n",
            "{'one': 1, 'two': 2, 'three': 3}\n",
            "{'one': 1, 'two': 2, 'three': 3, 'four': 1}\n"
          ]
        }
      ]
    }
  ]
}