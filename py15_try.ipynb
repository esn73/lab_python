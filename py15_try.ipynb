{
  "nbformat": 4,
  "nbformat_minor": 0,
  "metadata": {
    "colab": {
      "name": "py15_try.ipynb",
      "provenance": [],
      "collapsed_sections": [],
      "authorship_tag": "ABX9TyPXOzHbfgW1fzHnv6nLil6M",
      "include_colab_link": true
    },
    "kernelspec": {
      "name": "python3",
      "display_name": "Python 3"
    },
    "language_info": {
      "name": "python"
    }
  },
  "cells": [
    {
      "cell_type": "markdown",
      "metadata": {
        "id": "view-in-github",
        "colab_type": "text"
      },
      "source": [
        "<a href=\"https://colab.research.google.com/github/esn73/lab_python/blob/master/py15_try.ipynb\" target=\"_parent\"><img src=\"https://colab.research.google.com/assets/colab-badge.svg\" alt=\"Open In Colab\"/></a>"
      ]
    },
    {
      "cell_type": "markdown",
      "source": [
        "# 예외(Exception)/오류(Error) 처리\n",
        "\n",
        "* 오류가 발생한 위치와 원인을 파악해서 오류가 발생하지 않도록 코드 수정.\n",
        "* 오류가 발생하더라도 프로그램이 비정상적으로 종료되지 않고 계속 실행 될 수 있도록 처리. --> try 구문\n",
        "    * Java는 try 구문을 사용하지 않으면 compile 에러가 발생하는 경우가 있지만,\n",
        "    * Python에서는 try 구문이 필수로 필요한 것은 아님.\n"
      ],
      "metadata": {
        "id": "cgAAsmTilllc"
      }
    },
    {
      "cell_type": "markdown",
      "source": [
        "```\n",
        "try:\n",
        "    (1) 실행할 코드(들)\n",
        "except [에러이름 [as 별명]]:\n",
        "    (2) 에러가 발생했을 때 실행할 코드(들)\n",
        "[else:\n",
        "    (3) try 블록 내부의 모든 코드가 에러 없이 정상적으로 실행된 경우 실행할 문장\n",
        "(들)]\n",
        "[finally:\n",
        "    (4) try 블록을 실행중 에러 발생여부와 상관없이 항상 실행할 문장(들)]\n",
        "```\n",
        "\n",
        "* 에러가 발생하지 않은 경우: -> (1) [-> (3) -> (4)]\n",
        "* 에러가 발생한 경우: (1) -> (2) [-> (4)]"
      ],
      "metadata": {
        "id": "rtUPF652m6Nc"
      }
    },
    {
      "cell_type": "code",
      "execution_count": null,
      "metadata": {
        "id": "St2nppCRlacD"
      },
      "outputs": [],
      "source": [
        ""
      ]
    }
  ]
}