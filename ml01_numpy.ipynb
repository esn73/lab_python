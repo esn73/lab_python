{
  "nbformat": 4,
  "nbformat_minor": 0,
  "metadata": {
    "colab": {
      "name": "ml01_numpy.ipynb",
      "provenance": [],
      "collapsed_sections": [],
      "toc_visible": true,
      "authorship_tag": "ABX9TyNFm5cGKgLtKTWzjfBJbEg4",
      "include_colab_link": true
    },
    "kernelspec": {
      "name": "python3",
      "display_name": "Python 3"
    },
    "language_info": {
      "name": "python"
    }
  },
  "cells": [
    {
      "cell_type": "markdown",
      "metadata": {
        "id": "view-in-github",
        "colab_type": "text"
      },
      "source": [
        "<a href=\"https://colab.research.google.com/github/esn73/lab_python/blob/master/ml01_numpy.ipynb\" target=\"_parent\"><img src=\"https://colab.research.google.com/assets/colab-badge.svg\" alt=\"Open In Colab\"/></a>"
      ]
    },
    {
      "cell_type": "markdown",
      "source": [
        "필요한 라이브러리 모듈 임포트"
      ],
      "metadata": {
        "id": "IBv_HMmfrN-w"
      }
    },
    {
      "cell_type": "code",
      "execution_count": 1,
      "metadata": {
        "id": "zsjD11-pq9Bw"
      },
      "outputs": [],
      "source": [
        "import numpy as np\n",
        "import pandas as pd\n",
        "import matplotlib.pyplot as plt\n",
        "import seaborn as sns"
      ]
    },
    {
      "cell_type": "markdown",
      "source": [
        "## np.ndarray 클래스 속성들(properties) 복습"
      ],
      "metadata": {
        "id": "3R3lHs43rRYe"
      }
    },
    {
      "cell_type": "code",
      "source": [
        "# 모든 원소가 1.0으로 이루어진 (3, 4) 모양의 2차원 배열 생성\n",
        "array = np.ones((3, 4))"
      ],
      "metadata": {
        "id": "OJ-7YoOTrXSJ"
      },
      "execution_count": 4,
      "outputs": []
    },
    {
      "cell_type": "code",
      "source": [
        "print(array)"
      ],
      "metadata": {
        "colab": {
          "base_uri": "https://localhost:8080/"
        },
        "id": "rpUmLdrTrf_b",
        "outputId": "61e08154-9f1b-4026-913d-64a97bb77076"
      },
      "execution_count": 5,
      "outputs": [
        {
          "output_type": "stream",
          "name": "stdout",
          "text": [
            "[[1. 1. 1. 1.]\n",
            " [1. 1. 1. 1.]\n",
            " [1. 1. 1. 1.]]\n"
          ]
        }
      ]
    },
    {
      "cell_type": "code",
      "source": [
        "type(array)"
      ],
      "metadata": {
        "colab": {
          "base_uri": "https://localhost:8080/"
        },
        "id": "LBvlcJjpsKgH",
        "outputId": "45b472ba-246a-4886-d39b-6212fba04bd8"
      },
      "execution_count": 7,
      "outputs": [
        {
          "output_type": "execute_result",
          "data": {
            "text/plain": [
              "numpy.ndarray"
            ]
          },
          "metadata": {},
          "execution_count": 7
        }
      ]
    },
    {
      "cell_type": "code",
      "source": [
        "array.dtype # 배열의 원소에 데이터 타입"
      ],
      "metadata": {
        "colab": {
          "base_uri": "https://localhost:8080/"
        },
        "id": "79zSr6KjsNVF",
        "outputId": "ca74ee5a-4351-4e0b-8e48-343dc2c9ba4a"
      },
      "execution_count": 9,
      "outputs": [
        {
          "output_type": "execute_result",
          "data": {
            "text/plain": [
              "dtype('float64')"
            ]
          },
          "metadata": {},
          "execution_count": 9
        }
      ]
    },
    {
      "cell_type": "code",
      "source": [
        "array.shape # 배열의 각 축(axis)를 따라서 있는 원소들의 개술 만들어진 튜플"
      ],
      "metadata": {
        "colab": {
          "base_uri": "https://localhost:8080/"
        },
        "id": "wrsbhDI-sa1J",
        "outputId": "988d3e31-4e26-4eb9-85bf-1f83c3b12703"
      },
      "execution_count": 10,
      "outputs": [
        {
          "output_type": "execute_result",
          "data": {
            "text/plain": [
              "(3, 4)"
            ]
          },
          "metadata": {},
          "execution_count": 10
        }
      ]
    },
    {
      "cell_type": "code",
      "source": [
        "array.size # 배열의 모든 원소들의 개수"
      ],
      "metadata": {
        "colab": {
          "base_uri": "https://localhost:8080/"
        },
        "id": "ZzBxJrvVtB1A",
        "outputId": "e5a593ad-f02f-45c4-b32a-f6eed8850b12"
      },
      "execution_count": 12,
      "outputs": [
        {
          "output_type": "execute_result",
          "data": {
            "text/plain": [
              "12"
            ]
          },
          "metadata": {},
          "execution_count": 12
        }
      ]
    },
    {
      "cell_type": "code",
      "source": [
        "array.ndim # 배열의 차원의 개수. 배열의 축(axis)의 개수. (3차원배열-2차원이 여러개 쌓여있는것)"
      ],
      "metadata": {
        "colab": {
          "base_uri": "https://localhost:8080/"
        },
        "id": "lr5XfxsgtLfh",
        "outputId": "f4f91d70-c473-4cf3-fe61-de28fc0be394"
      },
      "execution_count": 13,
      "outputs": [
        {
          "output_type": "execute_result",
          "data": {
            "text/plain": [
              "2"
            ]
          },
          "metadata": {},
          "execution_count": 13
        }
      ]
    },
    {
      "cell_type": "code",
      "source": [
        "# [1, 6) 1이상 6미만 범위의 정수들로 이루어진 1차원 배열\n",
        "array = np.arange(1, 6)\n",
        "print(array)"
      ],
      "metadata": {
        "colab": {
          "base_uri": "https://localhost:8080/"
        },
        "id": "b3lyQAOduGbJ",
        "outputId": "049d1469-184b-4a0b-d3d2-953b4622e004"
      },
      "execution_count": 14,
      "outputs": [
        {
          "output_type": "stream",
          "name": "stdout",
          "text": [
            "[1 2 3 4 5]\n"
          ]
        }
      ]
    },
    {
      "cell_type": "code",
      "source": [
        "print('dtype:', array.dtype)\n",
        "print('shpae:', array.shape) # axis를 따라서 원소가 몇개 있는지 \n",
        "print('size:',  array.size) # 전체 원소의 개수\n",
        "print('ndim:', array.ndim) # 1차원"
      ],
      "metadata": {
        "colab": {
          "base_uri": "https://localhost:8080/"
        },
        "id": "pHHSZ0UVuZsN",
        "outputId": "6ecb0d54-8038-4849-9717-8b37c26422c3"
      },
      "execution_count": 15,
      "outputs": [
        {
          "output_type": "stream",
          "name": "stdout",
          "text": [
            "dtype: int64\n",
            "shpae: (5,)\n",
            "size: 5\n",
            "ndim: 1\n"
          ]
        }
      ]
    },
    {
      "cell_type": "code",
      "source": [
        "# [1, 25) 범위의 정수들로 이루어진 (2, 3, 4) shape의 3차원 배열\n",
        "array = np.arange(1, 25).reshape((2, 3, 4)) # 행3, 열4인 2차원 배열 2개 [[]] \n",
        "print(array)"
      ],
      "metadata": {
        "colab": {
          "base_uri": "https://localhost:8080/"
        },
        "id": "GdZwHjdBuxtr",
        "outputId": "95668a64-7a56-4210-a6d6-4a02926ef919"
      },
      "execution_count": 17,
      "outputs": [
        {
          "output_type": "stream",
          "name": "stdout",
          "text": [
            "[[[ 1  2  3  4]\n",
            "  [ 5  6  7  8]\n",
            "  [ 9 10 11 12]]\n",
            "\n",
            " [[13 14 15 16]\n",
            "  [17 18 19 20]\n",
            "  [21 22 23 24]]]\n"
          ]
        }
      ]
    },
    {
      "cell_type": "code",
      "source": [
        "print('dtype:', array.dtype)\n",
        "print('shpae:', array.shape)\n",
        "print('size:',  array.size)\n",
        "print('ndim:', array.ndim)"
      ],
      "metadata": {
        "colab": {
          "base_uri": "https://localhost:8080/"
        },
        "id": "6e9y8iIXv_Ge",
        "outputId": "03740237-bc18-42b3-ccea-a01c06a5a864"
      },
      "execution_count": 18,
      "outputs": [
        {
          "output_type": "stream",
          "name": "stdout",
          "text": [
            "dtype: int64\n",
            "shpae: (2, 3, 4)\n",
            "size: 24\n",
            "ndim: 3\n"
          ]
        }
      ]
    },
    {
      "cell_type": "markdown",
      "source": [
        "np.ndarray의 indexing\n",
        "\n",
        "* Python의 list 인덱스 사용 방법: `list[i][j][k]...`\n",
        "* numpy ndarray 인덱스 사용 방법:\n",
        "    * `array[i][j][k]...`\n",
        "    * `array[i, j, k, ...]`\n",
        "    "
      ],
      "metadata": {
        "id": "BK2WiVeuwuGd"
      }
    },
    {
      "cell_type": "code",
      "source": [
        "print(array)"
      ],
      "metadata": {
        "colab": {
          "base_uri": "https://localhost:8080/"
        },
        "id": "TPIiVJvAwqrR",
        "outputId": "3336dbed-e0f7-4d71-97fe-12b9e914ae15"
      },
      "execution_count": 19,
      "outputs": [
        {
          "output_type": "stream",
          "name": "stdout",
          "text": [
            "[[[ 1  2  3  4]\n",
            "  [ 5  6  7  8]\n",
            "  [ 9 10 11 12]]\n",
            "\n",
            " [[13 14 15 16]\n",
            "  [17 18 19 20]\n",
            "  [21 22 23 24]]]\n"
          ]
        }
      ]
    },
    {
      "cell_type": "code",
      "source": [
        "print(array[0])"
      ],
      "metadata": {
        "colab": {
          "base_uri": "https://localhost:8080/"
        },
        "id": "OyfIGwGIxYcB",
        "outputId": "c4415db4-7955-4f4c-843b-35d259d34b89"
      },
      "execution_count": 20,
      "outputs": [
        {
          "output_type": "stream",
          "name": "stdout",
          "text": [
            "[[ 1  2  3  4]\n",
            " [ 5  6  7  8]\n",
            " [ 9 10 11 12]]\n"
          ]
        }
      ]
    },
    {
      "cell_type": "code",
      "source": [
        "print(array[0][1])"
      ],
      "metadata": {
        "colab": {
          "base_uri": "https://localhost:8080/"
        },
        "id": "5GliHsAgxf72",
        "outputId": "38fae3bd-f5ec-41c3-fa80-057b5f893c5a"
      },
      "execution_count": 21,
      "outputs": [
        {
          "output_type": "stream",
          "name": "stdout",
          "text": [
            "[5 6 7 8]\n"
          ]
        }
      ]
    },
    {
      "cell_type": "code",
      "source": [
        "print(array[0][1][2])"
      ],
      "metadata": {
        "colab": {
          "base_uri": "https://localhost:8080/"
        },
        "id": "Hl7LokRZx-NB",
        "outputId": "e7340978-cf56-40ea-b676-3c3ba92a0488"
      },
      "execution_count": 22,
      "outputs": [
        {
          "output_type": "stream",
          "name": "stdout",
          "text": [
            "7\n"
          ]
        }
      ]
    },
    {
      "cell_type": "code",
      "source": [
        "print(array[0, 1, 2])"
      ],
      "metadata": {
        "colab": {
          "base_uri": "https://localhost:8080/"
        },
        "id": "0x2wqhzryGsI",
        "outputId": "0de2ddaf-627e-4f63-d993-3acf230b2890"
      },
      "execution_count": 23,
      "outputs": [
        {
          "output_type": "stream",
          "name": "stdout",
          "text": [
            "7\n"
          ]
        }
      ]
    },
    {
      "cell_type": "markdown",
      "source": [
        "# np.ndarray slicing\n",
        "\n",
        "---\n"
      ],
      "metadata": {
        "id": "XfIvZIHODRgL"
      }
    },
    {
      "cell_type": "markdown",
      "source": [
        "## 1차원 배열 slicing"
      ],
      "metadata": {
        "id": "EAyawWE2IBzC"
      }
    },
    {
      "cell_type": "code",
      "source": [
        "np.random.seed(1)\n",
        "array = np.random.rand(10)\n",
        "print(array)"
      ],
      "metadata": {
        "colab": {
          "base_uri": "https://localhost:8080/"
        },
        "id": "pdcgmzQaDfj_",
        "outputId": "cc8bfe08-d9ff-4436-c39d-e193ac589b0f"
      },
      "execution_count": 24,
      "outputs": [
        {
          "output_type": "stream",
          "name": "stdout",
          "text": [
            "[4.17022005e-01 7.20324493e-01 1.14374817e-04 3.02332573e-01\n",
            " 1.46755891e-01 9.23385948e-02 1.86260211e-01 3.45560727e-01\n",
            " 3.96767474e-01 5.38816734e-01]\n"
          ]
        }
      ]
    },
    {
      "cell_type": "code",
      "source": [
        "# [1:5) 범위의 원소들로 이루어진 ndarray\n",
        "print(array[1:5])"
      ],
      "metadata": {
        "colab": {
          "base_uri": "https://localhost:8080/"
        },
        "id": "bj-65C-pDwCO",
        "outputId": "464b880e-0fe4-468a-8520-141852e5fdac"
      },
      "execution_count": 28,
      "outputs": [
        {
          "output_type": "stream",
          "name": "stdout",
          "text": [
            "[7.20324493e-01 1.14374817e-04 3.02332573e-01 1.46755891e-01]\n"
          ]
        }
      ]
    },
    {
      "cell_type": "code",
      "source": [
        "# 배열엣 첫 3개의 원소로 이루어진 ndarray\n",
        "print(array[:3]) # array [0:3]- 시작 인덱스 0은 생략가능"
      ],
      "metadata": {
        "colab": {
          "base_uri": "https://localhost:8080/"
        },
        "id": "UKLaL3KmETZl",
        "outputId": "abf968c0-6ebd-4a36-d65a-8373ab5702fe"
      },
      "execution_count": 29,
      "outputs": [
        {
          "output_type": "stream",
          "name": "stdout",
          "text": [
            "[4.17022005e-01 7.20324493e-01 1.14374817e-04]\n"
          ]
        }
      ]
    },
    {
      "cell_type": "code",
      "source": [
        "# 배열에서 마지막 3개의 원소로 이루어진 ndarray\n",
        "print(array[-3:]) # slicing에서 end index를 생략하면 끝까지를 선택"
      ],
      "metadata": {
        "id": "tDSemHCsEiNO"
      },
      "execution_count": null,
      "outputs": []
    },
    {
      "cell_type": "code",
      "source": [
        "print(array[:]) # slicing start와 end index 모두를 생략하면 처음부터 끝까지 선택"
      ],
      "metadata": {
        "id": "Ewyr--J0FN0l"
      },
      "execution_count": null,
      "outputs": []
    },
    {
      "cell_type": "markdown",
      "source": [
        "## 2차원 배열 slicing"
      ],
      "metadata": {
        "id": "KirAU-nnFEEG"
      }
    },
    {
      "cell_type": "code",
      "source": [
        "array = np.arange(1, 21).reshape((4,5))\n",
        "print(array)"
      ],
      "metadata": {
        "colab": {
          "base_uri": "https://localhost:8080/"
        },
        "id": "MzEGfa91Fa2h",
        "outputId": "51ef73f8-c09e-416c-c776-c75b597d962f"
      },
      "execution_count": 32,
      "outputs": [
        {
          "output_type": "stream",
          "name": "stdout",
          "text": [
            "[[ 1  2  3  4  5]\n",
            " [ 6  7  8  9 10]\n",
            " [11 12 13 14 15]\n",
            " [16 17 18 19 20]]\n"
          ]
        }
      ]
    },
    {
      "cell_type": "code",
      "source": [
        "# 행은 [1, 3) 열은 [1, 4) 범위로 slicing\n",
        "print(array[1:3, 1:4])"
      ],
      "metadata": {
        "colab": {
          "base_uri": "https://localhost:8080/"
        },
        "id": "vEAZlElEF0br",
        "outputId": "aa4473ab-b84c-437e-eff1-72ce2b799300"
      },
      "execution_count": 33,
      "outputs": [
        {
          "output_type": "stream",
          "name": "stdout",
          "text": [
            "[[ 7  8  9]\n",
            " [12 13 14]]\n"
          ]
        }
      ]
    },
    {
      "cell_type": "code",
      "source": [
        "# 첫 2개 열을 선택. 행은 모두 선택, 열은 [0, 2) 범위로 slicing\n",
        "print(array[:, :2])"
      ],
      "metadata": {
        "colab": {
          "base_uri": "https://localhost:8080/"
        },
        "id": "JpCdEqZnGFvi",
        "outputId": "1dfc7ef9-cf1e-45c9-f8d7-9450880dd3b4"
      },
      "execution_count": 36,
      "outputs": [
        {
          "output_type": "stream",
          "name": "stdout",
          "text": [
            "[[ 1  2]\n",
            " [ 6  7]\n",
            " [11 12]\n",
            " [16 17]]\n"
          ]
        }
      ]
    },
    {
      "cell_type": "code",
      "source": [
        "# 첫 2개 행을 선택 행은 [0,2) 범위로 slicing, 열은 모두 선택.\n",
        "print(array[:2, :])"
      ],
      "metadata": {
        "colab": {
          "base_uri": "https://localhost:8080/"
        },
        "id": "TnikoyRiGs9c",
        "outputId": "211cca5e-049a-4bff-f418-bb95c34d74a4"
      },
      "execution_count": 37,
      "outputs": [
        {
          "output_type": "stream",
          "name": "stdout",
          "text": [
            "[[ 1  2  3  4  5]\n",
            " [ 6  7  8  9 10]]\n"
          ]
        }
      ]
    },
    {
      "cell_type": "markdown",
      "source": [
        "## 3차원 배열 slicing"
      ],
      "metadata": {
        "id": "890maZkPH6AJ"
      }
    },
    {
      "cell_type": "code",
      "source": [
        "array = np.arange(1, 61).reshape((3, 4, 5))\n",
        "print(array)"
      ],
      "metadata": {
        "colab": {
          "base_uri": "https://localhost:8080/"
        },
        "id": "6QK1e4jhIE6Z",
        "outputId": "dc93d053-323c-4b57-dc20-266a94beba2b"
      },
      "execution_count": 38,
      "outputs": [
        {
          "output_type": "stream",
          "name": "stdout",
          "text": [
            "[[[ 1  2  3  4  5]\n",
            "  [ 6  7  8  9 10]\n",
            "  [11 12 13 14 15]\n",
            "  [16 17 18 19 20]]\n",
            "\n",
            " [[21 22 23 24 25]\n",
            "  [26 27 28 29 30]\n",
            "  [31 32 33 34 35]\n",
            "  [36 37 38 39 40]]\n",
            "\n",
            " [[41 42 43 44 45]\n",
            "  [46 47 48 49 50]\n",
            "  [51 52 53 54 55]\n",
            "  [56 57 58 59 60]]]\n"
          ]
        }
      ]
    },
    {
      "cell_type": "code",
      "source": [
        "print(array[:2, :, :])"
      ],
      "metadata": {
        "colab": {
          "base_uri": "https://localhost:8080/"
        },
        "id": "2Dy0FRgsIcES",
        "outputId": "7baa4e37-c367-41d4-8816-cd180da49175"
      },
      "execution_count": 39,
      "outputs": [
        {
          "output_type": "stream",
          "name": "stdout",
          "text": [
            "[[[ 1  2  3  4  5]\n",
            "  [ 6  7  8  9 10]\n",
            "  [11 12 13 14 15]\n",
            "  [16 17 18 19 20]]\n",
            "\n",
            " [[21 22 23 24 25]\n",
            "  [26 27 28 29 30]\n",
            "  [31 32 33 34 35]\n",
            "  [36 37 38 39 40]]]\n"
          ]
        }
      ]
    },
    {
      "cell_type": "markdown",
      "source": [
        "slicing vs indexing"
      ],
      "metadata": {
        "id": "rCEgeOoYI8GI"
      }
    },
    {
      "cell_type": "code",
      "source": [
        "print(array[:1, :, :]) #> slicing의 결과 3-d 배열"
      ],
      "metadata": {
        "colab": {
          "base_uri": "https://localhost:8080/"
        },
        "id": "HOz3UK6zJFdx",
        "outputId": "db8c4b39-88a3-43b0-e3cd-48959b54b51d"
      },
      "execution_count": 40,
      "outputs": [
        {
          "output_type": "stream",
          "name": "stdout",
          "text": [
            "[[[ 1  2  3  4  5]\n",
            "  [ 6  7  8  9 10]\n",
            "  [11 12 13 14 15]\n",
            "  [16 17 18 19 20]]]\n"
          ]
        }
      ]
    },
    {
      "cell_type": "code",
      "source": [
        "print(array[0]) #> indexing의 결과: 2-d 배열"
      ],
      "metadata": {
        "colab": {
          "base_uri": "https://localhost:8080/"
        },
        "id": "FjP54lWvJOsD",
        "outputId": "184c09ce-ed77-4dd1-8790-7cd621e532de"
      },
      "execution_count": 41,
      "outputs": [
        {
          "output_type": "stream",
          "name": "stdout",
          "text": [
            "[[ 1  2  3  4  5]\n",
            " [ 6  7  8  9 10]\n",
            " [11 12 13 14 15]\n",
            " [16 17 18 19 20]]\n"
          ]
        }
      ]
    },
    {
      "cell_type": "code",
      "source": [
        "print(array[:, :, :2]) #> (3, 4, 2) shape의 3-d 배열"
      ],
      "metadata": {
        "colab": {
          "base_uri": "https://localhost:8080/"
        },
        "id": "sQd_kFGPKGc_",
        "outputId": "cd14ee51-8832-4f6d-d1b7-83973b23558f"
      },
      "execution_count": 43,
      "outputs": [
        {
          "output_type": "stream",
          "name": "stdout",
          "text": [
            "[[[ 1  2]\n",
            "  [ 6  7]\n",
            "  [11 12]\n",
            "  [16 17]]\n",
            "\n",
            " [[21 22]\n",
            "  [26 27]\n",
            "  [31 32]\n",
            "  [36 37]]\n",
            "\n",
            " [[41 42]\n",
            "  [46 47]\n",
            "  [51 52]\n",
            "  [56 57]]]\n"
          ]
        }
      ]
    },
    {
      "cell_type": "markdown",
      "source": [
        "# np.ndarray 모양(shape) 변형 "
      ],
      "metadata": {
        "id": "nQWoJ_ZfLkLU"
      }
    },
    {
      "cell_type": "markdown",
      "source": [
        "## `np.ndarray.reshape(shape)`"
      ],
      "metadata": {
        "id": "eOKxhubBMFcV"
      }
    },
    {
      "cell_type": "code",
      "source": [
        "arr_1d = np.arange(1, 13)\n",
        "print(arr_1d) #> 1-d 배열"
      ],
      "metadata": {
        "colab": {
          "base_uri": "https://localhost:8080/"
        },
        "id": "wagkdSOvMLHn",
        "outputId": "61d5d273-a40a-4d10-a9e0-d46418c3fffb"
      },
      "execution_count": 45,
      "outputs": [
        {
          "output_type": "stream",
          "name": "stdout",
          "text": [
            "[ 1  2  3  4  5  6  7  8  9 10 11 12]\n"
          ]
        }
      ]
    },
    {
      "cell_type": "code",
      "source": [
        "# 1차원 배열을 (3, 4) shpae을 갖는 2-d 배열로 변형\n",
        "arr_2d = arr_1d.reshape((3, 4))\n",
        "print(arr_2d)"
      ],
      "metadata": {
        "colab": {
          "base_uri": "https://localhost:8080/"
        },
        "id": "vJ-kZzDhMXgx",
        "outputId": "a8373c94-7abd-4c7f-8979-09648887c07a"
      },
      "execution_count": 51,
      "outputs": [
        {
          "output_type": "stream",
          "name": "stdout",
          "text": [
            "[[ 1  2  3  4]\n",
            " [ 5  6  7  8]\n",
            " [ 9 10 11 12]]\n"
          ]
        }
      ]
    },
    {
      "cell_type": "code",
      "source": [
        "# 1-d 배열을 2-d 배열로 변환할 때 행의 개수만 결정되면 열의 개수는 자동을 결정됨.\n",
        "print(arr_1d.reshape((3, -1))) # 자동으로 계산이 되는 1개 차운의 원소 개수는 -1로 대체할 수 있음"
      ],
      "metadata": {
        "colab": {
          "base_uri": "https://localhost:8080/"
        },
        "id": "ZfSH7k--Ncsm",
        "outputId": "1efebb50-bde9-4605-dd5e-acf44743881d"
      },
      "execution_count": 53,
      "outputs": [
        {
          "output_type": "stream",
          "name": "stdout",
          "text": [
            "[[ 1  2  3  4]\n",
            " [ 5  6  7  8]\n",
            " [ 9 10 11 12]]\n"
          ]
        }
      ]
    },
    {
      "cell_type": "code",
      "source": [
        "# 1-d 배열을 2-d 배열로 변환할 때 열의 개수만 결정되면 행의 개수는 자동을 결정됨.\n",
        "print(arr_1d.reshape((-1, 4)))"
      ],
      "metadata": {
        "colab": {
          "base_uri": "https://localhost:8080/"
        },
        "id": "q9PvIe7vN9PP",
        "outputId": "d791612e-0316-47d2-ae00-63c667816aaf"
      },
      "execution_count": 54,
      "outputs": [
        {
          "output_type": "stream",
          "name": "stdout",
          "text": [
            "[[ 1  2  3  4]\n",
            " [ 5  6  7  8]\n",
            " [ 9 10 11 12]]\n"
          ]
        }
      ]
    },
    {
      "cell_type": "code",
      "source": [
        "# 2-d ndarray -> 1-d ndarray\n",
        "result = arr_2d.reshape((3*4,)) # 3*4 원소 1개인 tuple로 전달\n",
        "print(result)"
      ],
      "metadata": {
        "colab": {
          "base_uri": "https://localhost:8080/"
        },
        "id": "s1YXjnKVOY8I",
        "outputId": "f3ad59a7-5fd5-4e89-dbf2-60b38ebce1ca"
      },
      "execution_count": 56,
      "outputs": [
        {
          "output_type": "stream",
          "name": "stdout",
          "text": [
            "[ 1  2  3  4  5  6  7  8  9 10 11 12]\n"
          ]
        }
      ]
    },
    {
      "cell_type": "code",
      "source": [
        "result = arr_2d.reshape(3*4) # shape을 정수로 전달.\n",
        "print(result)"
      ],
      "metadata": {
        "colab": {
          "base_uri": "https://localhost:8080/"
        },
        "id": "OVLweQKeOz6I",
        "outputId": "4f947bf1-bb02-4212-dfa1-bb0ac66ea169"
      },
      "execution_count": 58,
      "outputs": [
        {
          "output_type": "stream",
          "name": "stdout",
          "text": [
            "[ 1  2  3  4  5  6  7  8  9 10 11 12]\n"
          ]
        }
      ]
    }
  ]
}