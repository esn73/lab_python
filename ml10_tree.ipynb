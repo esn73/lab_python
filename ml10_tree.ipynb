{
  "nbformat": 4,
  "nbformat_minor": 0,
  "metadata": {
    "colab": {
      "name": "ml10_tree.ipynb",
      "provenance": [],
      "collapsed_sections": [],
      "authorship_tag": "ABX9TyPuFybQUqtoqjVyctJT36BO",
      "include_colab_link": true
    },
    "kernelspec": {
      "name": "python3",
      "display_name": "Python 3"
    },
    "language_info": {
      "name": "python"
    }
  },
  "cells": [
    {
      "cell_type": "markdown",
      "metadata": {
        "id": "view-in-github",
        "colab_type": "text"
      },
      "source": [
        "<a href=\"https://colab.research.google.com/github/esn73/lab_python/blob/master/ml10_tree.ipynb\" target=\"_parent\"><img src=\"https://colab.research.google.com/assets/colab-badge.svg\" alt=\"Open In Colab\"/></a>"
      ]
    },
    {
      "cell_type": "code",
      "source": [
        "import numpy as np\n",
        "import pandas as pd\n",
        "import matplotlib.pyplot as plt\n",
        "\n",
        "from sklearn.model_selection import train_test_split\n",
        "from sklearn.tree import DecisionTreeClassifier, plot_tree\n",
        "from sklearn.metrics import confusion_matrix, accuracy_score"
      ],
      "metadata": {
        "id": "fA3c0Ncp2mpy"
      },
      "execution_count": 1,
      "outputs": []
    },
    {
      "cell_type": "markdown",
      "source": [
        "# wine 데이터 셋 준비"
      ],
      "metadata": {
        "id": "LcYdiam03O0a"
      }
    },
    {
      "cell_type": "code",
      "source": [
        "wine_csv = 'https://github.com/JakeOh/202110_itw_lab_python/raw/main/wine.csv'"
      ],
      "metadata": {
        "id": "fvwH9Dzq2vtZ"
      },
      "execution_count": 2,
      "outputs": []
    },
    {
      "cell_type": "code",
      "source": [
        "wine = pd.read_csv(wine_csv)"
      ],
      "metadata": {
        "id": "Gjikz8d53Upz"
      },
      "execution_count": 3,
      "outputs": []
    },
    {
      "cell_type": "code",
      "source": [
        "wine.head()"
      ],
      "metadata": {
        "colab": {
          "base_uri": "https://localhost:8080/",
          "height": 206
        },
        "id": "d3XPaYly3ZBn",
        "outputId": "6c20e3b0-0b6d-453e-d2c6-47aa0c94a009"
      },
      "execution_count": 4,
      "outputs": [
        {
          "output_type": "execute_result",
          "data": {
            "text/plain": [
              "   alcohol  sugar    pH  class\n",
              "0      9.4    1.9  3.51    0.0\n",
              "1      9.8    2.6  3.20    0.0\n",
              "2      9.8    2.3  3.26    0.0\n",
              "3      9.8    1.9  3.16    0.0\n",
              "4      9.4    1.9  3.51    0.0"
            ],
            "text/html": [
              "\n",
              "  <div id=\"df-5bae9b40-3f97-4dce-8f10-19efe6ddecd6\">\n",
              "    <div class=\"colab-df-container\">\n",
              "      <div>\n",
              "<style scoped>\n",
              "    .dataframe tbody tr th:only-of-type {\n",
              "        vertical-align: middle;\n",
              "    }\n",
              "\n",
              "    .dataframe tbody tr th {\n",
              "        vertical-align: top;\n",
              "    }\n",
              "\n",
              "    .dataframe thead th {\n",
              "        text-align: right;\n",
              "    }\n",
              "</style>\n",
              "<table border=\"1\" class=\"dataframe\">\n",
              "  <thead>\n",
              "    <tr style=\"text-align: right;\">\n",
              "      <th></th>\n",
              "      <th>alcohol</th>\n",
              "      <th>sugar</th>\n",
              "      <th>pH</th>\n",
              "      <th>class</th>\n",
              "    </tr>\n",
              "  </thead>\n",
              "  <tbody>\n",
              "    <tr>\n",
              "      <th>0</th>\n",
              "      <td>9.4</td>\n",
              "      <td>1.9</td>\n",
              "      <td>3.51</td>\n",
              "      <td>0.0</td>\n",
              "    </tr>\n",
              "    <tr>\n",
              "      <th>1</th>\n",
              "      <td>9.8</td>\n",
              "      <td>2.6</td>\n",
              "      <td>3.20</td>\n",
              "      <td>0.0</td>\n",
              "    </tr>\n",
              "    <tr>\n",
              "      <th>2</th>\n",
              "      <td>9.8</td>\n",
              "      <td>2.3</td>\n",
              "      <td>3.26</td>\n",
              "      <td>0.0</td>\n",
              "    </tr>\n",
              "    <tr>\n",
              "      <th>3</th>\n",
              "      <td>9.8</td>\n",
              "      <td>1.9</td>\n",
              "      <td>3.16</td>\n",
              "      <td>0.0</td>\n",
              "    </tr>\n",
              "    <tr>\n",
              "      <th>4</th>\n",
              "      <td>9.4</td>\n",
              "      <td>1.9</td>\n",
              "      <td>3.51</td>\n",
              "      <td>0.0</td>\n",
              "    </tr>\n",
              "  </tbody>\n",
              "</table>\n",
              "</div>\n",
              "      <button class=\"colab-df-convert\" onclick=\"convertToInteractive('df-5bae9b40-3f97-4dce-8f10-19efe6ddecd6')\"\n",
              "              title=\"Convert this dataframe to an interactive table.\"\n",
              "              style=\"display:none;\">\n",
              "        \n",
              "  <svg xmlns=\"http://www.w3.org/2000/svg\" height=\"24px\"viewBox=\"0 0 24 24\"\n",
              "       width=\"24px\">\n",
              "    <path d=\"M0 0h24v24H0V0z\" fill=\"none\"/>\n",
              "    <path d=\"M18.56 5.44l.94 2.06.94-2.06 2.06-.94-2.06-.94-.94-2.06-.94 2.06-2.06.94zm-11 1L8.5 8.5l.94-2.06 2.06-.94-2.06-.94L8.5 2.5l-.94 2.06-2.06.94zm10 10l.94 2.06.94-2.06 2.06-.94-2.06-.94-.94-2.06-.94 2.06-2.06.94z\"/><path d=\"M17.41 7.96l-1.37-1.37c-.4-.4-.92-.59-1.43-.59-.52 0-1.04.2-1.43.59L10.3 9.45l-7.72 7.72c-.78.78-.78 2.05 0 2.83L4 21.41c.39.39.9.59 1.41.59.51 0 1.02-.2 1.41-.59l7.78-7.78 2.81-2.81c.8-.78.8-2.07 0-2.86zM5.41 20L4 18.59l7.72-7.72 1.47 1.35L5.41 20z\"/>\n",
              "  </svg>\n",
              "      </button>\n",
              "      \n",
              "  <style>\n",
              "    .colab-df-container {\n",
              "      display:flex;\n",
              "      flex-wrap:wrap;\n",
              "      gap: 12px;\n",
              "    }\n",
              "\n",
              "    .colab-df-convert {\n",
              "      background-color: #E8F0FE;\n",
              "      border: none;\n",
              "      border-radius: 50%;\n",
              "      cursor: pointer;\n",
              "      display: none;\n",
              "      fill: #1967D2;\n",
              "      height: 32px;\n",
              "      padding: 0 0 0 0;\n",
              "      width: 32px;\n",
              "    }\n",
              "\n",
              "    .colab-df-convert:hover {\n",
              "      background-color: #E2EBFA;\n",
              "      box-shadow: 0px 1px 2px rgba(60, 64, 67, 0.3), 0px 1px 3px 1px rgba(60, 64, 67, 0.15);\n",
              "      fill: #174EA6;\n",
              "    }\n",
              "\n",
              "    [theme=dark] .colab-df-convert {\n",
              "      background-color: #3B4455;\n",
              "      fill: #D2E3FC;\n",
              "    }\n",
              "\n",
              "    [theme=dark] .colab-df-convert:hover {\n",
              "      background-color: #434B5C;\n",
              "      box-shadow: 0px 1px 3px 1px rgba(0, 0, 0, 0.15);\n",
              "      filter: drop-shadow(0px 1px 2px rgba(0, 0, 0, 0.3));\n",
              "      fill: #FFFFFF;\n",
              "    }\n",
              "  </style>\n",
              "\n",
              "      <script>\n",
              "        const buttonEl =\n",
              "          document.querySelector('#df-5bae9b40-3f97-4dce-8f10-19efe6ddecd6 button.colab-df-convert');\n",
              "        buttonEl.style.display =\n",
              "          google.colab.kernel.accessAllowed ? 'block' : 'none';\n",
              "\n",
              "        async function convertToInteractive(key) {\n",
              "          const element = document.querySelector('#df-5bae9b40-3f97-4dce-8f10-19efe6ddecd6');\n",
              "          const dataTable =\n",
              "            await google.colab.kernel.invokeFunction('convertToInteractive',\n",
              "                                                     [key], {});\n",
              "          if (!dataTable) return;\n",
              "\n",
              "          const docLinkHtml = 'Like what you see? Visit the ' +\n",
              "            '<a target=\"_blank\" href=https://colab.research.google.com/notebooks/data_table.ipynb>data table notebook</a>'\n",
              "            + ' to learn more about interactive tables.';\n",
              "          element.innerHTML = '';\n",
              "          dataTable['output_type'] = 'display_data';\n",
              "          await google.colab.output.renderOutput(dataTable, element);\n",
              "          const docLink = document.createElement('div');\n",
              "          docLink.innerHTML = docLinkHtml;\n",
              "          element.appendChild(docLink);\n",
              "        }\n",
              "      </script>\n",
              "    </div>\n",
              "  </div>\n",
              "  "
            ]
          },
          "metadata": {},
          "execution_count": 4
        }
      ]
    },
    {
      "cell_type": "code",
      "source": [
        "wine.info()"
      ],
      "metadata": {
        "colab": {
          "base_uri": "https://localhost:8080/",
          "height": 0
        },
        "id": "FMingoZZ3hhC",
        "outputId": "88a4bc6a-42da-4f4c-a9a2-2cd82c568ba8"
      },
      "execution_count": 5,
      "outputs": [
        {
          "output_type": "stream",
          "name": "stdout",
          "text": [
            "<class 'pandas.core.frame.DataFrame'>\n",
            "RangeIndex: 6497 entries, 0 to 6496\n",
            "Data columns (total 4 columns):\n",
            " #   Column   Non-Null Count  Dtype  \n",
            "---  ------   --------------  -----  \n",
            " 0   alcohol  6497 non-null   float64\n",
            " 1   sugar    6497 non-null   float64\n",
            " 2   pH       6497 non-null   float64\n",
            " 3   class    6497 non-null   float64\n",
            "dtypes: float64(4)\n",
            "memory usage: 203.2 KB\n"
          ]
        }
      ]
    },
    {
      "cell_type": "code",
      "source": [
        "wine.describe()"
      ],
      "metadata": {
        "colab": {
          "base_uri": "https://localhost:8080/",
          "height": 300
        },
        "id": "La_5qr7S3uux",
        "outputId": "4d1ed5c7-7579-451d-9653-7bcf9b24c3df"
      },
      "execution_count": 6,
      "outputs": [
        {
          "output_type": "execute_result",
          "data": {
            "text/plain": [
              "           alcohol        sugar           pH        class\n",
              "count  6497.000000  6497.000000  6497.000000  6497.000000\n",
              "mean     10.491801     5.443235     3.218501     0.753886\n",
              "std       1.192712     4.757804     0.160787     0.430779\n",
              "min       8.000000     0.600000     2.720000     0.000000\n",
              "25%       9.500000     1.800000     3.110000     1.000000\n",
              "50%      10.300000     3.000000     3.210000     1.000000\n",
              "75%      11.300000     8.100000     3.320000     1.000000\n",
              "max      14.900000    65.800000     4.010000     1.000000"
            ],
            "text/html": [
              "\n",
              "  <div id=\"df-98ec53e9-60e1-40a2-92df-4e3cc3697ef1\">\n",
              "    <div class=\"colab-df-container\">\n",
              "      <div>\n",
              "<style scoped>\n",
              "    .dataframe tbody tr th:only-of-type {\n",
              "        vertical-align: middle;\n",
              "    }\n",
              "\n",
              "    .dataframe tbody tr th {\n",
              "        vertical-align: top;\n",
              "    }\n",
              "\n",
              "    .dataframe thead th {\n",
              "        text-align: right;\n",
              "    }\n",
              "</style>\n",
              "<table border=\"1\" class=\"dataframe\">\n",
              "  <thead>\n",
              "    <tr style=\"text-align: right;\">\n",
              "      <th></th>\n",
              "      <th>alcohol</th>\n",
              "      <th>sugar</th>\n",
              "      <th>pH</th>\n",
              "      <th>class</th>\n",
              "    </tr>\n",
              "  </thead>\n",
              "  <tbody>\n",
              "    <tr>\n",
              "      <th>count</th>\n",
              "      <td>6497.000000</td>\n",
              "      <td>6497.000000</td>\n",
              "      <td>6497.000000</td>\n",
              "      <td>6497.000000</td>\n",
              "    </tr>\n",
              "    <tr>\n",
              "      <th>mean</th>\n",
              "      <td>10.491801</td>\n",
              "      <td>5.443235</td>\n",
              "      <td>3.218501</td>\n",
              "      <td>0.753886</td>\n",
              "    </tr>\n",
              "    <tr>\n",
              "      <th>std</th>\n",
              "      <td>1.192712</td>\n",
              "      <td>4.757804</td>\n",
              "      <td>0.160787</td>\n",
              "      <td>0.430779</td>\n",
              "    </tr>\n",
              "    <tr>\n",
              "      <th>min</th>\n",
              "      <td>8.000000</td>\n",
              "      <td>0.600000</td>\n",
              "      <td>2.720000</td>\n",
              "      <td>0.000000</td>\n",
              "    </tr>\n",
              "    <tr>\n",
              "      <th>25%</th>\n",
              "      <td>9.500000</td>\n",
              "      <td>1.800000</td>\n",
              "      <td>3.110000</td>\n",
              "      <td>1.000000</td>\n",
              "    </tr>\n",
              "    <tr>\n",
              "      <th>50%</th>\n",
              "      <td>10.300000</td>\n",
              "      <td>3.000000</td>\n",
              "      <td>3.210000</td>\n",
              "      <td>1.000000</td>\n",
              "    </tr>\n",
              "    <tr>\n",
              "      <th>75%</th>\n",
              "      <td>11.300000</td>\n",
              "      <td>8.100000</td>\n",
              "      <td>3.320000</td>\n",
              "      <td>1.000000</td>\n",
              "    </tr>\n",
              "    <tr>\n",
              "      <th>max</th>\n",
              "      <td>14.900000</td>\n",
              "      <td>65.800000</td>\n",
              "      <td>4.010000</td>\n",
              "      <td>1.000000</td>\n",
              "    </tr>\n",
              "  </tbody>\n",
              "</table>\n",
              "</div>\n",
              "      <button class=\"colab-df-convert\" onclick=\"convertToInteractive('df-98ec53e9-60e1-40a2-92df-4e3cc3697ef1')\"\n",
              "              title=\"Convert this dataframe to an interactive table.\"\n",
              "              style=\"display:none;\">\n",
              "        \n",
              "  <svg xmlns=\"http://www.w3.org/2000/svg\" height=\"24px\"viewBox=\"0 0 24 24\"\n",
              "       width=\"24px\">\n",
              "    <path d=\"M0 0h24v24H0V0z\" fill=\"none\"/>\n",
              "    <path d=\"M18.56 5.44l.94 2.06.94-2.06 2.06-.94-2.06-.94-.94-2.06-.94 2.06-2.06.94zm-11 1L8.5 8.5l.94-2.06 2.06-.94-2.06-.94L8.5 2.5l-.94 2.06-2.06.94zm10 10l.94 2.06.94-2.06 2.06-.94-2.06-.94-.94-2.06-.94 2.06-2.06.94z\"/><path d=\"M17.41 7.96l-1.37-1.37c-.4-.4-.92-.59-1.43-.59-.52 0-1.04.2-1.43.59L10.3 9.45l-7.72 7.72c-.78.78-.78 2.05 0 2.83L4 21.41c.39.39.9.59 1.41.59.51 0 1.02-.2 1.41-.59l7.78-7.78 2.81-2.81c.8-.78.8-2.07 0-2.86zM5.41 20L4 18.59l7.72-7.72 1.47 1.35L5.41 20z\"/>\n",
              "  </svg>\n",
              "      </button>\n",
              "      \n",
              "  <style>\n",
              "    .colab-df-container {\n",
              "      display:flex;\n",
              "      flex-wrap:wrap;\n",
              "      gap: 12px;\n",
              "    }\n",
              "\n",
              "    .colab-df-convert {\n",
              "      background-color: #E8F0FE;\n",
              "      border: none;\n",
              "      border-radius: 50%;\n",
              "      cursor: pointer;\n",
              "      display: none;\n",
              "      fill: #1967D2;\n",
              "      height: 32px;\n",
              "      padding: 0 0 0 0;\n",
              "      width: 32px;\n",
              "    }\n",
              "\n",
              "    .colab-df-convert:hover {\n",
              "      background-color: #E2EBFA;\n",
              "      box-shadow: 0px 1px 2px rgba(60, 64, 67, 0.3), 0px 1px 3px 1px rgba(60, 64, 67, 0.15);\n",
              "      fill: #174EA6;\n",
              "    }\n",
              "\n",
              "    [theme=dark] .colab-df-convert {\n",
              "      background-color: #3B4455;\n",
              "      fill: #D2E3FC;\n",
              "    }\n",
              "\n",
              "    [theme=dark] .colab-df-convert:hover {\n",
              "      background-color: #434B5C;\n",
              "      box-shadow: 0px 1px 3px 1px rgba(0, 0, 0, 0.15);\n",
              "      filter: drop-shadow(0px 1px 2px rgba(0, 0, 0, 0.3));\n",
              "      fill: #FFFFFF;\n",
              "    }\n",
              "  </style>\n",
              "\n",
              "      <script>\n",
              "        const buttonEl =\n",
              "          document.querySelector('#df-98ec53e9-60e1-40a2-92df-4e3cc3697ef1 button.colab-df-convert');\n",
              "        buttonEl.style.display =\n",
              "          google.colab.kernel.accessAllowed ? 'block' : 'none';\n",
              "\n",
              "        async function convertToInteractive(key) {\n",
              "          const element = document.querySelector('#df-98ec53e9-60e1-40a2-92df-4e3cc3697ef1');\n",
              "          const dataTable =\n",
              "            await google.colab.kernel.invokeFunction('convertToInteractive',\n",
              "                                                     [key], {});\n",
              "          if (!dataTable) return;\n",
              "\n",
              "          const docLinkHtml = 'Like what you see? Visit the ' +\n",
              "            '<a target=\"_blank\" href=https://colab.research.google.com/notebooks/data_table.ipynb>data table notebook</a>'\n",
              "            + ' to learn more about interactive tables.';\n",
              "          element.innerHTML = '';\n",
              "          dataTable['output_type'] = 'display_data';\n",
              "          await google.colab.output.renderOutput(dataTable, element);\n",
              "          const docLink = document.createElement('div');\n",
              "          docLink.innerHTML = docLinkHtml;\n",
              "          element.appendChild(docLink);\n",
              "        }\n",
              "      </script>\n",
              "    </div>\n",
              "  </div>\n",
              "  "
            ]
          },
          "metadata": {},
          "execution_count": 6
        }
      ]
    },
    {
      "cell_type": "code",
      "source": [
        "np.unique(wine['class'], return_counts=True) # 0 red 1 white"
      ],
      "metadata": {
        "colab": {
          "base_uri": "https://localhost:8080/",
          "height": 0
        },
        "id": "4ZUBpUMd4Vub",
        "outputId": "1acd1e70-d29f-45a6-b792-42f915416e63"
      },
      "execution_count": 7,
      "outputs": [
        {
          "output_type": "execute_result",
          "data": {
            "text/plain": [
              "(array([0., 1.]), array([1599, 4898]))"
            ]
          },
          "metadata": {},
          "execution_count": 7
        }
      ]
    },
    {
      "cell_type": "code",
      "source": [
        "featuer_names = ['alcohol', 'sugar', 'pH']"
      ],
      "metadata": {
        "id": "VQ7lN5-75htB"
      },
      "execution_count": 8,
      "outputs": []
    },
    {
      "cell_type": "code",
      "source": [
        "feature_names = wine.columns[:-1]   # 특성(변수)들의 이름\n",
        "traget_names =['red wine', 'white wine'] #class 0: red 1 white"
      ],
      "metadata": {
        "id": "mLlDSnkU5-E6"
      },
      "execution_count": 9,
      "outputs": []
    },
    {
      "cell_type": "code",
      "source": [
        "X = wine.iloc[:, :-1].values # 특성 행렬(2차원 배열)\n",
        "y = wine['class'].values # 타겟(레이블)배열"
      ],
      "metadata": {
        "id": "MXZujFTL7NjZ"
      },
      "execution_count": 10,
      "outputs": []
    },
    {
      "cell_type": "code",
      "source": [
        "X[:5, :]"
      ],
      "metadata": {
        "colab": {
          "base_uri": "https://localhost:8080/",
          "height": 0
        },
        "id": "n_c88KHY7WiE",
        "outputId": "3677e55c-f942-4d83-83b7-b68f2345c56d"
      },
      "execution_count": 11,
      "outputs": [
        {
          "output_type": "execute_result",
          "data": {
            "text/plain": [
              "array([[9.4 , 1.9 , 3.51],\n",
              "       [9.8 , 2.6 , 3.2 ],\n",
              "       [9.8 , 2.3 , 3.26],\n",
              "       [9.8 , 1.9 , 3.16],\n",
              "       [9.4 , 1.9 , 3.51]])"
            ]
          },
          "metadata": {},
          "execution_count": 11
        }
      ]
    },
    {
      "cell_type": "code",
      "source": [
        "y[:5]"
      ],
      "metadata": {
        "colab": {
          "base_uri": "https://localhost:8080/",
          "height": 0
        },
        "id": "z6OC-F0L7c0p",
        "outputId": "ad59aaec-1572-4f04-c048-a4e71772bc07"
      },
      "execution_count": 12,
      "outputs": [
        {
          "output_type": "execute_result",
          "data": {
            "text/plain": [
              "array([0., 0., 0., 0., 0.])"
            ]
          },
          "metadata": {},
          "execution_count": 12
        }
      ]
    },
    {
      "cell_type": "markdown",
      "source": [
        "# 훈련 셋, 테스트 셋 분리"
      ],
      "metadata": {
        "id": "YpLWtiXs6iLy"
      }
    },
    {
      "cell_type": "code",
      "source": [
        "X_train, X_test, y_train, y_test = train_test_split(X, y, \n",
        "                                                    test_size=0.2,\n",
        "                                                    stratify=y,\n",
        "                                                    random_state=42)"
      ],
      "metadata": {
        "id": "mEC8B9sg6lUO"
      },
      "execution_count": 13,
      "outputs": []
    },
    {
      "cell_type": "code",
      "source": [
        "X_train.shape, X_test.shape"
      ],
      "metadata": {
        "colab": {
          "base_uri": "https://localhost:8080/",
          "height": 0
        },
        "id": "J_NKi2Fq74kd",
        "outputId": "5569d8b9-649a-463f-d784-19ce6620f5d7"
      },
      "execution_count": 14,
      "outputs": [
        {
          "output_type": "execute_result",
          "data": {
            "text/plain": [
              "((5197, 3), (1300, 3))"
            ]
          },
          "metadata": {},
          "execution_count": 14
        }
      ]
    },
    {
      "cell_type": "code",
      "source": [
        "y_train.shape, y_test.shape"
      ],
      "metadata": {
        "colab": {
          "base_uri": "https://localhost:8080/",
          "height": 0
        },
        "id": "Pjsz0efz77To",
        "outputId": "8f1a1da7-50af-4d33-9448-8499f141c34d"
      },
      "execution_count": 15,
      "outputs": [
        {
          "output_type": "execute_result",
          "data": {
            "text/plain": [
              "((5197,), (1300,))"
            ]
          },
          "metadata": {},
          "execution_count": 15
        }
      ]
    },
    {
      "cell_type": "code",
      "source": [
        "np.unique(y_train, return_counts=True)"
      ],
      "metadata": {
        "colab": {
          "base_uri": "https://localhost:8080/",
          "height": 0
        },
        "id": "Qc1owAoU8Dni",
        "outputId": "c9b99372-04c5-449a-a2c6-d6685dbe3173"
      },
      "execution_count": 16,
      "outputs": [
        {
          "output_type": "execute_result",
          "data": {
            "text/plain": [
              "(array([0., 1.]), array([1279, 3918]))"
            ]
          },
          "metadata": {},
          "execution_count": 16
        }
      ]
    },
    {
      "cell_type": "code",
      "source": [
        "np.unique(y_test, return_counts=True)"
      ],
      "metadata": {
        "colab": {
          "base_uri": "https://localhost:8080/",
          "height": 0
        },
        "id": "CLP_Slsy8IOu",
        "outputId": "f1922f4c-e59e-42aa-afd7-fc1dc26ca819"
      },
      "execution_count": 17,
      "outputs": [
        {
          "output_type": "execute_result",
          "data": {
            "text/plain": [
              "(array([0., 1.]), array([320, 980]))"
            ]
          },
          "metadata": {},
          "execution_count": 17
        }
      ]
    },
    {
      "cell_type": "markdown",
      "source": [
        "# Decision Tree(의사결정 나무 / 결정 트리) 분류"
      ],
      "metadata": {
        "id": "BTocZ8CA8U-a"
      }
    },
    {
      "cell_type": "code",
      "source": [
        "tree_clf = DecisionTreeClassifier(random_state=42)  # 모델 생성"
      ],
      "metadata": {
        "id": "LGNXE6oj8ggh"
      },
      "execution_count": 18,
      "outputs": []
    },
    {
      "cell_type": "code",
      "source": [
        "tree_clf.fit(X_train, y_train)   # 모델 훈련"
      ],
      "metadata": {
        "colab": {
          "base_uri": "https://localhost:8080/",
          "height": 0
        },
        "id": "Kt9SQgln8yjb",
        "outputId": "03453a47-e9a1-4cbf-dc1d-300adc80fab8"
      },
      "execution_count": 19,
      "outputs": [
        {
          "output_type": "execute_result",
          "data": {
            "text/plain": [
              "DecisionTreeClassifier(random_state=42)"
            ]
          },
          "metadata": {},
          "execution_count": 19
        }
      ]
    },
    {
      "cell_type": "code",
      "source": [
        "train_pred = tree_clf.predict(X_train) # 훈련 셋 예측값"
      ],
      "metadata": {
        "id": "Mae0ffan88gv"
      },
      "execution_count": 20,
      "outputs": []
    },
    {
      "cell_type": "markdown",
      "source": [
        "## 훈련 셋 평가"
      ],
      "metadata": {
        "id": "sKfWEeKO9pcq"
      }
    },
    {
      "cell_type": "code",
      "source": [
        "train_pred[:10]"
      ],
      "metadata": {
        "colab": {
          "base_uri": "https://localhost:8080/",
          "height": 0
        },
        "id": "Uf4A8K2k9JHa",
        "outputId": "edfa35b1-474b-4cfc-b355-ecbbbab887c9"
      },
      "execution_count": 21,
      "outputs": [
        {
          "output_type": "execute_result",
          "data": {
            "text/plain": [
              "array([1., 1., 1., 0., 0., 0., 1., 1., 1., 0.])"
            ]
          },
          "metadata": {},
          "execution_count": 21
        }
      ]
    },
    {
      "cell_type": "code",
      "source": [
        "y_train[:10]"
      ],
      "metadata": {
        "colab": {
          "base_uri": "https://localhost:8080/",
          "height": 0
        },
        "id": "-r7Bz6-o9P4r",
        "outputId": "31769a83-1617-4445-c2bf-88786b7fa82d"
      },
      "execution_count": 22,
      "outputs": [
        {
          "output_type": "execute_result",
          "data": {
            "text/plain": [
              "array([1., 1., 1., 0., 0., 0., 1., 1., 1., 0.])"
            ]
          },
          "metadata": {},
          "execution_count": 22
        }
      ]
    },
    {
      "cell_type": "code",
      "source": [
        "confusion_matrix(y_train, train_pred)"
      ],
      "metadata": {
        "colab": {
          "base_uri": "https://localhost:8080/",
          "height": 0
        },
        "id": "bk4rDpW69XpB",
        "outputId": "bcbe65ab-6636-4d56-9642-9948f8298bca"
      },
      "execution_count": 23,
      "outputs": [
        {
          "output_type": "execute_result",
          "data": {
            "text/plain": [
              "array([[1276,    3],\n",
              "       [   8, 3910]])"
            ]
          },
          "metadata": {},
          "execution_count": 23
        }
      ]
    },
    {
      "cell_type": "code",
      "source": [
        "accuracy_score(y_train, train_pred)"
      ],
      "metadata": {
        "colab": {
          "base_uri": "https://localhost:8080/",
          "height": 0
        },
        "id": "IuuTGU7491Gy",
        "outputId": "bcb0463d-27f7-4d9a-82e3-4133f762094b"
      },
      "execution_count": 24,
      "outputs": [
        {
          "output_type": "execute_result",
          "data": {
            "text/plain": [
              "0.9978833942659227"
            ]
          },
          "metadata": {},
          "execution_count": 24
        }
      ]
    },
    {
      "cell_type": "markdown",
      "source": [
        "## 테스트 셋 평가"
      ],
      "metadata": {
        "id": "9SPu84hK96Da"
      }
    },
    {
      "cell_type": "code",
      "source": [
        "test_pred = tree_clf.predict(X_test)"
      ],
      "metadata": {
        "id": "8_9h6S9K98-A"
      },
      "execution_count": 25,
      "outputs": []
    },
    {
      "cell_type": "code",
      "source": [
        "confusion_matrix(y_test, test_pred)"
      ],
      "metadata": {
        "colab": {
          "base_uri": "https://localhost:8080/",
          "height": 0
        },
        "id": "JRsK5m4d-D7M",
        "outputId": "14b695bf-6c45-429a-9449-08e2a6d88429"
      },
      "execution_count": 26,
      "outputs": [
        {
          "output_type": "execute_result",
          "data": {
            "text/plain": [
              "array([[226,  94],\n",
              "       [ 81, 899]])"
            ]
          },
          "metadata": {},
          "execution_count": 26
        }
      ]
    },
    {
      "cell_type": "code",
      "source": [
        "accuracy_score(y_test, test_pred)   # 오버피팅이 심한 결과 - 과대적합 "
      ],
      "metadata": {
        "colab": {
          "base_uri": "https://localhost:8080/",
          "height": 0
        },
        "id": "3qfJHBj2-Rby",
        "outputId": "d1c34df0-e779-4be8-def6-f18a74ba2b75"
      },
      "execution_count": 27,
      "outputs": [
        {
          "output_type": "execute_result",
          "data": {
            "text/plain": [
              "0.8653846153846154"
            ]
          },
          "metadata": {},
          "execution_count": 27
        }
      ]
    },
    {
      "cell_type": "markdown",
      "source": [
        "Decision tree는 overfitting(과대적합)이 심하다. 훈련셋  > 테스트셋"
      ],
      "metadata": {
        "id": "TxucF17a-mNL"
      }
    },
    {
      "cell_type": "markdown",
      "source": [
        "## Decision Tree 시각화"
      ],
      "metadata": {
        "id": "mm0ZW_1B-8ra"
      }
    },
    {
      "cell_type": "code",
      "source": [
        "plot_tree(tree_clf)\n",
        "plt.show()"
      ],
      "metadata": {
        "colab": {
          "base_uri": "https://localhost:8080/",
          "height": 248
        },
        "id": "ItEApSE8-q5i",
        "outputId": "29ed2958-a102-4052-ad7d-a238c699d612"
      },
      "execution_count": 28,
      "outputs": [
        {
          "output_type": "display_data",
          "data": {
            "text/plain": [
              "<Figure size 432x288 with 1 Axes>"
            ],
            "image/png": "[encoded data removed]"
          },
          "metadata": {
            "needs_background": "light"
          }
        }
      ]
    },
    {
      "cell_type": "code",
      "source": [
        "plt.figure(figsize=(16, 12))\n",
        "plot_tree(tree_clf, max_depth=2,\n",
        "          feature_names=feature_names, class_names=traget_names, filled=True) # root에서 두칸 내려옴\n",
        "plt.show()"
      ],
      "metadata": {
        "colab": {
          "base_uri": "https://localhost:8080/",
          "height": 683
        },
        "id": "ceUhT0ZvCXSK",
        "outputId": "51f5badd-ea7d-45f9-f2e7-b3f4f3a58f17"
      },
      "execution_count": 29,
      "outputs": [
        {
          "output_type": "display_data",
          "data": {
            "text/plain": [
              "<Figure size 1152x864 with 1 Axes>"
            ],
            "image/png": "[encoded data removed]"
          },
          "metadata": {
            "needs_background": "light"
          }
        }
      ]
    },
    {
      "cell_type": "markdown",
      "source": [
        "* Decision Tree의 장점\n",
        "    * 특성들을 스케일로 변환할 필요가 없음.\n",
        "    * 결과를 이해하기 쉬움.\n",
        "* Decision Tree의 단점\n",
        "    * 과대적합(overfitting)되기 쉬움.\n",
        "        * 여러가지 규제를 적용하거나 하이퍼 파라미터 튜닝을 통해서 과대적합 문제를 해결해야 함."
      ],
      "metadata": {
        "id": "bt7MyGlgGZKL"
      }
    },
    {
      "cell_type": "markdown",
      "source": [
        "# Hyperparameter tuning\n",
        "\n",
        "* 전체 데이터를 훈련(train)-검증(validation)-테스트(test) 셋으로 나눔.\n",
        "    * 전체 데이터를 훈련-테스트 셋으로 분리.\n",
        "    * 훈련 셋을 훈련-검증 셋으로 분리.`\n",
        "* 하이퍼파라미터를 바꿔가면서 훈련 셋으로 모델을 훈련.\n",
        "* 하이퍼파라미터 값에 다른 모델의 성능을 검증 셋으로 테스트.\n",
        "* 검증 셋에서 점수가 가장 좋은 모델(하이퍼파라미터)를 선택.\n",
        "* 튜닝이 끝난 모델의 일반화 성능을 예측하기 위한 용도로만 테스트 셋을 사용."
      ],
      "metadata": {
        "id": "LXusFJdWHQNB"
      }
    },
    {
      "cell_type": "code",
      "source": [
        "X.shape, y.shape"
      ],
      "metadata": {
        "id": "lkNUgLDyHGS9",
        "colab": {
          "base_uri": "https://localhost:8080/",
          "height": 0
        },
        "outputId": "e0eb1c90-c436-46c7-ae4e-e8df8f471f6d"
      },
      "execution_count": 30,
      "outputs": [
        {
          "output_type": "execute_result",
          "data": {
            "text/plain": [
              "((6497, 3), (6497,))"
            ]
          },
          "metadata": {},
          "execution_count": 30
        }
      ]
    },
    {
      "cell_type": "code",
      "source": [
        "# 전체 데이터 셋(X, y)를 훈련-테스트셋으로 분리\n",
        "X_tr_full, X_test, y_tr_full, y_test = train_test_split(X, y,\n",
        "                                                        test_size=0.2,\n",
        "                                                        stratify=y,\n",
        "                                                        random_state=42)"
      ],
      "metadata": {
        "id": "yeHTQlWVJxDG"
      },
      "execution_count": 32,
      "outputs": []
    },
    {
      "cell_type": "code",
      "source": [
        "# 훈련 셋을 다시 훈련-검증 셋으로 분리\n",
        "X_train, X_val, y_train, y_val = train_test_split(X_tr_full, y_tr_full, test_size=0.2,\n",
        "                                                  stratify=y_tr_full,\n",
        "                                                  random_state=42)"
      ],
      "metadata": {
        "id": "nrn361_mKNIC"
      },
      "execution_count": 33,
      "outputs": []
    },
    {
      "cell_type": "code",
      "source": [
        "# 훈련(train)-검증(valiidation)-테트스(test) 셋\n",
        "X_train.shape, X_val.shape, X_test.shape"
      ],
      "metadata": {
        "colab": {
          "base_uri": "https://localhost:8080/",
          "height": 0
        },
        "id": "gTJkVSgVK4Mw",
        "outputId": "62b7b8ab-6122-4343-cd2f-a48d4a28265c"
      },
      "execution_count": 37,
      "outputs": [
        {
          "output_type": "execute_result",
          "data": {
            "text/plain": [
              "((4157, 3), (1040, 3), (1300, 3))"
            ]
          },
          "metadata": {},
          "execution_count": 37
        }
      ]
    },
    {
      "cell_type": "code",
      "source": [
        "y_train.shape, y_val.shape, y_test.shape"
      ],
      "metadata": {
        "colab": {
          "base_uri": "https://localhost:8080/",
          "height": 0
        },
        "id": "_iXFD4xlLcaE",
        "outputId": "eea37fac-2e15-4f2b-9bda-49fb21262f71"
      },
      "execution_count": 38,
      "outputs": [
        {
          "output_type": "execute_result",
          "data": {
            "text/plain": [
              "((4157,), (1040,), (1300,))"
            ]
          },
          "metadata": {},
          "execution_count": 38
        }
      ]
    },
    {
      "cell_type": "code",
      "source": [
        "DecisionTreeClassifier()"
      ],
      "metadata": {
        "colab": {
          "base_uri": "https://localhost:8080/",
          "height": 0
        },
        "id": "xxD9eGzrPh_e",
        "outputId": "1821d848-4fb5-474a-91b2-122a91e55bc4"
      },
      "execution_count": 39,
      "outputs": [
        {
          "output_type": "execute_result",
          "data": {
            "text/plain": [
              "DecisionTreeClassifier()"
            ]
          },
          "metadata": {},
          "execution_count": 39
        }
      ]
    },
    {
      "cell_type": "markdown",
      "source": [
        "DecisionTree의 max_depth 값을 변화시키면서 훈련/검증 셋에서 정확도 계산"
      ],
      "metadata": {
        "id": "IckVMkz1PoDT"
      }
    },
    {
      "cell_type": "code",
      "source": [
        "train_scores = [] # 훈련 셋에서의 정확도들을 저장할 리스트\n",
        "val_scores = [] # 검증 셋에서의 정확도들을 저장할 리스트\n",
        "depths = np.arange(1, 21)   # Decision Tree의 max_depth 값들 \n",
        "\n",
        "for d in depths:    # max_depth 값을 1 ~ 20까지 반복\n",
        "    tree_clf = DecisionTreeClassifier(max_depth=d) # 모델 훈련\n",
        "    tree_clf.fit(X_train, y_train)  # 훈련 셋으로 모델을 학습시킴.\n",
        "    train_acc = tree_clf.score(X_train, y_train) # 훈련 셋의 정확도\n",
        "    train_scores.append(train_acc)\n",
        "    val_acc = tree_clf.score(X_val, y_val)  # 검증 셋의 정확도\n",
        "    val_scores.append(val_acc)\n",
        "\n",
        "print(train_scores)\n",
        "print(val_scores)"
      ],
      "metadata": {
        "colab": {
          "base_uri": "https://localhost:8080/",
          "height": 0
        },
        "id": "lb8HphG2P-ff",
        "outputId": "04cd9568-d27d-49c4-9b98-28d9f30df0f7"
      },
      "execution_count": 43,
      "outputs": [
        {
          "output_type": "stream",
          "name": "stdout",
          "text": [
            "[0.7539090690401732, 0.8270387298532595, 0.8272792879480394, 0.8636035602598028, 0.8691363964397402, 0.8775559297570363, 0.8888621602116912, 0.8989656001924464, 0.9129179696896801, 0.9297570363242723, 0.9480394515275439, 0.9557373105605004, 0.9737791676689921, 0.9800336781332691, 0.9886937695453452, 0.9915804666827038, 0.9954293961991821, 0.9966321866730815, 0.9973538609574212, 0.9980755352417608]\n",
            "[0.7538461538461538, 0.8298076923076924, 0.8298076923076924, 0.864423076923077, 0.875, 0.8682692307692308, 0.8625, 0.8653846153846154, 0.8605769230769231, 0.8596153846153847, 0.864423076923077, 0.864423076923077, 0.8740384615384615, 0.8692307692307693, 0.8711538461538462, 0.8778846153846154, 0.8663461538461539, 0.8740384615384615, 0.8701923076923077, 0.8701923076923077]\n"
          ]
        }
      ]
    },
    {
      "cell_type": "code",
      "source": [
        "# 훈련-검증 셋 정확도 시각화\n",
        "plt.plot(depths, train_scores, 'bo-', label='train socre')\n",
        "plt.plot(depths, val_scores, 'ro:', label='validation score')\n",
        "\n",
        "plt.grid()\n",
        "plt.xlabel('max depth')\n",
        "plt.ylabel('accuracy')\n",
        "plt.legend()\n",
        "plt.show()"
      ],
      "metadata": {
        "colab": {
          "base_uri": "https://localhost:8080/",
          "height": 279
        },
        "id": "vLyqxjX6R1UQ",
        "outputId": "cea50f23-f0a4-411b-b634-8da1ba4e7d1d"
      },
      "execution_count": 46,
      "outputs": [
        {
          "output_type": "display_data",
          "data": {
            "text/plain": [
              "<Figure size 432x288 with 1 Axes>"
            ],
            "image/png": "[encoded data removed]"
          },
          "metadata": {
            "needs_background": "light"
          }
        }
      ]
    },
    {
      "cell_type": "markdown",
      "source": [
        "위 결과를 보면 decision tree의 max_depth를 6보다 더 크게 하는 것은 테스트 셋의 정확도를 높이지 못하고(일반화 성능이 좋아지지는 않고) 과대적합(overfiting)만 더 커지는 결과임."
      ],
      "metadata": {
        "id": "K17sAJXyTFEV"
      }
    },
    {
      "cell_type": "code",
      "source": [
        "from pandas.core.common import random_state\n",
        "# 적절한 하이퍼파라미터가 선택된(튜닝된) 모델을 다시 훈련.\n",
        "tree_clf = DecisionTreeClassifier(max_depth=6, random_state=42)\n",
        "tree_clf.fit(X_tr_full, y_tr_full)\n",
        "tree_clf.score(X_test, y_test)  # 일반화 성능 측정"
      ],
      "metadata": {
        "colab": {
          "base_uri": "https://localhost:8080/",
          "height": 0
        },
        "id": "A6cVTVZETeOO",
        "outputId": "78f0152c-4b84-4f77-a767-d4954aee6909"
      },
      "execution_count": 47,
      "outputs": [
        {
          "output_type": "execute_result",
          "data": {
            "text/plain": [
              "0.8484615384615385"
            ]
          },
          "metadata": {},
          "execution_count": 47
        }
      ]
    },
    {
      "cell_type": "markdown",
      "source": [
        "# 교차 검증(Cross Validation)"
      ],
      "metadata": {
        "id": "eTf-Jd8VUr5U"
      }
    },
    {
      "cell_type": "code",
      "source": [
        "from sklearn.model_selection import cross_validate"
      ],
      "metadata": {
        "id": "KcYdPVOGT5qY"
      },
      "execution_count": 48,
      "outputs": []
    },
    {
      "cell_type": "code",
      "source": [
        "# 교차 검증에서 사용할 훈련 셋, 테스트 셋 분리\n",
        "X_train, X_test, y_train, y_test = train_test_split(X, y,\n",
        "                                                    test_size=0.2,\n",
        "                                                    stratify=y,\n",
        "                                                    random_state=42)"
      ],
      "metadata": {
        "id": "9uxdDN3qWm19"
      },
      "execution_count": 49,
      "outputs": []
    },
    {
      "cell_type": "code",
      "source": [
        "# 교차 검증에서 사용할 머신 러닝 모델\n",
        "tree_clf = DecisionTreeClassifier(max_depth=6, random_state=42)"
      ],
      "metadata": {
        "id": "wRRViu1RW2kl"
      },
      "execution_count": 51,
      "outputs": []
    },
    {
      "cell_type": "code",
      "source": [
        "cv = cross_validate(estimator=tree_clf, X=X_train, y=y_train,\n",
        "                    cv=5, n_jobs=-1, return_train_score=True)\n",
        "# cross_validate 함수의 파라미터\n",
        "# cv: 교차 검증의 fold 개수. 기본값은 5.\n",
        "# n_jobs: 사용하는 CPU 코어의 개수(쓰레드 개수). 기본값은 1. -1은 사용가능한 모든 CPU 코어를 사용하겠다는 의미.\n",
        "# return_train_score: 훈련 셋의 점수(정확도 또는 R^2 score)를 계산할 지를 결정. 기본값은 False."
      ],
      "metadata": {
        "id": "xyOkbt_KXD4z"
      },
      "execution_count": 52,
      "outputs": []
    },
    {
      "cell_type": "code",
      "source": [
        "cv"
      ],
      "metadata": {
        "colab": {
          "base_uri": "https://localhost:8080/"
        },
        "id": "aX4O3Ga1Xko6",
        "outputId": "0d1e2dc5-eae0-45c9-d256-8d480fa4edc3"
      },
      "execution_count": 53,
      "outputs": [
        {
          "output_type": "execute_result",
          "data": {
            "text/plain": [
              "{'fit_time': array([0.00775957, 0.0074234 , 0.00719571, 0.00827384, 0.00884461]),\n",
              " 'score_time': array([0.00283957, 0.00271511, 0.00097537, 0.00105619, 0.00324988]),\n",
              " 'test_score': array([0.87019231, 0.86634615, 0.84889317, 0.86429259, 0.86044273]),\n",
              " 'train_score': array([0.87466923, 0.8811643 , 0.88455988, 0.88095238, 0.88648389])}"
            ]
          },
          "metadata": {},
          "execution_count": 53
        }
      ]
    },
    {
      "cell_type": "code",
      "source": [
        "# 검증 셋의 점수들의 평균\n",
        "np.mean(cv['test_score'])"
      ],
      "metadata": {
        "colab": {
          "base_uri": "https://localhost:8080/"
        },
        "id": "0e97C2fKXllC",
        "outputId": "e9f6225c-d8e3-4485-a4c5-c563ab486b15"
      },
      "execution_count": 54,
      "outputs": [
        {
          "output_type": "execute_result",
          "data": {
            "text/plain": [
              "0.8620333900940252"
            ]
          },
          "metadata": {},
          "execution_count": 54
        }
      ]
    },
    {
      "cell_type": "markdown",
      "source": [
        "교차 검증에서 test_score의 평균으로 테스트 셋의 점수(일반화 성능)를 예상할 수 있음."
      ],
      "metadata": {
        "id": "9hwTz_vRZrks"
      }
    },
    {
      "cell_type": "code",
      "source": [
        "tree_clf.fit(X_train, y_train)\n",
        "tree_clf.score(X_test, y_test)"
      ],
      "metadata": {
        "colab": {
          "base_uri": "https://localhost:8080/"
        },
        "id": "iTgBQm8qZTg3",
        "outputId": "29b68327-7a2a-4ee6-abda-231c0dc6dee4"
      },
      "execution_count": 55,
      "outputs": [
        {
          "output_type": "execute_result",
          "data": {
            "text/plain": [
              "0.8484615384615385"
            ]
          },
          "metadata": {},
          "execution_count": 55
        }
      ]
    },
    {
      "cell_type": "markdown",
      "source": [
        "# GridSearchCV\n",
        "\n",
        "교차 검증(Cross Validation)을 사용한 하이퍼파라미터 튜닝 방법"
      ],
      "metadata": {
        "id": "GOuy-DnydlM1"
      }
    },
    {
      "cell_type": "code",
      "source": [
        "from sklearn.model_selection import GridSearchCV"
      ],
      "metadata": {
        "id": "vqrxqWpKdyH4"
      },
      "execution_count": 56,
      "outputs": []
    },
    {
      "cell_type": "markdown",
      "source": [
        "Decision Tree의 하이퍼 파라미터:\n",
        "\n",
        "* max_depth: 나무의 최대 깊이.\n",
        "* max_leaf_node: leaf node의 최대 개수.\n",
        "* max_features: 각 노드에서 분할에 사용할 특성의 최대 개수.\n",
        "* min_samples_split: 분할되기 위해서 노드가 가져야 하는 샘플의 최소 개수(또는 비율).\n",
        "* min_samples_leaf: leaf node가 가지고 있어야할 샘플의 최소 개수(또는 비율).\n",
        "\n",
        "> `max_`로 시작하는 파라미터들은 값을 증가시키면 나무의 크기가 더 커짐. overfitting이 커짐. `max_`로 시작하는 파라미터들은 값을 감소시킬 때 overfitting이 줄어듦.\n",
        "\n",
        "> `min_`으로 시작하는 파라미터들은 값을 감소시키면 나무의 크기다 더 커짐.\n",
        "`min_`으로 시작하는 파라미터들은 값을 증가시킬 때 overfitting이 줄어듦.\n"
      ],
      "metadata": {
        "id": "KjFV-0gOd4Ws"
      }
    },
    {
      "cell_type": "code",
      "source": [
        "# 훈련 셋, 테스트 셋으로 분리\n",
        "X_train, X_test, y_train, y_test = train_test_split(X, y,\n",
        "                                                    test_size=0.2,\n",
        "                                                    stratify=y,\n",
        "                                                    random_state=42)"
      ],
      "metadata": {
        "id": "-wrdAmbwd2rJ"
      },
      "execution_count": 57,
      "outputs": []
    },
    {
      "cell_type": "code",
      "source": [
        "# Grid Search 교차 검증으로 파라미터들을 튜닝할 머신 러닝 모델\n",
        "tree_clf = DecisionTreeClassifier(random_state=42)"
      ],
      "metadata": {
        "id": "D21DgYNriGaS"
      },
      "execution_count": 58,
      "outputs": []
    },
    {
      "cell_type": "code",
      "source": [
        "# Grid Search 교차 검증으로 튜닝할 파라미터들의 목록 20 * 4 \n",
        "params = {'max_depth': np.arange(1, 21),\n",
        "          'min_samples_split': [0.001, 0.01, 0.1, 0.2]} # 5200개 중에서 0.1% 1%  10% 20%"
      ],
      "metadata": {
        "id": "XbtaTpxeiR64"
      },
      "execution_count": 61,
      "outputs": []
    },
    {
      "cell_type": "code",
      "source": [
        "# GridSearchCV 객체 생성\n",
        "grid_search_cv = GridSearchCV(estimator=tree_clf,\n",
        "                              param_grid=params, cv=5, n_jobs=-1)"
      ],
      "metadata": {
        "id": "_MMGhmTxjgNQ"
      },
      "execution_count": 64,
      "outputs": []
    },
    {
      "cell_type": "code",
      "source": [
        "# GridSearchCV을 수행: 훈련 데이터로 모델을 학습시킴. 400번의 반복분\n",
        "grid_search_cv.fit(X_train, y_train)"
      ],
      "metadata": {
        "colab": {
          "base_uri": "https://localhost:8080/"
        },
        "id": "1voWPjn7kIaI",
        "outputId": "71a78c56-fb78-4870-8129-11ecee15353b"
      },
      "execution_count": 66,
      "outputs": [
        {
          "output_type": "execute_result",
          "data": {
            "text/plain": [
              "GridSearchCV(cv=5, estimator=DecisionTreeClassifier(random_state=42), n_jobs=-1,\n",
              "             param_grid={'max_depth': array([ 1,  2,  3,  4,  5,  6,  7,  8,  9, 10, 11, 12, 13, 14, 15, 16, 17,\n",
              "       18, 19, 20]),\n",
              "                         'min_samples_split': [0.001, 0.01, 0.1, 0.2]})"
            ]
          },
          "metadata": {},
          "execution_count": 66
        }
      ]
    },
    {
      "cell_type": "code",
      "source": [
        "# GridSearchCV를 통해서 찾은 가장 적합한 파라미터들의 조합\n",
        "grid_search_cv.best_params_"
      ],
      "metadata": {
        "colab": {
          "base_uri": "https://localhost:8080/"
        },
        "id": "8Futhbhtksv1",
        "outputId": "0657b377-e589-47a3-c67b-a9819bf69abb"
      },
      "execution_count": 67,
      "outputs": [
        {
          "output_type": "execute_result",
          "data": {
            "text/plain": [
              "{'max_depth': 11, 'min_samples_split': 0.01}"
            ]
          },
          "metadata": {},
          "execution_count": 67
        }
      ]
    },
    {
      "cell_type": "code",
      "source": [
        "# GridSearchCV를 통해서 찾은 가장 높은 검증 셋 점수\n",
        "grid_search_cv.best_score_"
      ],
      "metadata": {
        "colab": {
          "base_uri": "https://localhost:8080/"
        },
        "id": "cXV3zVaEk1Lh",
        "outputId": "0d90359a-4f9e-4301-9657-2bc17dbfbe07"
      },
      "execution_count": 68,
      "outputs": [
        {
          "output_type": "execute_result",
          "data": {
            "text/plain": [
              "0.8666522914044569"
            ]
          },
          "metadata": {},
          "execution_count": 68
        }
      ]
    },
    {
      "cell_type": "code",
      "source": [
        "# GridSearchCV를 통해서 찾은 가장 적합한 모델\n",
        "best_model = grid_search_cv.best_estimator_\n",
        "best_model"
      ],
      "metadata": {
        "colab": {
          "base_uri": "https://localhost:8080/"
        },
        "id": "pjOpmqHrlOxy",
        "outputId": "110f96cf-1e21-46c2-82f3-b250508be902"
      },
      "execution_count": 70,
      "outputs": [
        {
          "output_type": "execute_result",
          "data": {
            "text/plain": [
              "DecisionTreeClassifier(max_depth=11, min_samples_split=0.01, random_state=42)"
            ]
          },
          "metadata": {},
          "execution_count": 70
        }
      ]
    },
    {
      "cell_type": "code",
      "source": [
        "# 최종적으로 훈련에 한번도 사용되지 않은 테스트 셋을 사용해서 일반화 성능을 예상\n",
        "best_model.score(X_test, y_test)"
      ],
      "metadata": {
        "colab": {
          "base_uri": "https://localhost:8080/"
        },
        "id": "A0_VcTVGlfKB",
        "outputId": "518146cd-7e93-4671-953b-d3acf400eb6f"
      },
      "execution_count": 71,
      "outputs": [
        {
          "output_type": "execute_result",
          "data": {
            "text/plain": [
              "0.8538461538461538"
            ]
          },
          "metadata": {},
          "execution_count": 71
        }
      ]
    }
  ]
}