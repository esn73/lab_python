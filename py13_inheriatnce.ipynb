{
  "nbformat": 4,
  "nbformat_minor": 0,
  "metadata": {
    "colab": {
      "name": "py13_inheriatnce.ipynb",
      "provenance": [],
      "collapsed_sections": [],
      "authorship_tag": "ABX9TyNt1BRW59r/MBB1rph15GGX",
      "include_colab_link": true
    },
    "kernelspec": {
      "name": "python3",
      "display_name": "Python 3"
    },
    "language_info": {
      "name": "python"
    }
  },
  "cells": [
    {
      "cell_type": "markdown",
      "metadata": {
        "id": "view-in-github",
        "colab_type": "text"
      },
      "source": [
        "<a href=\"https://colab.research.google.com/github/esn73/lab_python/blob/master/py13_inheriatnce.ipynb\" target=\"_parent\"><img src=\"https://colab.research.google.com/assets/colab-badge.svg\" alt=\"Open In Colab\"/></a>"
      ]
    },
    {
      "cell_type": "markdown",
      "source": [
        "# 상속(Inheriatance)\n",
        "\n",
        "* super class(상위 클래스), prant class(부모 클래스), base class(기본 클래스)\n",
        "* sub class(하위 클래스), child class(자식 클래스), drive class(유도 클래스)\n",
        "* 상속 : 상위 클래스의 속성들(attributes)과 기능(method)들을 하위 클래스에서 재사용 하는 것.\n",
        "* IS-A 관계가 성립하는 객체들을 상속을 사용해서 구현함.\n",
        "    * 학생은 사람이다.(students IS A Person).\n",
        "        * Person: super class\n",
        "        * Student: sub class\n",
        "* HAS-A 관계가 성립하는 객체들은 일반적으로 상속이 아니라, attribute(속성)으로 클래스를 구현함.\n",
        "    * 학생은 시험 성적을 가지고 있다.(Student HAS a Score.)\n",
        "        * Student 클래스의 속성 중 하나로 Score 클래스의 객체를 사용."
      ],
      "metadata": {
        "id": "z14bmIQhejO6"
      }
    },
    {
      "cell_type": "code",
      "execution_count": 2,
      "metadata": {
        "id": "2fio8rRxeVG0"
      },
      "outputs": [],
      "source": [
        "class Person:\n",
        "    def __init__(self, name):\n",
        "        self.name =  name\n",
        "\n",
        "    def say_hello(self):\n",
        "        print(f'안녕하세요, 저는 {self.name}입니다.')"
      ]
    },
    {
      "cell_type": "code",
      "source": [
        "oh_ssam = Person('오쌤')"
      ],
      "metadata": {
        "id": "OwFPbD5Ehyr-"
      },
      "execution_count": 5,
      "outputs": []
    },
    {
      "cell_type": "code",
      "source": [
        "oh_ssam.say_hello()"
      ],
      "metadata": {
        "colab": {
          "base_uri": "https://localhost:8080/"
        },
        "id": "0GipnVN-iQ_k",
        "outputId": "672d38e4-9a9d-47dc-ee75-1f834c1324fd"
      },
      "execution_count": 6,
      "outputs": [
        {
          "output_type": "stream",
          "name": "stdout",
          "text": [
            "안녕하세요, 저는 오쌤입니다.\n"
          ]
        }
      ]
    },
    {
      "cell_type": "markdown",
      "source": [
        "SueprClass를 상속받는 SubClass를 정의하는 방법:\n",
        "```\n",
        "class SubClass\n",
        "```"
      ],
      "metadata": {
        "id": "7n3B7UEhi-2I"
      }
    },
    {
      "cell_type": "code",
      "source": [
        "# Student IS A Person.\n",
        "class Student(Person):\n",
        "    pass"
      ],
      "metadata": {
        "id": "mDHScSpZjrbk"
      },
      "execution_count": 7,
      "outputs": []
    },
    {
      "cell_type": "code",
      "source": [
        "stu = Student('홍길동')"
      ],
      "metadata": {
        "id": "mW9dntn3kJoX"
      },
      "execution_count": 10,
      "outputs": []
    },
    {
      "cell_type": "code",
      "source": [
        "stu.say_hello()"
      ],
      "metadata": {
        "colab": {
          "base_uri": "https://localhost:8080/"
        },
        "id": "gFVnuNQHkzCT",
        "outputId": "db0aa007-9cf0-49ca-c57b-587344b42d37"
      },
      "execution_count": 12,
      "outputs": [
        {
          "output_type": "stream",
          "name": "stdout",
          "text": [
            "안녕하세요, 저는 홍길동입니다.\n"
          ]
        }
      ]
    },
    {
      "cell_type": "markdown",
      "source": [
        "# Method Override\n",
        "\n",
        "* 상위 클래스의 메서드를 하위 클래스에서 재정의하는 것.\n",
        "    * Python은 메서드의 이름만 같으면(파라미터 개수와 상관없이) 메서드가 재정의됨. - override\n",
        "    * __(주의)__: Java에서는 메서드의 이름과 파라미터(타입,개수,순서)가 같은 경우 override. 메서으듸 이름이 같고 파라미터가 다른 경우는 overloading(같은 이름의 메서드가 2개 이상 존재)\n",
        "* 하위 클래스에서 overrid가 된 상위 클래스의 메서드를 명시적으로 호출하기 위해서는 `super().method_name(arg)`와 같은 방식으로 사용함."
      ],
      "metadata": {
        "id": "Wt_9oatXpL1n"
      }
    },
    {
      "cell_type": "code",
      "source": [
        "# BusinessPerson IS A Person\n",
        "class BusinessPerson(Person):\n",
        "    # 부모 클래스 Person 클래스의 __init__ 메서드를 **override\n",
        "    def __init__(self, name, company=None):\n",
        "        # 부모 클래스 Person의 __init__ 메서드를 호출\n",
        "        super().__init__(name)\n",
        "        self.company = company # 자식 클래슴나 가지고 있는 속성.\n",
        "    \n",
        "    # 부모 클래스 Person의 say_hello 메서드를 overrid\n",
        "    def say_hello(self):\n",
        "        # 부모 클래스 Person의 say_hello 메서드를 명시적으로 호출 -  부모의 기능을 그대로 사용\n",
        "        super().say_hello()\n",
        "        # 부모의 기능을 확장 - 추가 기능.\n",
        "        print(f'저는 {self.company} 사원입니다.')"
      ],
      "metadata": {
        "id": "Ja2G7WheqP8f"
      },
      "execution_count": 14,
      "outputs": []
    },
    {
      "cell_type": "code",
      "source": [
        "gildong = BusinessPerson(name='홍길동', company='아이티윌')"
      ],
      "metadata": {
        "id": "jjECguhBte5r"
      },
      "execution_count": 16,
      "outputs": []
    },
    {
      "cell_type": "code",
      "source": [
        "gildong.say_hello()"
      ],
      "metadata": {
        "colab": {
          "base_uri": "https://localhost:8080/"
        },
        "id": "wFH-EBS7ttrC",
        "outputId": "9dc298ea-af55-4e61-dfcc-8f570c43acd3"
      },
      "execution_count": 17,
      "outputs": [
        {
          "output_type": "stream",
          "name": "stdout",
          "text": [
            "안녕하세요, 저는 홍길동입니다.\n",
            "저는 아이티윌 사원입니다.\n"
          ]
        }
      ]
    },
    {
      "cell_type": "code",
      "source": [
        "def test():\n",
        "    print('test()')\n",
        "def test(x):\n",
        "    print('test(', x, ')')"
      ],
      "metadata": {
        "id": "nPG6PZVRwWoD"
      },
      "execution_count": null,
      "outputs": []
    },
    {
      "cell_type": "code",
      "source": [
        "def test(x=None):\n",
        "    print('test()')"
      ],
      "metadata": {
        "id": "t44rfq77w2wG"
      },
      "execution_count": 19,
      "outputs": []
    },
    {
      "cell_type": "code",
      "source": [
        "test()\n",
        "test(1)"
      ],
      "metadata": {
        "colab": {
          "base_uri": "https://localhost:8080/"
        },
        "id": "Fvqklfsxw61b",
        "outputId": "f4da98c1-a069-494a-c574-a4024e4590c8"
      },
      "execution_count": 21,
      "outputs": [
        {
          "output_type": "stream",
          "name": "stdout",
          "text": [
            "test()\n",
            "test()\n"
          ]
        }
      ]
    },
    {
      "cell_type": "markdown",
      "source": [
        "# `isinsatce(obj, class)` 함수\n",
        "\n",
        "객체(obj)가 클래스(class)의 인스턴스이며 True, 그렇지 않으면 False를 리턴."
      ],
      "metadata": {
        "id": "j8o56sSb1wap"
      }
    },
    {
      "cell_type": "code",
      "source": [
        "isinstance(gildong, BusinessPerson)"
      ],
      "metadata": {
        "colab": {
          "base_uri": "https://localhost:8080/"
        },
        "id": "VC4EG8CI2AUx",
        "outputId": "48e5e2b5-08a9-43df-c0ed-e14c521bd12d"
      },
      "execution_count": 23,
      "outputs": [
        {
          "output_type": "execute_result",
          "data": {
            "text/plain": [
              "True"
            ]
          },
          "metadata": {},
          "execution_count": 23
        }
      ]
    },
    {
      "cell_type": "code",
      "source": [
        "# 회사원은 사람이다.\n",
        "isinstance(gildong, Person) #gildong은 Person 클래스의 인스턴스이다."
      ],
      "metadata": {
        "colab": {
          "base_uri": "https://localhost:8080/"
        },
        "id": "vouT6g982fyG",
        "outputId": "17f0921d-ca96-48fd-e41e-58b9ba0bed57"
      },
      "execution_count": 27,
      "outputs": [
        {
          "output_type": "execute_result",
          "data": {
            "text/plain": [
              "True"
            ]
          },
          "metadata": {},
          "execution_count": 27
        }
      ]
    },
    {
      "cell_type": "code",
      "source": [
        "p = Person('무명')"
      ],
      "metadata": {
        "id": "S-RWKITe2z21"
      },
      "execution_count": 29,
      "outputs": []
    },
    {
      "cell_type": "code",
      "source": [
        "isinstance(p, Person) # p는 Person 클래스의 인스턴스이다."
      ],
      "metadata": {
        "colab": {
          "base_uri": "https://localhost:8080/"
        },
        "id": "kHmIHduH23sw",
        "outputId": "48154767-cea5-435a-e6e1-aa5717986801"
      },
      "execution_count": 31,
      "outputs": [
        {
          "output_type": "execute_result",
          "data": {
            "text/plain": [
              "True"
            ]
          },
          "metadata": {},
          "execution_count": 31
        }
      ]
    },
    {
      "cell_type": "code",
      "source": [
        "# 사람은 회사원이다.\n",
        "isinstance(p, BusinessPerson) # p는 BusinessPerson 클래스의 인스턴스이다.(X)"
      ],
      "metadata": {
        "colab": {
          "base_uri": "https://localhost:8080/"
        },
        "id": "l8EgAGqJ2_lI",
        "outputId": "8b8a960c-247d-4095-9736-c1f782abef11"
      },
      "execution_count": 32,
      "outputs": [
        {
          "output_type": "execute_result",
          "data": {
            "text/plain": [
              "False"
            ]
          },
          "metadata": {},
          "execution_count": 32
        }
      ]
    },
    {
      "cell_type": "markdown",
      "source": [
        "## `isinstance` 함수 활용"
      ],
      "metadata": {
        "id": "U2KursaN3kAt"
      }
    },
    {
      "cell_type": "code",
      "source": [
        "class Animal:\n",
        "    def move(self):\n",
        "        pass\n",
        "\n",
        "# 강아지는 동물이다.(IS-A)\n",
        "class Dog(Animal):\n",
        "    # override\n",
        "    def move(self):\n",
        "        print('강아지는 총총총...')\n",
        "\n",
        "# 새는 동물이다.(IS-A)\n",
        "class Bird(Animal):\n",
        "    # override\n",
        "    def move(self):\n",
        "        print('새는 훨훨~~')\n",
        "\n",
        "class Tree:\n",
        "    pass"
      ],
      "metadata": {
        "id": "3ywtynSu3t4J"
      },
      "execution_count": 33,
      "outputs": []
    },
    {
      "cell_type": "code",
      "source": [
        "# Python의 리스트(list)는 다른 타입의 값들을 저장할 순 있음.\n",
        "# [1,2,3,'a','c', Dog(), []] 다양한 유형으로 저장 가능.\n",
        "array = [Dog(), Bird(), Tree()]\n",
        "for x in array:\n",
        "    # move()메서드를 가지고 있으면\n",
        "    if isinstance(x, Animal):\n",
        "        x.move()"
      ],
      "metadata": {
        "colab": {
          "base_uri": "https://localhost:8080/"
        },
        "id": "SHKaX50y4mni",
        "outputId": "e30e266a-45fb-4253-f56f-5d7514899a89"
      },
      "execution_count": 41,
      "outputs": [
        {
          "output_type": "stream",
          "name": "stdout",
          "text": [
            "강아지는 총총총...\n",
            "새는 훨훨~~\n"
          ]
        }
      ]
    },
    {
      "cell_type": "code",
      "source": [
        ""
      ],
      "metadata": {
        "id": "L6-U8-Nt5ZiY"
      },
      "execution_count": null,
      "outputs": []
    }
  ]
}