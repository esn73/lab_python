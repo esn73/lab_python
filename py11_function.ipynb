{
  "nbformat": 4,
  "nbformat_minor": 0,
  "metadata": {
    "colab": {
      "name": "py11_function.ipynb",
      "provenance": [],
      "collapsed_sections": [],
      "authorship_tag": "ABX9TyMtJqpNk2blwYPg4U9LdZON",
      "include_colab_link": true
    },
    "kernelspec": {
      "name": "python3",
      "display_name": "Python 3"
    },
    "language_info": {
      "name": "python"
    }
  },
  "cells": [
    {
      "cell_type": "markdown",
      "metadata": {
        "id": "view-in-github",
        "colab_type": "text"
      },
      "source": [
        "<a href=\"https://colab.research.google.com/github/esn73/lab_python/blob/master/py11_function.ipynb\" target=\"_parent\"><img src=\"https://colab.research.google.com/assets/colab-badge.svg\" alt=\"Open In Colab\"/></a>"
      ]
    },
    {
      "cell_type": "markdown",
      "source": [
        "# 1급 객체(first-class object)로서의 함수\n",
        "\n",
        "함수는 객체이다.\n",
        "* 함수는 변수에 할당할 수 있음.\n",
        "* 함수는 argument로 다른 함수에 전달할 수 있음.\n",
        "* 함수의 반환 값이 함수가 될 수 있음. 함수는 함수를 반환할 수 있음.\n",
        "* 함수 내부에서 다른 함수를 정의할 수 있음."
      ],
      "metadata": {
        "id": "1mgsoOe1DZfF"
      }
    },
    {
      "cell_type": "code",
      "execution_count": 1,
      "metadata": {
        "colab": {
          "base_uri": "https://localhost:8080/"
        },
        "id": "8u85y4ZbDK8S",
        "outputId": "fca1ed3e-c642-40cc-893d-c8f59ef1b57a"
      },
      "outputs": [
        {
          "output_type": "stream",
          "name": "stdout",
          "text": [
            "1\n"
          ]
        }
      ],
      "source": [
        "x = 1 # 객체는 변수에 할당(저장)할 수 있음.\n",
        "print(x) # 객체는 함수의 argument로 전달할 수 있음."
      ]
    },
    {
      "cell_type": "code",
      "source": [
        "# 함수 정의\n",
        "def twice(x):\n",
        "    return 2 * x"
      ],
      "metadata": {
        "id": "plC0Z29tEtbk"
      },
      "execution_count": 3,
      "outputs": []
    },
    {
      "cell_type": "code",
      "source": [
        "print(twice) #> twice는 함수 객체(function obejct)"
      ],
      "metadata": {
        "colab": {
          "base_uri": "https://localhost:8080/"
        },
        "id": "Qm3Nl1FBFQW8",
        "outputId": "02d1a8ba-5041-42fb-f7c7-6abd9200f066"
      },
      "execution_count": 7,
      "outputs": [
        {
          "output_type": "stream",
          "name": "stdout",
          "text": [
            "<function twice at 0x7fc072c84440>\n"
          ]
        }
      ]
    },
    {
      "cell_type": "code",
      "source": [
        "result = twice(5) # 함수 호출 결과(리턴 값)을 변수 result에 저장.\n",
        "result"
      ],
      "metadata": {
        "colab": {
          "base_uri": "https://localhost:8080/"
        },
        "id": "XEreQ_E2F4XK",
        "outputId": "3565d6c6-8ee1-432e-8ff1-6e2d9aaa705a"
      },
      "execution_count": 9,
      "outputs": [
        {
          "output_type": "execute_result",
          "data": {
            "text/plain": [
              "10"
            ]
          },
          "metadata": {},
          "execution_count": 9
        }
      ]
    },
    {
      "cell_type": "code",
      "source": [
        "double = twice # 함수는 변수에 할당할 수 있음.\n",
        "print(double)"
      ],
      "metadata": {
        "colab": {
          "base_uri": "https://localhost:8080/"
        },
        "id": "KiEmouX0GFCi",
        "outputId": "ed31d22a-60d7-44ea-e871-8549474fd9c0"
      },
      "execution_count": 14,
      "outputs": [
        {
          "output_type": "stream",
          "name": "stdout",
          "text": [
            "<function twice at 0x7fc072c84440>\n"
          ]
        }
      ]
    },
    {
      "cell_type": "code",
      "source": [
        "double(5) # double 함수 호출 결과는 twice 함수 호출 결과와 동일."
      ],
      "metadata": {
        "colab": {
          "base_uri": "https://localhost:8080/"
        },
        "id": "vQnutGvwGzI4",
        "outputId": "07bf911f-1508-414c-ae98-d5ce69de7b57"
      },
      "execution_count": 16,
      "outputs": [
        {
          "output_type": "execute_result",
          "data": {
            "text/plain": [
              "10"
            ]
          },
          "metadata": {},
          "execution_count": 16
        }
      ]
    },
    {
      "cell_type": "markdown",
      "source": [
        "argument로 함수를 전달받는 함수"
      ],
      "metadata": {
        "id": "lDLWWFzDHcvy"
      }
    },
    {
      "cell_type": "code",
      "source": [
        "def calculator(x, y, fn):\n",
        "    \"\"\"\n",
        "    x, y: 숫자(int, float)\n",
        "    fn: 숫자 2개를 argument로 전달받고, 숫자를 리턴하는 함수\n",
        "    \"\"\"\n",
        "    result = fn(x, y)\n",
        "    return result"
      ],
      "metadata": {
        "id": "iHjW9hDIHbwt"
      },
      "execution_count": 20,
      "outputs": []
    },
    {
      "cell_type": "code",
      "source": [
        "def plus(x, y):\n",
        "    return x + y"
      ],
      "metadata": {
        "id": "ois_KwyhIIuc"
      },
      "execution_count": 21,
      "outputs": []
    },
    {
      "cell_type": "code",
      "source": [
        "calculator(1, 2, plus)"
      ],
      "metadata": {
        "colab": {
          "base_uri": "https://localhost:8080/"
        },
        "id": "L84bcP5lIW-A",
        "outputId": "159c3505-fc99-4869-f51f-aafc443b0f37"
      },
      "execution_count": 23,
      "outputs": [
        {
          "output_type": "execute_result",
          "data": {
            "text/plain": [
              "3"
            ]
          },
          "metadata": {},
          "execution_count": 23
        }
      ]
    },
    {
      "cell_type": "code",
      "source": [
        "def minus(x, y):\n",
        "    return x - y"
      ],
      "metadata": {
        "id": "7ybFJ9xRI8hU"
      },
      "execution_count": 24,
      "outputs": []
    },
    {
      "cell_type": "code",
      "source": [
        "calculator(1, 2, minus)"
      ],
      "metadata": {
        "colab": {
          "base_uri": "https://localhost:8080/"
        },
        "id": "2o7u4Od4JASA",
        "outputId": "4978bb86-c963-4b1f-8831-726d5debb013"
      },
      "execution_count": 26,
      "outputs": [
        {
          "output_type": "execute_result",
          "data": {
            "text/plain": [
              "-1"
            ]
          },
          "metadata": {},
          "execution_count": 26
        }
      ]
    },
    {
      "cell_type": "markdown",
      "source": [
        "함수 내부에서 함수를 정의(선언)하고 함수를 리턴."
      ],
      "metadata": {
        "id": "YmsHqXcsKMvU"
      }
    },
    {
      "cell_type": "code",
      "source": [
        "def make_increment(n):\n",
        "    # 내부 함수(inner function), 지역 함수(local function): 함수 내부에서 정의하는 함수\n",
        "    def add_n(x):\n",
        "        return x + n\n",
        "\n",
        "    # make_increment 함수는 add_n 함수 (객체)를 리턴.\n",
        "    return add_n"
      ],
      "metadata": {
        "id": "7R839uDLKRY4"
      },
      "execution_count": 32,
      "outputs": []
    },
    {
      "cell_type": "code",
      "source": [
        "increase_by_2 = make_increment(2)\n",
        "print(increase_by_2)"
      ],
      "metadata": {
        "colab": {
          "base_uri": "https://localhost:8080/"
        },
        "id": "-aEYZLq7LNHw",
        "outputId": "20a817a6-680b-4d0d-e06e-6d2b962839e7"
      },
      "execution_count": 33,
      "outputs": [
        {
          "output_type": "stream",
          "name": "stdout",
          "text": [
            "<function make_increment.<locals>.add_n at 0x7fc072bdb050>\n"
          ]
        }
      ]
    },
    {
      "cell_type": "code",
      "source": [
        "increase_by_2(10)"
      ],
      "metadata": {
        "colab": {
          "base_uri": "https://localhost:8080/"
        },
        "id": "VFXTS8raL3an",
        "outputId": "ac6e30ec-d7f1-4094-b83e-552d16821a38"
      },
      "execution_count": 35,
      "outputs": [
        {
          "output_type": "execute_result",
          "data": {
            "text/plain": [
              "12"
            ]
          },
          "metadata": {},
          "execution_count": 35
        }
      ]
    },
    {
      "cell_type": "code",
      "source": [
        "increase_by_10 = make_increment(10) # n\n",
        "print(increase_by_10)"
      ],
      "metadata": {
        "colab": {
          "base_uri": "https://localhost:8080/"
        },
        "id": "w1-lcGkiMDTN",
        "outputId": "87254b81-1c1c-4543-f0c9-ceba443fbe11"
      },
      "execution_count": 37,
      "outputs": [
        {
          "output_type": "stream",
          "name": "stdout",
          "text": [
            "<function make_increment.<locals>.add_n at 0x7fc072bdba70>\n"
          ]
        }
      ]
    },
    {
      "cell_type": "code",
      "source": [
        "increase_by_10(10) # x"
      ],
      "metadata": {
        "colab": {
          "base_uri": "https://localhost:8080/"
        },
        "id": "Sn4yH2hzMidL",
        "outputId": "2f28cb95-0220-4861-e3ad-e1df834c60de"
      },
      "execution_count": 38,
      "outputs": [
        {
          "output_type": "execute_result",
          "data": {
            "text/plain": [
              "20"
            ]
          },
          "metadata": {},
          "execution_count": 38
        }
      ]
    },
    {
      "cell_type": "code",
      "source": [
        ""
      ],
      "metadata": {
        "id": "Dcmw2BEiRyW1"
      },
      "execution_count": null,
      "outputs": []
    },
    {
      "cell_type": "markdown",
      "source": [
        "# 람다 표현식(Lambda expression)"
      ],
      "metadata": {
        "id": "JWDC8h-ARv--"
      }
    },
    {
      "cell_type": "markdown",
      "source": [
        "```\n",
        "lambda param1, pram2, ...: expression(리턴 값)\n",
        "```\n",
        "\n",
        "* 이름이 없는 함수(annoymous function)\n",
        "* 함수 이름 없이, 함수의 파라미터 선언과 반환 값 또는 반환 식으로 함수를 정의하는 방법."
      ],
      "metadata": {
        "id": "GA_a2PmsR3Hv"
      }
    },
    {
      "cell_type": "code",
      "source": [
        "plus_one = lambda x: x + 1 # x를 argument로 전달받아서 x+1을 리턴하는 함수"
      ],
      "metadata": {
        "id": "f9D7fbzMSdLY"
      },
      "execution_count": 56,
      "outputs": []
    },
    {
      "cell_type": "code",
      "source": [
        "plus_one(1) # 함수 호출"
      ],
      "metadata": {
        "colab": {
          "base_uri": "https://localhost:8080/"
        },
        "id": "9owLWIGTSwq1",
        "outputId": "c9c7b7dc-4e92-406b-ee76-e1e8bcc07cdb"
      },
      "execution_count": 48,
      "outputs": [
        {
          "output_type": "execute_result",
          "data": {
            "text/plain": [
              "2"
            ]
          },
          "metadata": {},
          "execution_count": 48
        }
      ]
    },
    {
      "cell_type": "code",
      "source": [
        "plus = lambda x, y : x + y # argument x, y를 전달받아서 x+y를 리턴하는 함수"
      ],
      "metadata": {
        "id": "QfsUTVTHTBsH"
      },
      "execution_count": 52,
      "outputs": []
    },
    {
      "cell_type": "code",
      "source": [
        "plus(1, 2)"
      ],
      "metadata": {
        "colab": {
          "base_uri": "https://localhost:8080/"
        },
        "id": "9gIRSLXSTXwh",
        "outputId": "a2145356-0864-4ae7-c1a4-2cc62ed90daa"
      },
      "execution_count": 53,
      "outputs": [
        {
          "output_type": "execute_result",
          "data": {
            "text/plain": [
              "3"
            ]
          },
          "metadata": {},
          "execution_count": 53
        }
      ]
    },
    {
      "cell_type": "markdown",
      "source": [
        "lambda 표현식은 함수의 argument로 전달하기 위해서 사용."
      ],
      "metadata": {
        "id": "8LFFvhM5UcWf"
      }
    },
    {
      "cell_type": "code",
      "source": [
        "calculator(1, 2, lambda x, y : x - y)"
      ],
      "metadata": {
        "colab": {
          "base_uri": "https://localhost:8080/"
        },
        "id": "Jtj9lu9bUki_",
        "outputId": "4c53974f-88c3-4e8e-8309-2033286580d6"
      },
      "execution_count": 55,
      "outputs": [
        {
          "output_type": "execute_result",
          "data": {
            "text/plain": [
              "-1"
            ]
          },
          "metadata": {},
          "execution_count": 55
        }
      ]
    },
    {
      "cell_type": "code",
      "source": [
        "calculator(2, 3, lambda x, y: x * y)"
      ],
      "metadata": {
        "colab": {
          "base_uri": "https://localhost:8080/"
        },
        "id": "Kjx__rmSU9OF",
        "outputId": "fdc66ab6-806a-405e-a6b9-b30703311c3b"
      },
      "execution_count": 58,
      "outputs": [
        {
          "output_type": "execute_result",
          "data": {
            "text/plain": [
              "6"
            ]
          },
          "metadata": {},
          "execution_count": 58
        }
      ]
    },
    {
      "cell_type": "code",
      "source": [
        "# calculator 함수에 x가 y보다 큰 지(True) 아닌 지(False)를 리턴하는 lambda를 전달.\n",
        "calculator(1, 2, lambda x, y : x > y)"
      ],
      "metadata": {
        "colab": {
          "base_uri": "https://localhost:8080/"
        },
        "id": "cluPQwj-VQ7_",
        "outputId": "b9ddb1cd-79fe-41a7-90b4-acb7949c37ed"
      },
      "execution_count": 60,
      "outputs": [
        {
          "output_type": "execute_result",
          "data": {
            "text/plain": [
              "False"
            ]
          },
          "metadata": {},
          "execution_count": 60
        }
      ]
    },
    {
      "cell_type": "code",
      "source": [
        "calculator(2, 1, lambda x, y : x > y)"
      ],
      "metadata": {
        "colab": {
          "base_uri": "https://localhost:8080/"
        },
        "id": "Zwgr8f30V5jh",
        "outputId": "3b1a17ec-e025-437e-db07-1e1ba12c8d98"
      },
      "execution_count": 62,
      "outputs": [
        {
          "output_type": "execute_result",
          "data": {
            "text/plain": [
              "True"
            ]
          },
          "metadata": {},
          "execution_count": 62
        }
      ]
    },
    {
      "cell_type": "code",
      "source": [
        "# calculator 함수에 x, y 중에서 더 큰 수를 리턴하는 lambda를 전달.\n",
        "calculator(1,2, lambda x, y : max(x, y))"
      ],
      "metadata": {
        "colab": {
          "base_uri": "https://localhost:8080/"
        },
        "id": "vCnqytFyWLFt",
        "outputId": "0fb15b47-06ef-41bd-c4f7-88830af3bc2c"
      },
      "execution_count": 68,
      "outputs": [
        {
          "output_type": "execute_result",
          "data": {
            "text/plain": [
              "2"
            ]
          },
          "metadata": {},
          "execution_count": 68
        }
      ]
    },
    {
      "cell_type": "code",
      "source": [
        "# if-else 표현식: 값1 if 조건 else 값2\n",
        "calculator(1, 2, lambda x, y: x if x > y else y)"
      ],
      "metadata": {
        "colab": {
          "base_uri": "https://localhost:8080/"
        },
        "id": "ZZLNX3BlXHpN",
        "outputId": "aa177089-1e7e-46ea-879f-db46a6502892"
      },
      "execution_count": 67,
      "outputs": [
        {
          "output_type": "execute_result",
          "data": {
            "text/plain": [
              "2"
            ]
          },
          "metadata": {},
          "execution_count": 67
        }
      ]
    },
    {
      "cell_type": "markdown",
      "source": [
        "## lamda 표현식\n",
        "* filtering\n",
        "    * 성별 컬럼에서 값이 'Male' 또는 'Female'인 데이터들만 선택\n",
        "* mapping\n",
        "    * 성별 컬럼의 값이 'Male'이면 1, 'Female'이면 0으로 매핑"
      ],
      "metadata": {
        "id": "7Wa1FXU3X35m"
      }
    },
    {
      "cell_type": "code",
      "source": [
        "numbers = [1, -2, 3, -4, -5, 6, 7, 8]"
      ],
      "metadata": {
        "id": "gOQFONAqZPwg"
      },
      "execution_count": 98,
      "outputs": []
    },
    {
      "cell_type": "code",
      "source": [
        "# numbers의 원소들 중에서 양수들만 선택한 리스트.\n",
        "# filter(True/False를 리턴하는 함수, 리스트)\n",
        "result = filter(lambda x: x > 0, numbers)\n",
        "result # 필터링이 끝난 객체"
      ],
      "metadata": {
        "colab": {
          "base_uri": "https://localhost:8080/"
        },
        "id": "AQiaqif9efWR",
        "outputId": "524e7e44-5cf4-4bba-9e48-8867d25307bc"
      },
      "execution_count": 76,
      "outputs": [
        {
          "output_type": "execute_result",
          "data": {
            "text/plain": [
              "<filter at 0x7fc06aab3550>"
            ]
          },
          "metadata": {},
          "execution_count": 76
        }
      ]
    },
    {
      "cell_type": "code",
      "source": [
        "list(result) # 필터링이 끝난 객체 list 타입으로 변환"
      ],
      "metadata": {
        "colab": {
          "base_uri": "https://localhost:8080/"
        },
        "id": "hWgIMjemfW3k",
        "outputId": "55ddeab6-b528-4f67-e9b7-dbf229e958ac"
      },
      "execution_count": 77,
      "outputs": [
        {
          "output_type": "execute_result",
          "data": {
            "text/plain": [
              "[1, 3, 6, 7, 8]"
            ]
          },
          "metadata": {},
          "execution_count": 77
        }
      ]
    },
    {
      "cell_type": "code",
      "source": [
        "# numbers에서 음수들만 선택한 리스트.\n",
        "result = filter(lambda x: x < 0, numbers)\n",
        "list(result) # 필터링이 끝난 객체를 list 타입으로 변환."
      ],
      "metadata": {
        "colab": {
          "base_uri": "https://localhost:8080/"
        },
        "id": "2SMkeL2jfnN9",
        "outputId": "3583b3e7-552c-4eff-a347-8cd84d9dd308"
      },
      "execution_count": 79,
      "outputs": [
        {
          "output_type": "execute_result",
          "data": {
            "text/plain": [
              "[-2, -4, -5]"
            ]
          },
          "metadata": {},
          "execution_count": 79
        }
      ]
    },
    {
      "cell_type": "code",
      "source": [
        "# numbers에서 홀수들만 필터링.\n",
        "result = filter(lambda x: x % 2 == 1, numbers)\n",
        "list(result)"
      ],
      "metadata": {
        "colab": {
          "base_uri": "https://localhost:8080/"
        },
        "id": "VZbchM7chWGw",
        "outputId": "1ef8b90a-a92a-41be-ee4a-05a9f2ed3639"
      },
      "execution_count": 84,
      "outputs": [
        {
          "output_type": "execute_result",
          "data": {
            "text/plain": [
              "[1, 3, -5, 7]"
            ]
          },
          "metadata": {},
          "execution_count": 84
        }
      ]
    },
    {
      "cell_type": "code",
      "source": [
        "# numbers에서 짝수는 'even', 홀수는 'odd'로 매핑.\n",
        "result = map(lambda x: 'even' if x % 2 == 0 else 'odd', numbers)\n",
        "print(result) # 매핑이 끝난 객체\n",
        "list(result) # 매핑이 끝난 객체를 list 타입으로 변환"
      ],
      "metadata": {
        "colab": {
          "base_uri": "https://localhost:8080/"
        },
        "id": "OrMjg3YviGmG",
        "outputId": "448a8c0c-9a11-4dc2-b991-10936c67ee4e"
      },
      "execution_count": 88,
      "outputs": [
        {
          "output_type": "stream",
          "name": "stdout",
          "text": [
            "<map object at 0x7fc06aa9a190>\n"
          ]
        },
        {
          "output_type": "execute_result",
          "data": {
            "text/plain": [
              "['odd', 'even', 'odd', 'even', 'odd', 'even', 'odd', 'even']"
            ]
          },
          "metadata": {},
          "execution_count": 88
        }
      ]
    },
    {
      "cell_type": "code",
      "source": [
        "genders = ['Male', 'Female', 'Female', 'Male']"
      ],
      "metadata": {
        "id": "TCLnPfpPjlba"
      },
      "execution_count": 89,
      "outputs": []
    },
    {
      "cell_type": "code",
      "source": [
        "# genders에서 'Female'만 선택(filter)\n",
        "result = filter(lambda x : x =='Female', genders)\n",
        "list(result)"
      ],
      "metadata": {
        "colab": {
          "base_uri": "https://localhost:8080/"
        },
        "id": "ouRZjL6sjxcm",
        "outputId": "64053bfc-17c2-4676-f046-5470f8e110d1"
      },
      "execution_count": 91,
      "outputs": [
        {
          "output_type": "execute_result",
          "data": {
            "text/plain": [
              "['Female', 'Female']"
            ]
          },
          "metadata": {},
          "execution_count": 91
        }
      ]
    },
    {
      "cell_type": "code",
      "source": [
        "# genders의 원소가 'Male'이면 1, 'Female'이면 0을 매핑\n",
        "result = map(lambda x : 1 if x =='Male' else 0, genders)\n",
        "list(result)"
      ],
      "metadata": {
        "colab": {
          "base_uri": "https://localhost:8080/"
        },
        "id": "YDcV30utj1gd",
        "outputId": "0fc09cde-c968-45ad-ba89-e7b4dfe52f96"
      },
      "execution_count": 93,
      "outputs": [
        {
          "output_type": "execute_result",
          "data": {
            "text/plain": [
              "[1, 0, 0, 1]"
            ]
          },
          "metadata": {},
          "execution_count": 93
        }
      ]
    },
    {
      "cell_type": "markdown",
      "source": [
        "filter 함수를 직접 구현"
      ],
      "metadata": {
        "id": "-0DuM2Qhl05X"
      }
    },
    {
      "cell_type": "code",
      "source": [
        "def my_filter(iterable, fn):\n",
        "    \"\"\"리스트 iterable의 원소들 중에서 함수 fn의 argument로 전달했을 때, \n",
        "    fn이 True를 리턴하는 원소들로 이루어진 리스트를 리턴.\n",
        "\n",
        "    iterable: 리스트\n",
        "    fn: argument가 1개이고 리턴타입은 bool인 함수.\n",
        "    \"\"\"\n",
        "    # result = [] # 조건을 만족하는 원소들(필터링한 원소들)을 저장할 빈 리스트\n",
        "    # for x in iterable: # 리스트의 원소들을 차례로 반복하면서\n",
        "    #     if fn(x):   # 조건을 만족하면\n",
        "    #         result.append(x)    # 결과를 리스트에 추가\n",
        "    # return result\n",
        "\n",
        "    return [x for x in iterable if fn(x)]"
      ],
      "metadata": {
        "id": "afJvJ83YlrIc"
      },
      "execution_count": 96,
      "outputs": []
    },
    {
      "cell_type": "code",
      "source": [
        "numbers"
      ],
      "metadata": {
        "colab": {
          "base_uri": "https://localhost:8080/"
        },
        "id": "dWiNwxlKnkBg",
        "outputId": "181f123b-a176-472a-8e27-d7dda060922a"
      },
      "execution_count": 100,
      "outputs": [
        {
          "output_type": "execute_result",
          "data": {
            "text/plain": [
              "[1, -2, 3, -4, -5, 6, 7, 8]"
            ]
          },
          "metadata": {},
          "execution_count": 100
        }
      ]
    },
    {
      "cell_type": "code",
      "source": [
        "# numbers에서 양수들만 필터링.\n",
        "my_filter(numbers, lambda x: x > 0)"
      ],
      "metadata": {
        "colab": {
          "base_uri": "https://localhost:8080/"
        },
        "id": "b8t5wAH9nWmn",
        "outputId": "069ef178-4467-4daf-8e1c-5f57b6aadb43"
      },
      "execution_count": 102,
      "outputs": [
        {
          "output_type": "execute_result",
          "data": {
            "text/plain": [
              "[1, 3, 6, 7, 8]"
            ]
          },
          "metadata": {},
          "execution_count": 102
        }
      ]
    },
    {
      "cell_type": "code",
      "source": [
        "language = ['java', 'HTML', 'CSS', 'JavaScript', 'Python']\n",
        "# my_filter 함수를 사용해서 글자수가 5글자 이상인 원소들만 필터링\n",
        "my_filter(language, lambda x: len(x) >=5 )"
      ],
      "metadata": {
        "colab": {
          "base_uri": "https://localhost:8080/"
        },
        "id": "3V-3PSjNpqRl",
        "outputId": "86f251b4-74d3-4a5e-bed8-a5203f91af4a"
      },
      "execution_count": 103,
      "outputs": [
        {
          "output_type": "execute_result",
          "data": {
            "text/plain": [
              "['JavaScript', 'Python']"
            ]
          },
          "metadata": {},
          "execution_count": 103
        }
      ]
    }
  ]
}