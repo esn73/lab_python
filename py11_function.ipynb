{
  "nbformat": 4,
  "nbformat_minor": 0,
  "metadata": {
    "colab": {
      "name": "py11_function.ipynb",
      "provenance": [],
      "collapsed_sections": [],
      "authorship_tag": "ABX9TyPOi2M/xHJZMVO+B0mo8VBb",
      "include_colab_link": true
    },
    "kernelspec": {
      "name": "python3",
      "display_name": "Python 3"
    },
    "language_info": {
      "name": "python"
    }
  },
  "cells": [
    {
      "cell_type": "markdown",
      "metadata": {
        "id": "view-in-github",
        "colab_type": "text"
      },
      "source": [
        "<a href=\"https://colab.research.google.com/github/esn73/lab_python/blob/master/py11_function.ipynb\" target=\"_parent\"><img src=\"https://colab.research.google.com/assets/colab-badge.svg\" alt=\"Open In Colab\"/></a>"
      ]
    },
    {
      "cell_type": "markdown",
      "source": [
        "# 1급 객체(first-class object)로서의 함수\n",
        "\n",
        "함수는 객체이다.\n",
        "* 함수는 변수에 할당할 수 있음.\n",
        "* 함수는 argument로 다른 함수에 전달할 수 있음.\n",
        "* 함수의 반환 값이 함수가 될 수 있음. 함수는 함수를 반환할 수 있음.\n",
        "* 함수 내부에서 다른 함수를 정의할 수 있음."
      ],
      "metadata": {
        "id": "1mgsoOe1DZfF"
      }
    },
    {
      "cell_type": "code",
      "execution_count": 1,
      "metadata": {
        "colab": {
          "base_uri": "https://localhost:8080/"
        },
        "id": "8u85y4ZbDK8S",
        "outputId": "79bc3dd0-32d4-4174-e6f5-a55b20a87a03"
      },
      "outputs": [
        {
          "output_type": "stream",
          "name": "stdout",
          "text": [
            "1\n"
          ]
        }
      ],
      "source": [
        "x = 1 # 객체는 변수에 할당(저장)할 수 있음.\n",
        "print(x) # 객체는 함수의 argument로 전달할 수 있음."
      ]
    },
    {
      "cell_type": "code",
      "source": [
        "# 함수 정의\n",
        "def twice(x):\n",
        "    return 2 * x"
      ],
      "metadata": {
        "id": "plC0Z29tEtbk"
      },
      "execution_count": 2,
      "outputs": []
    },
    {
      "cell_type": "code",
      "source": [
        "print(twice) #> twice는 함수 객체(function obejct)"
      ],
      "metadata": {
        "colab": {
          "base_uri": "https://localhost:8080/"
        },
        "id": "Qm3Nl1FBFQW8",
        "outputId": "862f4e86-f698-4285-d1dc-97a15055f2b5"
      },
      "execution_count": 3,
      "outputs": [
        {
          "output_type": "stream",
          "name": "stdout",
          "text": [
            "<function twice at 0x7fab6d74b710>\n"
          ]
        }
      ]
    },
    {
      "cell_type": "code",
      "source": [
        "result = twice(5) # 함수 호출 결과(리턴 값)을 변수 result에 저장.\n",
        "result"
      ],
      "metadata": {
        "colab": {
          "base_uri": "https://localhost:8080/"
        },
        "id": "XEreQ_E2F4XK",
        "outputId": "06522973-f0dd-4367-b6a1-98d52622ab47"
      },
      "execution_count": 4,
      "outputs": [
        {
          "output_type": "execute_result",
          "data": {
            "text/plain": [
              "10"
            ]
          },
          "metadata": {},
          "execution_count": 4
        }
      ]
    },
    {
      "cell_type": "code",
      "source": [
        "double = twice # 함수는 변수에 할당할 수 있음.\n",
        "print(double)"
      ],
      "metadata": {
        "colab": {
          "base_uri": "https://localhost:8080/"
        },
        "id": "KiEmouX0GFCi",
        "outputId": "854e3bd3-491b-4dc7-ce0d-175e88c58661"
      },
      "execution_count": 5,
      "outputs": [
        {
          "output_type": "stream",
          "name": "stdout",
          "text": [
            "<function twice at 0x7fab6d74b710>\n"
          ]
        }
      ]
    },
    {
      "cell_type": "code",
      "source": [
        "double(5) # double 함수 호출 결과는 twice 함수 호출 결과와 동일."
      ],
      "metadata": {
        "colab": {
          "base_uri": "https://localhost:8080/"
        },
        "id": "vQnutGvwGzI4",
        "outputId": "3cee7aca-6593-497c-df83-da375a796ddf"
      },
      "execution_count": 6,
      "outputs": [
        {
          "output_type": "execute_result",
          "data": {
            "text/plain": [
              "10"
            ]
          },
          "metadata": {},
          "execution_count": 6
        }
      ]
    },
    {
      "cell_type": "markdown",
      "source": [
        "argument로 함수를 전달받는 함수"
      ],
      "metadata": {
        "id": "lDLWWFzDHcvy"
      }
    },
    {
      "cell_type": "code",
      "source": [
        "def calculator(x, y, fn):\n",
        "    \"\"\"\n",
        "    x, y: 숫자(int, float)\n",
        "    fn: 숫자 2개를 argument로 전달받고, 숫자를 리턴하는 함수\n",
        "    \"\"\"\n",
        "    result = fn(x, y)\n",
        "    return result"
      ],
      "metadata": {
        "id": "iHjW9hDIHbwt"
      },
      "execution_count": 7,
      "outputs": []
    },
    {
      "cell_type": "code",
      "source": [
        "def plus(x, y):\n",
        "    return x + y"
      ],
      "metadata": {
        "id": "ois_KwyhIIuc"
      },
      "execution_count": 8,
      "outputs": []
    },
    {
      "cell_type": "code",
      "source": [
        "calculator(1, 2, plus)"
      ],
      "metadata": {
        "colab": {
          "base_uri": "https://localhost:8080/"
        },
        "id": "L84bcP5lIW-A",
        "outputId": "23005851-a368-4b6a-eb79-75fc59df6ec4"
      },
      "execution_count": 9,
      "outputs": [
        {
          "output_type": "execute_result",
          "data": {
            "text/plain": [
              "3"
            ]
          },
          "metadata": {},
          "execution_count": 9
        }
      ]
    },
    {
      "cell_type": "code",
      "source": [
        "def minus(x, y):\n",
        "    return x - y"
      ],
      "metadata": {
        "id": "7ybFJ9xRI8hU"
      },
      "execution_count": 10,
      "outputs": []
    },
    {
      "cell_type": "code",
      "source": [
        "calculator(1, 2, minus)"
      ],
      "metadata": {
        "colab": {
          "base_uri": "https://localhost:8080/"
        },
        "id": "2o7u4Od4JASA",
        "outputId": "a04ed016-e2c0-4d7c-a392-ca0ee11bb4fd"
      },
      "execution_count": 11,
      "outputs": [
        {
          "output_type": "execute_result",
          "data": {
            "text/plain": [
              "-1"
            ]
          },
          "metadata": {},
          "execution_count": 11
        }
      ]
    },
    {
      "cell_type": "markdown",
      "source": [
        "함수 내부에서 함수를 정의(선언)하고 함수를 리턴."
      ],
      "metadata": {
        "id": "YmsHqXcsKMvU"
      }
    },
    {
      "cell_type": "code",
      "source": [
        "def make_increment(n):\n",
        "    # 내부 함수(inner function), 지역 함수(local function): 함수 내부에서 정의하는 함수\n",
        "    def add_n(x):\n",
        "        return x + n\n",
        "\n",
        "    # make_increment 함수는 add_n 함수 (객체)를 리턴.\n",
        "    return add_n"
      ],
      "metadata": {
        "id": "7R839uDLKRY4"
      },
      "execution_count": 12,
      "outputs": []
    },
    {
      "cell_type": "code",
      "source": [
        "increase_by_2 = make_increment(2)\n",
        "print(increase_by_2)"
      ],
      "metadata": {
        "colab": {
          "base_uri": "https://localhost:8080/"
        },
        "id": "-aEYZLq7LNHw",
        "outputId": "1687105d-154d-4708-eef0-8ab57887ebc2"
      },
      "execution_count": 13,
      "outputs": [
        {
          "output_type": "stream",
          "name": "stdout",
          "text": [
            "<function make_increment.<locals>.add_n at 0x7fab6d74b680>\n"
          ]
        }
      ]
    },
    {
      "cell_type": "code",
      "source": [
        "increase_by_2(10)"
      ],
      "metadata": {
        "colab": {
          "base_uri": "https://localhost:8080/"
        },
        "id": "VFXTS8raL3an",
        "outputId": "4700ec76-d0da-417a-b655-b40f29b6dd65"
      },
      "execution_count": 14,
      "outputs": [
        {
          "output_type": "execute_result",
          "data": {
            "text/plain": [
              "12"
            ]
          },
          "metadata": {},
          "execution_count": 14
        }
      ]
    },
    {
      "cell_type": "code",
      "source": [
        "increase_by_10 = make_increment(10) # n\n",
        "print(increase_by_10)"
      ],
      "metadata": {
        "colab": {
          "base_uri": "https://localhost:8080/"
        },
        "id": "w1-lcGkiMDTN",
        "outputId": "96a8fad5-2943-48ea-9ba1-b4d5187fa16e"
      },
      "execution_count": 15,
      "outputs": [
        {
          "output_type": "stream",
          "name": "stdout",
          "text": [
            "<function make_increment.<locals>.add_n at 0x7fab6d775440>\n"
          ]
        }
      ]
    },
    {
      "cell_type": "code",
      "source": [
        "increase_by_10(10) # x"
      ],
      "metadata": {
        "colab": {
          "base_uri": "https://localhost:8080/"
        },
        "id": "Sn4yH2hzMidL",
        "outputId": "40dbb371-0550-49f4-c98a-dc9f68db1607"
      },
      "execution_count": 16,
      "outputs": [
        {
          "output_type": "execute_result",
          "data": {
            "text/plain": [
              "20"
            ]
          },
          "metadata": {},
          "execution_count": 16
        }
      ]
    },
    {
      "cell_type": "code",
      "source": [
        ""
      ],
      "metadata": {
        "id": "Dcmw2BEiRyW1"
      },
      "execution_count": 16,
      "outputs": []
    },
    {
      "cell_type": "markdown",
      "source": [
        "# 람다 표현식(Lambda expression)"
      ],
      "metadata": {
        "id": "JWDC8h-ARv--"
      }
    },
    {
      "cell_type": "markdown",
      "source": [
        "```\n",
        "lambda param1, pram2, ...: expression(리턴 값)\n",
        "```\n",
        "\n",
        "* 이름이 없는 함수(annoymous function)\n",
        "* 함수 이름 없이, 함수의 파라미터 선언과 반환 값 또는 반환 식으로 함수를 정의하는 방법."
      ],
      "metadata": {
        "id": "GA_a2PmsR3Hv"
      }
    },
    {
      "cell_type": "code",
      "source": [
        "plus_one = lambda x: x + 1 # x를 argument로 전달받아서 x+1을 리턴하는 함수"
      ],
      "metadata": {
        "id": "f9D7fbzMSdLY"
      },
      "execution_count": 17,
      "outputs": []
    },
    {
      "cell_type": "code",
      "source": [
        "plus_one(1) # 함수 호출"
      ],
      "metadata": {
        "colab": {
          "base_uri": "https://localhost:8080/"
        },
        "id": "9owLWIGTSwq1",
        "outputId": "2afd3b7d-6874-40ff-b494-039c078990c1"
      },
      "execution_count": 18,
      "outputs": [
        {
          "output_type": "execute_result",
          "data": {
            "text/plain": [
              "2"
            ]
          },
          "metadata": {},
          "execution_count": 18
        }
      ]
    },
    {
      "cell_type": "code",
      "source": [
        "plus = lambda x, y : x + y # argument x, y를 전달받아서 x+y를 리턴하는 함수"
      ],
      "metadata": {
        "id": "QfsUTVTHTBsH"
      },
      "execution_count": 19,
      "outputs": []
    },
    {
      "cell_type": "code",
      "source": [
        "plus(1, 2)"
      ],
      "metadata": {
        "colab": {
          "base_uri": "https://localhost:8080/"
        },
        "id": "9gIRSLXSTXwh",
        "outputId": "eff4db8f-bbc8-4bfd-b574-fc1465300818"
      },
      "execution_count": 20,
      "outputs": [
        {
          "output_type": "execute_result",
          "data": {
            "text/plain": [
              "3"
            ]
          },
          "metadata": {},
          "execution_count": 20
        }
      ]
    },
    {
      "cell_type": "markdown",
      "source": [
        "lambda 표현식은 함수의 argument로 전달하기 위해서 사용."
      ],
      "metadata": {
        "id": "8LFFvhM5UcWf"
      }
    },
    {
      "cell_type": "code",
      "source": [
        "calculator(1, 2, lambda x, y : x - y)"
      ],
      "metadata": {
        "colab": {
          "base_uri": "https://localhost:8080/"
        },
        "id": "Jtj9lu9bUki_",
        "outputId": "c2f44455-9f36-4335-b18c-617a24651035"
      },
      "execution_count": 21,
      "outputs": [
        {
          "output_type": "execute_result",
          "data": {
            "text/plain": [
              "-1"
            ]
          },
          "metadata": {},
          "execution_count": 21
        }
      ]
    },
    {
      "cell_type": "code",
      "source": [
        "calculator(2, 3, lambda x, y: x * y)"
      ],
      "metadata": {
        "colab": {
          "base_uri": "https://localhost:8080/"
        },
        "id": "Kjx__rmSU9OF",
        "outputId": "179f969d-af04-4224-a921-39dab2187f1a"
      },
      "execution_count": 22,
      "outputs": [
        {
          "output_type": "execute_result",
          "data": {
            "text/plain": [
              "6"
            ]
          },
          "metadata": {},
          "execution_count": 22
        }
      ]
    },
    {
      "cell_type": "code",
      "source": [
        "# calculator 함수에 x가 y보다 큰 지(True) 아닌 지(False)를 리턴하는 lambda를 전달.\n",
        "calculator(1, 2, lambda x, y : x > y)"
      ],
      "metadata": {
        "colab": {
          "base_uri": "https://localhost:8080/"
        },
        "id": "cluPQwj-VQ7_",
        "outputId": "2f6da393-d4e8-451a-ce11-b8a9fd5823bd"
      },
      "execution_count": 23,
      "outputs": [
        {
          "output_type": "execute_result",
          "data": {
            "text/plain": [
              "False"
            ]
          },
          "metadata": {},
          "execution_count": 23
        }
      ]
    },
    {
      "cell_type": "code",
      "source": [
        "calculator(2, 1, lambda x, y : x > y)"
      ],
      "metadata": {
        "colab": {
          "base_uri": "https://localhost:8080/"
        },
        "id": "Zwgr8f30V5jh",
        "outputId": "47389021-15ba-44b1-b583-fb61ece02a09"
      },
      "execution_count": 24,
      "outputs": [
        {
          "output_type": "execute_result",
          "data": {
            "text/plain": [
              "True"
            ]
          },
          "metadata": {},
          "execution_count": 24
        }
      ]
    },
    {
      "cell_type": "code",
      "source": [
        "# calculator 함수에 x, y 중에서 더 큰 수를 리턴하는 lambda를 전달.\n",
        "calculator(1,2, lambda x, y : max(x, y))"
      ],
      "metadata": {
        "colab": {
          "base_uri": "https://localhost:8080/"
        },
        "id": "vCnqytFyWLFt",
        "outputId": "631d2c5d-1faf-4ba3-8f36-436148166175"
      },
      "execution_count": 25,
      "outputs": [
        {
          "output_type": "execute_result",
          "data": {
            "text/plain": [
              "2"
            ]
          },
          "metadata": {},
          "execution_count": 25
        }
      ]
    },
    {
      "cell_type": "code",
      "source": [
        "# if-else 표현식: 값1 if 조건 else 값2\n",
        "calculator(1, 2, lambda x, y: x if x > y else y)"
      ],
      "metadata": {
        "colab": {
          "base_uri": "https://localhost:8080/"
        },
        "id": "ZZLNX3BlXHpN",
        "outputId": "82d3f5c5-756d-4ceb-8310-10b336442906"
      },
      "execution_count": 26,
      "outputs": [
        {
          "output_type": "execute_result",
          "data": {
            "text/plain": [
              "2"
            ]
          },
          "metadata": {},
          "execution_count": 26
        }
      ]
    },
    {
      "cell_type": "markdown",
      "source": [
        "## lamda 표현식\n",
        "* filtering\n",
        "    * 성별 컬럼에서 값이 'Male' 또는 'Female'인 데이터들만 선택\n",
        "* mapping\n",
        "    * 성별 컬럼의 값이 'Male'이면 1, 'Female'이면 0으로 매핑"
      ],
      "metadata": {
        "id": "7Wa1FXU3X35m"
      }
    },
    {
      "cell_type": "code",
      "source": [
        "numbers = [1, -2, 3, -4, -5, 6, 7, 8]"
      ],
      "metadata": {
        "id": "gOQFONAqZPwg"
      },
      "execution_count": 27,
      "outputs": []
    },
    {
      "cell_type": "code",
      "source": [
        "# numbers의 원소들 중에서 양수들만 선택한 리스트.\n",
        "# filter(True/False를 리턴하는 함수, 리스트)\n",
        "result = filter(lambda x: x > 0, numbers)\n",
        "result # 필터링이 끝난 객체"
      ],
      "metadata": {
        "colab": {
          "base_uri": "https://localhost:8080/"
        },
        "id": "AQiaqif9efWR",
        "outputId": "1e673cc8-3b6f-45f9-e8b3-543787cc57f8"
      },
      "execution_count": 28,
      "outputs": [
        {
          "output_type": "execute_result",
          "data": {
            "text/plain": [
              "<filter at 0x7fab6d759e50>"
            ]
          },
          "metadata": {},
          "execution_count": 28
        }
      ]
    },
    {
      "cell_type": "code",
      "source": [
        "list(result) # 필터링이 끝난 객체 list 타입으로 변환"
      ],
      "metadata": {
        "colab": {
          "base_uri": "https://localhost:8080/"
        },
        "id": "hWgIMjemfW3k",
        "outputId": "92a94128-7980-49c8-ca37-e31c7a1ff97c"
      },
      "execution_count": 29,
      "outputs": [
        {
          "output_type": "execute_result",
          "data": {
            "text/plain": [
              "[1, 3, 6, 7, 8]"
            ]
          },
          "metadata": {},
          "execution_count": 29
        }
      ]
    },
    {
      "cell_type": "code",
      "source": [
        "# numbers에서 음수들만 선택한 리스트.\n",
        "result = filter(lambda x: x < 0, numbers)\n",
        "list(result) # 필터링이 끝난 객체를 list 타입으로 변환."
      ],
      "metadata": {
        "colab": {
          "base_uri": "https://localhost:8080/"
        },
        "id": "2SMkeL2jfnN9",
        "outputId": "daf148e7-9dee-44e0-f4c2-0473758bd6bb"
      },
      "execution_count": 30,
      "outputs": [
        {
          "output_type": "execute_result",
          "data": {
            "text/plain": [
              "[-2, -4, -5]"
            ]
          },
          "metadata": {},
          "execution_count": 30
        }
      ]
    },
    {
      "cell_type": "code",
      "source": [
        "# numbers에서 홀수들만 필터링.\n",
        "result = filter(lambda x: x % 2 == 1, numbers)\n",
        "list(result)"
      ],
      "metadata": {
        "colab": {
          "base_uri": "https://localhost:8080/"
        },
        "id": "VZbchM7chWGw",
        "outputId": "0551047c-e799-405f-a76b-1f7e9db4940f"
      },
      "execution_count": 31,
      "outputs": [
        {
          "output_type": "execute_result",
          "data": {
            "text/plain": [
              "[1, 3, -5, 7]"
            ]
          },
          "metadata": {},
          "execution_count": 31
        }
      ]
    },
    {
      "cell_type": "code",
      "source": [
        "# numbers에서 짝수는 'even', 홀수는 'odd'로 매핑.\n",
        "result = map(lambda x: 'even' if x % 2 == 0 else 'odd', numbers)\n",
        "print(result) # 매핑이 끝난 객체\n",
        "list(result) # 매핑이 끝난 객체를 list 타입으로 변환"
      ],
      "metadata": {
        "colab": {
          "base_uri": "https://localhost:8080/"
        },
        "id": "OrMjg3YviGmG",
        "outputId": "feff5700-9dfc-44df-a8f9-fe10b2f0a0aa"
      },
      "execution_count": 32,
      "outputs": [
        {
          "output_type": "stream",
          "name": "stdout",
          "text": [
            "<map object at 0x7fab6cd14fd0>\n"
          ]
        },
        {
          "output_type": "execute_result",
          "data": {
            "text/plain": [
              "['odd', 'even', 'odd', 'even', 'odd', 'even', 'odd', 'even']"
            ]
          },
          "metadata": {},
          "execution_count": 32
        }
      ]
    },
    {
      "cell_type": "code",
      "source": [
        "genders = ['Male', 'Female', 'Female', 'Male']"
      ],
      "metadata": {
        "id": "TCLnPfpPjlba"
      },
      "execution_count": 33,
      "outputs": []
    },
    {
      "cell_type": "code",
      "source": [
        "# genders에서 'Female'만 선택(filter)\n",
        "result = filter(lambda x : x =='Female', genders)\n",
        "list(result)"
      ],
      "metadata": {
        "colab": {
          "base_uri": "https://localhost:8080/"
        },
        "id": "ouRZjL6sjxcm",
        "outputId": "29c6fc5d-0776-4f0a-e6d2-ba8124c13a39"
      },
      "execution_count": 34,
      "outputs": [
        {
          "output_type": "execute_result",
          "data": {
            "text/plain": [
              "['Female', 'Female']"
            ]
          },
          "metadata": {},
          "execution_count": 34
        }
      ]
    },
    {
      "cell_type": "code",
      "source": [
        "# genders의 원소가 'Male'이면 1, 'Female'이면 0을 매핑\n",
        "result = map(lambda x : 1 if x =='Male' else 0, genders)\n",
        "list(result)"
      ],
      "metadata": {
        "colab": {
          "base_uri": "https://localhost:8080/"
        },
        "id": "YDcV30utj1gd",
        "outputId": "413c0429-19e1-4b06-f5bf-760dd24a1287"
      },
      "execution_count": 35,
      "outputs": [
        {
          "output_type": "execute_result",
          "data": {
            "text/plain": [
              "[1, 0, 0, 1]"
            ]
          },
          "metadata": {},
          "execution_count": 35
        }
      ]
    },
    {
      "cell_type": "markdown",
      "source": [
        "filter 함수를 직접 구현"
      ],
      "metadata": {
        "id": "-0DuM2Qhl05X"
      }
    },
    {
      "cell_type": "code",
      "source": [
        "def my_filter(iterable, fn):\n",
        "    \"\"\"리스트 iterable의 원소들 중에서 함수 fn의 argument로 전달했을 때, \n",
        "    fn이 True를 리턴하는 원소들로 이루어진 리스트를 리턴.\n",
        "\n",
        "    iterable: 리스트\n",
        "    fn: argument가 1개이고 리턴타입은 bool인 함수.\n",
        "    \"\"\"\n",
        "    # result = [] # 조건을 만족하는 원소들(필터링한 원소들)을 저장할 빈 리스트\n",
        "    # for x in iterable: # 리스트의 원소들을 차례로 반복하면서\n",
        "    #     if fn(x):   # 조건을 만족하면\n",
        "    #         result.append(x)    # 결과를 리스트에 추가\n",
        "    # return result\n",
        "\n",
        "    return [x for x in iterable if fn(x)]"
      ],
      "metadata": {
        "id": "afJvJ83YlrIc"
      },
      "execution_count": 36,
      "outputs": []
    },
    {
      "cell_type": "code",
      "source": [
        "numbers"
      ],
      "metadata": {
        "colab": {
          "base_uri": "https://localhost:8080/"
        },
        "id": "dWiNwxlKnkBg",
        "outputId": "2f429765-2bdc-4e39-ea24-6454c34a96b8"
      },
      "execution_count": 37,
      "outputs": [
        {
          "output_type": "execute_result",
          "data": {
            "text/plain": [
              "[1, -2, 3, -4, -5, 6, 7, 8]"
            ]
          },
          "metadata": {},
          "execution_count": 37
        }
      ]
    },
    {
      "cell_type": "code",
      "source": [
        "# numbers에서 양수들만 필터링.\n",
        "my_filter(numbers, lambda x: x > 0)"
      ],
      "metadata": {
        "colab": {
          "base_uri": "https://localhost:8080/"
        },
        "id": "b8t5wAH9nWmn",
        "outputId": "c1683a9b-67cc-4d95-bc47-58a0a562a4d0"
      },
      "execution_count": 38,
      "outputs": [
        {
          "output_type": "execute_result",
          "data": {
            "text/plain": [
              "[1, 3, 6, 7, 8]"
            ]
          },
          "metadata": {},
          "execution_count": 38
        }
      ]
    },
    {
      "cell_type": "code",
      "source": [
        "language = ['java', 'HTML', 'CSS', 'JavaScript', 'Python']\n",
        "# my_filter 함수를 사용해서 글자수가 5글자 이상인 원소들만 필터링\n",
        "my_filter(language, lambda x: len(x) >=5 )"
      ],
      "metadata": {
        "colab": {
          "base_uri": "https://localhost:8080/"
        },
        "id": "3V-3PSjNpqRl",
        "outputId": "6d9f335b-180c-4ccf-96cd-f0eef103a561"
      },
      "execution_count": 39,
      "outputs": [
        {
          "output_type": "execute_result",
          "data": {
            "text/plain": [
              "['JavaScript', 'Python']"
            ]
          },
          "metadata": {},
          "execution_count": 39
        }
      ]
    },
    {
      "cell_type": "code",
      "source": [
        "def my_mapper(iterable, fn):\n",
        "    \"\"\" iterable의 원소를 차례로 함수 fn의 argument로 전달해서, 함수 fn의 리턴값들로 이루어진 리스트를 리턴.\n",
        "    \n",
        "    iterable: 리스트\n",
        "    fn: argument가 1개이고 값을 반환하는 함수\n",
        "    \"\"\"\n",
        "\n",
        "    # result = []\n",
        "    # for x in iterable: #리스트의 원소들을 반복하면서\n",
        "    #         result.append(x) # 함수에 원소를 argument로 전달했을 때 리턴 값을 리스트 result에 추가\n",
        "    # return result\n",
        "\n",
        "    return [fn(x) for x in iterable]"
      ],
      "metadata": {
        "id": "O0wMpUzuteD8"
      },
      "execution_count": 43,
      "outputs": []
    },
    {
      "cell_type": "code",
      "source": [
        "numbers"
      ],
      "metadata": {
        "colab": {
          "base_uri": "https://localhost:8080/"
        },
        "id": "xD64LYqOWFli",
        "outputId": "08465fbe-4402-4d4c-cba0-4e8874991131"
      },
      "execution_count": 44,
      "outputs": [
        {
          "output_type": "execute_result",
          "data": {
            "text/plain": [
              "[1, -2, 3, -4, -5, 6, 7, 8]"
            ]
          },
          "metadata": {},
          "execution_count": 44
        }
      ]
    },
    {
      "cell_type": "code",
      "source": [
        "# numbers의 원소가 짝수이면 '짝수', 홀수이면 '홀수'를 매핑할 리스트\n",
        "my_mapper(numbers, lambda x: '짝수' if x%2==0 else '홀수')"
      ],
      "metadata": {
        "colab": {
          "base_uri": "https://localhost:8080/"
        },
        "id": "Ab0G9AmEWPxr",
        "outputId": "4e195093-073d-43ce-9b68-28f9c92600c8"
      },
      "execution_count": 46,
      "outputs": [
        {
          "output_type": "execute_result",
          "data": {
            "text/plain": [
              "['홀수', '짝수', '홀수', '짝수', '홀수', '짝수', '홀수', '짝수']"
            ]
          },
          "metadata": {},
          "execution_count": 46
        }
      ]
    },
    {
      "cell_type": "code",
      "source": [
        "genders = ['남성', '여성', '여성', '남성']\n",
        "# genders의 값이 남성이면 0, 여성이면 1로 매핑시킨 리스트\n",
        "my_mapper(genders, lambda x:0 if x=='남성' else 1)"
      ],
      "metadata": {
        "colab": {
          "base_uri": "https://localhost:8080/"
        },
        "id": "XyqVtvH5XJ-y",
        "outputId": "8ce39964-5325-4a3e-c1bf-96a4979be579"
      },
      "execution_count": 51,
      "outputs": [
        {
          "output_type": "execute_result",
          "data": {
            "text/plain": [
              "[0, 1, 1, 0]"
            ]
          },
          "metadata": {},
          "execution_count": 51
        }
      ]
    },
    {
      "cell_type": "code",
      "source": [
        "def my_mapper2(iterable, fn):\n",
        "    \"\"\"iterable의 원소를  key로 하고,\n",
        "    iterable의 원소를 함수 fn의 argument로 사용했을 때의 리턴 값을 value로 하는 dict를 리턴.\n",
        "\n",
        "    iterable: 리스트\n",
        "    fn: argument가 1개이고 값을 반환하는 함수.\n",
        "    \"\"\"\n",
        "    # result = {}\n",
        "    # for x in iterable(): # 릿트 itreable의 원소들을 하나씩 반복하면서\n",
        "    #     result[x] = fn(x) #원소를 key로 함수의 리턴값을 value로 해서 dict에 추가\n",
        "    # return result\n",
        "  \n",
        "    return {x: fn(x) for x in iterable}"
      ],
      "metadata": {
        "id": "BPndqp1SttxT"
      },
      "execution_count": 52,
      "outputs": []
    },
    {
      "cell_type": "code",
      "source": [
        "# numbers의 값을 키로 하고, 짝수/홀수인 지를 value로 하는 dict\n",
        "my_mapper2(numbers, lambda x : '짝수' if x % 2==0 else '홀수')"
      ],
      "metadata": {
        "colab": {
          "base_uri": "https://localhost:8080/"
        },
        "id": "KICGAJd4aBUd",
        "outputId": "e2cd1af0-c8f4-40d5-b40d-d9c37ab37f80"
      },
      "execution_count": 58,
      "outputs": [
        {
          "output_type": "execute_result",
          "data": {
            "text/plain": [
              "{-5: '홀수', -4: '짝수', -2: '짝수', 1: '홀수', 3: '홀수', 6: '짝수', 7: '홀수', 8: '짝수'}"
            ]
          },
          "metadata": {},
          "execution_count": 58
        }
      ]
    },
    {
      "cell_type": "code",
      "source": [
        "# language의 원소를 키로 하고, 그 원소(문자열)의 길이를 value로 하는 dict\n",
        "my_mapper2(language, lambda x : len(x))"
      ],
      "metadata": {
        "colab": {
          "base_uri": "https://localhost:8080/"
        },
        "id": "pJRo2u2qafee",
        "outputId": "6e45fb07-f775-4956-c63c-99a0b630ed8e"
      },
      "execution_count": 59,
      "outputs": [
        {
          "output_type": "execute_result",
          "data": {
            "text/plain": [
              "{'CSS': 3, 'HTML': 4, 'JavaScript': 10, 'Python': 6, 'java': 4}"
            ]
          },
          "metadata": {},
          "execution_count": 59
        }
      ]
    }
  ]
}