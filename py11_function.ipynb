{
  "nbformat": 4,
  "nbformat_minor": 0,
  "metadata": {
    "colab": {
      "name": "py11_function.ipynb",
      "provenance": [],
      "collapsed_sections": [],
      "authorship_tag": "ABX9TyMeTjbzHIlbDz0k0Idj7X6Z",
      "include_colab_link": true
    },
    "kernelspec": {
      "name": "python3",
      "display_name": "Python 3"
    },
    "language_info": {
      "name": "python"
    }
  },
  "cells": [
    {
      "cell_type": "markdown",
      "metadata": {
        "id": "view-in-github",
        "colab_type": "text"
      },
      "source": [
        "<a href=\"https://colab.research.google.com/github/esn73/lab_python/blob/master/py11_function.ipynb\" target=\"_parent\"><img src=\"https://colab.research.google.com/assets/colab-badge.svg\" alt=\"Open In Colab\"/></a>"
      ]
    },
    {
      "cell_type": "markdown",
      "source": [
        "# 1급 객체(first-class object)로서의 함수\n",
        "\n",
        "함수는 객체이다.\n",
        "* 함수는 변수에 할당할 수 있음.\n",
        "* 함수는 argument로 다른 함수에 전달할 수 있음.\n",
        "* 함수의 반환 값이 함수가 될 수 있음. 함수는 함수를 반환할 수 있음.\n",
        "* 함수 내부에서 다른 함수를 정의할 수 있음."
      ],
      "metadata": {
        "id": "1mgsoOe1DZfF"
      }
    },
    {
      "cell_type": "code",
      "execution_count": 1,
      "metadata": {
        "colab": {
          "base_uri": "https://localhost:8080/"
        },
        "id": "8u85y4ZbDK8S",
        "outputId": "fca1ed3e-c642-40cc-893d-c8f59ef1b57a"
      },
      "outputs": [
        {
          "output_type": "stream",
          "name": "stdout",
          "text": [
            "1\n"
          ]
        }
      ],
      "source": [
        "x = 1 # 객체는 변수에 할당(저장)할 수 있음.\n",
        "print(x) # 객체는 함수의 argument로 전달할 수 있음."
      ]
    },
    {
      "cell_type": "code",
      "source": [
        "# 함수 정의\n",
        "def twice(x):\n",
        "    return 2 * x"
      ],
      "metadata": {
        "id": "plC0Z29tEtbk"
      },
      "execution_count": 3,
      "outputs": []
    },
    {
      "cell_type": "code",
      "source": [
        "print(twice) #> twice는 함수 객체(function obejct)"
      ],
      "metadata": {
        "colab": {
          "base_uri": "https://localhost:8080/"
        },
        "id": "Qm3Nl1FBFQW8",
        "outputId": "02d1a8ba-5041-42fb-f7c7-6abd9200f066"
      },
      "execution_count": 7,
      "outputs": [
        {
          "output_type": "stream",
          "name": "stdout",
          "text": [
            "<function twice at 0x7fc072c84440>\n"
          ]
        }
      ]
    },
    {
      "cell_type": "code",
      "source": [
        "result = twice(5) # 함수 호출 결과(리턴 값)을 변수 result에 저장.\n",
        "result"
      ],
      "metadata": {
        "colab": {
          "base_uri": "https://localhost:8080/"
        },
        "id": "XEreQ_E2F4XK",
        "outputId": "3565d6c6-8ee1-432e-8ff1-6e2d9aaa705a"
      },
      "execution_count": 9,
      "outputs": [
        {
          "output_type": "execute_result",
          "data": {
            "text/plain": [
              "10"
            ]
          },
          "metadata": {},
          "execution_count": 9
        }
      ]
    },
    {
      "cell_type": "code",
      "source": [
        "double = twice # 함수는 변수에 할당할 수 있음.\n",
        "print(double)"
      ],
      "metadata": {
        "colab": {
          "base_uri": "https://localhost:8080/"
        },
        "id": "KiEmouX0GFCi",
        "outputId": "ed31d22a-60d7-44ea-e871-8549474fd9c0"
      },
      "execution_count": 14,
      "outputs": [
        {
          "output_type": "stream",
          "name": "stdout",
          "text": [
            "<function twice at 0x7fc072c84440>\n"
          ]
        }
      ]
    },
    {
      "cell_type": "code",
      "source": [
        "double(5) # double 함수 호출 결과는 twice 함수 호출 결과와 동일."
      ],
      "metadata": {
        "colab": {
          "base_uri": "https://localhost:8080/"
        },
        "id": "vQnutGvwGzI4",
        "outputId": "07bf911f-1508-414c-ae98-d5ce69de7b57"
      },
      "execution_count": 16,
      "outputs": [
        {
          "output_type": "execute_result",
          "data": {
            "text/plain": [
              "10"
            ]
          },
          "metadata": {},
          "execution_count": 16
        }
      ]
    },
    {
      "cell_type": "markdown",
      "source": [
        "argument로 함수를 전달받는 함수"
      ],
      "metadata": {
        "id": "lDLWWFzDHcvy"
      }
    },
    {
      "cell_type": "code",
      "source": [
        "def calculator(x, y, fn):\n",
        "    \"\"\"\n",
        "    x, y: 숫자(int, float)\n",
        "    fn: 숫자 2개를 argument로 전달받고, 숫자를 리턴하는 함수\n",
        "    \"\"\"\n",
        "    result = fn(x, y)\n",
        "    return result"
      ],
      "metadata": {
        "id": "iHjW9hDIHbwt"
      },
      "execution_count": 20,
      "outputs": []
    },
    {
      "cell_type": "code",
      "source": [
        "def plus(x, y):\n",
        "    return x + y"
      ],
      "metadata": {
        "id": "ois_KwyhIIuc"
      },
      "execution_count": 21,
      "outputs": []
    },
    {
      "cell_type": "code",
      "source": [
        "calculator(1, 2, plus)"
      ],
      "metadata": {
        "colab": {
          "base_uri": "https://localhost:8080/"
        },
        "id": "L84bcP5lIW-A",
        "outputId": "159c3505-fc99-4869-f51f-aafc443b0f37"
      },
      "execution_count": 23,
      "outputs": [
        {
          "output_type": "execute_result",
          "data": {
            "text/plain": [
              "3"
            ]
          },
          "metadata": {},
          "execution_count": 23
        }
      ]
    },
    {
      "cell_type": "code",
      "source": [
        "def minus(x, y):\n",
        "    return x - y"
      ],
      "metadata": {
        "id": "7ybFJ9xRI8hU"
      },
      "execution_count": 24,
      "outputs": []
    },
    {
      "cell_type": "code",
      "source": [
        "calculator(1,2, minus)"
      ],
      "metadata": {
        "colab": {
          "base_uri": "https://localhost:8080/"
        },
        "id": "2o7u4Od4JASA",
        "outputId": "4978bb86-c963-4b1f-8831-726d5debb013"
      },
      "execution_count": 26,
      "outputs": [
        {
          "output_type": "execute_result",
          "data": {
            "text/plain": [
              "-1"
            ]
          },
          "metadata": {},
          "execution_count": 26
        }
      ]
    },
    {
      "cell_type": "markdown",
      "source": [
        "함수 내부에서 함수를 정의(선언)하고 함수를 리턴."
      ],
      "metadata": {
        "id": "YmsHqXcsKMvU"
      }
    },
    {
      "cell_type": "code",
      "source": [
        "def make_increment(n):\n",
        "    # 내부 함수(inner function), 지역 함수(local function): 함수 내부에서 정의하는 함수\n",
        "    def add_n(x):\n",
        "        return x + n\n",
        "\n",
        "    # make_increment 함수는 add_n 함수 (객체)를 리턴.\n",
        "    return add_n"
      ],
      "metadata": {
        "id": "7R839uDLKRY4"
      },
      "execution_count": 32,
      "outputs": []
    },
    {
      "cell_type": "code",
      "source": [
        "increase_by_2 = make_increment(2)\n",
        "print(increase_by_2)"
      ],
      "metadata": {
        "colab": {
          "base_uri": "https://localhost:8080/"
        },
        "id": "-aEYZLq7LNHw",
        "outputId": "20a817a6-680b-4d0d-e06e-6d2b962839e7"
      },
      "execution_count": 33,
      "outputs": [
        {
          "output_type": "stream",
          "name": "stdout",
          "text": [
            "<function make_increment.<locals>.add_n at 0x7fc072bdb050>\n"
          ]
        }
      ]
    },
    {
      "cell_type": "code",
      "source": [
        "increase_by_2(10)"
      ],
      "metadata": {
        "colab": {
          "base_uri": "https://localhost:8080/"
        },
        "id": "VFXTS8raL3an",
        "outputId": "ac6e30ec-d7f1-4094-b83e-552d16821a38"
      },
      "execution_count": 35,
      "outputs": [
        {
          "output_type": "execute_result",
          "data": {
            "text/plain": [
              "12"
            ]
          },
          "metadata": {},
          "execution_count": 35
        }
      ]
    },
    {
      "cell_type": "code",
      "source": [
        "increase_by_10 = make_increment(10) # n\n",
        "print(increase_by_10)"
      ],
      "metadata": {
        "colab": {
          "base_uri": "https://localhost:8080/"
        },
        "id": "w1-lcGkiMDTN",
        "outputId": "87254b81-1c1c-4543-f0c9-ceba443fbe11"
      },
      "execution_count": 37,
      "outputs": [
        {
          "output_type": "stream",
          "name": "stdout",
          "text": [
            "<function make_increment.<locals>.add_n at 0x7fc072bdba70>\n"
          ]
        }
      ]
    },
    {
      "cell_type": "code",
      "source": [
        "increase_by_10(10) # x"
      ],
      "metadata": {
        "colab": {
          "base_uri": "https://localhost:8080/"
        },
        "id": "Sn4yH2hzMidL",
        "outputId": "2f28cb95-0220-4861-e3ad-e1df834c60de"
      },
      "execution_count": 38,
      "outputs": [
        {
          "output_type": "execute_result",
          "data": {
            "text/plain": [
              "20"
            ]
          },
          "metadata": {},
          "execution_count": 38
        }
      ]
    }
  ]
}